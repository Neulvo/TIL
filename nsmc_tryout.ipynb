{
  "nbformat": 4,
  "nbformat_minor": 0,
  "metadata": {
    "colab": {
      "name": "nsmc_tryout.ipynb",
      "provenance": [],
      "mount_file_id": "1GKGFh6YcbdJg3UUjsimZnJatxXoOetOI",
      "authorship_tag": "ABX9TyMVDUH9bR7Pbjl5la8XqurS",
      "include_colab_link": true
    },
    "kernelspec": {
      "name": "python3",
      "display_name": "Python 3"
    }
  },
  "cells": [
    {
      "cell_type": "markdown",
      "metadata": {
        "id": "view-in-github",
        "colab_type": "text"
      },
      "source": [
        "<a href=\"https://colab.research.google.com/github/Neulvo/TIL/blob/master/nsmc_tryout.ipynb\" target=\"_parent\"><img src=\"https://colab.research.google.com/assets/colab-badge.svg\" alt=\"Open In Colab\"/></a>"
      ]
    },
    {
      "cell_type": "code",
      "metadata": {
        "id": "wozI4BUDWaOs",
        "colab_type": "code",
        "colab": {}
      },
      "source": [
        "vocab_size = 10000\n",
        "embedding_dim = 16\n",
        "max_length= 100\n",
        "trunc_type = 'post'\n",
        "padding_type = 'post'\n",
        "oov_tok = '<OOV>'\n",
        "training_size = 20000"
      ],
      "execution_count": 1,
      "outputs": []
    },
    {
      "cell_type": "code",
      "metadata": {
        "id": "gNO1EFYAWuJ9",
        "colab_type": "code",
        "colab": {}
      },
      "source": [
        "import pandas as pd\n",
        "import numpy as np"
      ],
      "execution_count": 10,
      "outputs": []
    },
    {
      "cell_type": "code",
      "metadata": {
        "id": "1ZtqvDuaX-Bj",
        "colab_type": "code",
        "colab": {}
      },
      "source": [
        "from tensorflow.keras.preprocessing.text import Tokenizer \n",
        "import tensorflow as tf\n",
        "from tensorflow import keras \n",
        "from tensorflow.keras.preprocessing.sequence import pad_sequences"
      ],
      "execution_count": 34,
      "outputs": []
    },
    {
      "cell_type": "code",
      "metadata": {
        "id": "6xkjDS4BWdRm",
        "colab_type": "code",
        "colab": {}
      },
      "source": [
        "train=pd.read_csv('/content/drive/My Drive/data/nsmc/ratings_train.txt',sep='\\t')\n",
        "test=pd.read_csv('/content/drive/My Drive/data/nsmc/ratings_test.txt',sep='\\t')"
      ],
      "execution_count": 8,
      "outputs": []
    },
    {
      "cell_type": "code",
      "metadata": {
        "id": "byWjFgHxW4f0",
        "colab_type": "code",
        "colab": {}
      },
      "source": [
        "train.dropna(inplace=True)\n",
        "test.dropna(inplace=True)"
      ],
      "execution_count": 30,
      "outputs": []
    },
    {
      "cell_type": "code",
      "metadata": {
        "id": "O97h_HGUXctv",
        "colab_type": "code",
        "colab": {}
      },
      "source": [
        "training_sentences=np.array(train['document'])\n",
        "training_labels=np.array(train['label'])\n",
        "testing_sentences=np.array(test['document'])\n",
        "testing_labels=np.array(test['label'])"
      ],
      "execution_count": 31,
      "outputs": []
    },
    {
      "cell_type": "code",
      "metadata": {
        "id": "-loF2Xg6X5Es",
        "colab_type": "code",
        "colab": {}
      },
      "source": [
        "tokenizer=Tokenizer(num_words=vocab_size, oov_token=oov_tok)\n",
        "tokenizer.fit_on_texts(training_sentences)\n",
        "word_index=tokenizer.word_index \n",
        "\n",
        "training_sequences= tokenizer.texts_to_sequences(training_sentences)\n",
        "training_padded=pad_sequences(training_sequences, maxlen=max_length,padding=padding_type, truncating=trunc_type)\n",
        "\n",
        "\n",
        "testing_sequences= tokenizer.texts_to_sequences(testing_sentences)\n",
        "testing_padded=pad_sequences(testing_sequences, maxlen=max_length,padding=padding_type, truncating=trunc_type)"
      ],
      "execution_count": 46,
      "outputs": []
    },
    {
      "cell_type": "code",
      "metadata": {
        "id": "5aCT3mFwWayM",
        "colab_type": "code",
        "colab": {}
      },
      "source": [
        "import numpy as np\n",
        "\n",
        "training_padded =np.array(training_padded)\n",
        "training_labels =np.array(training_labels)\n",
        "\n",
        "testing_padded =np.array(testing_padded)\n",
        "testing_labels =np.array(testing_labels)"
      ],
      "execution_count": 36,
      "outputs": []
    },
    {
      "cell_type": "code",
      "metadata": {
        "id": "sXaiT68Aae2s",
        "colab_type": "code",
        "colab": {}
      },
      "source": [
        "model = tf.keras.Sequential([\n",
        "                             tf.keras.layers.Embedding(vocab_size, embedding_dim, input_length=max_length),\n",
        "                             tf.keras.layers.GlobalAveragePooling1D(),\n",
        "                             tf.keras.layers.Dense(24,activation='relu'),\n",
        "                             tf.keras.layers.Dense(1,activation='sigmoid')\n",
        "])\n",
        "\n",
        "model.compile(loss='binary_crossentropy', optimizer='adam', metrics=['accuracy'])"
      ],
      "execution_count": 37,
      "outputs": []
    },
    {
      "cell_type": "code",
      "metadata": {
        "id": "em30JUUFagRT",
        "colab_type": "code",
        "colab": {
          "base_uri": "https://localhost:8080/",
          "height": 305
        },
        "outputId": "c266b384-e517-4567-e0fa-b0483438c8ed"
      },
      "source": [
        "model.summary()"
      ],
      "execution_count": 38,
      "outputs": [
        {
          "output_type": "stream",
          "text": [
            "Model: \"sequential\"\n",
            "_________________________________________________________________\n",
            "Layer (type)                 Output Shape              Param #   \n",
            "=================================================================\n",
            "embedding (Embedding)        (None, 100, 16)           160000    \n",
            "_________________________________________________________________\n",
            "global_average_pooling1d (Gl (None, 16)                0         \n",
            "_________________________________________________________________\n",
            "dense (Dense)                (None, 24)                408       \n",
            "_________________________________________________________________\n",
            "dense_1 (Dense)              (None, 1)                 25        \n",
            "=================================================================\n",
            "Total params: 160,433\n",
            "Trainable params: 160,433\n",
            "Non-trainable params: 0\n",
            "_________________________________________________________________\n"
          ],
          "name": "stdout"
        }
      ]
    },
    {
      "cell_type": "code",
      "metadata": {
        "id": "ju3cHuA7ahmD",
        "colab_type": "code",
        "colab": {
          "base_uri": "https://localhost:8080/",
          "height": 737
        },
        "outputId": "7ccd3287-e51b-48e6-c3f9-88b4690c1126"
      },
      "source": [
        "num_epochs=20\n",
        "history=model.fit(training_padded, training_labels, epochs=num_epochs, validation_data=(testing_padded, testing_labels),verbose=2)"
      ],
      "execution_count": 39,
      "outputs": [
        {
          "output_type": "stream",
          "text": [
            "Epoch 1/20\n",
            "4688/4688 - 13s - loss: 0.5058 - accuracy: 0.7376 - val_loss: 0.4200 - val_accuracy: 0.7957\n",
            "Epoch 2/20\n",
            "4688/4688 - 12s - loss: 0.3908 - accuracy: 0.8100 - val_loss: 0.4254 - val_accuracy: 0.7869\n",
            "Epoch 3/20\n",
            "4688/4688 - 13s - loss: 0.3743 - accuracy: 0.8169 - val_loss: 0.4043 - val_accuracy: 0.7996\n",
            "Epoch 4/20\n",
            "4688/4688 - 13s - loss: 0.3661 - accuracy: 0.8200 - val_loss: 0.4070 - val_accuracy: 0.7977\n",
            "Epoch 5/20\n",
            "4688/4688 - 13s - loss: 0.3617 - accuracy: 0.8220 - val_loss: 0.4152 - val_accuracy: 0.7947\n",
            "Epoch 6/20\n",
            "4688/4688 - 12s - loss: 0.3592 - accuracy: 0.8224 - val_loss: 0.4249 - val_accuracy: 0.7868\n",
            "Epoch 7/20\n",
            "4688/4688 - 13s - loss: 0.3572 - accuracy: 0.8236 - val_loss: 0.4206 - val_accuracy: 0.7905\n",
            "Epoch 8/20\n",
            "4688/4688 - 12s - loss: 0.3539 - accuracy: 0.8255 - val_loss: 0.4108 - val_accuracy: 0.7980\n",
            "Epoch 9/20\n",
            "4688/4688 - 12s - loss: 0.3521 - accuracy: 0.8253 - val_loss: 0.4116 - val_accuracy: 0.7961\n",
            "Epoch 10/20\n",
            "4688/4688 - 13s - loss: 0.3501 - accuracy: 0.8278 - val_loss: 0.4148 - val_accuracy: 0.8022\n",
            "Epoch 11/20\n",
            "4688/4688 - 12s - loss: 0.3479 - accuracy: 0.8275 - val_loss: 0.4121 - val_accuracy: 0.7969\n",
            "Epoch 12/20\n",
            "4688/4688 - 12s - loss: 0.3441 - accuracy: 0.8291 - val_loss: 0.4168 - val_accuracy: 0.7963\n",
            "Epoch 13/20\n",
            "4688/4688 - 12s - loss: 0.3408 - accuracy: 0.8290 - val_loss: 0.4315 - val_accuracy: 0.7932\n",
            "Epoch 14/20\n",
            "4688/4688 - 12s - loss: 0.3366 - accuracy: 0.8314 - val_loss: 0.4291 - val_accuracy: 0.7927\n",
            "Epoch 15/20\n",
            "4688/4688 - 12s - loss: 0.3329 - accuracy: 0.8324 - val_loss: 0.4230 - val_accuracy: 0.7949\n",
            "Epoch 16/20\n",
            "4688/4688 - 12s - loss: 0.3288 - accuracy: 0.8339 - val_loss: 0.4306 - val_accuracy: 0.7949\n",
            "Epoch 17/20\n",
            "4688/4688 - 12s - loss: 0.3260 - accuracy: 0.8354 - val_loss: 0.4379 - val_accuracy: 0.7941\n",
            "Epoch 18/20\n",
            "4688/4688 - 12s - loss: 0.3228 - accuracy: 0.8374 - val_loss: 0.4428 - val_accuracy: 0.7940\n",
            "Epoch 19/20\n",
            "4688/4688 - 12s - loss: 0.3205 - accuracy: 0.8382 - val_loss: 0.4474 - val_accuracy: 0.7954\n",
            "Epoch 20/20\n",
            "4688/4688 - 12s - loss: 0.3176 - accuracy: 0.8397 - val_loss: 0.4509 - val_accuracy: 0.7913\n"
          ],
          "name": "stdout"
        }
      ]
    },
    {
      "cell_type": "code",
      "metadata": {
        "id": "2BD2Ex9OalhL",
        "colab_type": "code",
        "colab": {
          "base_uri": "https://localhost:8080/",
          "height": 541
        },
        "outputId": "cc76eb09-e959-4d22-800c-11bfa160d6e9"
      },
      "source": [
        "import matplotlib.pyplot as plt\n",
        "\n",
        "def plot_graphs(history, string):\n",
        "  plt.plot(history.history[string])\n",
        "  plt.plot(history.history['val_'+string])\n",
        "  plt.xlabel(\"Epochs\")\n",
        "  plt.ylabel(string)\n",
        "  plt.legend([string, 'val_'+string])\n",
        "  plt.show()\n",
        "\n",
        "plot_graphs(history, 'accuracy')\n",
        "plot_graphs(history, 'loss')"
      ],
      "execution_count": 40,
      "outputs": [
        {
          "output_type": "display_data",
          "data": {
            "image/png": "[encoded data removed]",
            "text/plain": [
              "<Figure size 432x288 with 1 Axes>"
            ]
          },
          "metadata": {
            "tags": [],
            "needs_background": "light"
          }
        },
        {
          "output_type": "display_data",
          "data": {
            "image/png": "[encoded data removed]",
            "text/plain": [
              "<Figure size 432x288 with 1 Axes>"
            ]
          },
          "metadata": {
            "tags": [],
            "needs_background": "light"
          }
        }
      ]
    },
    {
      "cell_type": "code",
      "metadata": {
        "id": "gZ3TyyJZanPs",
        "colab_type": "code",
        "colab": {}
      },
      "source": [
        ""
      ],
      "execution_count": null,
      "outputs": []
    }
  ]
}