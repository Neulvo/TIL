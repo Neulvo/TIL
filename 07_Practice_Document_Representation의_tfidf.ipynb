{
  "nbformat": 4,
  "nbformat_minor": 0,
  "metadata": {
    "colab": {
      "name": "07_Practice_Document_Representation의_tfidf.ipynb",
      "provenance": [],
      "collapsed_sections": [],
      "include_colab_link": true
    },
    "kernelspec": {
      "name": "python3",
      "display_name": "Python 3"
    }
  },
  "cells": [
    {
      "cell_type": "markdown",
      "metadata": {
        "id": "view-in-github",
        "colab_type": "text"
      },
      "source": [
        "<a href=\"https://colab.research.google.com/github/Neulvo/TIL/blob/master/07_Practice_Document_Representation%E1%84%8B%E1%85%B4_tfidf.ipynb\" target=\"_parent\"><img src=\"https://colab.research.google.com/assets/colab-badge.svg\" alt=\"Open In Colab\"/></a>"
      ]
    },
    {
      "cell_type": "markdown",
      "metadata": {
        "id": "zEFesPBvXe2C",
        "colab_type": "text"
      },
      "source": [
        "# 7장. 문장의 표현 (Sentence Representation)"
      ]
    },
    {
      "cell_type": "markdown",
      "metadata": {
        "id": "52uiZhBWaR4M",
        "colab_type": "text"
      },
      "source": [
        "# 1 BoW (Bag of Words)"
      ]
    },
    {
      "cell_type": "markdown",
      "metadata": {
        "id": "xuz1lvCi_e-y",
        "colab_type": "text"
      },
      "source": [
        "<img src=\"https://image.slidesharecdn.com/vector-space-models-170118145044/95/cs571-vector-space-models-3-638.jpg?cb=1485433004\" />\n",
        "\n",
        "https://en.wikipedia.org/wiki/Bag-of-words_model\n",
        "https://www.slideshare.net/jchoi7s/cs571-vector-space-models"
      ]
    },
    {
      "cell_type": "markdown",
      "metadata": {
        "id": "jUABPDuYAO7Y",
        "colab_type": "text"
      },
      "source": [
        "## 1.1 직접구현"
      ]
    },
    {
      "cell_type": "code",
      "metadata": {
        "id": "IN4N0nogC8CV",
        "colab_type": "code",
        "colab": {}
      },
      "source": [
        "import pandas as pd"
      ],
      "execution_count": 1,
      "outputs": []
    },
    {
      "cell_type": "code",
      "metadata": {
        "id": "dPZCmyM7aR4O",
        "colab_type": "code",
        "colab": {}
      },
      "source": [
        "docs = ['오늘 동물원에서 원숭이를 봤어',\n",
        "        '오늘 동물원에서 코끼리를 봤어 봤어',\n",
        "        '동물원에서 원숭이에게 바나나를 줬어 바나나를']"
      ],
      "execution_count": 2,
      "outputs": []
    },
    {
      "cell_type": "markdown",
      "metadata": {
        "id": "zuMcIp6_aR4R",
        "colab_type": "text"
      },
      "source": [
        "### 1) 띄어쓰기 단위로 토큰화"
      ]
    },
    {
      "cell_type": "code",
      "metadata": {
        "id": "sLH17pOCaad5",
        "colab_type": "code",
        "colab": {}
      },
      "source": [
        "doc_ls=[doc.split() for doc in docs]"
      ],
      "execution_count": 3,
      "outputs": []
    },
    {
      "cell_type": "code",
      "metadata": {
        "id": "HK8UIQfKaR4S",
        "colab_type": "code",
        "colab": {
          "base_uri": "https://localhost:8080/",
          "height": 71
        },
        "outputId": "45e71362-7fd0-4424-8b95-1c1262ebeec7"
      },
      "source": [
        "doc_ls"
      ],
      "execution_count": 4,
      "outputs": [
        {
          "output_type": "execute_result",
          "data": {
            "text/plain": [
              "[['오늘', '동물원에서', '원숭이를', '봤어'],\n",
              " ['오늘', '동물원에서', '코끼리를', '봤어', '봤어'],\n",
              " ['동물원에서', '원숭이에게', '바나나를', '줬어', '바나나를']]"
            ]
          },
          "metadata": {
            "tags": []
          },
          "execution_count": 4
        }
      ]
    },
    {
      "cell_type": "markdown",
      "metadata": {
        "id": "vxOK8R52aR4X",
        "colab_type": "text"
      },
      "source": [
        "### 2) 각 고유 토큰에 인덱스(Index)를 지정"
      ]
    },
    {
      "cell_type": "code",
      "metadata": {
        "id": "HjQvx_d1aR4Y",
        "colab_type": "code",
        "colab": {
          "base_uri": "https://localhost:8080/",
          "height": 179
        },
        "outputId": "0cfe2d72-0589-46bc-8530-08a0db49ef1c"
      },
      "source": [
        "from collections import defaultdict\n",
        "\n",
        "word2id = defaultdict(lambda : len(word2id))\n",
        "[word2id[token] for doc in doc_ls for token in doc]\n",
        "word2id"
      ],
      "execution_count": 6,
      "outputs": [
        {
          "output_type": "execute_result",
          "data": {
            "text/plain": [
              "defaultdict(<function __main__.<lambda>>,\n",
              "            {'동물원에서': 1,\n",
              "             '바나나를': 6,\n",
              "             '봤어': 3,\n",
              "             '오늘': 0,\n",
              "             '원숭이를': 2,\n",
              "             '원숭이에게': 5,\n",
              "             '줬어': 7,\n",
              "             '코끼리를': 4})"
            ]
          },
          "metadata": {
            "tags": []
          },
          "execution_count": 6
        }
      ]
    },
    {
      "cell_type": "markdown",
      "metadata": {
        "id": "G7cZKHjeaR4n",
        "colab_type": "text"
      },
      "source": [
        "### 3) BoW 생성"
      ]
    },
    {
      "cell_type": "code",
      "metadata": {
        "id": "VqV9atAUZ5cS",
        "colab_type": "code",
        "colab": {
          "base_uri": "https://localhost:8080/",
          "height": 35
        },
        "outputId": "015f77e6-0814-432a-fdad-08830c4a7048"
      },
      "source": [
        "import numpy as np \n",
        "\n",
        "BoW_ls = []\n",
        "\n",
        "for i, doc in enumerate(doc_ls):\n",
        "  bow = np.zeros(len(word2id), dtype=int)\n",
        "  for token in doc:\n",
        "    bow[word2id[token]]+=1\n",
        "  BoW_ls.append(bow.tolist())\n",
        "BoW_ls"
      ],
      "execution_count": 7,
      "outputs": [
        {
          "output_type": "execute_result",
          "data": {
            "text/plain": [
              "[[1, 1, 1, 1, 0, 0, 0, 0], [1, 1, 0, 2, 1, 0, 0, 0], [0, 1, 0, 0, 0, 1, 2, 1]]"
            ]
          },
          "metadata": {
            "tags": []
          },
          "execution_count": 7
        }
      ]
    },
    {
      "cell_type": "code",
      "metadata": {
        "id": "Hrtwk4vrJpkS",
        "colab_type": "code",
        "colab": {
          "base_uri": "https://localhost:8080/",
          "height": 422
        },
        "outputId": "ecda53b7-7b1f-4342-837f-51e7ffbac468"
      },
      "source": [
        "from IPython.core import display as ICD\n",
        "\n",
        "sorted_vocab=sorted((value,key) for key, value in word2id.items())\n",
        "vocab=[v[1] for v in sorted_vocab]\n",
        "\n",
        "for i in range(len(docs)) :\n",
        "  print(\"문서{} : {}\".format(i, docs[i]))\n",
        "  ICD.display(pd.DataFrame([BoW_ls[i]], columns=vocab))\n",
        "  print(\"\\n\\n\")"
      ],
      "execution_count": 11,
      "outputs": [
        {
          "output_type": "stream",
          "text": [
            "문서0 : 오늘 동물원에서 원숭이를 봤어\n"
          ],
          "name": "stdout"
        },
        {
          "output_type": "display_data",
          "data": {
            "text/html": [
              "<div>\n",
              "<style scoped>\n",
              "    .dataframe tbody tr th:only-of-type {\n",
              "        vertical-align: middle;\n",
              "    }\n",
              "\n",
              "    .dataframe tbody tr th {\n",
              "        vertical-align: top;\n",
              "    }\n",
              "\n",
              "    .dataframe thead th {\n",
              "        text-align: right;\n",
              "    }\n",
              "</style>\n",
              "<table border=\"1\" class=\"dataframe\">\n",
              "  <thead>\n",
              "    <tr style=\"text-align: right;\">\n",
              "      <th></th>\n",
              "      <th>오늘</th>\n",
              "      <th>동물원에서</th>\n",
              "      <th>원숭이를</th>\n",
              "      <th>봤어</th>\n",
              "      <th>코끼리를</th>\n",
              "      <th>원숭이에게</th>\n",
              "      <th>바나나를</th>\n",
              "      <th>줬어</th>\n",
              "    </tr>\n",
              "  </thead>\n",
              "  <tbody>\n",
              "    <tr>\n",
              "      <th>0</th>\n",
              "      <td>1</td>\n",
              "      <td>1</td>\n",
              "      <td>1</td>\n",
              "      <td>1</td>\n",
              "      <td>0</td>\n",
              "      <td>0</td>\n",
              "      <td>0</td>\n",
              "      <td>0</td>\n",
              "    </tr>\n",
              "  </tbody>\n",
              "</table>\n",
              "</div>"
            ],
            "text/plain": [
              "   오늘  동물원에서  원숭이를  봤어  코끼리를  원숭이에게  바나나를  줬어\n",
              "0   1      1     1   1     0      0     0   0"
            ]
          },
          "metadata": {
            "tags": []
          }
        },
        {
          "output_type": "stream",
          "text": [
            "\n",
            "\n",
            "\n",
            "문서1 : 오늘 동물원에서 코끼리를 봤어 봤어\n"
          ],
          "name": "stdout"
        },
        {
          "output_type": "display_data",
          "data": {
            "text/html": [
              "<div>\n",
              "<style scoped>\n",
              "    .dataframe tbody tr th:only-of-type {\n",
              "        vertical-align: middle;\n",
              "    }\n",
              "\n",
              "    .dataframe tbody tr th {\n",
              "        vertical-align: top;\n",
              "    }\n",
              "\n",
              "    .dataframe thead th {\n",
              "        text-align: right;\n",
              "    }\n",
              "</style>\n",
              "<table border=\"1\" class=\"dataframe\">\n",
              "  <thead>\n",
              "    <tr style=\"text-align: right;\">\n",
              "      <th></th>\n",
              "      <th>오늘</th>\n",
              "      <th>동물원에서</th>\n",
              "      <th>원숭이를</th>\n",
              "      <th>봤어</th>\n",
              "      <th>코끼리를</th>\n",
              "      <th>원숭이에게</th>\n",
              "      <th>바나나를</th>\n",
              "      <th>줬어</th>\n",
              "    </tr>\n",
              "  </thead>\n",
              "  <tbody>\n",
              "    <tr>\n",
              "      <th>0</th>\n",
              "      <td>1</td>\n",
              "      <td>1</td>\n",
              "      <td>0</td>\n",
              "      <td>2</td>\n",
              "      <td>1</td>\n",
              "      <td>0</td>\n",
              "      <td>0</td>\n",
              "      <td>0</td>\n",
              "    </tr>\n",
              "  </tbody>\n",
              "</table>\n",
              "</div>"
            ],
            "text/plain": [
              "   오늘  동물원에서  원숭이를  봤어  코끼리를  원숭이에게  바나나를  줬어\n",
              "0   1      1     0   2     1      0     0   0"
            ]
          },
          "metadata": {
            "tags": []
          }
        },
        {
          "output_type": "stream",
          "text": [
            "\n",
            "\n",
            "\n",
            "문서2 : 동물원에서 원숭이에게 바나나를 줬어 바나나를\n"
          ],
          "name": "stdout"
        },
        {
          "output_type": "display_data",
          "data": {
            "text/html": [
              "<div>\n",
              "<style scoped>\n",
              "    .dataframe tbody tr th:only-of-type {\n",
              "        vertical-align: middle;\n",
              "    }\n",
              "\n",
              "    .dataframe tbody tr th {\n",
              "        vertical-align: top;\n",
              "    }\n",
              "\n",
              "    .dataframe thead th {\n",
              "        text-align: right;\n",
              "    }\n",
              "</style>\n",
              "<table border=\"1\" class=\"dataframe\">\n",
              "  <thead>\n",
              "    <tr style=\"text-align: right;\">\n",
              "      <th></th>\n",
              "      <th>오늘</th>\n",
              "      <th>동물원에서</th>\n",
              "      <th>원숭이를</th>\n",
              "      <th>봤어</th>\n",
              "      <th>코끼리를</th>\n",
              "      <th>원숭이에게</th>\n",
              "      <th>바나나를</th>\n",
              "      <th>줬어</th>\n",
              "    </tr>\n",
              "  </thead>\n",
              "  <tbody>\n",
              "    <tr>\n",
              "      <th>0</th>\n",
              "      <td>0</td>\n",
              "      <td>1</td>\n",
              "      <td>0</td>\n",
              "      <td>0</td>\n",
              "      <td>0</td>\n",
              "      <td>1</td>\n",
              "      <td>2</td>\n",
              "      <td>1</td>\n",
              "    </tr>\n",
              "  </tbody>\n",
              "</table>\n",
              "</div>"
            ],
            "text/plain": [
              "   오늘  동물원에서  원숭이를  봤어  코끼리를  원숭이에게  바나나를  줬어\n",
              "0   0      1     0   0     0      1     2   1"
            ]
          },
          "metadata": {
            "tags": []
          }
        },
        {
          "output_type": "stream",
          "text": [
            "\n",
            "\n",
            "\n"
          ],
          "name": "stdout"
        }
      ]
    },
    {
      "cell_type": "code",
      "metadata": {
        "id": "97PHCeK1b8we",
        "colab_type": "code",
        "colab": {
          "base_uri": "https://localhost:8080/",
          "height": 35
        },
        "outputId": "b0fbb8a5-9b3f-4579-e727-5175c01bb446"
      },
      "source": [
        "word2id.items()"
      ],
      "execution_count": 13,
      "outputs": [
        {
          "output_type": "execute_result",
          "data": {
            "text/plain": [
              "dict_items([('오늘', 0), ('동물원에서', 1), ('원숭이를', 2), ('봤어', 3), ('코끼리를', 4), ('원숭이에게', 5), ('바나나를', 6), ('줬어', 7)])"
            ]
          },
          "metadata": {
            "tags": []
          },
          "execution_count": 13
        }
      ]
    },
    {
      "cell_type": "code",
      "metadata": {
        "id": "G2Mw_Hddbz1Q",
        "colab_type": "code",
        "colab": {
          "base_uri": "https://localhost:8080/",
          "height": 161
        },
        "outputId": "9fa1be86-f172-46f0-9395-9d365910a190"
      },
      "source": [
        "sorted_vocab"
      ],
      "execution_count": 12,
      "outputs": [
        {
          "output_type": "execute_result",
          "data": {
            "text/plain": [
              "[(0, '오늘'),\n",
              " (1, '동물원에서'),\n",
              " (2, '원숭이를'),\n",
              " (3, '봤어'),\n",
              " (4, '코끼리를'),\n",
              " (5, '원숭이에게'),\n",
              " (6, '바나나를'),\n",
              " (7, '줬어')]"
            ]
          },
          "metadata": {
            "tags": []
          },
          "execution_count": 12
        }
      ]
    },
    {
      "cell_type": "markdown",
      "metadata": {
        "id": "Ax7YxzN89aNZ",
        "colab_type": "text"
      },
      "source": [
        "\n",
        "\n",
        "---\n",
        "\n",
        "\n",
        "\n"
      ]
    },
    {
      "cell_type": "markdown",
      "metadata": {
        "id": "CHnBJ8wuaR4t",
        "colab_type": "text"
      },
      "source": [
        "## 1.2 단어 순서를 고려하지 않은 BoW"
      ]
    },
    {
      "cell_type": "code",
      "metadata": {
        "id": "4UZDtYS7aR4u",
        "colab_type": "code",
        "colab": {}
      },
      "source": [
        "docs = ['나는 양념 치킨을 좋아해 하지만 후라이드 치킨을 싫어해',\n",
        "        '나는 후라이드 치킨을 좋아해 하지만 양념 치킨을 싫어해']"
      ],
      "execution_count": 14,
      "outputs": []
    },
    {
      "cell_type": "markdown",
      "metadata": {
        "colab_type": "text",
        "id": "55w1w8A1a41X"
      },
      "source": [
        "### 1) 띄어쓰기 단위로 토큰화"
      ]
    },
    {
      "cell_type": "code",
      "metadata": {
        "colab_type": "code",
        "id": "VScTSQm3a41X",
        "colab": {
          "base_uri": "https://localhost:8080/",
          "height": 53
        },
        "outputId": "e321bf0b-e84a-4d8c-f17b-71977172b7af"
      },
      "source": [
        "doc_ls = [doc.split() for doc in docs]\n",
        "doc_ls"
      ],
      "execution_count": 15,
      "outputs": [
        {
          "output_type": "execute_result",
          "data": {
            "text/plain": [
              "[['나는', '양념', '치킨을', '좋아해', '하지만', '후라이드', '치킨을', '싫어해'],\n",
              " ['나는', '후라이드', '치킨을', '좋아해', '하지만', '양념', '치킨을', '싫어해']]"
            ]
          },
          "metadata": {
            "tags": []
          },
          "execution_count": 15
        }
      ]
    },
    {
      "cell_type": "markdown",
      "metadata": {
        "colab_type": "text",
        "id": "ogtoam3Ia41Z"
      },
      "source": [
        "### 2) 각 고유 토큰에 인덱스(Index)를 지정"
      ]
    },
    {
      "cell_type": "code",
      "metadata": {
        "colab_type": "code",
        "id": "pfv9UDZPa41Z",
        "colab": {
          "base_uri": "https://localhost:8080/",
          "height": 161
        },
        "outputId": "1390f86b-f3f1-48b9-e340-56ab0e2f57d1"
      },
      "source": [
        "from collections import defaultdict\n",
        "\n",
        "word2id = defaultdict(lambda : len(word2id))\n",
        "[word2id[token] for doc in doc_ls for token in doc ]     \n",
        "word2id   "
      ],
      "execution_count": 16,
      "outputs": [
        {
          "output_type": "execute_result",
          "data": {
            "text/plain": [
              "defaultdict(<function __main__.<lambda>>,\n",
              "            {'나는': 0,\n",
              "             '싫어해': 6,\n",
              "             '양념': 1,\n",
              "             '좋아해': 3,\n",
              "             '치킨을': 2,\n",
              "             '하지만': 4,\n",
              "             '후라이드': 5})"
            ]
          },
          "metadata": {
            "tags": []
          },
          "execution_count": 16
        }
      ]
    },
    {
      "cell_type": "markdown",
      "metadata": {
        "colab_type": "text",
        "id": "M5rOzF2ma41b"
      },
      "source": [
        "### 3) BoW 생성"
      ]
    },
    {
      "cell_type": "code",
      "metadata": {
        "colab_type": "code",
        "id": "ZIRpm6pLa41c",
        "colab": {
          "base_uri": "https://localhost:8080/",
          "height": 35
        },
        "outputId": "c6ecfda4-31a1-4764-82f4-18c990140aaf"
      },
      "source": [
        "import numpy as np \n",
        "\n",
        "BoW_ls = []\n",
        "\n",
        "for i, doc in enumerate(doc_ls):\n",
        "  bow = np.zeros(len(word2id), dtype=int)\n",
        "  for token in doc:\n",
        "    bow[word2id[token]]+=1\n",
        "  BoW_ls.append(bow.tolist())\n",
        "BoW_ls"
      ],
      "execution_count": 19,
      "outputs": [
        {
          "output_type": "execute_result",
          "data": {
            "text/plain": [
              "[[1, 1, 2, 1, 1, 1, 1], [1, 1, 2, 1, 1, 1, 1]]"
            ]
          },
          "metadata": {
            "tags": []
          },
          "execution_count": 19
        }
      ]
    },
    {
      "cell_type": "code",
      "metadata": {
        "colab_type": "code",
        "id": "GoO1Ln-wa41d",
        "colab": {
          "base_uri": "https://localhost:8080/",
          "height": 287
        },
        "outputId": "6765d157-877a-4e51-eabc-b0a368443a88"
      },
      "source": [
        "from IPython.core import display as ICD\n",
        "\n",
        "sorted_vocab = sorted((value, key) for key, value in word2id.items())\n",
        "vocab = [v[1] for v in sorted_vocab]\n",
        "for i in range(len(docs)) :\n",
        "  print(\"문서{} : {}\".format(i, docs[i]))\n",
        "  ICD.display(pd.DataFrame([BoW_ls[i]], columns=vocab))\n",
        "  print(\"\\n\\n\")"
      ],
      "execution_count": 21,
      "outputs": [
        {
          "output_type": "stream",
          "text": [
            "문서0 : 나는 양념 치킨을 좋아해 하지만 후라이드 치킨을 싫어해\n"
          ],
          "name": "stdout"
        },
        {
          "output_type": "display_data",
          "data": {
            "text/html": [
              "<div>\n",
              "<style scoped>\n",
              "    .dataframe tbody tr th:only-of-type {\n",
              "        vertical-align: middle;\n",
              "    }\n",
              "\n",
              "    .dataframe tbody tr th {\n",
              "        vertical-align: top;\n",
              "    }\n",
              "\n",
              "    .dataframe thead th {\n",
              "        text-align: right;\n",
              "    }\n",
              "</style>\n",
              "<table border=\"1\" class=\"dataframe\">\n",
              "  <thead>\n",
              "    <tr style=\"text-align: right;\">\n",
              "      <th></th>\n",
              "      <th>나는</th>\n",
              "      <th>양념</th>\n",
              "      <th>치킨을</th>\n",
              "      <th>좋아해</th>\n",
              "      <th>하지만</th>\n",
              "      <th>후라이드</th>\n",
              "      <th>싫어해</th>\n",
              "    </tr>\n",
              "  </thead>\n",
              "  <tbody>\n",
              "    <tr>\n",
              "      <th>0</th>\n",
              "      <td>1</td>\n",
              "      <td>1</td>\n",
              "      <td>2</td>\n",
              "      <td>1</td>\n",
              "      <td>1</td>\n",
              "      <td>1</td>\n",
              "      <td>1</td>\n",
              "    </tr>\n",
              "  </tbody>\n",
              "</table>\n",
              "</div>"
            ],
            "text/plain": [
              "   나는  양념  치킨을  좋아해  하지만  후라이드  싫어해\n",
              "0   1   1    2    1    1     1    1"
            ]
          },
          "metadata": {
            "tags": []
          }
        },
        {
          "output_type": "stream",
          "text": [
            "\n",
            "\n",
            "\n",
            "문서1 : 나는 후라이드 치킨을 좋아해 하지만 양념 치킨을 싫어해\n"
          ],
          "name": "stdout"
        },
        {
          "output_type": "display_data",
          "data": {
            "text/html": [
              "<div>\n",
              "<style scoped>\n",
              "    .dataframe tbody tr th:only-of-type {\n",
              "        vertical-align: middle;\n",
              "    }\n",
              "\n",
              "    .dataframe tbody tr th {\n",
              "        vertical-align: top;\n",
              "    }\n",
              "\n",
              "    .dataframe thead th {\n",
              "        text-align: right;\n",
              "    }\n",
              "</style>\n",
              "<table border=\"1\" class=\"dataframe\">\n",
              "  <thead>\n",
              "    <tr style=\"text-align: right;\">\n",
              "      <th></th>\n",
              "      <th>나는</th>\n",
              "      <th>양념</th>\n",
              "      <th>치킨을</th>\n",
              "      <th>좋아해</th>\n",
              "      <th>하지만</th>\n",
              "      <th>후라이드</th>\n",
              "      <th>싫어해</th>\n",
              "    </tr>\n",
              "  </thead>\n",
              "  <tbody>\n",
              "    <tr>\n",
              "      <th>0</th>\n",
              "      <td>1</td>\n",
              "      <td>1</td>\n",
              "      <td>2</td>\n",
              "      <td>1</td>\n",
              "      <td>1</td>\n",
              "      <td>1</td>\n",
              "      <td>1</td>\n",
              "    </tr>\n",
              "  </tbody>\n",
              "</table>\n",
              "</div>"
            ],
            "text/plain": [
              "   나는  양념  치킨을  좋아해  하지만  후라이드  싫어해\n",
              "0   1   1    2    1    1     1    1"
            ]
          },
          "metadata": {
            "tags": []
          }
        },
        {
          "output_type": "stream",
          "text": [
            "\n",
            "\n",
            "\n"
          ],
          "name": "stdout"
        }
      ]
    },
    {
      "cell_type": "markdown",
      "metadata": {
        "id": "491wb8Avb4ij",
        "colab_type": "text"
      },
      "source": [
        "\n",
        "\n",
        "---\n",
        "\n"
      ]
    },
    {
      "cell_type": "markdown",
      "metadata": {
        "id": "Hlu7kB_fDyer",
        "colab_type": "text"
      },
      "source": [
        "https://en.wikipedia.org/wiki/Document-term_matrix"
      ]
    },
    {
      "cell_type": "markdown",
      "metadata": {
        "id": "e5Yfa1_j9Eav",
        "colab_type": "text"
      },
      "source": [
        "## 1.3 sklearn 활용"
      ]
    },
    {
      "cell_type": "code",
      "metadata": {
        "id": "LQnAj2a4-WXk",
        "colab_type": "code",
        "colab": {}
      },
      "source": [
        "docs = ['오늘 동물원에서 원숭이를 봤어',\n",
        "        '오늘 동물원에서 코끼리를 봤어 봤어',\n",
        "        '동물원에서 원숭이에게 바나나를 줬어 바나나를']"
      ],
      "execution_count": 22,
      "outputs": []
    },
    {
      "cell_type": "code",
      "metadata": {
        "id": "SYBIrkm4-QwU",
        "colab_type": "code",
        "colab": {
          "base_uri": "https://localhost:8080/",
          "height": 35
        },
        "outputId": "300ae26c-ac9a-49f6-8ce4-7d16dfc4299c"
      },
      "source": [
        "from sklearn.feature_extraction.text import CountVectorizer\n",
        "from sklearn.feature_extraction.text import CountVectorizer\n",
        "\n",
        "count_vect =CountVectorizer()\n",
        "BoW=count_vect.fit_transform(docs)\n",
        "\n",
        "BoW.toarray()[0]"
      ],
      "execution_count": 24,
      "outputs": [
        {
          "output_type": "execute_result",
          "data": {
            "text/plain": [
              "array([1, 0, 1, 1, 1, 0, 0, 0])"
            ]
          },
          "metadata": {
            "tags": []
          },
          "execution_count": 24
        }
      ]
    },
    {
      "cell_type": "code",
      "metadata": {
        "id": "CDYxifsz-c9P",
        "colab_type": "code",
        "colab": {
          "base_uri": "https://localhost:8080/",
          "height": 422
        },
        "outputId": "2741bb69-cb36-4840-eeca-ac3a6184f2ce"
      },
      "source": [
        "from IPython.core import display as ICD\n",
        "\n",
        "vocab = count_vect.get_feature_names()\n",
        "for i in range(len(docs)) :\n",
        "  print(\"문서{} : {}\".format(i, docs[i]))\n",
        "  ICD.display(pd.DataFrame([BoW.toarray()[i]], columns=vocab))\n",
        "  print(\"\\n\\n\")"
      ],
      "execution_count": 26,
      "outputs": [
        {
          "output_type": "stream",
          "text": [
            "문서0 : 오늘 동물원에서 원숭이를 봤어\n"
          ],
          "name": "stdout"
        },
        {
          "output_type": "display_data",
          "data": {
            "text/html": [
              "<div>\n",
              "<style scoped>\n",
              "    .dataframe tbody tr th:only-of-type {\n",
              "        vertical-align: middle;\n",
              "    }\n",
              "\n",
              "    .dataframe tbody tr th {\n",
              "        vertical-align: top;\n",
              "    }\n",
              "\n",
              "    .dataframe thead th {\n",
              "        text-align: right;\n",
              "    }\n",
              "</style>\n",
              "<table border=\"1\" class=\"dataframe\">\n",
              "  <thead>\n",
              "    <tr style=\"text-align: right;\">\n",
              "      <th></th>\n",
              "      <th>동물원에서</th>\n",
              "      <th>바나나를</th>\n",
              "      <th>봤어</th>\n",
              "      <th>오늘</th>\n",
              "      <th>원숭이를</th>\n",
              "      <th>원숭이에게</th>\n",
              "      <th>줬어</th>\n",
              "      <th>코끼리를</th>\n",
              "    </tr>\n",
              "  </thead>\n",
              "  <tbody>\n",
              "    <tr>\n",
              "      <th>0</th>\n",
              "      <td>1</td>\n",
              "      <td>0</td>\n",
              "      <td>1</td>\n",
              "      <td>1</td>\n",
              "      <td>1</td>\n",
              "      <td>0</td>\n",
              "      <td>0</td>\n",
              "      <td>0</td>\n",
              "    </tr>\n",
              "  </tbody>\n",
              "</table>\n",
              "</div>"
            ],
            "text/plain": [
              "   동물원에서  바나나를  봤어  오늘  원숭이를  원숭이에게  줬어  코끼리를\n",
              "0      1     0   1   1     1      0   0     0"
            ]
          },
          "metadata": {
            "tags": []
          }
        },
        {
          "output_type": "stream",
          "text": [
            "\n",
            "\n",
            "\n",
            "문서1 : 오늘 동물원에서 코끼리를 봤어 봤어\n"
          ],
          "name": "stdout"
        },
        {
          "output_type": "display_data",
          "data": {
            "text/html": [
              "<div>\n",
              "<style scoped>\n",
              "    .dataframe tbody tr th:only-of-type {\n",
              "        vertical-align: middle;\n",
              "    }\n",
              "\n",
              "    .dataframe tbody tr th {\n",
              "        vertical-align: top;\n",
              "    }\n",
              "\n",
              "    .dataframe thead th {\n",
              "        text-align: right;\n",
              "    }\n",
              "</style>\n",
              "<table border=\"1\" class=\"dataframe\">\n",
              "  <thead>\n",
              "    <tr style=\"text-align: right;\">\n",
              "      <th></th>\n",
              "      <th>동물원에서</th>\n",
              "      <th>바나나를</th>\n",
              "      <th>봤어</th>\n",
              "      <th>오늘</th>\n",
              "      <th>원숭이를</th>\n",
              "      <th>원숭이에게</th>\n",
              "      <th>줬어</th>\n",
              "      <th>코끼리를</th>\n",
              "    </tr>\n",
              "  </thead>\n",
              "  <tbody>\n",
              "    <tr>\n",
              "      <th>0</th>\n",
              "      <td>1</td>\n",
              "      <td>0</td>\n",
              "      <td>2</td>\n",
              "      <td>1</td>\n",
              "      <td>0</td>\n",
              "      <td>0</td>\n",
              "      <td>0</td>\n",
              "      <td>1</td>\n",
              "    </tr>\n",
              "  </tbody>\n",
              "</table>\n",
              "</div>"
            ],
            "text/plain": [
              "   동물원에서  바나나를  봤어  오늘  원숭이를  원숭이에게  줬어  코끼리를\n",
              "0      1     0   2   1     0      0   0     1"
            ]
          },
          "metadata": {
            "tags": []
          }
        },
        {
          "output_type": "stream",
          "text": [
            "\n",
            "\n",
            "\n",
            "문서2 : 동물원에서 원숭이에게 바나나를 줬어 바나나를\n"
          ],
          "name": "stdout"
        },
        {
          "output_type": "display_data",
          "data": {
            "text/html": [
              "<div>\n",
              "<style scoped>\n",
              "    .dataframe tbody tr th:only-of-type {\n",
              "        vertical-align: middle;\n",
              "    }\n",
              "\n",
              "    .dataframe tbody tr th {\n",
              "        vertical-align: top;\n",
              "    }\n",
              "\n",
              "    .dataframe thead th {\n",
              "        text-align: right;\n",
              "    }\n",
              "</style>\n",
              "<table border=\"1\" class=\"dataframe\">\n",
              "  <thead>\n",
              "    <tr style=\"text-align: right;\">\n",
              "      <th></th>\n",
              "      <th>동물원에서</th>\n",
              "      <th>바나나를</th>\n",
              "      <th>봤어</th>\n",
              "      <th>오늘</th>\n",
              "      <th>원숭이를</th>\n",
              "      <th>원숭이에게</th>\n",
              "      <th>줬어</th>\n",
              "      <th>코끼리를</th>\n",
              "    </tr>\n",
              "  </thead>\n",
              "  <tbody>\n",
              "    <tr>\n",
              "      <th>0</th>\n",
              "      <td>1</td>\n",
              "      <td>2</td>\n",
              "      <td>0</td>\n",
              "      <td>0</td>\n",
              "      <td>0</td>\n",
              "      <td>1</td>\n",
              "      <td>1</td>\n",
              "      <td>0</td>\n",
              "    </tr>\n",
              "  </tbody>\n",
              "</table>\n",
              "</div>"
            ],
            "text/plain": [
              "   동물원에서  바나나를  봤어  오늘  원숭이를  원숭이에게  줬어  코끼리를\n",
              "0      1     2   0   0     0      1   1     0"
            ]
          },
          "metadata": {
            "tags": []
          }
        },
        {
          "output_type": "stream",
          "text": [
            "\n",
            "\n",
            "\n"
          ],
          "name": "stdout"
        }
      ]
    },
    {
      "cell_type": "markdown",
      "metadata": {
        "id": "lJTu69Kw9bcQ",
        "colab_type": "text"
      },
      "source": [
        "\n",
        "\n",
        "---\n"
      ]
    },
    {
      "cell_type": "markdown",
      "metadata": {
        "id": "ubYvSi3q9RhM",
        "colab_type": "text"
      },
      "source": [
        "## 1.4 gensim 활용"
      ]
    },
    {
      "cell_type": "code",
      "metadata": {
        "id": "64nyDwx5Ao75",
        "colab_type": "code",
        "colab": {}
      },
      "source": [
        "docs = ['오늘 동물원에서 원숭이를 봤어',\n",
        "        '오늘 동물원에서 코끼리를 봤어 봤어',\n",
        "        '동물원에서 원숭이에게 바나나를 줬어 바나나를']"
      ],
      "execution_count": 27,
      "outputs": []
    },
    {
      "cell_type": "code",
      "metadata": {
        "id": "GFXsCmaxAUV9",
        "colab_type": "code",
        "colab": {
          "base_uri": "https://localhost:8080/",
          "height": 71
        },
        "outputId": "fc03c872-d6b4-4011-f247-4aa2c9049a21"
      },
      "source": [
        "import gensim\n",
        "import numpy as np\n",
        "from gensim import corpora\n",
        "\n",
        "import gensim\n",
        "import numpy as np\n",
        "from gensim import corpora \n",
        "\n",
        "doc_ls = [doc.split() for doc in docs]\n",
        "id2word=corpora.Dictionary(doc_ls)\n",
        "BoW=[id2word.doc2bow(doc) for doc in doc_ls]\n",
        "BoW"
      ],
      "execution_count": 33,
      "outputs": [
        {
          "output_type": "execute_result",
          "data": {
            "text/plain": [
              "[[(0, 1), (1, 1), (2, 1), (3, 1)],\n",
              " [(0, 1), (1, 2), (2, 1), (4, 1)],\n",
              " [(0, 1), (5, 2), (6, 1), (7, 1)]]"
            ]
          },
          "metadata": {
            "tags": []
          },
          "execution_count": 33
        }
      ]
    },
    {
      "cell_type": "code",
      "metadata": {
        "id": "LBzlUW6oA1S4",
        "colab_type": "code",
        "colab": {
          "base_uri": "https://localhost:8080/",
          "height": 422
        },
        "outputId": "2006fbdd-625e-4897-f5d1-07228c718b58"
      },
      "source": [
        "from gensim.matutils import sparse2full\n",
        "from IPython.core import display as ICD\n",
        "\n",
        "vocab = [id2word[i] for i in id2word.keys()]\n",
        "for i in range(len(docs)) :\n",
        "  print(\"문서{} : {}\".format(i, docs[i]))\n",
        "  ICD.display(pd.DataFrame([sparse2full(BoW[i], len(vocab))], columns=vocab))\n",
        "  print(\"\\n\\n\")"
      ],
      "execution_count": 34,
      "outputs": [
        {
          "output_type": "stream",
          "text": [
            "문서0 : 오늘 동물원에서 원숭이를 봤어\n"
          ],
          "name": "stdout"
        },
        {
          "output_type": "display_data",
          "data": {
            "text/html": [
              "<div>\n",
              "<style scoped>\n",
              "    .dataframe tbody tr th:only-of-type {\n",
              "        vertical-align: middle;\n",
              "    }\n",
              "\n",
              "    .dataframe tbody tr th {\n",
              "        vertical-align: top;\n",
              "    }\n",
              "\n",
              "    .dataframe thead th {\n",
              "        text-align: right;\n",
              "    }\n",
              "</style>\n",
              "<table border=\"1\" class=\"dataframe\">\n",
              "  <thead>\n",
              "    <tr style=\"text-align: right;\">\n",
              "      <th></th>\n",
              "      <th>동물원에서</th>\n",
              "      <th>봤어</th>\n",
              "      <th>오늘</th>\n",
              "      <th>원숭이를</th>\n",
              "      <th>코끼리를</th>\n",
              "      <th>바나나를</th>\n",
              "      <th>원숭이에게</th>\n",
              "      <th>줬어</th>\n",
              "    </tr>\n",
              "  </thead>\n",
              "  <tbody>\n",
              "    <tr>\n",
              "      <th>0</th>\n",
              "      <td>1.0</td>\n",
              "      <td>1.0</td>\n",
              "      <td>1.0</td>\n",
              "      <td>1.0</td>\n",
              "      <td>0.0</td>\n",
              "      <td>0.0</td>\n",
              "      <td>0.0</td>\n",
              "      <td>0.0</td>\n",
              "    </tr>\n",
              "  </tbody>\n",
              "</table>\n",
              "</div>"
            ],
            "text/plain": [
              "   동물원에서   봤어   오늘  원숭이를  코끼리를  바나나를  원숭이에게   줬어\n",
              "0    1.0  1.0  1.0   1.0   0.0   0.0    0.0  0.0"
            ]
          },
          "metadata": {
            "tags": []
          }
        },
        {
          "output_type": "stream",
          "text": [
            "\n",
            "\n",
            "\n",
            "문서1 : 오늘 동물원에서 코끼리를 봤어 봤어\n"
          ],
          "name": "stdout"
        },
        {
          "output_type": "display_data",
          "data": {
            "text/html": [
              "<div>\n",
              "<style scoped>\n",
              "    .dataframe tbody tr th:only-of-type {\n",
              "        vertical-align: middle;\n",
              "    }\n",
              "\n",
              "    .dataframe tbody tr th {\n",
              "        vertical-align: top;\n",
              "    }\n",
              "\n",
              "    .dataframe thead th {\n",
              "        text-align: right;\n",
              "    }\n",
              "</style>\n",
              "<table border=\"1\" class=\"dataframe\">\n",
              "  <thead>\n",
              "    <tr style=\"text-align: right;\">\n",
              "      <th></th>\n",
              "      <th>동물원에서</th>\n",
              "      <th>봤어</th>\n",
              "      <th>오늘</th>\n",
              "      <th>원숭이를</th>\n",
              "      <th>코끼리를</th>\n",
              "      <th>바나나를</th>\n",
              "      <th>원숭이에게</th>\n",
              "      <th>줬어</th>\n",
              "    </tr>\n",
              "  </thead>\n",
              "  <tbody>\n",
              "    <tr>\n",
              "      <th>0</th>\n",
              "      <td>1.0</td>\n",
              "      <td>2.0</td>\n",
              "      <td>1.0</td>\n",
              "      <td>0.0</td>\n",
              "      <td>1.0</td>\n",
              "      <td>0.0</td>\n",
              "      <td>0.0</td>\n",
              "      <td>0.0</td>\n",
              "    </tr>\n",
              "  </tbody>\n",
              "</table>\n",
              "</div>"
            ],
            "text/plain": [
              "   동물원에서   봤어   오늘  원숭이를  코끼리를  바나나를  원숭이에게   줬어\n",
              "0    1.0  2.0  1.0   0.0   1.0   0.0    0.0  0.0"
            ]
          },
          "metadata": {
            "tags": []
          }
        },
        {
          "output_type": "stream",
          "text": [
            "\n",
            "\n",
            "\n",
            "문서2 : 동물원에서 원숭이에게 바나나를 줬어 바나나를\n"
          ],
          "name": "stdout"
        },
        {
          "output_type": "display_data",
          "data": {
            "text/html": [
              "<div>\n",
              "<style scoped>\n",
              "    .dataframe tbody tr th:only-of-type {\n",
              "        vertical-align: middle;\n",
              "    }\n",
              "\n",
              "    .dataframe tbody tr th {\n",
              "        vertical-align: top;\n",
              "    }\n",
              "\n",
              "    .dataframe thead th {\n",
              "        text-align: right;\n",
              "    }\n",
              "</style>\n",
              "<table border=\"1\" class=\"dataframe\">\n",
              "  <thead>\n",
              "    <tr style=\"text-align: right;\">\n",
              "      <th></th>\n",
              "      <th>동물원에서</th>\n",
              "      <th>봤어</th>\n",
              "      <th>오늘</th>\n",
              "      <th>원숭이를</th>\n",
              "      <th>코끼리를</th>\n",
              "      <th>바나나를</th>\n",
              "      <th>원숭이에게</th>\n",
              "      <th>줬어</th>\n",
              "    </tr>\n",
              "  </thead>\n",
              "  <tbody>\n",
              "    <tr>\n",
              "      <th>0</th>\n",
              "      <td>1.0</td>\n",
              "      <td>0.0</td>\n",
              "      <td>0.0</td>\n",
              "      <td>0.0</td>\n",
              "      <td>0.0</td>\n",
              "      <td>2.0</td>\n",
              "      <td>1.0</td>\n",
              "      <td>1.0</td>\n",
              "    </tr>\n",
              "  </tbody>\n",
              "</table>\n",
              "</div>"
            ],
            "text/plain": [
              "   동물원에서   봤어   오늘  원숭이를  코끼리를  바나나를  원숭이에게   줬어\n",
              "0    1.0  0.0  0.0   0.0   0.0   2.0    1.0  1.0"
            ]
          },
          "metadata": {
            "tags": []
          }
        },
        {
          "output_type": "stream",
          "text": [
            "\n",
            "\n",
            "\n"
          ],
          "name": "stdout"
        }
      ]
    },
    {
      "cell_type": "markdown",
      "metadata": {
        "id": "hx3EGCegbh8f",
        "colab_type": "text"
      },
      "source": [
        "\n",
        "\n",
        "---\n",
        "\n"
      ]
    },
    {
      "cell_type": "markdown",
      "metadata": {
        "id": "lYoJ_zN4BqtH",
        "colab_type": "text"
      },
      "source": [
        "# 2 TDM(Term-Document Matrix)"
      ]
    },
    {
      "cell_type": "markdown",
      "metadata": {
        "id": "mcUysxIbrO3j",
        "colab_type": "text"
      },
      "source": [
        "## 2.1 직접구현"
      ]
    },
    {
      "cell_type": "code",
      "metadata": {
        "colab_type": "code",
        "id": "sdljLf47YyEH",
        "colab": {}
      },
      "source": [
        "docs = ['오늘 동물원에서 원숭이를 봤어',\n",
        "        '오늘 동물원에서 코끼리를 봤어 봤어',\n",
        "        '동물원에서 원숭이에게 바나나를 줬어 바나나를']"
      ],
      "execution_count": 35,
      "outputs": []
    },
    {
      "cell_type": "markdown",
      "metadata": {
        "colab_type": "text",
        "id": "zsRNojiaYyEK"
      },
      "source": [
        "### 1) 띄어쓰기 단위로 토큰화"
      ]
    },
    {
      "cell_type": "code",
      "metadata": {
        "colab_type": "code",
        "id": "SNEl8EmBYyEL",
        "colab": {
          "base_uri": "https://localhost:8080/",
          "height": 71
        },
        "outputId": "ca4d5a3f-926e-41d6-8cac-f91fe3331807"
      },
      "source": [
        "doc_ls = [doc.split() for doc in docs]\n",
        "doc_ls"
      ],
      "execution_count": 36,
      "outputs": [
        {
          "output_type": "execute_result",
          "data": {
            "text/plain": [
              "[['오늘', '동물원에서', '원숭이를', '봤어'],\n",
              " ['오늘', '동물원에서', '코끼리를', '봤어', '봤어'],\n",
              " ['동물원에서', '원숭이에게', '바나나를', '줬어', '바나나를']]"
            ]
          },
          "metadata": {
            "tags": []
          },
          "execution_count": 36
        }
      ]
    },
    {
      "cell_type": "markdown",
      "metadata": {
        "colab_type": "text",
        "id": "u9XiWrI7YyEN"
      },
      "source": [
        "### 2) 각 고유 토큰에 인덱스(Index)를 지정"
      ]
    },
    {
      "cell_type": "code",
      "metadata": {
        "colab_type": "code",
        "id": "0V8L_nvjYyEO",
        "colab": {
          "base_uri": "https://localhost:8080/",
          "height": 179
        },
        "outputId": "a306372f-cce2-49e2-8ab5-27d0f71e68df"
      },
      "source": [
        "from collections import defaultdict\n",
        "\n",
        "word2id = defaultdict(lambda : len(word2id))\n",
        "[word2id[token] for doc in doc_ls for token in doc]\n",
        "word2id"
      ],
      "execution_count": 37,
      "outputs": [
        {
          "output_type": "execute_result",
          "data": {
            "text/plain": [
              "defaultdict(<function __main__.<lambda>>,\n",
              "            {'동물원에서': 1,\n",
              "             '바나나를': 6,\n",
              "             '봤어': 3,\n",
              "             '오늘': 0,\n",
              "             '원숭이를': 2,\n",
              "             '원숭이에게': 5,\n",
              "             '줬어': 7,\n",
              "             '코끼리를': 4})"
            ]
          },
          "metadata": {
            "tags": []
          },
          "execution_count": 37
        }
      ]
    },
    {
      "cell_type": "markdown",
      "metadata": {
        "colab_type": "text",
        "id": "1AxbyuuBYyEP"
      },
      "source": [
        "### 3) TDM 생성"
      ]
    },
    {
      "cell_type": "code",
      "metadata": {
        "colab_type": "code",
        "id": "gh4JyS1tYyEQ",
        "colab": {
          "base_uri": "https://localhost:8080/",
          "height": 161
        },
        "outputId": "aaadd006-2671-4ca5-da62-6c39d9a4d2d6"
      },
      "source": [
        "import numpy as np \n",
        "\n",
        "TDM = np.zeros((len(word2id), len(doc_ls)), dtype=int)\n",
        "for i, doc in enumerate(doc_ls):\n",
        "  for token in doc:\n",
        "      TDM[word2id[token], i] += 1 # 해당 토큰의 위치(column)\n",
        "TDM"
      ],
      "execution_count": 38,
      "outputs": [
        {
          "output_type": "execute_result",
          "data": {
            "text/plain": [
              "array([[1, 1, 0],\n",
              "       [1, 1, 1],\n",
              "       [1, 0, 0],\n",
              "       [1, 2, 0],\n",
              "       [0, 1, 0],\n",
              "       [0, 0, 1],\n",
              "       [0, 0, 2],\n",
              "       [0, 0, 1]])"
            ]
          },
          "metadata": {
            "tags": []
          },
          "execution_count": 38
        }
      ]
    },
    {
      "cell_type": "code",
      "metadata": {
        "id": "wdXV_KsBY29j",
        "colab_type": "code",
        "colab": {
          "base_uri": "https://localhost:8080/",
          "height": 328
        },
        "outputId": "87bcda97-e025-4889-a0ae-ed3cc3f9aa52"
      },
      "source": [
        "import pandas as pd\n",
        "\n",
        "doc_names=['문서'+str(i) for i in range(len(doc_ls))]\n",
        "sorted_vocab= sorted((value, key) for key, value in word2id.items())\n",
        "vocab=[v[1] for v in sorted_vocab]\n",
        "df_TDM = pd.DataFrame(TDM, columns=doc_names)\n",
        "df_TDM['단어'] = vocab\n",
        "df_TDM.set_index('단어')"
      ],
      "execution_count": 39,
      "outputs": [
        {
          "output_type": "execute_result",
          "data": {
            "text/html": [
              "<div>\n",
              "<style scoped>\n",
              "    .dataframe tbody tr th:only-of-type {\n",
              "        vertical-align: middle;\n",
              "    }\n",
              "\n",
              "    .dataframe tbody tr th {\n",
              "        vertical-align: top;\n",
              "    }\n",
              "\n",
              "    .dataframe thead th {\n",
              "        text-align: right;\n",
              "    }\n",
              "</style>\n",
              "<table border=\"1\" class=\"dataframe\">\n",
              "  <thead>\n",
              "    <tr style=\"text-align: right;\">\n",
              "      <th></th>\n",
              "      <th>문서0</th>\n",
              "      <th>문서1</th>\n",
              "      <th>문서2</th>\n",
              "    </tr>\n",
              "    <tr>\n",
              "      <th>단어</th>\n",
              "      <th></th>\n",
              "      <th></th>\n",
              "      <th></th>\n",
              "    </tr>\n",
              "  </thead>\n",
              "  <tbody>\n",
              "    <tr>\n",
              "      <th>오늘</th>\n",
              "      <td>1</td>\n",
              "      <td>1</td>\n",
              "      <td>0</td>\n",
              "    </tr>\n",
              "    <tr>\n",
              "      <th>동물원에서</th>\n",
              "      <td>1</td>\n",
              "      <td>1</td>\n",
              "      <td>1</td>\n",
              "    </tr>\n",
              "    <tr>\n",
              "      <th>원숭이를</th>\n",
              "      <td>1</td>\n",
              "      <td>0</td>\n",
              "      <td>0</td>\n",
              "    </tr>\n",
              "    <tr>\n",
              "      <th>봤어</th>\n",
              "      <td>1</td>\n",
              "      <td>2</td>\n",
              "      <td>0</td>\n",
              "    </tr>\n",
              "    <tr>\n",
              "      <th>코끼리를</th>\n",
              "      <td>0</td>\n",
              "      <td>1</td>\n",
              "      <td>0</td>\n",
              "    </tr>\n",
              "    <tr>\n",
              "      <th>원숭이에게</th>\n",
              "      <td>0</td>\n",
              "      <td>0</td>\n",
              "      <td>1</td>\n",
              "    </tr>\n",
              "    <tr>\n",
              "      <th>바나나를</th>\n",
              "      <td>0</td>\n",
              "      <td>0</td>\n",
              "      <td>2</td>\n",
              "    </tr>\n",
              "    <tr>\n",
              "      <th>줬어</th>\n",
              "      <td>0</td>\n",
              "      <td>0</td>\n",
              "      <td>1</td>\n",
              "    </tr>\n",
              "  </tbody>\n",
              "</table>\n",
              "</div>"
            ],
            "text/plain": [
              "       문서0  문서1  문서2\n",
              "단어                  \n",
              "오늘       1    1    0\n",
              "동물원에서    1    1    1\n",
              "원숭이를     1    0    0\n",
              "봤어       1    2    0\n",
              "코끼리를     0    1    0\n",
              "원숭이에게    0    0    1\n",
              "바나나를     0    0    2\n",
              "줬어       0    0    1"
            ]
          },
          "metadata": {
            "tags": []
          },
          "execution_count": 39
        }
      ]
    },
    {
      "cell_type": "markdown",
      "metadata": {
        "colab_type": "text",
        "id": "M2xbmurHrzPe"
      },
      "source": [
        "## 2.2 sklearn 활용"
      ]
    },
    {
      "cell_type": "code",
      "metadata": {
        "colab_type": "code",
        "id": "PFM2h2vyrzPf",
        "colab": {}
      },
      "source": [
        "docs = ['오늘 동물원에서 원숭이를 봤어',\n",
        "        '오늘 동물원에서 코끼리를 봤어 봤어',\n",
        "        '동물원에서 원숭이에게 바나나를 줬어 바나나를']"
      ],
      "execution_count": 40,
      "outputs": []
    },
    {
      "cell_type": "code",
      "metadata": {
        "colab_type": "code",
        "id": "YUty8uPYrzPh",
        "colab": {
          "base_uri": "https://localhost:8080/",
          "height": 71
        },
        "outputId": "9258fd8e-1244-42f0-a0c4-ef6569ef7d68"
      },
      "source": [
        "from sklearn.feature_extraction.text import CountVectorizer\n",
        "\n",
        "count_vect =CountVectorizer()\n",
        "DTM = count_vect.fit_transform(docs)\n",
        "DTM.toarray()"
      ],
      "execution_count": 41,
      "outputs": [
        {
          "output_type": "execute_result",
          "data": {
            "text/plain": [
              "array([[1, 0, 1, 1, 1, 0, 0, 0],\n",
              "       [1, 0, 2, 1, 0, 0, 0, 1],\n",
              "       [1, 2, 0, 0, 0, 1, 1, 0]])"
            ]
          },
          "metadata": {
            "tags": []
          },
          "execution_count": 41
        }
      ]
    },
    {
      "cell_type": "code",
      "metadata": {
        "colab_type": "code",
        "id": "C65XtqpWrzPj",
        "colab": {
          "base_uri": "https://localhost:8080/",
          "height": 328
        },
        "outputId": "89de2806-b2b8-4f2f-c383-ace0697b486e"
      },
      "source": [
        "import pandas as pd\n",
        "\n",
        "doc_names=['문서'+str(i) for i in range(len(doc_ls))]\n",
        "vocab= count_vect.get_feature_names()\n",
        "df_TDM = pd.DataFrame(DTM.toarray().T, columns=doc_names)\n",
        "df_TDM['단어']=vocab\n",
        "df_TDM.set_index('단어')\n"
      ],
      "execution_count": 42,
      "outputs": [
        {
          "output_type": "execute_result",
          "data": {
            "text/html": [
              "<div>\n",
              "<style scoped>\n",
              "    .dataframe tbody tr th:only-of-type {\n",
              "        vertical-align: middle;\n",
              "    }\n",
              "\n",
              "    .dataframe tbody tr th {\n",
              "        vertical-align: top;\n",
              "    }\n",
              "\n",
              "    .dataframe thead th {\n",
              "        text-align: right;\n",
              "    }\n",
              "</style>\n",
              "<table border=\"1\" class=\"dataframe\">\n",
              "  <thead>\n",
              "    <tr style=\"text-align: right;\">\n",
              "      <th></th>\n",
              "      <th>문서0</th>\n",
              "      <th>문서1</th>\n",
              "      <th>문서2</th>\n",
              "    </tr>\n",
              "    <tr>\n",
              "      <th>단어</th>\n",
              "      <th></th>\n",
              "      <th></th>\n",
              "      <th></th>\n",
              "    </tr>\n",
              "  </thead>\n",
              "  <tbody>\n",
              "    <tr>\n",
              "      <th>동물원에서</th>\n",
              "      <td>1</td>\n",
              "      <td>1</td>\n",
              "      <td>1</td>\n",
              "    </tr>\n",
              "    <tr>\n",
              "      <th>바나나를</th>\n",
              "      <td>0</td>\n",
              "      <td>0</td>\n",
              "      <td>2</td>\n",
              "    </tr>\n",
              "    <tr>\n",
              "      <th>봤어</th>\n",
              "      <td>1</td>\n",
              "      <td>2</td>\n",
              "      <td>0</td>\n",
              "    </tr>\n",
              "    <tr>\n",
              "      <th>오늘</th>\n",
              "      <td>1</td>\n",
              "      <td>1</td>\n",
              "      <td>0</td>\n",
              "    </tr>\n",
              "    <tr>\n",
              "      <th>원숭이를</th>\n",
              "      <td>1</td>\n",
              "      <td>0</td>\n",
              "      <td>0</td>\n",
              "    </tr>\n",
              "    <tr>\n",
              "      <th>원숭이에게</th>\n",
              "      <td>0</td>\n",
              "      <td>0</td>\n",
              "      <td>1</td>\n",
              "    </tr>\n",
              "    <tr>\n",
              "      <th>줬어</th>\n",
              "      <td>0</td>\n",
              "      <td>0</td>\n",
              "      <td>1</td>\n",
              "    </tr>\n",
              "    <tr>\n",
              "      <th>코끼리를</th>\n",
              "      <td>0</td>\n",
              "      <td>1</td>\n",
              "      <td>0</td>\n",
              "    </tr>\n",
              "  </tbody>\n",
              "</table>\n",
              "</div>"
            ],
            "text/plain": [
              "       문서0  문서1  문서2\n",
              "단어                  \n",
              "동물원에서    1    1    1\n",
              "바나나를     0    0    2\n",
              "봤어       1    2    0\n",
              "오늘       1    1    0\n",
              "원숭이를     1    0    0\n",
              "원숭이에게    0    0    1\n",
              "줬어       0    0    1\n",
              "코끼리를     0    1    0"
            ]
          },
          "metadata": {
            "tags": []
          },
          "execution_count": 42
        }
      ]
    },
    {
      "cell_type": "markdown",
      "metadata": {
        "colab_type": "text",
        "id": "jL9M4jETrzPm"
      },
      "source": [
        "\n",
        "\n",
        "---\n"
      ]
    },
    {
      "cell_type": "markdown",
      "metadata": {
        "id": "5Ffnrgshrge8",
        "colab_type": "text"
      },
      "source": [
        "## 2.3 gensim 활용"
      ]
    },
    {
      "cell_type": "code",
      "metadata": {
        "colab_type": "code",
        "id": "oTnp6FWorzPn",
        "colab": {}
      },
      "source": [
        "docs = ['오늘 동물원에서 원숭이를 봤어',\n",
        "        '오늘 동물원에서 코끼리를 봤어 봤어',\n",
        "        '동물원에서 원숭이에게 바나나를 줬어 바나나를']"
      ],
      "execution_count": 43,
      "outputs": []
    },
    {
      "cell_type": "code",
      "metadata": {
        "colab_type": "code",
        "id": "e2VedSd5rzPq",
        "colab": {
          "base_uri": "https://localhost:8080/",
          "height": 71
        },
        "outputId": "13ea5942-1e68-497f-fabb-c927c70924ae"
      },
      "source": [
        "import gensim\n",
        "from gensim import corpora\n",
        "\n",
        "doc_ls = [doc.split() for doc in docs]\n",
        "id2word = corpora.Dictionary(doc_ls)\n",
        "TDM = [id2word.doc2bow(doc) for doc in doc_ls]\n",
        "TDM"
      ],
      "execution_count": 44,
      "outputs": [
        {
          "output_type": "execute_result",
          "data": {
            "text/plain": [
              "[[(0, 1), (1, 1), (2, 1), (3, 1)],\n",
              " [(0, 1), (1, 2), (2, 1), (4, 1)],\n",
              " [(0, 1), (5, 2), (6, 1), (7, 1)]]"
            ]
          },
          "metadata": {
            "tags": []
          },
          "execution_count": 44
        }
      ]
    },
    {
      "cell_type": "code",
      "metadata": {
        "id": "1byNgZyw4Q1f",
        "colab_type": "code",
        "colab": {
          "base_uri": "https://localhost:8080/",
          "height": 328
        },
        "outputId": "5acc3641-85f6-4242-eb5d-d3c25c538209"
      },
      "source": [
        "import pandas as pd\n",
        "\n",
        "doc_names = ['문서'+str(i) for i in range(len(doc_ls))]\n",
        "vocab=[id2word[i] for i in id2word.keys()]\n",
        "DTM_matrix=[sparse2full(doc, len(vocab)).tolist() for doc in TDM]\n",
        "df_TDM = pd.DataFrame(np.array(DTM_matrix, dtype=int).T, columns=doc_names)\n",
        "df_TDM['단어'] = vocab\n",
        "df_TDM.set_index('단어')"
      ],
      "execution_count": 45,
      "outputs": [
        {
          "output_type": "execute_result",
          "data": {
            "text/html": [
              "<div>\n",
              "<style scoped>\n",
              "    .dataframe tbody tr th:only-of-type {\n",
              "        vertical-align: middle;\n",
              "    }\n",
              "\n",
              "    .dataframe tbody tr th {\n",
              "        vertical-align: top;\n",
              "    }\n",
              "\n",
              "    .dataframe thead th {\n",
              "        text-align: right;\n",
              "    }\n",
              "</style>\n",
              "<table border=\"1\" class=\"dataframe\">\n",
              "  <thead>\n",
              "    <tr style=\"text-align: right;\">\n",
              "      <th></th>\n",
              "      <th>문서0</th>\n",
              "      <th>문서1</th>\n",
              "      <th>문서2</th>\n",
              "    </tr>\n",
              "    <tr>\n",
              "      <th>단어</th>\n",
              "      <th></th>\n",
              "      <th></th>\n",
              "      <th></th>\n",
              "    </tr>\n",
              "  </thead>\n",
              "  <tbody>\n",
              "    <tr>\n",
              "      <th>동물원에서</th>\n",
              "      <td>1</td>\n",
              "      <td>1</td>\n",
              "      <td>1</td>\n",
              "    </tr>\n",
              "    <tr>\n",
              "      <th>봤어</th>\n",
              "      <td>1</td>\n",
              "      <td>2</td>\n",
              "      <td>0</td>\n",
              "    </tr>\n",
              "    <tr>\n",
              "      <th>오늘</th>\n",
              "      <td>1</td>\n",
              "      <td>1</td>\n",
              "      <td>0</td>\n",
              "    </tr>\n",
              "    <tr>\n",
              "      <th>원숭이를</th>\n",
              "      <td>1</td>\n",
              "      <td>0</td>\n",
              "      <td>0</td>\n",
              "    </tr>\n",
              "    <tr>\n",
              "      <th>코끼리를</th>\n",
              "      <td>0</td>\n",
              "      <td>1</td>\n",
              "      <td>0</td>\n",
              "    </tr>\n",
              "    <tr>\n",
              "      <th>바나나를</th>\n",
              "      <td>0</td>\n",
              "      <td>0</td>\n",
              "      <td>2</td>\n",
              "    </tr>\n",
              "    <tr>\n",
              "      <th>원숭이에게</th>\n",
              "      <td>0</td>\n",
              "      <td>0</td>\n",
              "      <td>1</td>\n",
              "    </tr>\n",
              "    <tr>\n",
              "      <th>줬어</th>\n",
              "      <td>0</td>\n",
              "      <td>0</td>\n",
              "      <td>1</td>\n",
              "    </tr>\n",
              "  </tbody>\n",
              "</table>\n",
              "</div>"
            ],
            "text/plain": [
              "       문서0  문서1  문서2\n",
              "단어                  \n",
              "동물원에서    1    1    1\n",
              "봤어       1    2    0\n",
              "오늘       1    1    0\n",
              "원숭이를     1    0    0\n",
              "코끼리를     0    1    0\n",
              "바나나를     0    0    2\n",
              "원숭이에게    0    0    1\n",
              "줬어       0    0    1"
            ]
          },
          "metadata": {
            "tags": []
          },
          "execution_count": 45
        }
      ]
    },
    {
      "cell_type": "code",
      "metadata": {
        "id": "r8ilGKzkNTsJ",
        "colab_type": "code",
        "colab": {
          "base_uri": "https://localhost:8080/",
          "height": 71
        },
        "outputId": "453c43b9-9248-44e3-e477-31f8506ab05b"
      },
      "source": [
        "DTM_matrix"
      ],
      "execution_count": 46,
      "outputs": [
        {
          "output_type": "execute_result",
          "data": {
            "text/plain": [
              "[[1.0, 1.0, 1.0, 1.0, 0.0, 0.0, 0.0, 0.0],\n",
              " [1.0, 2.0, 1.0, 0.0, 1.0, 0.0, 0.0, 0.0],\n",
              " [1.0, 0.0, 0.0, 0.0, 0.0, 2.0, 1.0, 1.0]]"
            ]
          },
          "metadata": {
            "tags": []
          },
          "execution_count": 46
        }
      ]
    },
    {
      "cell_type": "markdown",
      "metadata": {
        "id": "CegRF6DWrijc",
        "colab_type": "text"
      },
      "source": [
        "---"
      ]
    },
    {
      "cell_type": "markdown",
      "metadata": {
        "id": "TmnWDmSpBwBZ",
        "colab_type": "text"
      },
      "source": [
        "# 3 TF-IDF (Term Frequency-Inverse Document Frequency)"
      ]
    },
    {
      "cell_type": "markdown",
      "metadata": {
        "id": "NjKCX0atD4rM",
        "colab_type": "text"
      },
      "source": [
        "<img src=\"https://wikimedia.org/api/rest_v1/media/math/render/svg/10109d0e60cc9d50a1ea2f189bac0ac29a030a00\" />\n",
        "\n",
        "\n",
        "\n",
        "*  TF(단어 빈도, Term Frequency) : 단어가 문서 내에 등장하는 빈도\n",
        "*  IDF(역문서 빈도, Inverse Document Frequency) : 단어가 여러 문서에 공통적으로 등장하는 빈도\n",
        "*  한 문서 내에 자주 등장하고 다른 문서에 자주 등장하지 않는 단어를 주요 단어로 판별할 수 있음\n",
        "\n",
        "\n",
        "https://en.wikipedia.org/wiki/Tf%E2%80%93idf"
      ]
    },
    {
      "cell_type": "markdown",
      "metadata": {
        "id": "PQLa8GJWKYqU",
        "colab_type": "text"
      },
      "source": [
        "## 3.1 직접계산하기 1"
      ]
    },
    {
      "cell_type": "markdown",
      "metadata": {
        "id": "KEiBvluT9vIJ",
        "colab_type": "text"
      },
      "source": [
        "weighting schema|weight\n",
        "--|--\n",
        "tf (term frequency)|<img src=\"https://wikimedia.org/api/rest_v1/media/math/render/svg/91699003abf4fe8bdf861bbce08e73e71acf5fd4\" />\n",
        "idf(inverse document frequency) |<img src=\"https://wikimedia.org/api/rest_v1/media/math/render/svg/864fcfdc0c16344c11509f724f1aa7081cf9f657\" />"
      ]
    },
    {
      "cell_type": "code",
      "metadata": {
        "id": "WNKTLfkAHdJv",
        "colab_type": "code",
        "colab": {}
      },
      "source": [
        "docs = ['오늘 동물원에서 원숭이를 봤어',\n",
        "        '오늘 동물원에서 코끼리를 봤어 봤어',\n",
        "        '동물원에서 원숭이에게 바나나를 줬어 바나나를']"
      ],
      "execution_count": 47,
      "outputs": []
    },
    {
      "cell_type": "markdown",
      "metadata": {
        "colab_type": "text",
        "id": "OT-4A9F5Sojy"
      },
      "source": [
        "### 1) 띄어쓰기 단위로 토큰화"
      ]
    },
    {
      "cell_type": "code",
      "metadata": {
        "colab_type": "code",
        "id": "yDluwY5wSojz",
        "colab": {
          "base_uri": "https://localhost:8080/",
          "height": 71
        },
        "outputId": "244dfb73-9ec9-4367-e10d-884b85b4dd36"
      },
      "source": [
        "doc_ls = [doc.split() for doc in docs]\n",
        "doc_ls"
      ],
      "execution_count": 48,
      "outputs": [
        {
          "output_type": "execute_result",
          "data": {
            "text/plain": [
              "[['오늘', '동물원에서', '원숭이를', '봤어'],\n",
              " ['오늘', '동물원에서', '코끼리를', '봤어', '봤어'],\n",
              " ['동물원에서', '원숭이에게', '바나나를', '줬어', '바나나를']]"
            ]
          },
          "metadata": {
            "tags": []
          },
          "execution_count": 48
        }
      ]
    },
    {
      "cell_type": "markdown",
      "metadata": {
        "colab_type": "text",
        "id": "-_JD-LbsSoj3"
      },
      "source": [
        "### 2) 각 고유 토큰에 인덱스(Index)를 지정"
      ]
    },
    {
      "cell_type": "code",
      "metadata": {
        "colab_type": "code",
        "id": "_dwN33chSoj4",
        "colab": {
          "base_uri": "https://localhost:8080/",
          "height": 179
        },
        "outputId": "5f60651c-1274-4788-c223-9260575c25e3"
      },
      "source": [
        "from collections import defaultdict\n",
        "\n",
        "word2id = defaultdict(lambda : len(word2id))\n",
        "[word2id[token] for doc in doc_ls for token in doc]\n",
        "word2id        "
      ],
      "execution_count": 49,
      "outputs": [
        {
          "output_type": "execute_result",
          "data": {
            "text/plain": [
              "defaultdict(<function __main__.<lambda>>,\n",
              "            {'동물원에서': 1,\n",
              "             '바나나를': 6,\n",
              "             '봤어': 3,\n",
              "             '오늘': 0,\n",
              "             '원숭이를': 2,\n",
              "             '원숭이에게': 5,\n",
              "             '줬어': 7,\n",
              "             '코끼리를': 4})"
            ]
          },
          "metadata": {
            "tags": []
          },
          "execution_count": 49
        }
      ]
    },
    {
      "cell_type": "markdown",
      "metadata": {
        "colab_type": "text",
        "id": "B_GPg76gSoj5"
      },
      "source": [
        "### 3) DTM 생성"
      ]
    },
    {
      "cell_type": "code",
      "metadata": {
        "colab_type": "code",
        "id": "_ebeXfuGSoj5",
        "colab": {
          "base_uri": "https://localhost:8080/",
          "height": 71
        },
        "outputId": "4aa445ea-5ec5-4169-8820-47be4778c79f"
      },
      "source": [
        "import numpy as np \n",
        "\n",
        "DTM = np.zeros((len(doc_ls), len(word2id)), dtype=int)\n",
        "for i, doc in enumerate(doc_ls):\n",
        "  for token in doc:\n",
        "    DTM[i, word2id[token]] += 1\n",
        "\n",
        "DTM"
      ],
      "execution_count": 50,
      "outputs": [
        {
          "output_type": "execute_result",
          "data": {
            "text/plain": [
              "array([[1, 1, 1, 1, 0, 0, 0, 0],\n",
              "       [1, 1, 0, 2, 1, 0, 0, 0],\n",
              "       [0, 1, 0, 0, 0, 1, 2, 1]])"
            ]
          },
          "metadata": {
            "tags": []
          },
          "execution_count": 50
        }
      ]
    },
    {
      "cell_type": "markdown",
      "metadata": {
        "id": "1CwtCbPpKInm",
        "colab_type": "text"
      },
      "source": [
        "### 4) TF 계산"
      ]
    },
    {
      "cell_type": "markdown",
      "metadata": {
        "id": "IoIAj3Tl88da",
        "colab_type": "text"
      },
      "source": [
        "<img src=\"https://wikimedia.org/api/rest_v1/media/math/render/svg/91699003abf4fe8bdf861bbce08e73e71acf5fd4\" />\n",
        "\n",
        "TF = 문서내 토크빈도/ 문서내 전체토큰갯수"
      ]
    },
    {
      "cell_type": "code",
      "metadata": {
        "id": "aXLKyRuLHdKe",
        "colab_type": "code",
        "colab": {
          "base_uri": "https://localhost:8080/",
          "height": 71
        },
        "outputId": "c1d4f25b-f2be-46a5-c435-718e89698714"
      },
      "source": [
        "def computeTF(DTM):\n",
        "  doc_len = len(DTM)\n",
        "  word_len = len(DTM[0])\n",
        "\n",
        "  tf = np.zeros((doc_len, word_len))\n",
        "\n",
        "  for doc_i in range(doc_len):\n",
        "    for word_i in range(word_len):\n",
        "      tf[doc_i, word_i] = DTM[doc_i, word_i]/DTM[doc_i].sum()\n",
        "  \n",
        "  return tf\n",
        "\n",
        "tf = computeTF(DTM)\n",
        "tf"
      ],
      "execution_count": 51,
      "outputs": [
        {
          "output_type": "execute_result",
          "data": {
            "text/plain": [
              "array([[0.25, 0.25, 0.25, 0.25, 0.  , 0.  , 0.  , 0.  ],\n",
              "       [0.2 , 0.2 , 0.  , 0.4 , 0.2 , 0.  , 0.  , 0.  ],\n",
              "       [0.  , 0.2 , 0.  , 0.  , 0.  , 0.2 , 0.4 , 0.2 ]])"
            ]
          },
          "metadata": {
            "tags": []
          },
          "execution_count": 51
        }
      ]
    },
    {
      "cell_type": "markdown",
      "metadata": {
        "id": "cWtq-XvuKO5H",
        "colab_type": "text"
      },
      "source": [
        "### 5) IDF  계산"
      ]
    },
    {
      "cell_type": "markdown",
      "metadata": {
        "id": "Ve7FkpIi9UVf",
        "colab_type": "text"
      },
      "source": [
        "<img src=\"https://wikimedia.org/api/rest_v1/media/math/render/svg/864fcfdc0c16344c11509f724f1aa7081cf9f657\" />\n",
        "\n",
        "IDF = log(총문서수/토큰이등장한문서수)"
      ]
    },
    {
      "cell_type": "code",
      "metadata": {
        "id": "-4SS2ol1HdKz",
        "colab_type": "code",
        "colab": {
          "base_uri": "https://localhost:8080/",
          "height": 53
        },
        "outputId": "b8d39d42-2b49-44eb-912f-55948109afbf"
      },
      "source": [
        "import math\n",
        "\n",
        "def computeIDF(DTM):\n",
        "    doc_len = len(DTM)\n",
        "    word_len = len(DTM[0])\n",
        "\n",
        "    idf = np.zeros(word_len)\n",
        "    for i in range(word_len):\n",
        "      idf[i] = -math.log10(np.count_nonzero(DTM[:, i]) /doc_len)\n",
        "\n",
        "    return idf\n",
        "\n",
        "computeIDF(DTM)    "
      ],
      "execution_count": 52,
      "outputs": [
        {
          "output_type": "execute_result",
          "data": {
            "text/plain": [
              "array([ 0.17609126, -0.        ,  0.47712125,  0.17609126,  0.47712125,\n",
              "        0.47712125,  0.47712125,  0.47712125])"
            ]
          },
          "metadata": {
            "tags": []
          },
          "execution_count": 52
        }
      ]
    },
    {
      "cell_type": "markdown",
      "metadata": {
        "id": "hBvQxDBcKS60",
        "colab_type": "text"
      },
      "source": [
        "### 6) TF-IDF 계산"
      ]
    },
    {
      "cell_type": "code",
      "metadata": {
        "id": "cL4oRjrrHdLG",
        "colab_type": "code",
        "colab": {
          "base_uri": "https://localhost:8080/",
          "height": 125
        },
        "outputId": "2814e1bd-9b96-4cbd-c8ca-9eec88d0d25b"
      },
      "source": [
        "def computeTFIDF(DTM):\n",
        "  tf = computeTF(DTM)\n",
        "  idf = computeIDF(DTM)\n",
        "\n",
        "  tfidf = np.zeros(tf.shape)\n",
        "  for doc_i in range(tf.shape[0]):\n",
        "    for word_i in range(tf.shape[1]):\n",
        "      tfidf[doc_i, word_i] = tf[doc_i, word_i] * idf[word_i]\n",
        "  \n",
        "  return tfidf\n",
        "  \n",
        "computeTFIDF(DTM)"
      ],
      "execution_count": 53,
      "outputs": [
        {
          "output_type": "execute_result",
          "data": {
            "text/plain": [
              "array([[ 0.04402281, -0.        ,  0.11928031,  0.04402281,  0.        ,\n",
              "         0.        ,  0.        ,  0.        ],\n",
              "       [ 0.03521825, -0.        ,  0.        ,  0.0704365 ,  0.09542425,\n",
              "         0.        ,  0.        ,  0.        ],\n",
              "       [ 0.        , -0.        ,  0.        ,  0.        ,  0.        ,\n",
              "         0.09542425,  0.1908485 ,  0.09542425]])"
            ]
          },
          "metadata": {
            "tags": []
          },
          "execution_count": 53
        }
      ]
    },
    {
      "cell_type": "code",
      "metadata": {
        "id": "4Ncmyd8hHdLJ",
        "colab_type": "code",
        "colab": {
          "base_uri": "https://localhost:8080/",
          "height": 142
        },
        "outputId": "4f572f4d-eb94-4d67-b410-96f9951d0e31"
      },
      "source": [
        "import pandas as pd\n",
        "\n",
        "sorted_vocab = sorted((value, key) for key, value in word2id.items())\n",
        "vocab = [v[1] for v in sorted_vocab]\n",
        "tfidf= computeTFIDF(DTM)\n",
        "pd.DataFrame(tfidf, columns=vocab)"
      ],
      "execution_count": 54,
      "outputs": [
        {
          "output_type": "execute_result",
          "data": {
            "text/html": [
              "<div>\n",
              "<style scoped>\n",
              "    .dataframe tbody tr th:only-of-type {\n",
              "        vertical-align: middle;\n",
              "    }\n",
              "\n",
              "    .dataframe tbody tr th {\n",
              "        vertical-align: top;\n",
              "    }\n",
              "\n",
              "    .dataframe thead th {\n",
              "        text-align: right;\n",
              "    }\n",
              "</style>\n",
              "<table border=\"1\" class=\"dataframe\">\n",
              "  <thead>\n",
              "    <tr style=\"text-align: right;\">\n",
              "      <th></th>\n",
              "      <th>오늘</th>\n",
              "      <th>동물원에서</th>\n",
              "      <th>원숭이를</th>\n",
              "      <th>봤어</th>\n",
              "      <th>코끼리를</th>\n",
              "      <th>원숭이에게</th>\n",
              "      <th>바나나를</th>\n",
              "      <th>줬어</th>\n",
              "    </tr>\n",
              "  </thead>\n",
              "  <tbody>\n",
              "    <tr>\n",
              "      <th>0</th>\n",
              "      <td>0.044023</td>\n",
              "      <td>-0.0</td>\n",
              "      <td>0.11928</td>\n",
              "      <td>0.044023</td>\n",
              "      <td>0.000000</td>\n",
              "      <td>0.000000</td>\n",
              "      <td>0.000000</td>\n",
              "      <td>0.000000</td>\n",
              "    </tr>\n",
              "    <tr>\n",
              "      <th>1</th>\n",
              "      <td>0.035218</td>\n",
              "      <td>-0.0</td>\n",
              "      <td>0.00000</td>\n",
              "      <td>0.070437</td>\n",
              "      <td>0.095424</td>\n",
              "      <td>0.000000</td>\n",
              "      <td>0.000000</td>\n",
              "      <td>0.000000</td>\n",
              "    </tr>\n",
              "    <tr>\n",
              "      <th>2</th>\n",
              "      <td>0.000000</td>\n",
              "      <td>-0.0</td>\n",
              "      <td>0.00000</td>\n",
              "      <td>0.000000</td>\n",
              "      <td>0.000000</td>\n",
              "      <td>0.095424</td>\n",
              "      <td>0.190849</td>\n",
              "      <td>0.095424</td>\n",
              "    </tr>\n",
              "  </tbody>\n",
              "</table>\n",
              "</div>"
            ],
            "text/plain": [
              "         오늘  동물원에서     원숭이를        봤어      코끼리를     원숭이에게      바나나를        줬어\n",
              "0  0.044023   -0.0  0.11928  0.044023  0.000000  0.000000  0.000000  0.000000\n",
              "1  0.035218   -0.0  0.00000  0.070437  0.095424  0.000000  0.000000  0.000000\n",
              "2  0.000000   -0.0  0.00000  0.000000  0.000000  0.095424  0.190849  0.095424"
            ]
          },
          "metadata": {
            "tags": []
          },
          "execution_count": 54
        }
      ]
    },
    {
      "cell_type": "markdown",
      "metadata": {
        "id": "-cwnRnyH5Ox6",
        "colab_type": "text"
      },
      "source": [
        "## 3.2 직접계산하기2"
      ]
    },
    {
      "cell_type": "markdown",
      "metadata": {
        "id": "Y8lmTqCA9ZBs",
        "colab_type": "text"
      },
      "source": [
        "weighting schema|weight|설명\n",
        "--|--|--\n",
        "tf(double normalization 0.5)|<img src=\"https://wikimedia.org/api/rest_v1/media/math/render/svg/45badc1c70ec2caa00ed8c21ed75bd9f8d3e650c\" />|=0.5 + 0.5(토큰빈도/문서내최빈토큰)\n",
        "idf(inverse document frequency smooth)|<img src=\"https://wikimedia.org/api/rest_v1/media/math/render/svg/25f4d6690acaaef1f15f308d24f6f8a439de971d\" />|=log(문서갯수/(1+토큰빈도)) + 1"
      ]
    },
    {
      "cell_type": "code",
      "metadata": {
        "id": "ZpQ991GWHiJp",
        "colab_type": "code",
        "colab": {}
      },
      "source": [
        "docs = ['오늘 동물원에서 원숭이를 봤어',\n",
        "        '오늘 동물원에서 코끼리를 봤어 봤어',\n",
        "        '동물원에서 원숭이에게 바나나를 줬어 바나나를']"
      ],
      "execution_count": 55,
      "outputs": []
    },
    {
      "cell_type": "code",
      "metadata": {
        "id": "eO1kEEmceE1P",
        "colab_type": "code",
        "colab": {
          "base_uri": "https://localhost:8080/",
          "height": 161
        },
        "outputId": "50d23bf9-ac5e-404b-d2f1-a54c10c9b1a8"
      },
      "source": [
        "from math import log10\n",
        "import numpy as np\n",
        "from collections import defaultdict\n",
        "\n",
        "# document 내 토큰이 등장한 빈도수 계산\n",
        "def f(t, d):\n",
        "  return d.count(t)\n",
        "\n",
        "# tf 계산\n",
        "def tf(t, d):\n",
        "  return 0.5 + 0.5 * f(t, d) / max([f(w, d) for w in d])\n",
        "  #토큰 빈도\n",
        "\n",
        "# idf 계산\n",
        "def idf(t, D):\n",
        "  num = len(D)\n",
        "  den = 1 + len([True for d in D if t in d])\n",
        "  return 1 + log10(num/den)\n",
        "\n",
        "# tf-idf 계산\n",
        "def tfidf_score(t, d, D):\n",
        "  return tf(t, d) * idf(t, D)\n",
        "\n",
        "# 공백을 기준으로 토큰과\n",
        "def tokenizer(d):\n",
        "  return d.split()\n",
        "\n",
        "# tfidf 계산  \n",
        "def tfidfScorer(D):\n",
        "  D_ls = [tokenizer(d) for d in D]\n",
        "  vocab = list(set().union(*D_ls))\n",
        "  word2id = defaultdict(lambda : len(word2id))\n",
        "  [word2id[v]  for v in vocab]\n",
        "\n",
        "  print(word2id)\n",
        "\n",
        "  tfidf = np.zeros((len(D_ls), len(vocab)))\n",
        "  for i in range(len(D_ls)):\n",
        "    for t in D_ls[i]:\n",
        "      tfidf[i, word2id[t]] = tfidf_score(t, D_ls[i], D)\n",
        "  \n",
        "  return tfidf, vocab\n",
        " \n",
        "tfidfScorer(docs)"
      ],
      "execution_count": 56,
      "outputs": [
        {
          "output_type": "stream",
          "text": [
            "defaultdict(<function tfidfScorer.<locals>.<lambda> at 0x7f34c0efcbf8>, {'줬어': 0, '오늘': 1, '원숭이를': 2, '바나나를': 3, '코끼리를': 4, '봤어': 5, '동물원에서': 6, '원숭이에게': 7})\n"
          ],
          "name": "stdout"
        },
        {
          "output_type": "execute_result",
          "data": {
            "text/plain": [
              "(array([[0.        , 1.        , 1.17609126, 0.        , 0.        ,\n",
              "         1.        , 0.87506126, 0.        ],\n",
              "        [0.        , 0.75      , 0.        , 0.        , 0.88206844,\n",
              "         1.        , 0.65629595, 0.        ],\n",
              "        [0.88206844, 0.        , 0.        , 1.17609126, 0.        ,\n",
              "         0.        , 0.65629595, 0.88206844]]),\n",
              " ['줬어', '오늘', '원숭이를', '바나나를', '코끼리를', '봤어', '동물원에서', '원숭이에게'])"
            ]
          },
          "metadata": {
            "tags": []
          },
          "execution_count": 56
        }
      ]
    },
    {
      "cell_type": "code",
      "metadata": {
        "id": "OIc3lvhO-VJF",
        "colab_type": "code",
        "colab": {
          "base_uri": "https://localhost:8080/",
          "height": 71
        },
        "outputId": "dd76eb9a-f48a-4d90-c273-116ba8cadb69"
      },
      "source": [
        "print('a')\n",
        "print('a', 'b')\n",
        "\n",
        "def my_func(a, b, c, d):\n",
        "  print(a, b, c, d)\n",
        "my_list = ['nlp', 'image', 'voice', 'auto']\n",
        "my_func(*my_list)\n"
      ],
      "execution_count": 57,
      "outputs": [
        {
          "output_type": "stream",
          "text": [
            "a\n",
            "a b\n",
            "nlp image voice auto\n"
          ],
          "name": "stdout"
        }
      ]
    },
    {
      "cell_type": "code",
      "metadata": {
        "id": "dfAQm7ZgPYJa",
        "colab_type": "code",
        "colab": {
          "base_uri": "https://localhost:8080/",
          "height": 160
        },
        "outputId": "07303f81-ed8e-477f-d028-408af5b0b01f"
      },
      "source": [
        "import pandas as pd\n",
        "tfidf, vocab = tfidfScorer(docs)\n",
        "pd.DataFrame(tfidf, columns=vocab)"
      ],
      "execution_count": 58,
      "outputs": [
        {
          "output_type": "stream",
          "text": [
            "defaultdict(<function tfidfScorer.<locals>.<lambda> at 0x7f34c0ccbae8>, {'줬어': 0, '오늘': 1, '원숭이를': 2, '바나나를': 3, '코끼리를': 4, '봤어': 5, '동물원에서': 6, '원숭이에게': 7})\n"
          ],
          "name": "stdout"
        },
        {
          "output_type": "execute_result",
          "data": {
            "text/html": [
              "<div>\n",
              "<style scoped>\n",
              "    .dataframe tbody tr th:only-of-type {\n",
              "        vertical-align: middle;\n",
              "    }\n",
              "\n",
              "    .dataframe tbody tr th {\n",
              "        vertical-align: top;\n",
              "    }\n",
              "\n",
              "    .dataframe thead th {\n",
              "        text-align: right;\n",
              "    }\n",
              "</style>\n",
              "<table border=\"1\" class=\"dataframe\">\n",
              "  <thead>\n",
              "    <tr style=\"text-align: right;\">\n",
              "      <th></th>\n",
              "      <th>줬어</th>\n",
              "      <th>오늘</th>\n",
              "      <th>원숭이를</th>\n",
              "      <th>바나나를</th>\n",
              "      <th>코끼리를</th>\n",
              "      <th>봤어</th>\n",
              "      <th>동물원에서</th>\n",
              "      <th>원숭이에게</th>\n",
              "    </tr>\n",
              "  </thead>\n",
              "  <tbody>\n",
              "    <tr>\n",
              "      <th>0</th>\n",
              "      <td>0.000000</td>\n",
              "      <td>1.00</td>\n",
              "      <td>1.176091</td>\n",
              "      <td>0.000000</td>\n",
              "      <td>0.000000</td>\n",
              "      <td>1.0</td>\n",
              "      <td>0.875061</td>\n",
              "      <td>0.000000</td>\n",
              "    </tr>\n",
              "    <tr>\n",
              "      <th>1</th>\n",
              "      <td>0.000000</td>\n",
              "      <td>0.75</td>\n",
              "      <td>0.000000</td>\n",
              "      <td>0.000000</td>\n",
              "      <td>0.882068</td>\n",
              "      <td>1.0</td>\n",
              "      <td>0.656296</td>\n",
              "      <td>0.000000</td>\n",
              "    </tr>\n",
              "    <tr>\n",
              "      <th>2</th>\n",
              "      <td>0.882068</td>\n",
              "      <td>0.00</td>\n",
              "      <td>0.000000</td>\n",
              "      <td>1.176091</td>\n",
              "      <td>0.000000</td>\n",
              "      <td>0.0</td>\n",
              "      <td>0.656296</td>\n",
              "      <td>0.882068</td>\n",
              "    </tr>\n",
              "  </tbody>\n",
              "</table>\n",
              "</div>"
            ],
            "text/plain": [
              "         줬어    오늘      원숭이를      바나나를      코끼리를   봤어     동물원에서     원숭이에게\n",
              "0  0.000000  1.00  1.176091  0.000000  0.000000  1.0  0.875061  0.000000\n",
              "1  0.000000  0.75  0.000000  0.000000  0.882068  1.0  0.656296  0.000000\n",
              "2  0.882068  0.00  0.000000  1.176091  0.000000  0.0  0.656296  0.882068"
            ]
          },
          "metadata": {
            "tags": []
          },
          "execution_count": 58
        }
      ]
    },
    {
      "cell_type": "code",
      "metadata": {
        "id": "xj49zOKFWPrF",
        "colab_type": "code",
        "colab": {}
      },
      "source": [
        "docs = ['오늘 동물원에서 원숭이를 봤어',\n",
        "        '오늘 동물원에서 코끼리를 봤어 봤어',\n",
        "        '동물원에서 원숭이에게 바나나를 줬어 바나나를']"
      ],
      "execution_count": 59,
      "outputs": []
    },
    {
      "cell_type": "code",
      "metadata": {
        "id": "AKhkQZvWGAB-",
        "colab_type": "code",
        "colab": {
          "base_uri": "https://localhost:8080/",
          "height": 143
        },
        "outputId": "8b0796b2-f20d-491d-f93b-cd6e34fa63f1"
      },
      "source": [
        "from sklearn.feature_extraction.text import TfidfVectorizer\n",
        "\n",
        "tfidf_vect = TfidfVectorizer()\n",
        "tfidf = tfidf_vect.fit_transform(docs)\n",
        "print(tfidf_vect.get_feature_names())\n",
        "tfidf.todense()"
      ],
      "execution_count": 60,
      "outputs": [
        {
          "output_type": "stream",
          "text": [
            "['동물원에서', '바나나를', '봤어', '오늘', '원숭이를', '원숭이에게', '줬어', '코끼리를']\n"
          ],
          "name": "stdout"
        },
        {
          "output_type": "execute_result",
          "data": {
            "text/plain": [
              "matrix([[0.37311881, 0.        , 0.4804584 , 0.4804584 , 0.63174505,\n",
              "         0.        , 0.        , 0.        ],\n",
              "        [0.28680065, 0.        , 0.73861611, 0.36930805, 0.        ,\n",
              "         0.        , 0.        , 0.48559571],\n",
              "        [0.2344005 , 0.79374908, 0.        , 0.        , 0.        ,\n",
              "         0.39687454, 0.39687454, 0.        ]])"
            ]
          },
          "metadata": {
            "tags": []
          },
          "execution_count": 60
        }
      ]
    },
    {
      "cell_type": "code",
      "metadata": {
        "id": "oyh76NnVGdIi",
        "colab_type": "code",
        "colab": {
          "base_uri": "https://localhost:8080/",
          "height": 341
        },
        "outputId": "3cd39b95-baa7-4438-cef3-7499ed664a7d"
      },
      "source": [
        "from sklearn.feature_extraction.text import CountVectorizer\n",
        "from sklearn.feature_extraction.text import TfidfTransformer\n",
        "\n",
        "count_vect = CountVectorizer()\n",
        "BoW = count_vect.fit_transform(docs)\n",
        "tfidf_trans = TfidfTransformer()\n",
        "tfidf = tfidf_trans.fit_transform(BoW)\n",
        "print(tfidf)\n",
        "tfidf.todense()"
      ],
      "execution_count": 61,
      "outputs": [
        {
          "output_type": "stream",
          "text": [
            "  (0, 4)\t0.6317450542765208\n",
            "  (0, 3)\t0.4804583972923858\n",
            "  (0, 2)\t0.4804583972923858\n",
            "  (0, 0)\t0.3731188059313277\n",
            "  (1, 7)\t0.48559571020624154\n",
            "  (1, 3)\t0.3693080540613576\n",
            "  (1, 2)\t0.7386161081227152\n",
            "  (1, 0)\t0.2868006489817671\n",
            "  (2, 6)\t0.3968745408286403\n",
            "  (2, 5)\t0.3968745408286403\n",
            "  (2, 1)\t0.7937490816572806\n",
            "  (2, 0)\t0.23440049712476196\n"
          ],
          "name": "stdout"
        },
        {
          "output_type": "execute_result",
          "data": {
            "text/plain": [
              "matrix([[0.37311881, 0.        , 0.4804584 , 0.4804584 , 0.63174505,\n",
              "         0.        , 0.        , 0.        ],\n",
              "        [0.28680065, 0.        , 0.73861611, 0.36930805, 0.        ,\n",
              "         0.        , 0.        , 0.48559571],\n",
              "        [0.2344005 , 0.79374908, 0.        , 0.        , 0.        ,\n",
              "         0.39687454, 0.39687454, 0.        ]])"
            ]
          },
          "metadata": {
            "tags": []
          },
          "execution_count": 61
        }
      ]
    },
    {
      "cell_type": "code",
      "metadata": {
        "id": "8U1brSNYIfez",
        "colab_type": "code",
        "colab": {
          "base_uri": "https://localhost:8080/",
          "height": 35
        },
        "outputId": "8b7a0325-691a-491f-aac4-cfbd76e39fa0"
      },
      "source": [
        "count_vect.get_feature_names()"
      ],
      "execution_count": 62,
      "outputs": [
        {
          "output_type": "execute_result",
          "data": {
            "text/plain": [
              "['동물원에서', '바나나를', '봤어', '오늘', '원숭이를', '원숭이에게', '줬어', '코끼리를']"
            ]
          },
          "metadata": {
            "tags": []
          },
          "execution_count": 62
        }
      ]
    },
    {
      "cell_type": "code",
      "metadata": {
        "id": "nRMtr3-DIvfb",
        "colab_type": "code",
        "colab": {
          "base_uri": "https://localhost:8080/",
          "height": 142
        },
        "outputId": "3405cd66-281f-4785-fbf4-a9bf69e59eb3"
      },
      "source": [
        "import pandas as pd\n",
        "\n",
        "vocab = count_vect.get_feature_names()\n",
        "pd.DataFrame(tfidf.todense(), columns = vocab)"
      ],
      "execution_count": 63,
      "outputs": [
        {
          "output_type": "execute_result",
          "data": {
            "text/html": [
              "<div>\n",
              "<style scoped>\n",
              "    .dataframe tbody tr th:only-of-type {\n",
              "        vertical-align: middle;\n",
              "    }\n",
              "\n",
              "    .dataframe tbody tr th {\n",
              "        vertical-align: top;\n",
              "    }\n",
              "\n",
              "    .dataframe thead th {\n",
              "        text-align: right;\n",
              "    }\n",
              "</style>\n",
              "<table border=\"1\" class=\"dataframe\">\n",
              "  <thead>\n",
              "    <tr style=\"text-align: right;\">\n",
              "      <th></th>\n",
              "      <th>동물원에서</th>\n",
              "      <th>바나나를</th>\n",
              "      <th>봤어</th>\n",
              "      <th>오늘</th>\n",
              "      <th>원숭이를</th>\n",
              "      <th>원숭이에게</th>\n",
              "      <th>줬어</th>\n",
              "      <th>코끼리를</th>\n",
              "    </tr>\n",
              "  </thead>\n",
              "  <tbody>\n",
              "    <tr>\n",
              "      <th>0</th>\n",
              "      <td>0.373119</td>\n",
              "      <td>0.000000</td>\n",
              "      <td>0.480458</td>\n",
              "      <td>0.480458</td>\n",
              "      <td>0.631745</td>\n",
              "      <td>0.000000</td>\n",
              "      <td>0.000000</td>\n",
              "      <td>0.000000</td>\n",
              "    </tr>\n",
              "    <tr>\n",
              "      <th>1</th>\n",
              "      <td>0.286801</td>\n",
              "      <td>0.000000</td>\n",
              "      <td>0.738616</td>\n",
              "      <td>0.369308</td>\n",
              "      <td>0.000000</td>\n",
              "      <td>0.000000</td>\n",
              "      <td>0.000000</td>\n",
              "      <td>0.485596</td>\n",
              "    </tr>\n",
              "    <tr>\n",
              "      <th>2</th>\n",
              "      <td>0.234400</td>\n",
              "      <td>0.793749</td>\n",
              "      <td>0.000000</td>\n",
              "      <td>0.000000</td>\n",
              "      <td>0.000000</td>\n",
              "      <td>0.396875</td>\n",
              "      <td>0.396875</td>\n",
              "      <td>0.000000</td>\n",
              "    </tr>\n",
              "  </tbody>\n",
              "</table>\n",
              "</div>"
            ],
            "text/plain": [
              "      동물원에서      바나나를        봤어  ...     원숭이에게        줬어      코끼리를\n",
              "0  0.373119  0.000000  0.480458  ...  0.000000  0.000000  0.000000\n",
              "1  0.286801  0.000000  0.738616  ...  0.000000  0.000000  0.485596\n",
              "2  0.234400  0.793749  0.000000  ...  0.396875  0.396875  0.000000\n",
              "\n",
              "[3 rows x 8 columns]"
            ]
          },
          "metadata": {
            "tags": []
          },
          "execution_count": 63
        }
      ]
    },
    {
      "cell_type": "code",
      "metadata": {
        "id": "Uihx8xjlI_Hv",
        "colab_type": "code",
        "colab": {
          "base_uri": "https://localhost:8080/",
          "height": 35
        },
        "outputId": "65342f43-c909-4bf0-afe6-01881de4e82a"
      },
      "source": [
        "import gensim\n",
        "from gensim import corpora\n",
        "from gensim.models import TfidfModel\n",
        "\n",
        "doc_ls = [doc.split() for doc in docs]\n",
        "id2word = corpora.Dictionary(doc_ls)\n",
        "TDM = [id2word.doc2bow(doc) for doc in doc_ls]\n",
        "model = TfidfModel(TDM)\n",
        "tfidf = model[TDM]\n",
        "tfidf[0]"
      ],
      "execution_count": 64,
      "outputs": [
        {
          "output_type": "execute_result",
          "data": {
            "text/plain": [
              "[(1, 0.32718457421365993), (2, 0.32718457421365993), (3, 0.8865102981879297)]"
            ]
          },
          "metadata": {
            "tags": []
          },
          "execution_count": 64
        }
      ]
    },
    {
      "cell_type": "code",
      "metadata": {
        "id": "mVxiotehJ1yI",
        "colab_type": "code",
        "colab": {
          "base_uri": "https://localhost:8080/",
          "height": 142
        },
        "outputId": "a42444f2-bcbf-459d-9120-c432fe37b208"
      },
      "source": [
        "from gensim.matutils import sparse2full\n",
        "\n",
        "vocab = [id2word[i] for i in id2word.keys()]\n",
        "TDM_matrix = [ sparse2full(doc, len(vocab)) for doc in tfidf]\n",
        "\n",
        "pd.DataFrame(TDM_matrix, columns=vocab)"
      ],
      "execution_count": 65,
      "outputs": [
        {
          "output_type": "execute_result",
          "data": {
            "text/html": [
              "<div>\n",
              "<style scoped>\n",
              "    .dataframe tbody tr th:only-of-type {\n",
              "        vertical-align: middle;\n",
              "    }\n",
              "\n",
              "    .dataframe tbody tr th {\n",
              "        vertical-align: top;\n",
              "    }\n",
              "\n",
              "    .dataframe thead th {\n",
              "        text-align: right;\n",
              "    }\n",
              "</style>\n",
              "<table border=\"1\" class=\"dataframe\">\n",
              "  <thead>\n",
              "    <tr style=\"text-align: right;\">\n",
              "      <th></th>\n",
              "      <th>동물원에서</th>\n",
              "      <th>봤어</th>\n",
              "      <th>오늘</th>\n",
              "      <th>원숭이를</th>\n",
              "      <th>코끼리를</th>\n",
              "      <th>바나나를</th>\n",
              "      <th>원숭이에게</th>\n",
              "      <th>줬어</th>\n",
              "    </tr>\n",
              "  </thead>\n",
              "  <tbody>\n",
              "    <tr>\n",
              "      <th>0</th>\n",
              "      <td>0.0</td>\n",
              "      <td>0.327185</td>\n",
              "      <td>0.327185</td>\n",
              "      <td>0.88651</td>\n",
              "      <td>0.000000</td>\n",
              "      <td>0.000000</td>\n",
              "      <td>0.000000</td>\n",
              "      <td>0.000000</td>\n",
              "    </tr>\n",
              "    <tr>\n",
              "      <th>1</th>\n",
              "      <td>0.0</td>\n",
              "      <td>0.569307</td>\n",
              "      <td>0.284654</td>\n",
              "      <td>0.00000</td>\n",
              "      <td>0.771272</td>\n",
              "      <td>0.000000</td>\n",
              "      <td>0.000000</td>\n",
              "      <td>0.000000</td>\n",
              "    </tr>\n",
              "    <tr>\n",
              "      <th>2</th>\n",
              "      <td>0.0</td>\n",
              "      <td>0.000000</td>\n",
              "      <td>0.000000</td>\n",
              "      <td>0.00000</td>\n",
              "      <td>0.000000</td>\n",
              "      <td>0.816497</td>\n",
              "      <td>0.408248</td>\n",
              "      <td>0.408248</td>\n",
              "    </tr>\n",
              "  </tbody>\n",
              "</table>\n",
              "</div>"
            ],
            "text/plain": [
              "   동물원에서        봤어        오늘     원숭이를      코끼리를      바나나를     원숭이에게        줬어\n",
              "0    0.0  0.327185  0.327185  0.88651  0.000000  0.000000  0.000000  0.000000\n",
              "1    0.0  0.569307  0.284654  0.00000  0.771272  0.000000  0.000000  0.000000\n",
              "2    0.0  0.000000  0.000000  0.00000  0.000000  0.816497  0.408248  0.408248"
            ]
          },
          "metadata": {
            "tags": []
          },
          "execution_count": 65
        }
      ]
    },
    {
      "cell_type": "code",
      "metadata": {
        "id": "5MBti8SGKoyf",
        "colab_type": "code",
        "colab": {}
      },
      "source": [
        ""
      ],
      "execution_count": 65,
      "outputs": []
    }
  ]
}