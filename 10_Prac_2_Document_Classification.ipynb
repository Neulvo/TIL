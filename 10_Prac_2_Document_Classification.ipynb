{
  "nbformat": 4,
  "nbformat_minor": 0,
  "metadata": {
    "colab": {
      "name": "10 Prac 2. Document Classification",
      "provenance": [],
      "collapsed_sections": [],
      "include_colab_link": true
    },
    "kernelspec": {
      "name": "python3",
      "display_name": "Python 3"
    }
  },
  "cells": [
    {
      "cell_type": "markdown",
      "metadata": {
        "id": "view-in-github",
        "colab_type": "text"
      },
      "source": [
        "<a href=\"https://colab.research.google.com/github/Neulvo/TIL/blob/master/10_Prac_2_Document_Classification.ipynb\" target=\"_parent\"><img src=\"https://colab.research.google.com/assets/colab-badge.svg\" alt=\"Open In Colab\"/></a>"
      ]
    },
    {
      "cell_type": "markdown",
      "metadata": {
        "id": "ecOHtGBs7lDO",
        "colab_type": "text"
      },
      "source": [
        "#10장 문서 분류 (Document Classification)"
      ]
    },
    {
      "cell_type": "markdown",
      "metadata": {
        "id": "MSHRKud41Tr0",
        "colab_type": "text"
      },
      "source": [
        "#11-1 나이브 베이즈 분류(Naive Bayes Classifier)"
      ]
    },
    {
      "cell_type": "markdown",
      "metadata": {
        "id": "32FEohTU9qob",
        "colab_type": "text"
      },
      "source": [
        "##1.1 직접구현"
      ]
    },
    {
      "cell_type": "markdown",
      "metadata": {
        "id": "DwzbT2LkrCwH",
        "colab_type": "text"
      },
      "source": [
        "### Naive Bayes Classifier"
      ]
    },
    {
      "cell_type": "code",
      "metadata": {
        "id": "yvX-1FJ7qXOu",
        "colab_type": "code",
        "colab": {}
      },
      "source": [
        "training_set = [['me free lottery', 1],\n",
        " ['free get free you', 1],\n",
        " ['you free scholarship', 0],\n",
        " ['free to contact me', 0],\n",
        " ['you won award', 0],\n",
        " ['you ticket lottery', 1]]"
      ],
      "execution_count": 1,
      "outputs": []
    },
    {
      "cell_type": "markdown",
      "metadata": {
        "id": "c8irQ-xFsq39",
        "colab_type": "text"
      },
      "source": [
        "### 토큰 빈도수 및 문서별 토큰수 계산 (확률 계산을 위한 준비)"
      ]
    },
    {
      "cell_type": "markdown",
      "metadata": {
        "id": "6MLSe8V1sYsv",
        "colab_type": "text"
      },
      "source": [
        "![대체 텍스트](https://wikimedia.org/api/rest_v1/media/math/render/svg/98f086c560aa2f66650060277dda4f90e54e30c0)"
      ]
    },
    {
      "cell_type": "code",
      "metadata": {
        "id": "swm8vPBa7Rjz",
        "colab_type": "code",
        "colab": {
          "base_uri": "https://localhost:8080/",
          "height": 35
        },
        "outputId": "99dfd665-f254-4294-fadf-91877dc76bea"
      },
      "source": [
        "training_set[0]"
      ],
      "execution_count": 2,
      "outputs": [
        {
          "output_type": "execute_result",
          "data": {
            "text/plain": [
              "['me free lottery', 1]"
            ]
          },
          "metadata": {
            "tags": []
          },
          "execution_count": 2
        }
      ]
    },
    {
      "cell_type": "code",
      "metadata": {
        "id": "r4KjiGtqsbm_",
        "colab_type": "code",
        "colab": {
          "base_uri": "https://localhost:8080/",
          "height": 53
        },
        "outputId": "aba6943e-dff7-4bf5-c826-85a6c66eaabe"
      },
      "source": [
        "from collections import defaultdict\n",
        "\n",
        "# 범주에 속하는 토큰수 세기 1(스팸), 0(정상))\n",
        "doccnt0 = 0\n",
        "doccnt1 = 0\n",
        "\n",
        "# 토큰별로 문서내 빈도수 카운팅\n",
        "wordfreq = defaultdict(lambda : [0, 0])\n",
        "\n",
        "for doc, label in training_set:\n",
        "  words = doc.split()\n",
        "  for word in words:\n",
        "    wordfreq[word][label] += 1\n",
        "\n",
        "for key, (cnt0, cnt1) in wordfreq.items():\n",
        "  doccnt0 += cnt0\n",
        "  doccnt1 += cnt1\n",
        "\n",
        "print('doccnt0 : {}'.format(doccnt0))\n",
        "print('doccnt1 : {}'.format(doccnt1))"
      ],
      "execution_count": 5,
      "outputs": [
        {
          "output_type": "stream",
          "text": [
            "doccnt0 : 10\n",
            "doccnt1 : 10\n"
          ],
          "name": "stdout"
        }
      ]
    },
    {
      "cell_type": "code",
      "metadata": {
        "id": "DpySoJWVISKw",
        "colab_type": "code",
        "colab": {
          "base_uri": "https://localhost:8080/",
          "height": 35
        },
        "outputId": "355770b1-a80b-4006-9b7c-c1c2a1f5a674"
      },
      "source": [
        "doccnt0"
      ],
      "execution_count": 6,
      "outputs": [
        {
          "output_type": "execute_result",
          "data": {
            "text/plain": [
              "10"
            ]
          },
          "metadata": {
            "tags": []
          },
          "execution_count": 6
        }
      ]
    },
    {
      "cell_type": "code",
      "metadata": {
        "id": "EOaDmUrzI0IF",
        "colab_type": "code",
        "colab": {
          "base_uri": "https://localhost:8080/",
          "height": 35
        },
        "outputId": "3e7df6a3-eba7-4895-9430-313a53b59b46"
      },
      "source": [
        "doccnt1"
      ],
      "execution_count": 7,
      "outputs": [
        {
          "output_type": "execute_result",
          "data": {
            "text/plain": [
              "10"
            ]
          },
          "metadata": {
            "tags": []
          },
          "execution_count": 7
        }
      ]
    },
    {
      "cell_type": "markdown",
      "metadata": {
        "id": "uKs_HaKwskLP",
        "colab_type": "text"
      },
      "source": [
        "### Training : 토큰별 조건부 확률 계산 "
      ]
    },
    {
      "cell_type": "code",
      "metadata": {
        "id": "MgzJw6QadY5i",
        "colab_type": "code",
        "colab": {
          "base_uri": "https://localhost:8080/",
          "height": 233
        },
        "outputId": "35231de9-f5e1-4f3a-c921-de3e1f725d7a"
      },
      "source": [
        "k= 0.5\n",
        "\n",
        "wordprobs = defaultdict(lambda : [0,0])\n",
        "for key, (cnt0, cnt1) in wordfreq.items():\n",
        "  wordprobs[key][0] = (cnt0+k)/(2*k+doccnt0)\n",
        "  wordprobs[key][1] = (cnt1+k)/(2*k+doccnt1)\n",
        "wordprobs"
      ],
      "execution_count": 8,
      "outputs": [
        {
          "output_type": "execute_result",
          "data": {
            "text/plain": [
              "defaultdict(<function __main__.<lambda>>,\n",
              "            {'award': [0.13636363636363635, 0.045454545454545456],\n",
              "             'contact': [0.13636363636363635, 0.045454545454545456],\n",
              "             'free': [0.22727272727272727, 0.3181818181818182],\n",
              "             'get': [0.045454545454545456, 0.13636363636363635],\n",
              "             'lottery': [0.045454545454545456, 0.22727272727272727],\n",
              "             'me': [0.13636363636363635, 0.13636363636363635],\n",
              "             'scholarship': [0.13636363636363635, 0.045454545454545456],\n",
              "             'ticket': [0.045454545454545456, 0.13636363636363635],\n",
              "             'to': [0.13636363636363635, 0.045454545454545456],\n",
              "             'won': [0.13636363636363635, 0.045454545454545456],\n",
              "             'you': [0.22727272727272727, 0.22727272727272727]})"
            ]
          },
          "metadata": {
            "tags": []
          },
          "execution_count": 8
        }
      ]
    },
    {
      "cell_type": "markdown",
      "metadata": {
        "id": "_Viq9UFbs3Y2",
        "colab_type": "text"
      },
      "source": [
        "### Classify : 신규 텍스트가 주어졌을 때 확률 계산\n",
        "\n",
        ">\n",
        "\n"
      ]
    },
    {
      "cell_type": "code",
      "metadata": {
        "id": "c7ImXeegfDQD",
        "colab_type": "code",
        "colab": {
          "base_uri": "https://localhost:8080/",
          "height": 89
        },
        "outputId": "d815f661-f76e-4d78-80d8-442b0b814e3a"
      },
      "source": [
        "import math\n",
        "\n",
        "doc= 'free lottery '\n",
        "tokens = doc.split()\n",
        "\n",
        "log_prob1 = log_prob0 = 0.0\n",
        "\n",
        "for word, (prob0, prob1) in wordprobs.items():\n",
        "  if word in tokens:\n",
        "    log_prob0 += math.log(prob0)\n",
        "    log_prob1 += math.log(prob1)\n",
        "\n",
        "log_prob0 += math.log(doccnt0/(doccnt0 + doccnt1))\n",
        "log_prob1 += math.log(doccnt1/(doccnt0 + doccnt1))\n",
        "\n",
        "prob0 = math.exp(log_prob0)\n",
        "prob1 = math.exp(log_prob1)\n",
        "\n",
        "print(prob0)\n",
        "print(prob1)\n",
        "\n",
        "print('정상 확률 : {}'.format(prob0 /(prob0+prob1)*100))\n",
        "print('스팸 확률 : {}'.format(prob1/(prob0+prob1)*100))"
      ],
      "execution_count": 12,
      "outputs": [
        {
          "output_type": "stream",
          "text": [
            "0.00516528925619835\n",
            "0.03615702479338842\n",
            "정상 확률 : 12.500000000000009\n",
            "스팸 확률 : 87.49999999999999\n"
          ],
          "name": "stdout"
        }
      ]
    },
    {
      "cell_type": "code",
      "metadata": {
        "id": "Ws6-IFC9f4mJ",
        "colab_type": "code",
        "colab": {
          "base_uri": "https://localhost:8080/",
          "height": 505
        },
        "outputId": "0b7b3575-1b88-47c1-a32a-7149aa326699"
      },
      "source": [
        "from sklearn.datasets import fetch_20newsgroups\n",
        "twenty_train = fetch_20newsgroups(subset='train', shuffle=True)\n",
        "print(twenty_train.target_names)\n",
        "print(twenty_train.data[0])\n",
        "print(twenty_train.target[0])"
      ],
      "execution_count": 13,
      "outputs": [
        {
          "output_type": "stream",
          "text": [
            "Downloading 20news dataset. This may take a few minutes.\n",
            "Downloading dataset from https://ndownloader.figshare.com/files/5975967 (14 MB)\n"
          ],
          "name": "stderr"
        },
        {
          "output_type": "stream",
          "text": [
            "['alt.atheism', 'comp.graphics', 'comp.os.ms-windows.misc', 'comp.sys.ibm.pc.hardware', 'comp.sys.mac.hardware', 'comp.windows.x', 'misc.forsale', 'rec.autos', 'rec.motorcycles', 'rec.sport.baseball', 'rec.sport.hockey', 'sci.crypt', 'sci.electronics', 'sci.med', 'sci.space', 'soc.religion.christian', 'talk.politics.guns', 'talk.politics.mideast', 'talk.politics.misc', 'talk.religion.misc']\n",
            "From: lerxst@wam.umd.edu (where's my thing)\n",
            "Subject: WHAT car is this!?\n",
            "Nntp-Posting-Host: rac3.wam.umd.edu\n",
            "Organization: University of Maryland, College Park\n",
            "Lines: 15\n",
            "\n",
            " I was wondering if anyone out there could enlighten me on this car I saw\n",
            "the other day. It was a 2-door sports car, looked to be from the late 60s/\n",
            "early 70s. It was called a Bricklin. The doors were really small. In addition,\n",
            "the front bumper was separate from the rest of the body. This is \n",
            "all I know. If anyone can tellme a model name, engine specs, years\n",
            "of production, where this car is made, history, or whatever info you\n",
            "have on this funky looking car, please e-mail.\n",
            "\n",
            "Thanks,\n",
            "- IL\n",
            "   ---- brought to you by your neighborhood Lerxst ----\n",
            "\n",
            "\n",
            "\n",
            "\n",
            "\n",
            "7\n"
          ],
          "name": "stdout"
        }
      ]
    },
    {
      "cell_type": "code",
      "metadata": {
        "id": "jpWZO0dcgIvR",
        "colab_type": "code",
        "colab": {}
      },
      "source": [
        "from sklearn.pipeline import Pipeline \n",
        "from sklearn.naive_bayes import MultinomialNB\n",
        "from sklearn.feature_extraction.text import CountVectorizer\n",
        "from sklearn.feature_extraction.text import TfidfTransformer\n",
        "\n",
        "text_clf = Pipeline([('vect', CountVectorizer()),\n",
        "                     ('tfidf', TfidfTransformer()),\n",
        "                     ('clf', MultinomialNB())])\n",
        "text_clf = text_clf.fit(twenty_train.data, twenty_train.target)"
      ],
      "execution_count": 14,
      "outputs": []
    },
    {
      "cell_type": "code",
      "metadata": {
        "id": "10Nitvm0sXjs",
        "colab_type": "code",
        "colab": {}
      },
      "source": [
        "MultinomialNB?"
      ],
      "execution_count": 15,
      "outputs": []
    },
    {
      "cell_type": "code",
      "metadata": {
        "id": "iNqEq-EosaPx",
        "colab_type": "code",
        "colab": {
          "base_uri": "https://localhost:8080/",
          "height": 323
        },
        "outputId": "a828f525-50c7-4837-9f04-bc2efd16c1d5"
      },
      "source": [
        "text_clf"
      ],
      "execution_count": 16,
      "outputs": [
        {
          "output_type": "execute_result",
          "data": {
            "text/plain": [
              "Pipeline(memory=None,\n",
              "         steps=[('vect',\n",
              "                 CountVectorizer(analyzer='word', binary=False,\n",
              "                                 decode_error='strict',\n",
              "                                 dtype=<class 'numpy.int64'>, encoding='utf-8',\n",
              "                                 input='content', lowercase=True, max_df=1.0,\n",
              "                                 max_features=None, min_df=1,\n",
              "                                 ngram_range=(1, 1), preprocessor=None,\n",
              "                                 stop_words=None, strip_accents=None,\n",
              "                                 token_pattern='(?u)\\\\b\\\\w\\\\w+\\\\b',\n",
              "                                 tokenizer=None, vocabulary=None)),\n",
              "                ('tfidf',\n",
              "                 TfidfTransformer(norm='l2', smooth_idf=True,\n",
              "                                  sublinear_tf=False, use_idf=True)),\n",
              "                ('clf',\n",
              "                 MultinomialNB(alpha=1.0, class_prior=None, fit_prior=True))],\n",
              "         verbose=False)"
            ]
          },
          "metadata": {
            "tags": []
          },
          "execution_count": 16
        }
      ]
    },
    {
      "cell_type": "code",
      "metadata": {
        "id": "BINO6tVWgia0",
        "colab_type": "code",
        "colab": {
          "base_uri": "https://localhost:8080/",
          "height": 35
        },
        "outputId": "c7bb91ac-4493-472e-f912-3123604a504b"
      },
      "source": [
        "import numpy as np\n",
        "twenty_test = fetch_20newsgroups(subset='test', shuffle=True) \n",
        "predicted = text_clf.predict(twenty_test.data)\n",
        "np.mean(predicted==twenty_test.target)"
      ],
      "execution_count": 17,
      "outputs": [
        {
          "output_type": "execute_result",
          "data": {
            "text/plain": [
              "0.7738980350504514"
            ]
          },
          "metadata": {
            "tags": []
          },
          "execution_count": 17
        }
      ]
    },
    {
      "cell_type": "code",
      "metadata": {
        "id": "jWDY3qW0gwBo",
        "colab_type": "code",
        "colab": {
          "base_uri": "https://localhost:8080/",
          "height": 883
        },
        "outputId": "ae3cfbb8-3774-43be-de5b-9914b7cd3185"
      },
      "source": [
        "from sklearn.model_selection import GridSearchCV \n",
        "parameters_clf = {'vect__ngram_range': [(1,1), (1,2)],\n",
        "                  'tfidf__use_idf': (True, False),\n",
        "                  'clf__alpha' : (1, 0.1, 0.01, 0.001, 0.0001)\n",
        "                  }\n",
        "gs_clf = GridSearchCV(text_clf, parameters_clf, cv=2, n_jobs=-1, verbose=2)\n",
        "gs_clf = gs_clf.fit(twenty_train.data, twenty_train.target)\n",
        "print('Best Score : {}'.format(gs_clf.best_score_))\n",
        "best_parameters = gs_clf.best_estimator_.get_params()\n",
        "for param_name in sorted(list(best_parameters.keys())):\n",
        "  print(\"\\t{} : {}\".format(param_name, best_parameters[param_name]))                "
      ],
      "execution_count": 19,
      "outputs": [
        {
          "output_type": "stream",
          "text": [
            "Fitting 2 folds for each of 20 candidates, totalling 40 fits\n"
          ],
          "name": "stdout"
        },
        {
          "output_type": "stream",
          "text": [
            "[Parallel(n_jobs=-1)]: Using backend LokyBackend with 2 concurrent workers.\n",
            "/usr/local/lib/python3.6/dist-packages/joblib/externals/loky/process_executor.py:691: UserWarning: A worker stopped while some jobs were given to the executor. This can be caused by a too short worker timeout or by a memory leak.\n",
            "  \"timeout or by a memory leak.\", UserWarning\n",
            "[Parallel(n_jobs=-1)]: Done  37 tasks      | elapsed:  3.4min\n",
            "[Parallel(n_jobs=-1)]: Done  40 out of  40 | elapsed:  3.7min finished\n"
          ],
          "name": "stderr"
        },
        {
          "output_type": "stream",
          "text": [
            "Best Score : 0.893759943432915\n",
            "\tclf : MultinomialNB(alpha=0.01, class_prior=None, fit_prior=True)\n",
            "\tclf__alpha : 0.01\n",
            "\tclf__class_prior : None\n",
            "\tclf__fit_prior : True\n",
            "\tmemory : None\n",
            "\tsteps : [('vect', CountVectorizer(analyzer='word', binary=False, decode_error='strict',\n",
            "                dtype=<class 'numpy.int64'>, encoding='utf-8', input='content',\n",
            "                lowercase=True, max_df=1.0, max_features=None, min_df=1,\n",
            "                ngram_range=(1, 1), preprocessor=None, stop_words=None,\n",
            "                strip_accents=None, token_pattern='(?u)\\\\b\\\\w\\\\w+\\\\b',\n",
            "                tokenizer=None, vocabulary=None)), ('tfidf', TfidfTransformer(norm='l2', smooth_idf=True, sublinear_tf=False, use_idf=True)), ('clf', MultinomialNB(alpha=0.01, class_prior=None, fit_prior=True))]\n",
            "\ttfidf : TfidfTransformer(norm='l2', smooth_idf=True, sublinear_tf=False, use_idf=True)\n",
            "\ttfidf__norm : l2\n",
            "\ttfidf__smooth_idf : True\n",
            "\ttfidf__sublinear_tf : False\n",
            "\ttfidf__use_idf : True\n",
            "\tvect : CountVectorizer(analyzer='word', binary=False, decode_error='strict',\n",
            "                dtype=<class 'numpy.int64'>, encoding='utf-8', input='content',\n",
            "                lowercase=True, max_df=1.0, max_features=None, min_df=1,\n",
            "                ngram_range=(1, 1), preprocessor=None, stop_words=None,\n",
            "                strip_accents=None, token_pattern='(?u)\\\\b\\\\w\\\\w+\\\\b',\n",
            "                tokenizer=None, vocabulary=None)\n",
            "\tvect__analyzer : word\n",
            "\tvect__binary : False\n",
            "\tvect__decode_error : strict\n",
            "\tvect__dtype : <class 'numpy.int64'>\n",
            "\tvect__encoding : utf-8\n",
            "\tvect__input : content\n",
            "\tvect__lowercase : True\n",
            "\tvect__max_df : 1.0\n",
            "\tvect__max_features : None\n",
            "\tvect__min_df : 1\n",
            "\tvect__ngram_range : (1, 1)\n",
            "\tvect__preprocessor : None\n",
            "\tvect__stop_words : None\n",
            "\tvect__strip_accents : None\n",
            "\tvect__token_pattern : (?u)\\b\\w\\w+\\b\n",
            "\tvect__tokenizer : None\n",
            "\tvect__vocabulary : None\n",
            "\tverbose : False\n"
          ],
          "name": "stdout"
        }
      ]
    },
    {
      "cell_type": "code",
      "metadata": {
        "id": "H_3El3FmlKnD",
        "colab_type": "code",
        "colab": {
          "base_uri": "https://localhost:8080/",
          "height": 35
        },
        "outputId": "df57cbac-6ada-4f56-ce4b-0bcc3abb9c4f"
      },
      "source": [
        "predicted = gs_clf.best_estimator_.predict(twenty_test.data)\n",
        "np.mean(predicted== twenty_test.target)"
      ],
      "execution_count": 20,
      "outputs": [
        {
          "output_type": "execute_result",
          "data": {
            "text/plain": [
              "0.8352363250132767"
            ]
          },
          "metadata": {
            "tags": []
          },
          "execution_count": 20
        }
      ]
    },
    {
      "cell_type": "markdown",
      "metadata": {
        "id": "KtvnAqwPmH3G",
        "colab_type": "text"
      },
      "source": [
        "1.3 sklearn 활용 (한글 뉴스 분류)"
      ]
    },
    {
      "cell_type": "code",
      "metadata": {
        "id": "XU6PXjNsyINu",
        "colab_type": "code",
        "colab": {
          "base_uri": "https://localhost:8080/",
          "height": 305
        },
        "outputId": "c8d104e8-fc42-486b-b79d-6c4273a1748e"
      },
      "source": [
        "!wget https://github.com/kyungsoo-fininsight/mulcam_b/raw/master/data/2019news_1000.csv"
      ],
      "execution_count": 21,
      "outputs": [
        {
          "output_type": "stream",
          "text": [
            "--2020-08-02 23:47:40--  https://github.com/kyungsoo-fininsight/mulcam_b/raw/master/data/2019news_1000.csv\n",
            "Resolving github.com (github.com)... 140.82.113.4\n",
            "Connecting to github.com (github.com)|140.82.113.4|:443... connected.\n",
            "HTTP request sent, awaiting response... 302 Found\n",
            "Location: https://raw.githubusercontent.com/kyungsoo-fininsight/mulcam_b/master/data/2019news_1000.csv [following]\n",
            "--2020-08-02 23:47:41--  https://raw.githubusercontent.com/kyungsoo-fininsight/mulcam_b/master/data/2019news_1000.csv\n",
            "Resolving raw.githubusercontent.com (raw.githubusercontent.com)... 151.101.0.133, 151.101.64.133, 151.101.128.133, ...\n",
            "Connecting to raw.githubusercontent.com (raw.githubusercontent.com)|151.101.0.133|:443... connected.\n",
            "HTTP request sent, awaiting response... 200 OK\n",
            "Length: 11125708 (11M) [text/plain]\n",
            "Saving to: ‘2019news_1000.csv’\n",
            "\n",
            "2019news_1000.csv   100%[===================>]  10.61M  20.1MB/s    in 0.5s    \n",
            "\n",
            "2020-08-02 23:47:43 (20.1 MB/s) - ‘2019news_1000.csv’ saved [11125708/11125708]\n",
            "\n"
          ],
          "name": "stdout"
        }
      ]
    },
    {
      "cell_type": "code",
      "metadata": {
        "id": "Q7TO3wURmyY7",
        "colab_type": "code",
        "colab": {
          "base_uri": "https://localhost:8080/",
          "height": 53
        },
        "outputId": "c89edfad-c446-4024-97e5-ddff06092c52"
      },
      "source": [
        "%%time\n",
        "import pandas as pd\n",
        "df = pd.read_csv(\"./2019news_1000.csv\")"
      ],
      "execution_count": 22,
      "outputs": [
        {
          "output_type": "stream",
          "text": [
            "CPU times: user 148 ms, sys: 14 ms, total: 162 ms\n",
            "Wall time: 163 ms\n"
          ],
          "name": "stdout"
        }
      ]
    },
    {
      "cell_type": "code",
      "metadata": {
        "id": "wGheSftFoRKo",
        "colab_type": "code",
        "colab": {
          "base_uri": "https://localhost:8080/",
          "height": 835
        },
        "outputId": "3b560193-6948-4621-ea59-c3d0c25d0143"
      },
      "source": [
        "df.head(10)"
      ],
      "execution_count": 23,
      "outputs": [
        {
          "output_type": "execute_result",
          "data": {
            "text/html": [
              "<div>\n",
              "<style scoped>\n",
              "    .dataframe tbody tr th:only-of-type {\n",
              "        vertical-align: middle;\n",
              "    }\n",
              "\n",
              "    .dataframe tbody tr th {\n",
              "        vertical-align: top;\n",
              "    }\n",
              "\n",
              "    .dataframe thead th {\n",
              "        text-align: right;\n",
              "    }\n",
              "</style>\n",
              "<table border=\"1\" class=\"dataframe\">\n",
              "  <thead>\n",
              "    <tr style=\"text-align: right;\">\n",
              "      <th></th>\n",
              "      <th>url</th>\n",
              "      <th>category1</th>\n",
              "      <th>category2</th>\n",
              "      <th>date</th>\n",
              "      <th>title</th>\n",
              "      <th>media</th>\n",
              "      <th>content</th>\n",
              "    </tr>\n",
              "  </thead>\n",
              "  <tbody>\n",
              "    <tr>\n",
              "      <th>0</th>\n",
              "      <td>https://news.naver.com/main/read.nhn?mode=LS2D...</td>\n",
              "      <td>IT/과학</td>\n",
              "      <td>모바일</td>\n",
              "      <td>2019-05-02</td>\n",
              "      <td>인권단체 중국, 신장위구르 소수민족 감시용 모바일앱 가동</td>\n",
              "      <td>연합뉴스</td>\n",
              "      <td>HRW \"개인 정보 수집·보고서 작성·조사 활동에 앱 활용\" \"36가지 감시유형…뒷...</td>\n",
              "    </tr>\n",
              "    <tr>\n",
              "      <th>1</th>\n",
              "      <td>https://news.naver.com/main/read.nhn?mode=LS2D...</td>\n",
              "      <td>IT/과학</td>\n",
              "      <td>모바일</td>\n",
              "      <td>2019-05-09</td>\n",
              "      <td>카카오, 1분기 매출 7000억 넘어서…8분기째 최고치 경신(종합)</td>\n",
              "      <td>뉴시스</td>\n",
              "      <td>영업익 166.0%↑·순이익 19.</td>\n",
              "    </tr>\n",
              "    <tr>\n",
              "      <th>2</th>\n",
              "      <td>https://news.naver.com/main/read.nhn?mode=LS2D...</td>\n",
              "      <td>IT/과학</td>\n",
              "      <td>과학 일반</td>\n",
              "      <td>2019-12-11</td>\n",
              "      <td>테라젠이텍스, '유전체 정보 관리 시스템' 특허 취득</td>\n",
              "      <td>연합뉴스</td>\n",
              "      <td>(서울=연합뉴스) 김잔디 기자 = 테라젠이텍스는 유전체 분석 정보 관리 시스템에 관...</td>\n",
              "    </tr>\n",
              "    <tr>\n",
              "      <th>3</th>\n",
              "      <td>https://news.naver.com/main/read.nhn?mode=LS2D...</td>\n",
              "      <td>IT/과학</td>\n",
              "      <td>컴퓨터</td>\n",
              "      <td>2019-10-14</td>\n",
              "      <td>두나무-삼성증권-딥서치, 비상장 주식 통합 거래 지원 플랫폼 출범</td>\n",
              "      <td>디지털데일리</td>\n",
              "      <td>'증권플러스 비상장' 서비스를 설명중인 두나무 이성현 핀테크사업실장 [디지털데일리 ...</td>\n",
              "    </tr>\n",
              "    <tr>\n",
              "      <th>4</th>\n",
              "      <td>https://news.naver.com/main/read.nhn?mode=LS2D...</td>\n",
              "      <td>IT/과학</td>\n",
              "      <td>통신/뉴미디어</td>\n",
              "      <td>2019-10-24</td>\n",
              "      <td>과기정통부, 태풍 미탁 피해, 특별재난지역 전파사용료 6개월간 전액감면</td>\n",
              "      <td>전자신문</td>\n",
              "      <td>과기정통부 로고 과학기술정보통신부는 18호 태풍 '미탁'으로 인해 특별재난지역으로 ...</td>\n",
              "    </tr>\n",
              "    <tr>\n",
              "      <th>5</th>\n",
              "      <td>https://news.naver.com/main/read.nhn?mode=LS2D...</td>\n",
              "      <td>IT/과학</td>\n",
              "      <td>게임/리뷰</td>\n",
              "      <td>2019-04-09</td>\n",
              "      <td>모바일로 재현된 ‘더 킹 오브 파이터즈’...'KOF 올스타', 한국 사전등록 실시</td>\n",
              "      <td>OSEN</td>\n",
              "      <td>[OSEN=고용준 기자] 강렬한 액션과 호쾌한 타격감으로 세계적인 인기를 끌었던 '...</td>\n",
              "    </tr>\n",
              "    <tr>\n",
              "      <th>6</th>\n",
              "      <td>https://news.naver.com/main/read.nhn?mode=LS2D...</td>\n",
              "      <td>IT/과학</td>\n",
              "      <td>통신/뉴미디어</td>\n",
              "      <td>2019-10-24</td>\n",
              "      <td>양자암호통신 상용화 위해 ETRI-통신 3사 표준화 착수</td>\n",
              "      <td>파이낸셜뉴스</td>\n",
              "      <td>ETRI 네트워크연구본부에서 전송시스템기술 개발을 수행하고 있는 모습. ETRI 제...</td>\n",
              "    </tr>\n",
              "    <tr>\n",
              "      <th>7</th>\n",
              "      <td>https://news.naver.com/main/read.nhn?mode=LS2D...</td>\n",
              "      <td>IT/과학</td>\n",
              "      <td>인터넷/SNS</td>\n",
              "      <td>2019-10-12</td>\n",
              "      <td>용인시, 대학?연구기관 첨단장비 대여제 중기서 큰 호응</td>\n",
              "      <td>전자신문</td>\n",
              "      <td>용인시청 전경. 용인시는 대학이나 연구기관이 보유한 고가 첨단장비를 저렴한 비용으로...</td>\n",
              "    </tr>\n",
              "    <tr>\n",
              "      <th>8</th>\n",
              "      <td>https://news.naver.com/main/read.nhn?mode=LS2D...</td>\n",
              "      <td>IT/과학</td>\n",
              "      <td>인터넷/SNS</td>\n",
              "      <td>2019-08-07</td>\n",
              "      <td>전문연구요원제, 정부 생각은?.국방부 “양측 고려 시기 규모 결정”</td>\n",
              "      <td>이데일리</td>\n",
              "      <td>국방부 절충과 균형안 제시..철회는 아냐 중기부, 산업부, 과기부는 상대적으로 산업...</td>\n",
              "    </tr>\n",
              "    <tr>\n",
              "      <th>9</th>\n",
              "      <td>https://news.naver.com/main/read.nhn?mode=LS2D...</td>\n",
              "      <td>IT/과학</td>\n",
              "      <td>인터넷/SNS</td>\n",
              "      <td>2019-04-19</td>\n",
              "      <td>에픽게임즈스토어, SF 액션 RPG ‘트랜지스터’ 무료 배포</td>\n",
              "      <td>매일경제</td>\n",
              "      <td>에픽게임즈코리아(대표 박성철)는 에픽게임즈스토어를 통해 SF 액션 RPG ‘트랜지스...</td>\n",
              "    </tr>\n",
              "  </tbody>\n",
              "</table>\n",
              "</div>"
            ],
            "text/plain": [
              "                                                 url  ...                                            content\n",
              "0  https://news.naver.com/main/read.nhn?mode=LS2D...  ...  HRW \"개인 정보 수집·보고서 작성·조사 활동에 앱 활용\" \"36가지 감시유형…뒷...\n",
              "1  https://news.naver.com/main/read.nhn?mode=LS2D...  ...                                영업익 166.0%↑·순이익 19.\n",
              "2  https://news.naver.com/main/read.nhn?mode=LS2D...  ...  (서울=연합뉴스) 김잔디 기자 = 테라젠이텍스는 유전체 분석 정보 관리 시스템에 관...\n",
              "3  https://news.naver.com/main/read.nhn?mode=LS2D...  ...  '증권플러스 비상장' 서비스를 설명중인 두나무 이성현 핀테크사업실장 [디지털데일리 ...\n",
              "4  https://news.naver.com/main/read.nhn?mode=LS2D...  ...  과기정통부 로고 과학기술정보통신부는 18호 태풍 '미탁'으로 인해 특별재난지역으로 ...\n",
              "5  https://news.naver.com/main/read.nhn?mode=LS2D...  ...  [OSEN=고용준 기자] 강렬한 액션과 호쾌한 타격감으로 세계적인 인기를 끌었던 '...\n",
              "6  https://news.naver.com/main/read.nhn?mode=LS2D...  ...  ETRI 네트워크연구본부에서 전송시스템기술 개발을 수행하고 있는 모습. ETRI 제...\n",
              "7  https://news.naver.com/main/read.nhn?mode=LS2D...  ...  용인시청 전경. 용인시는 대학이나 연구기관이 보유한 고가 첨단장비를 저렴한 비용으로...\n",
              "8  https://news.naver.com/main/read.nhn?mode=LS2D...  ...  국방부 절충과 균형안 제시..철회는 아냐 중기부, 산업부, 과기부는 상대적으로 산업...\n",
              "9  https://news.naver.com/main/read.nhn?mode=LS2D...  ...  에픽게임즈코리아(대표 박성철)는 에픽게임즈스토어를 통해 SF 액션 RPG ‘트랜지스...\n",
              "\n",
              "[10 rows x 7 columns]"
            ]
          },
          "metadata": {
            "tags": []
          },
          "execution_count": 23
        }
      ]
    },
    {
      "cell_type": "code",
      "metadata": {
        "id": "y2gm8-ByleDH",
        "colab_type": "code",
        "colab": {
          "base_uri": "https://localhost:8080/",
          "height": 449
        },
        "outputId": "498c2d25-375e-4c2d-c87d-ad17d5296f2c"
      },
      "source": [
        "from sklearn.pipeline import Pipeline\n",
        "from sklearn.model_selection import train_test_split \n",
        "from sklearn.feature_extraction.text import CountVectorizer\n",
        "from sklearn.feature_extraction.text import TfidfTransformer \n",
        "from sklearn.naive_bayes import MultinomialNB\n",
        "\n",
        "X_train, X_test, y_train, y_test = train_test_split(df['content'], df['category1'],random_state=0)\n",
        "print(X_train)\n",
        "print(y_train)\n",
        "text_clf = Pipeline([('vect', CountVectorizer(ngram_range=(1,2))),\n",
        "                     ('tfidf', TfidfTransformer()),\n",
        "                     ('clf',MultinomialNB(alpha=0.5))])\n",
        "text_clf = text_clf.fit(X_train, y_train)"
      ],
      "execution_count": 25,
      "outputs": [
        {
          "output_type": "stream",
          "text": [
            "4154    봉산문화회관에서 10월 15일부터 20일까지 홍창진 개인전 '오직, 회화 - 우리도...\n",
            "4820    에이유커머스가 전개하는 슈즈 브랜드 락피쉬가 일러스트 작가 울랄라 1537과 함께 ...\n",
            "1202    【서울=뉴시스】로버트 에이브럼스(오른쪽 네번째) 한미 연합사령관 겸 주한미군 사령관...\n",
            "3759    한샘 라이너스 중문 / 사진제공=한샘 [서울경제] 한샘은 이달 말까지 ‘원데이 리모...\n",
            "622     홍보 모델들이 순천향대학교 서울병원 병실에 구축된 에어맵 플랫폼을 소개하고 있다. ...\n",
            "                              ...                        \n",
            "4931    출처: 제너시스BBQ BBQ '뱀파이어 치킨'이 출시돼 화제를 모으고 있다. 1일 ...\n",
            "3264    제20회 서울국제금융포럼이 파이낸셜뉴스와 오크트리 주최로 서울 소공로 웨스틴 조선호...\n",
            "1653    3차 美北정상회담 가능성 재확인은 소기의 성과 미국산 구미 구매·방위비 분담금 인상...\n",
            "2607    전남지역 조선업체[전남도 제공] (무안=연합뉴스) 여운창 기자 = 전남지역 특성화고...\n",
            "2732    연말연시 모금 2년 연속 목표 밑돌 듯 경남모금회, 희망 2019 나눔 캠페인 발대...\n",
            "Name: content, Length: 3750, dtype: object\n",
            "4154    생활/문화\n",
            "4820    생활/문화\n",
            "1202       정치\n",
            "3759       경제\n",
            "622     IT/과학\n",
            "        ...  \n",
            "4931    생활/문화\n",
            "3264       경제\n",
            "1653       정치\n",
            "2607       사회\n",
            "2732       사회\n",
            "Name: category1, Length: 3750, dtype: object\n"
          ],
          "name": "stdout"
        }
      ]
    },
    {
      "cell_type": "code",
      "metadata": {
        "id": "--nnGh-dpMz-",
        "colab_type": "code",
        "colab": {
          "base_uri": "https://localhost:8080/",
          "height": 35
        },
        "outputId": "d4fa7281-d8f5-40c9-bd3d-0dcce0d4b9d8"
      },
      "source": [
        "import numpy as np\n",
        "predicted = text_clf.predict(X_test)\n",
        "np.mean(predicted ==  y_test)"
      ],
      "execution_count": 26,
      "outputs": [
        {
          "output_type": "execute_result",
          "data": {
            "text/plain": [
              "0.6832"
            ]
          },
          "metadata": {
            "tags": []
          },
          "execution_count": 26
        }
      ]
    },
    {
      "cell_type": "code",
      "metadata": {
        "id": "s4A_PwljmFI_",
        "colab_type": "code",
        "colab": {}
      },
      "source": [
        "from sklearn.model_selection import GridSearchCV \n",
        "parameters_clf = {'vect__ngram_range':[(1,1), (1,2), (1,3), (1,4)],\n",
        "                  'tfidf__use_idf':(True, False),\n",
        "                  'clf__alpha': (1, 0.1, 0.01, 0.001, 0.0001, 0.00001)}\n",
        "gs_clf = GridSearchCV(text_clf, parameters_clf, n_jobs=-1)\n",
        "gs_clf = gs_clf.fit(X_train, y_train)"
      ],
      "execution_count": null,
      "outputs": []
    },
    {
      "cell_type": "code",
      "metadata": {
        "id": "oB51AuwbsMTh",
        "colab_type": "code",
        "colab": {
          "base_uri": "https://localhost:8080/",
          "height": 757
        },
        "outputId": "9cd970eb-ae72-4c45-b581-a3592a17fd65"
      },
      "source": [
        "best_parameters = gs_clf.best_estimator_.get_params()\n",
        "for param_name in sorted(list(best_parameters.keys())):\n",
        "  print('\\t{}:{}'.format(param_name, best_parameters[param_name]))\n"
      ],
      "execution_count": 29,
      "outputs": [
        {
          "output_type": "stream",
          "text": [
            "\tclf:MultinomialNB(alpha=0.01, class_prior=None, fit_prior=True)\n",
            "\tclf__alpha:0.01\n",
            "\tclf__class_prior:None\n",
            "\tclf__fit_prior:True\n",
            "\tmemory:None\n",
            "\tsteps:[('vect', CountVectorizer(analyzer='word', binary=False, decode_error='strict',\n",
            "                dtype=<class 'numpy.int64'>, encoding='utf-8', input='content',\n",
            "                lowercase=True, max_df=1.0, max_features=None, min_df=1,\n",
            "                ngram_range=(1, 1), preprocessor=None, stop_words=None,\n",
            "                strip_accents=None, token_pattern='(?u)\\\\b\\\\w\\\\w+\\\\b',\n",
            "                tokenizer=None, vocabulary=None)), ('tfidf', TfidfTransformer(norm='l2', smooth_idf=True, sublinear_tf=False, use_idf=True)), ('clf', MultinomialNB(alpha=0.01, class_prior=None, fit_prior=True))]\n",
            "\ttfidf:TfidfTransformer(norm='l2', smooth_idf=True, sublinear_tf=False, use_idf=True)\n",
            "\ttfidf__norm:l2\n",
            "\ttfidf__smooth_idf:True\n",
            "\ttfidf__sublinear_tf:False\n",
            "\ttfidf__use_idf:True\n",
            "\tvect:CountVectorizer(analyzer='word', binary=False, decode_error='strict',\n",
            "                dtype=<class 'numpy.int64'>, encoding='utf-8', input='content',\n",
            "                lowercase=True, max_df=1.0, max_features=None, min_df=1,\n",
            "                ngram_range=(1, 1), preprocessor=None, stop_words=None,\n",
            "                strip_accents=None, token_pattern='(?u)\\\\b\\\\w\\\\w+\\\\b',\n",
            "                tokenizer=None, vocabulary=None)\n",
            "\tvect__analyzer:word\n",
            "\tvect__binary:False\n",
            "\tvect__decode_error:strict\n",
            "\tvect__dtype:<class 'numpy.int64'>\n",
            "\tvect__encoding:utf-8\n",
            "\tvect__input:content\n",
            "\tvect__lowercase:True\n",
            "\tvect__max_df:1.0\n",
            "\tvect__max_features:None\n",
            "\tvect__min_df:1\n",
            "\tvect__ngram_range:(1, 1)\n",
            "\tvect__preprocessor:None\n",
            "\tvect__stop_words:None\n",
            "\tvect__strip_accents:None\n",
            "\tvect__token_pattern:(?u)\\b\\w\\w+\\b\n",
            "\tvect__tokenizer:None\n",
            "\tvect__vocabulary:None\n",
            "\tverbose:False\n"
          ],
          "name": "stdout"
        }
      ]
    },
    {
      "cell_type": "code",
      "metadata": {
        "id": "mKN_PC6em2Qn",
        "colab_type": "code",
        "colab": {
          "base_uri": "https://localhost:8080/",
          "height": 35
        },
        "outputId": "589a388f-5f2c-41c2-8f1e-df074912cb52"
      },
      "source": [
        "predicted=gs_clf.best_estimator_.predict(X_test)\n",
        "np.mean(predicted == y_test)"
      ],
      "execution_count": 30,
      "outputs": [
        {
          "output_type": "execute_result",
          "data": {
            "text/plain": [
              "0.7408"
            ]
          },
          "metadata": {
            "tags": []
          },
          "execution_count": 30
        }
      ]
    },
    {
      "cell_type": "code",
      "metadata": {
        "id": "1hAOAFOcsP1B",
        "colab_type": "code",
        "colab": {}
      },
      "source": [
        ""
      ],
      "execution_count": null,
      "outputs": []
    }
  ]
}