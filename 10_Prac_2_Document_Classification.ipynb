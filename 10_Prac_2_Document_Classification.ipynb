{
  "nbformat": 4,
  "nbformat_minor": 0,
  "metadata": {
    "colab": {
      "name": "10 Prac 2. Document Classification",
      "provenance": [],
      "collapsed_sections": [],
      "include_colab_link": true
    },
    "kernelspec": {
      "name": "python3",
      "display_name": "Python 3"
    }
  },
  "cells": [
    {
      "cell_type": "markdown",
      "metadata": {
        "id": "view-in-github",
        "colab_type": "text"
      },
      "source": [
        "<a href=\"https://colab.research.google.com/github/Neulvo/TIL/blob/master/10_Prac_2_Document_Classification.ipynb\" target=\"_parent\"><img src=\"https://colab.research.google.com/assets/colab-badge.svg\" alt=\"Open In Colab\"/></a>"
      ]
    },
    {
      "cell_type": "markdown",
      "metadata": {
        "id": "ecOHtGBs7lDO",
        "colab_type": "text"
      },
      "source": [
        "#10장 문서 분류 (Document Classification)"
      ]
    },
    {
      "cell_type": "markdown",
      "metadata": {
        "id": "MSHRKud41Tr0",
        "colab_type": "text"
      },
      "source": [
        "#11-1 나이브 베이즈 분류(Naive Bayes Classifier)"
      ]
    },
    {
      "cell_type": "markdown",
      "metadata": {
        "id": "32FEohTU9qob",
        "colab_type": "text"
      },
      "source": [
        "##1.1 직접구현"
      ]
    },
    {
      "cell_type": "markdown",
      "metadata": {
        "id": "DwzbT2LkrCwH",
        "colab_type": "text"
      },
      "source": [
        "### Naive Bayes Classifier"
      ]
    },
    {
      "cell_type": "code",
      "metadata": {
        "id": "yvX-1FJ7qXOu",
        "colab_type": "code",
        "colab": {}
      },
      "source": [
        "training_set = [['me free lottery', 1],\n",
        " ['free get free you', 1],\n",
        " ['you free scholarship', 0],\n",
        " ['free to contact me', 0],\n",
        " ['you won award', 0],\n",
        " ['you ticket lottery', 1]]"
      ],
      "execution_count": 1,
      "outputs": []
    },
    {
      "cell_type": "markdown",
      "metadata": {
        "id": "c8irQ-xFsq39",
        "colab_type": "text"
      },
      "source": [
        "### 토큰 빈도수 및 문서별 토큰수 계산 (확률 계산을 위한 준비)"
      ]
    },
    {
      "cell_type": "markdown",
      "metadata": {
        "id": "6MLSe8V1sYsv",
        "colab_type": "text"
      },
      "source": [
        "![대체 텍스트](https://wikimedia.org/api/rest_v1/media/math/render/svg/98f086c560aa2f66650060277dda4f90e54e30c0)"
      ]
    },
    {
      "cell_type": "code",
      "metadata": {
        "id": "r4KjiGtqsbm_",
        "colab_type": "code",
        "colab": {
          "base_uri": "https://localhost:8080/",
          "height": 53
        },
        "outputId": "f21eae0f-cf24-405c-ac39-7ccdbf1158c6"
      },
      "source": [
        "from collections import defaultdict\n",
        "\n",
        "# 범주에 속하는 토큰수 세기 1(스팸), 0(정상))\n",
        "doccnt0 = 0\n",
        "doccnt1 = 0\n",
        "\n",
        "# 토큰별로 문서내 빈도수 카운팅\n",
        "wordfreq = defaultdict(lambda : [0,0])\n",
        "for doc, label in training_set:\n",
        "  words=doc.split()\n",
        "  for word in words:\n",
        "    wordfreq[word][label]+=1\n",
        "for key, (cnt0, cnt1) in wordfreq.items():\n",
        "  doccnt0+=cnt0\n",
        "  doccnt1+=cnt1\n",
        "\n",
        "print('doccnt0 : {}'.format(doccnt0))\n",
        "print('doccnt1 : {}'.format(doccnt1))\n"
      ],
      "execution_count": 5,
      "outputs": [
        {
          "output_type": "stream",
          "text": [
            "doccnt0 : 10\n",
            "doccnt1 : 10\n"
          ],
          "name": "stdout"
        }
      ]
    },
    {
      "cell_type": "code",
      "metadata": {
        "id": "DpySoJWVISKw",
        "colab_type": "code",
        "colab": {
          "base_uri": "https://localhost:8080/",
          "height": 35
        },
        "outputId": "ecab8366-3fc3-4d6c-cf10-0a9375e7d4d9"
      },
      "source": [
        "doccnt0"
      ],
      "execution_count": 6,
      "outputs": [
        {
          "output_type": "execute_result",
          "data": {
            "text/plain": [
              "10"
            ]
          },
          "metadata": {
            "tags": []
          },
          "execution_count": 6
        }
      ]
    },
    {
      "cell_type": "code",
      "metadata": {
        "id": "EOaDmUrzI0IF",
        "colab_type": "code",
        "colab": {
          "base_uri": "https://localhost:8080/",
          "height": 35
        },
        "outputId": "5fe54d4f-0e05-496b-ab2b-53d4a2a3e5a2"
      },
      "source": [
        "doccnt1"
      ],
      "execution_count": 7,
      "outputs": [
        {
          "output_type": "execute_result",
          "data": {
            "text/plain": [
              "10"
            ]
          },
          "metadata": {
            "tags": []
          },
          "execution_count": 7
        }
      ]
    },
    {
      "cell_type": "code",
      "metadata": {
        "id": "0oatU4asWqzn",
        "colab_type": "code",
        "colab": {
          "base_uri": "https://localhost:8080/",
          "height": 233
        },
        "outputId": "afeabb24-b807-491b-f42d-d6a5a0e43200"
      },
      "source": [
        "wordfreq"
      ],
      "execution_count": 8,
      "outputs": [
        {
          "output_type": "execute_result",
          "data": {
            "text/plain": [
              "defaultdict(<function __main__.<lambda>>,\n",
              "            {'award': [1, 0],\n",
              "             'contact': [1, 0],\n",
              "             'free': [2, 3],\n",
              "             'get': [0, 1],\n",
              "             'lottery': [0, 2],\n",
              "             'me': [1, 1],\n",
              "             'scholarship': [1, 0],\n",
              "             'ticket': [0, 1],\n",
              "             'to': [1, 0],\n",
              "             'won': [1, 0],\n",
              "             'you': [2, 2]})"
            ]
          },
          "metadata": {
            "tags": []
          },
          "execution_count": 8
        }
      ]
    },
    {
      "cell_type": "markdown",
      "metadata": {
        "id": "uKs_HaKwskLP",
        "colab_type": "text"
      },
      "source": [
        "### Training : 토큰별 조건부 확률 계산 "
      ]
    },
    {
      "cell_type": "code",
      "metadata": {
        "id": "dgCsmiCNsjjF",
        "colab_type": "code",
        "colab": {
          "base_uri": "https://localhost:8080/",
          "height": 233
        },
        "outputId": "c40534c8-6aa4-420a-a900-bb258e16f0b4"
      },
      "source": [
        "k= 0.5\n",
        "\n",
        "wordprobs = defaultdict(lambda : [0,0])\n",
        "for key, (cnt0, cnt1) in wordfreq.items():\n",
        "  wordprobs[key][0]=(cnt0+k)/(2*k + doccnt0)\n",
        "  wordprobs[key][1]=(cnt1+k)/(2*k+doccnt1)\n",
        "wordprobs"
      ],
      "execution_count": 9,
      "outputs": [
        {
          "output_type": "execute_result",
          "data": {
            "text/plain": [
              "defaultdict(<function __main__.<lambda>>,\n",
              "            {'award': [0.13636363636363635, 0.045454545454545456],\n",
              "             'contact': [0.13636363636363635, 0.045454545454545456],\n",
              "             'free': [0.22727272727272727, 0.3181818181818182],\n",
              "             'get': [0.045454545454545456, 0.13636363636363635],\n",
              "             'lottery': [0.045454545454545456, 0.22727272727272727],\n",
              "             'me': [0.13636363636363635, 0.13636363636363635],\n",
              "             'scholarship': [0.13636363636363635, 0.045454545454545456],\n",
              "             'ticket': [0.045454545454545456, 0.13636363636363635],\n",
              "             'to': [0.13636363636363635, 0.045454545454545456],\n",
              "             'won': [0.13636363636363635, 0.045454545454545456],\n",
              "             'you': [0.22727272727272727, 0.22727272727272727]})"
            ]
          },
          "metadata": {
            "tags": []
          },
          "execution_count": 9
        }
      ]
    },
    {
      "cell_type": "markdown",
      "metadata": {
        "id": "_Viq9UFbs3Y2",
        "colab_type": "text"
      },
      "source": [
        "### Classify : 신규 텍스트가 주어졌을 때 확률 계산\n",
        "\n",
        ">\n",
        "\n"
      ]
    },
    {
      "cell_type": "code",
      "metadata": {
        "id": "ypuyUtI4LAQs",
        "colab_type": "code",
        "colab": {}
      },
      "source": [
        "import math\n",
        "\n",
        "doc = 'free lottery'\n",
        "tokens = doc.split()\n",
        "\n",
        "log_prob1 = log_prob0 = 0.0\n",
        "\n",
        "for word, (prob0, prob1) in wordprobs.items():\n",
        "  if word in tokens:\n",
        "    log_prob0 += math.log(prob0)\n",
        "    log_prob1 += math.log(prob1)"
      ],
      "execution_count": 10,
      "outputs": []
    },
    {
      "cell_type": "code",
      "metadata": {
        "id": "LChd1Y9sYczr",
        "colab_type": "code",
        "colab": {
          "base_uri": "https://localhost:8080/",
          "height": 35
        },
        "outputId": "002daf78-6f8c-48da-d9d3-3e77f91bf4b2"
      },
      "source": [
        "log_prob0"
      ],
      "execution_count": 11,
      "outputs": [
        {
          "output_type": "execute_result",
          "data": {
            "text/plain": [
              "-4.572646994282531"
            ]
          },
          "metadata": {
            "tags": []
          },
          "execution_count": 11
        }
      ]
    },
    {
      "cell_type": "code",
      "metadata": {
        "id": "NySXezT1Yeyq",
        "colab_type": "code",
        "colab": {
          "base_uri": "https://localhost:8080/",
          "height": 35
        },
        "outputId": "d081a372-cd36-4e07-9783-aae217d0c698"
      },
      "source": [
        "log_prob1"
      ],
      "execution_count": 12,
      "outputs": [
        {
          "output_type": "execute_result",
          "data": {
            "text/plain": [
              "-2.626736845227218"
            ]
          },
          "metadata": {
            "tags": []
          },
          "execution_count": 12
        }
      ]
    },
    {
      "cell_type": "code",
      "metadata": {
        "id": "wl0PdOl8Yf9F",
        "colab_type": "code",
        "colab": {
          "base_uri": "https://localhost:8080/",
          "height": 89
        },
        "outputId": "a42a0533-fe23-4fb2-8d34-fad0627c5f7a"
      },
      "source": [
        "log_prob0 += math.log(doccnt0/(doccnt0 + doccnt1))\n",
        "log_prob1 += math.log(doccnt1/(doccnt0 + doccnt1))\n",
        "\n",
        "prob0 = math.exp(log_prob0)\n",
        "prob1 = math.exp(log_prob1)\n",
        "\n",
        "print(prob0)\n",
        "print(prob1)\n",
        "\n",
        "print(\"정상확률 : {}\".format( prob0 /(prob0 + prob1) * 100))\n",
        "print(\"스팸확률 : {}\".format( prob1 /(prob0 + prob1) * 100))"
      ],
      "execution_count": 13,
      "outputs": [
        {
          "output_type": "stream",
          "text": [
            "0.00516528925619835\n",
            "0.03615702479338842\n",
            "정상확률 : 12.500000000000009\n",
            "스팸확률 : 87.49999999999999\n"
          ],
          "name": "stdout"
        }
      ]
    },
    {
      "cell_type": "code",
      "metadata": {
        "id": "pUDYKAuAqKA-",
        "colab_type": "code",
        "colab": {
          "base_uri": "https://localhost:8080/",
          "height": 469
        },
        "outputId": "b32b7d57-4934-4a62-d39e-f843cf6a9120"
      },
      "source": [
        "from sklearn.datasets import fetch_20newsgroups\n",
        "twenty_train = fetch_20newsgroups(subset='train',shuffle=True)\n",
        "print(twenty_train.target_names)\n",
        "print(twenty_train.data[0])\n",
        "print(twenty_train.target[0])"
      ],
      "execution_count": 15,
      "outputs": [
        {
          "output_type": "stream",
          "text": [
            "['alt.atheism', 'comp.graphics', 'comp.os.ms-windows.misc', 'comp.sys.ibm.pc.hardware', 'comp.sys.mac.hardware', 'comp.windows.x', 'misc.forsale', 'rec.autos', 'rec.motorcycles', 'rec.sport.baseball', 'rec.sport.hockey', 'sci.crypt', 'sci.electronics', 'sci.med', 'sci.space', 'soc.religion.christian', 'talk.politics.guns', 'talk.politics.mideast', 'talk.politics.misc', 'talk.religion.misc']\n",
            "From: lerxst@wam.umd.edu (where's my thing)\n",
            "Subject: WHAT car is this!?\n",
            "Nntp-Posting-Host: rac3.wam.umd.edu\n",
            "Organization: University of Maryland, College Park\n",
            "Lines: 15\n",
            "\n",
            " I was wondering if anyone out there could enlighten me on this car I saw\n",
            "the other day. It was a 2-door sports car, looked to be from the late 60s/\n",
            "early 70s. It was called a Bricklin. The doors were really small. In addition,\n",
            "the front bumper was separate from the rest of the body. This is \n",
            "all I know. If anyone can tellme a model name, engine specs, years\n",
            "of production, where this car is made, history, or whatever info you\n",
            "have on this funky looking car, please e-mail.\n",
            "\n",
            "Thanks,\n",
            "- IL\n",
            "   ---- brought to you by your neighborhood Lerxst ----\n",
            "\n",
            "\n",
            "\n",
            "\n",
            "\n",
            "7\n"
          ],
          "name": "stdout"
        }
      ]
    },
    {
      "cell_type": "code",
      "metadata": {
        "id": "T64GKnkvrjaf",
        "colab_type": "code",
        "colab": {}
      },
      "source": [
        "from sklearn.pipeline import Pipeline\n",
        "from sklearn.naive_bayes import MultinomialNB\n",
        "from sklearn.feature_extraction.text import CountVectorizer\n",
        "from sklearn.feature_extraction.text import TfidfTransformer\n",
        "\n",
        "text_clf = Pipeline([('vect', CountVectorizer()),\n",
        "                     ('tfidf', TfidfTransformer()),\n",
        "                     ('clf', MultinomialNB())])\n",
        "\n",
        "text_clf = text_clf.fit(twenty_train.data, twenty_train.target)"
      ],
      "execution_count": 25,
      "outputs": []
    },
    {
      "cell_type": "code",
      "metadata": {
        "id": "10Nitvm0sXjs",
        "colab_type": "code",
        "colab": {}
      },
      "source": [
        "MultinomialNB?"
      ],
      "execution_count": 26,
      "outputs": []
    },
    {
      "cell_type": "code",
      "metadata": {
        "id": "iNqEq-EosaPx",
        "colab_type": "code",
        "colab": {
          "base_uri": "https://localhost:8080/",
          "height": 323
        },
        "outputId": "82b17c6e-09f1-415c-ac53-ddc004fab01a"
      },
      "source": [
        "text_clf"
      ],
      "execution_count": 27,
      "outputs": [
        {
          "output_type": "execute_result",
          "data": {
            "text/plain": [
              "Pipeline(memory=None,\n",
              "         steps=[('vect',\n",
              "                 CountVectorizer(analyzer='word', binary=False,\n",
              "                                 decode_error='strict',\n",
              "                                 dtype=<class 'numpy.int64'>, encoding='utf-8',\n",
              "                                 input='content', lowercase=True, max_df=1.0,\n",
              "                                 max_features=None, min_df=1,\n",
              "                                 ngram_range=(1, 1), preprocessor=None,\n",
              "                                 stop_words=None, strip_accents=None,\n",
              "                                 token_pattern='(?u)\\\\b\\\\w\\\\w+\\\\b',\n",
              "                                 tokenizer=None, vocabulary=None)),\n",
              "                ('tfidf',\n",
              "                 TfidfTransformer(norm='l2', smooth_idf=True,\n",
              "                                  sublinear_tf=False, use_idf=True)),\n",
              "                ('clf',\n",
              "                 MultinomialNB(alpha=1.0, class_prior=None, fit_prior=True))],\n",
              "         verbose=False)"
            ]
          },
          "metadata": {
            "tags": []
          },
          "execution_count": 27
        }
      ]
    },
    {
      "cell_type": "code",
      "metadata": {
        "id": "rN_zv9ejtM_e",
        "colab_type": "code",
        "colab": {
          "base_uri": "https://localhost:8080/",
          "height": 35
        },
        "outputId": "d71d4e5f-fc74-4f97-bc91-c336be697982"
      },
      "source": [
        "import numpy as np\n",
        "twenty_test = fetch_20newsgroups(subset='test', shuffle=True)\n",
        "predicted = text_clf.predict(twenty_test.data)\n",
        "np.mean(predicted==twenty_test.target)"
      ],
      "execution_count": 28,
      "outputs": [
        {
          "output_type": "execute_result",
          "data": {
            "text/plain": [
              "0.7738980350504514"
            ]
          },
          "metadata": {
            "tags": []
          },
          "execution_count": 28
        }
      ]
    },
    {
      "cell_type": "code",
      "metadata": {
        "id": "tXcYkt_5t1lT",
        "colab_type": "code",
        "colab": {
          "base_uri": "https://localhost:8080/",
          "height": 883
        },
        "outputId": "8ceb929c-b9dc-4b49-b9b7-394ba1748e5d"
      },
      "source": [
        "from sklearn.model_selection import GridSearchCV\n",
        "\n",
        "                  \n",
        "parameters_clf = {'vect__ngram_range': [(1, 1), (1, 2)],\n",
        "                  'tfidf__use_idf': (True, False),\n",
        "                  'clf__alpha' : (1, 0.1, 0.01, 0.001, 0.0001)\n",
        "                  }\n",
        "\n",
        "gs_clf = GridSearchCV(text_clf, parameters_clf, n_jobs=-1, verbose=2)\n",
        "gs_clf = gs_clf.fit(twenty_train.data, twenty_train.target)\n",
        "print('Best score : {}'.format(gs_clf.best_score_))\n",
        "best_parameters = gs_clf.best_estimator_.get_params()\n",
        "for param_name in sorted(list(best_parameters.keys())):\n",
        "  print(\"\\t{} : {}\".format(param_name, best_parameters[param_name]))"
      ],
      "execution_count": 31,
      "outputs": [
        {
          "output_type": "stream",
          "text": [
            "Fitting 5 folds for each of 20 candidates, totalling 100 fits\n"
          ],
          "name": "stdout"
        },
        {
          "output_type": "stream",
          "text": [
            "[Parallel(n_jobs=-1)]: Using backend LokyBackend with 2 concurrent workers.\n",
            "/usr/local/lib/python3.6/dist-packages/joblib/externals/loky/process_executor.py:691: UserWarning: A worker stopped while some jobs were given to the executor. This can be caused by a too short worker timeout or by a memory leak.\n",
            "  \"timeout or by a memory leak.\", UserWarning\n",
            "[Parallel(n_jobs=-1)]: Done  37 tasks      | elapsed:  4.5min\n",
            "[Parallel(n_jobs=-1)]: Done 100 out of 100 | elapsed: 12.7min finished\n"
          ],
          "name": "stderr"
        },
        {
          "output_type": "stream",
          "text": [
            "Best score : 0.9157684864695698\n",
            "\tclf : MultinomialNB(alpha=0.001, class_prior=None, fit_prior=True)\n",
            "\tclf__alpha : 0.001\n",
            "\tclf__class_prior : None\n",
            "\tclf__fit_prior : True\n",
            "\tmemory : None\n",
            "\tsteps : [('vect', CountVectorizer(analyzer='word', binary=False, decode_error='strict',\n",
            "                dtype=<class 'numpy.int64'>, encoding='utf-8', input='content',\n",
            "                lowercase=True, max_df=1.0, max_features=None, min_df=1,\n",
            "                ngram_range=(1, 2), preprocessor=None, stop_words=None,\n",
            "                strip_accents=None, token_pattern='(?u)\\\\b\\\\w\\\\w+\\\\b',\n",
            "                tokenizer=None, vocabulary=None)), ('tfidf', TfidfTransformer(norm='l2', smooth_idf=True, sublinear_tf=False, use_idf=True)), ('clf', MultinomialNB(alpha=0.001, class_prior=None, fit_prior=True))]\n",
            "\ttfidf : TfidfTransformer(norm='l2', smooth_idf=True, sublinear_tf=False, use_idf=True)\n",
            "\ttfidf__norm : l2\n",
            "\ttfidf__smooth_idf : True\n",
            "\ttfidf__sublinear_tf : False\n",
            "\ttfidf__use_idf : True\n",
            "\tvect : CountVectorizer(analyzer='word', binary=False, decode_error='strict',\n",
            "                dtype=<class 'numpy.int64'>, encoding='utf-8', input='content',\n",
            "                lowercase=True, max_df=1.0, max_features=None, min_df=1,\n",
            "                ngram_range=(1, 2), preprocessor=None, stop_words=None,\n",
            "                strip_accents=None, token_pattern='(?u)\\\\b\\\\w\\\\w+\\\\b',\n",
            "                tokenizer=None, vocabulary=None)\n",
            "\tvect__analyzer : word\n",
            "\tvect__binary : False\n",
            "\tvect__decode_error : strict\n",
            "\tvect__dtype : <class 'numpy.int64'>\n",
            "\tvect__encoding : utf-8\n",
            "\tvect__input : content\n",
            "\tvect__lowercase : True\n",
            "\tvect__max_df : 1.0\n",
            "\tvect__max_features : None\n",
            "\tvect__min_df : 1\n",
            "\tvect__ngram_range : (1, 2)\n",
            "\tvect__preprocessor : None\n",
            "\tvect__stop_words : None\n",
            "\tvect__strip_accents : None\n",
            "\tvect__token_pattern : (?u)\\b\\w\\w+\\b\n",
            "\tvect__tokenizer : None\n",
            "\tvect__vocabulary : None\n",
            "\tverbose : False\n"
          ],
          "name": "stdout"
        }
      ]
    },
    {
      "cell_type": "code",
      "metadata": {
        "id": "OfP2SSUldbl-",
        "colab_type": "code",
        "colab": {
          "base_uri": "https://localhost:8080/",
          "height": 35
        },
        "outputId": "845b0a84-8dd6-4d6c-d962-a4ddc894e571"
      },
      "source": [
        "predicted = gs_clf.best_estimator_.predict(twenty_test.data)\n",
        "np.mean(predicted==twenty_test.target)"
      ],
      "execution_count": 32,
      "outputs": [
        {
          "output_type": "execute_result",
          "data": {
            "text/plain": [
              "0.8361656930430165"
            ]
          },
          "metadata": {
            "tags": []
          },
          "execution_count": 32
        }
      ]
    },
    {
      "cell_type": "code",
      "metadata": {
        "id": "XU6PXjNsyINu",
        "colab_type": "code",
        "colab": {}
      },
      "source": [
        ""
      ],
      "execution_count": null,
      "outputs": []
    }
  ]
}