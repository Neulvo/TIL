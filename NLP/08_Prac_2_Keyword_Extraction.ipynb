{
  "nbformat": 4,
  "nbformat_minor": 0,
  "metadata": {
    "colab": {
      "name": "08 Prac 2. Keyword Extraction의 직접 구현의 사본",
      "provenance": [],
      "collapsed_sections": []
    },
    "kernelspec": {
      "name": "python3",
      "display_name": "Python 3"
    }
  },
  "cells": [
    {
      "cell_type": "markdown",
      "metadata": {
        "id": "q1Q9mWDrgMUn",
        "colab_type": "text"
      },
      "source": [
        "# 8장. 핵심 키워드 추출 (Keyword Extraction)"
      ]
    },
    {
      "cell_type": "markdown",
      "metadata": {
        "id": "PSZIeetL8Yym",
        "colab_type": "text"
      },
      "source": [
        "# 8-0 데이터 준비"
      ]
    },
    {
      "cell_type": "markdown",
      "metadata": {
        "id": "hpTxmnbx8v6m",
        "colab_type": "text"
      },
      "source": [
        "## Mecab 설치 (필요시)"
      ]
    },
    {
      "cell_type": "code",
      "metadata": {
        "id": "qsWnZkd78qCA",
        "colab_type": "code",
        "colab": {
          "base_uri": "https://localhost:8080/",
          "height": 1000
        },
        "outputId": "33393f91-3c55-4374-e0f3-10abd99ad6cb"
      },
      "source": [
        "!sudo apt-get install g++ openjdk-7-jdk # Install Java 1.7+\n",
        "!sudo apt-get install python-dev; pip install konlpy     # Python 2.x\n",
        "!sudo apt-get install python3-dev; pip3 install konlpy   # Python 3.x\n",
        "!sudo apt-get install curl\n",
        "!bash <(curl -s https://raw.githubusercontent.com/konlpy/konlpy/master/scripts/mecab.sh)"
      ],
      "execution_count": 1,
      "outputs": [
        {
          "output_type": "stream",
          "text": [
            "Reading package lists... Done\n",
            "Building dependency tree       \n",
            "Reading state information... Done\n",
            "Package openjdk-7-jdk is not available, but is referred to by another package.\n",
            "This may mean that the package is missing, has been obsoleted, or\n",
            "is only available from another source\n",
            "\n",
            "E: Package 'openjdk-7-jdk' has no installation candidate\n",
            "Reading package lists... Done\n",
            "Building dependency tree       \n",
            "Reading state information... Done\n",
            "python-dev is already the newest version (2.7.15~rc1-1).\n",
            "The following package was automatically installed and is no longer required:\n",
            "  libnvidia-common-440\n",
            "Use 'sudo apt autoremove' to remove it.\n",
            "0 upgraded, 0 newly installed, 0 to remove and 35 not upgraded.\n",
            "Collecting konlpy\n",
            "\u001b[?25l  Downloading https://files.pythonhosted.org/packages/85/0e/f385566fec837c0b83f216b2da65db9997b35dd675e107752005b7d392b1/konlpy-0.5.2-py2.py3-none-any.whl (19.4MB)\n",
            "\u001b[K     |████████████████████████████████| 19.4MB 1.3MB/s \n",
            "\u001b[?25hRequirement already satisfied: lxml>=4.1.0 in /usr/local/lib/python3.6/dist-packages (from konlpy) (4.2.6)\n",
            "Collecting JPype1>=0.7.0\n",
            "\u001b[?25l  Downloading https://files.pythonhosted.org/packages/50/49/725710351d78d26c65337b1e3b322d7b27b34b704535ab56afc0d9ab0ffd/JPype1-1.0.1-cp36-cp36m-manylinux2010_x86_64.whl (3.8MB)\n",
            "\u001b[K     |████████████████████████████████| 3.8MB 39.8MB/s \n",
            "\u001b[?25hRequirement already satisfied: numpy>=1.6 in /usr/local/lib/python3.6/dist-packages (from konlpy) (1.18.5)\n",
            "Collecting tweepy>=3.7.0\n",
            "  Downloading https://files.pythonhosted.org/packages/bb/7c/99d51f80f3b77b107ebae2634108717362c059a41384a1810d13e2429a81/tweepy-3.9.0-py2.py3-none-any.whl\n",
            "Collecting colorama\n",
            "  Downloading https://files.pythonhosted.org/packages/c9/dc/45cdef1b4d119eb96316b3117e6d5708a08029992b2fee2c143c7a0a5cc5/colorama-0.4.3-py2.py3-none-any.whl\n",
            "Collecting beautifulsoup4==4.6.0\n",
            "\u001b[?25l  Downloading https://files.pythonhosted.org/packages/9e/d4/10f46e5cfac773e22707237bfcd51bbffeaf0a576b0a847ec7ab15bd7ace/beautifulsoup4-4.6.0-py3-none-any.whl (86kB)\n",
            "\u001b[K     |████████████████████████████████| 92kB 7.2MB/s \n",
            "\u001b[?25hRequirement already satisfied: typing-extensions; python_version < \"3.8\" in /usr/local/lib/python3.6/dist-packages (from JPype1>=0.7.0->konlpy) (3.7.4.2)\n",
            "Requirement already satisfied: six>=1.10.0 in /usr/local/lib/python3.6/dist-packages (from tweepy>=3.7.0->konlpy) (1.12.0)\n",
            "Requirement already satisfied: requests[socks]>=2.11.1 in /usr/local/lib/python3.6/dist-packages (from tweepy>=3.7.0->konlpy) (2.23.0)\n",
            "Requirement already satisfied: requests-oauthlib>=0.7.0 in /usr/local/lib/python3.6/dist-packages (from tweepy>=3.7.0->konlpy) (1.3.0)\n",
            "Requirement already satisfied: certifi>=2017.4.17 in /usr/local/lib/python3.6/dist-packages (from requests[socks]>=2.11.1->tweepy>=3.7.0->konlpy) (2020.6.20)\n",
            "Requirement already satisfied: urllib3!=1.25.0,!=1.25.1,<1.26,>=1.21.1 in /usr/local/lib/python3.6/dist-packages (from requests[socks]>=2.11.1->tweepy>=3.7.0->konlpy) (1.24.3)\n",
            "Requirement already satisfied: chardet<4,>=3.0.2 in /usr/local/lib/python3.6/dist-packages (from requests[socks]>=2.11.1->tweepy>=3.7.0->konlpy) (3.0.4)\n",
            "Requirement already satisfied: idna<3,>=2.5 in /usr/local/lib/python3.6/dist-packages (from requests[socks]>=2.11.1->tweepy>=3.7.0->konlpy) (2.10)\n",
            "Requirement already satisfied: PySocks!=1.5.7,>=1.5.6; extra == \"socks\" in /usr/local/lib/python3.6/dist-packages (from requests[socks]>=2.11.1->tweepy>=3.7.0->konlpy) (1.7.1)\n",
            "Requirement already satisfied: oauthlib>=3.0.0 in /usr/local/lib/python3.6/dist-packages (from requests-oauthlib>=0.7.0->tweepy>=3.7.0->konlpy) (3.1.0)\n",
            "Installing collected packages: JPype1, tweepy, colorama, beautifulsoup4, konlpy\n",
            "  Found existing installation: tweepy 3.6.0\n",
            "    Uninstalling tweepy-3.6.0:\n",
            "      Successfully uninstalled tweepy-3.6.0\n",
            "  Found existing installation: beautifulsoup4 4.6.3\n",
            "    Uninstalling beautifulsoup4-4.6.3:\n",
            "      Successfully uninstalled beautifulsoup4-4.6.3\n",
            "Successfully installed JPype1-1.0.1 beautifulsoup4-4.6.0 colorama-0.4.3 konlpy-0.5.2 tweepy-3.9.0\n",
            "Reading package lists... Done\n",
            "Building dependency tree       \n",
            "Reading state information... Done\n",
            "python3-dev is already the newest version (3.6.7-1~18.04).\n",
            "The following package was automatically installed and is no longer required:\n",
            "  libnvidia-common-440\n",
            "Use 'sudo apt autoremove' to remove it.\n",
            "0 upgraded, 0 newly installed, 0 to remove and 35 not upgraded.\n",
            "Requirement already satisfied: konlpy in /usr/local/lib/python3.6/dist-packages (0.5.2)\n",
            "Requirement already satisfied: JPype1>=0.7.0 in /usr/local/lib/python3.6/dist-packages (from konlpy) (1.0.1)\n",
            "Requirement already satisfied: lxml>=4.1.0 in /usr/local/lib/python3.6/dist-packages (from konlpy) (4.2.6)\n",
            "Requirement already satisfied: tweepy>=3.7.0 in /usr/local/lib/python3.6/dist-packages (from konlpy) (3.9.0)\n",
            "Requirement already satisfied: beautifulsoup4==4.6.0 in /usr/local/lib/python3.6/dist-packages (from konlpy) (4.6.0)\n",
            "Requirement already satisfied: colorama in /usr/local/lib/python3.6/dist-packages (from konlpy) (0.4.3)\n",
            "Requirement already satisfied: numpy>=1.6 in /usr/local/lib/python3.6/dist-packages (from konlpy) (1.18.5)\n",
            "Requirement already satisfied: typing-extensions; python_version < \"3.8\" in /usr/local/lib/python3.6/dist-packages (from JPype1>=0.7.0->konlpy) (3.7.4.2)\n",
            "Requirement already satisfied: six>=1.10.0 in /usr/local/lib/python3.6/dist-packages (from tweepy>=3.7.0->konlpy) (1.12.0)\n",
            "Requirement already satisfied: requests[socks]>=2.11.1 in /usr/local/lib/python3.6/dist-packages (from tweepy>=3.7.0->konlpy) (2.23.0)\n",
            "Requirement already satisfied: requests-oauthlib>=0.7.0 in /usr/local/lib/python3.6/dist-packages (from tweepy>=3.7.0->konlpy) (1.3.0)\n",
            "Requirement already satisfied: certifi>=2017.4.17 in /usr/local/lib/python3.6/dist-packages (from requests[socks]>=2.11.1->tweepy>=3.7.0->konlpy) (2020.6.20)\n",
            "Requirement already satisfied: idna<3,>=2.5 in /usr/local/lib/python3.6/dist-packages (from requests[socks]>=2.11.1->tweepy>=3.7.0->konlpy) (2.10)\n",
            "Requirement already satisfied: chardet<4,>=3.0.2 in /usr/local/lib/python3.6/dist-packages (from requests[socks]>=2.11.1->tweepy>=3.7.0->konlpy) (3.0.4)\n",
            "Requirement already satisfied: urllib3!=1.25.0,!=1.25.1,<1.26,>=1.21.1 in /usr/local/lib/python3.6/dist-packages (from requests[socks]>=2.11.1->tweepy>=3.7.0->konlpy) (1.24.3)\n",
            "Requirement already satisfied: PySocks!=1.5.7,>=1.5.6; extra == \"socks\" in /usr/local/lib/python3.6/dist-packages (from requests[socks]>=2.11.1->tweepy>=3.7.0->konlpy) (1.7.1)\n",
            "Requirement already satisfied: oauthlib>=3.0.0 in /usr/local/lib/python3.6/dist-packages (from requests-oauthlib>=0.7.0->tweepy>=3.7.0->konlpy) (3.1.0)\n",
            "Reading package lists... Done\n",
            "Building dependency tree       \n",
            "Reading state information... Done\n",
            "curl is already the newest version (7.58.0-2ubuntu3.9).\n",
            "The following package was automatically installed and is no longer required:\n",
            "  libnvidia-common-440\n",
            "Use 'sudo apt autoremove' to remove it.\n",
            "0 upgraded, 0 newly installed, 0 to remove and 35 not upgraded.\n",
            "Installing automake (A dependency for mecab-ko)\n",
            "Ign:1 https://developer.download.nvidia.com/compute/cuda/repos/ubuntu1804/x86_64  InRelease\n",
            "Get:2 http://security.ubuntu.com/ubuntu bionic-security InRelease [88.7 kB]\n",
            "Get:3 http://ppa.launchpad.net/graphics-drivers/ppa/ubuntu bionic InRelease [21.3 kB]\n",
            "Ign:4 https://developer.download.nvidia.com/compute/machine-learning/repos/ubuntu1804/x86_64  InRelease\n",
            "Hit:5 http://archive.ubuntu.com/ubuntu bionic InRelease\n",
            "Hit:6 https://developer.download.nvidia.com/compute/cuda/repos/ubuntu1804/x86_64  Release\n",
            "Hit:7 https://developer.download.nvidia.com/compute/machine-learning/repos/ubuntu1804/x86_64  Release\n",
            "Get:8 http://archive.ubuntu.com/ubuntu bionic-updates InRelease [88.7 kB]\n",
            "Get:9 http://ppa.launchpad.net/marutter/c2d4u3.5/ubuntu bionic InRelease [15.4 kB]\n",
            "Get:11 https://cloud.r-project.org/bin/linux/ubuntu bionic-cran35/ InRelease [3,626 B]\n",
            "Get:12 http://archive.ubuntu.com/ubuntu bionic-backports InRelease [74.6 kB]\n",
            "Get:14 http://ppa.launchpad.net/graphics-drivers/ppa/ubuntu bionic/main amd64 Packages [43.3 kB]\n",
            "Get:15 http://security.ubuntu.com/ubuntu bionic-security/multiverse amd64 Packages [9,279 B]\n",
            "Get:16 http://security.ubuntu.com/ubuntu bionic-security/restricted amd64 Packages [89.9 kB]\n",
            "Get:17 http://security.ubuntu.com/ubuntu bionic-security/universe amd64 Packages [869 kB]\n",
            "Get:18 http://archive.ubuntu.com/ubuntu bionic-updates/restricted amd64 Packages [104 kB]\n",
            "Get:19 http://ppa.launchpad.net/marutter/c2d4u3.5/ubuntu bionic/main Sources [1,849 kB]\n",
            "Get:20 http://archive.ubuntu.com/ubuntu bionic-updates/main amd64 Packages [1,306 kB]\n",
            "Get:21 http://security.ubuntu.com/ubuntu bionic-security/main amd64 Packages [1,005 kB]\n",
            "Get:22 http://archive.ubuntu.com/ubuntu bionic-updates/universe amd64 Packages [1,407 kB]\n",
            "Get:23 http://archive.ubuntu.com/ubuntu bionic-updates/multiverse amd64 Packages [13.7 kB]\n",
            "Get:24 http://archive.ubuntu.com/ubuntu bionic-backports/universe amd64 Packages [8,432 B]\n",
            "Get:25 http://ppa.launchpad.net/marutter/c2d4u3.5/ubuntu bionic/main amd64 Packages [892 kB]\n",
            "Fetched 7,889 kB in 3s (2,880 kB/s)\n",
            "Reading package lists... Done\n",
            "Reading package lists... Done\n",
            "Building dependency tree       \n",
            "Reading state information... Done\n",
            "The following package was automatically installed and is no longer required:\n",
            "  libnvidia-common-440\n",
            "Use 'sudo apt autoremove' to remove it.\n",
            "The following additional packages will be installed:\n",
            "  autoconf autotools-dev libsigsegv2 m4\n",
            "Suggested packages:\n",
            "  autoconf-archive gnu-standards autoconf-doc libtool gettext m4-doc\n",
            "The following NEW packages will be installed:\n",
            "  autoconf automake autotools-dev libsigsegv2 m4\n",
            "0 upgraded, 5 newly installed, 0 to remove and 66 not upgraded.\n",
            "Need to get 1,082 kB of archives.\n",
            "After this operation, 3,994 kB of additional disk space will be used.\n",
            "Get:1 http://archive.ubuntu.com/ubuntu bionic/main amd64 libsigsegv2 amd64 2.12-1 [14.7 kB]\n",
            "Get:2 http://archive.ubuntu.com/ubuntu bionic/main amd64 m4 amd64 1.4.18-1 [197 kB]\n",
            "Get:3 http://archive.ubuntu.com/ubuntu bionic/main amd64 autoconf all 2.69-11 [322 kB]\n",
            "Get:4 http://archive.ubuntu.com/ubuntu bionic/main amd64 autotools-dev all 20180224.1 [39.6 kB]\n",
            "Get:5 http://archive.ubuntu.com/ubuntu bionic/main amd64 automake all 1:1.15.1-3ubuntu2 [509 kB]\n",
            "Fetched 1,082 kB in 1s (1,253 kB/s)\n",
            "debconf: unable to initialize frontend: Dialog\n",
            "debconf: (No usable dialog-like program is installed, so the dialog based frontend cannot be used. at /usr/share/perl5/Debconf/FrontEnd/Dialog.pm line 76, <> line 5.)\n",
            "debconf: falling back to frontend: Readline\n",
            "debconf: unable to initialize frontend: Readline\n",
            "debconf: (This frontend requires a controlling tty.)\n",
            "debconf: falling back to frontend: Teletype\n",
            "dpkg-preconfigure: unable to re-open stdin: \n",
            "Selecting previously unselected package libsigsegv2:amd64.\n",
            "(Reading database ... 144465 files and directories currently installed.)\n",
            "Preparing to unpack .../libsigsegv2_2.12-1_amd64.deb ...\n",
            "Unpacking libsigsegv2:amd64 (2.12-1) ...\n",
            "Selecting previously unselected package m4.\n",
            "Preparing to unpack .../archives/m4_1.4.18-1_amd64.deb ...\n",
            "Unpacking m4 (1.4.18-1) ...\n",
            "Selecting previously unselected package autoconf.\n",
            "Preparing to unpack .../autoconf_2.69-11_all.deb ...\n",
            "Unpacking autoconf (2.69-11) ...\n",
            "Selecting previously unselected package autotools-dev.\n",
            "Preparing to unpack .../autotools-dev_20180224.1_all.deb ...\n",
            "Unpacking autotools-dev (20180224.1) ...\n",
            "Selecting previously unselected package automake.\n",
            "Preparing to unpack .../automake_1%3a1.15.1-3ubuntu2_all.deb ...\n",
            "Unpacking automake (1:1.15.1-3ubuntu2) ...\n",
            "Setting up libsigsegv2:amd64 (2.12-1) ...\n",
            "Setting up m4 (1.4.18-1) ...\n",
            "Setting up autotools-dev (20180224.1) ...\n",
            "Setting up autoconf (2.69-11) ...\n",
            "Setting up automake (1:1.15.1-3ubuntu2) ...\n",
            "update-alternatives: using /usr/bin/automake-1.15 to provide /usr/bin/automake (automake) in auto mode\n",
            "Processing triggers for libc-bin (2.27-3ubuntu1) ...\n",
            "/sbin/ldconfig.real: /usr/local/lib/python3.6/dist-packages/ideep4py/lib/libmkldnn.so.0 is not a symbolic link\n",
            "\n",
            "Processing triggers for man-db (2.8.3-2ubuntu0.1) ...\n",
            "Install mecab-ko-dic\n",
            "  % Total    % Received % Xferd  Average Speed   Time    Time     Time  Current\n",
            "                                 Dload  Upload   Total   Spent    Left  Speed\n",
            "  0     0    0     0    0     0      0      0 --:--:-- --:--:-- --:--:--     0\n",
            "100 1381k  100 1381k    0     0  3169k      0 --:--:-- --:--:-- --:--:-- 17.5M\n",
            "mecab-0.996-ko-0.9.2/\n",
            "mecab-0.996-ko-0.9.2/example/\n",
            "mecab-0.996-ko-0.9.2/example/example.cpp\n",
            "mecab-0.996-ko-0.9.2/example/example_lattice.cpp\n",
            "mecab-0.996-ko-0.9.2/example/example_lattice.c\n",
            "mecab-0.996-ko-0.9.2/example/example.c\n",
            "mecab-0.996-ko-0.9.2/example/thread_test.cpp\n",
            "mecab-0.996-ko-0.9.2/mecab-config.in\n",
            "mecab-0.996-ko-0.9.2/man/\n",
            "mecab-0.996-ko-0.9.2/man/Makefile.am\n",
            "mecab-0.996-ko-0.9.2/man/mecab.1\n",
            "mecab-0.996-ko-0.9.2/man/Makefile.in\n",
            "mecab-0.996-ko-0.9.2/mecab.iss.in\n",
            "mecab-0.996-ko-0.9.2/config.guess\n",
            "mecab-0.996-ko-0.9.2/README\n",
            "mecab-0.996-ko-0.9.2/COPYING\n",
            "mecab-0.996-ko-0.9.2/CHANGES.md\n",
            "mecab-0.996-ko-0.9.2/README.md\n",
            "mecab-0.996-ko-0.9.2/INSTALL\n",
            "mecab-0.996-ko-0.9.2/config.sub\n",
            "mecab-0.996-ko-0.9.2/configure.in\n",
            "mecab-0.996-ko-0.9.2/swig/\n",
            "mecab-0.996-ko-0.9.2/swig/Makefile\n",
            "mecab-0.996-ko-0.9.2/swig/version.h.in\n",
            "mecab-0.996-ko-0.9.2/swig/version.h\n",
            "mecab-0.996-ko-0.9.2/swig/MeCab.i\n",
            "mecab-0.996-ko-0.9.2/aclocal.m4\n",
            "mecab-0.996-ko-0.9.2/LGPL\n",
            "mecab-0.996-ko-0.9.2/Makefile.am\n",
            "mecab-0.996-ko-0.9.2/configure\n",
            "mecab-0.996-ko-0.9.2/tests/\n",
            "mecab-0.996-ko-0.9.2/tests/autolink/\n",
            "mecab-0.996-ko-0.9.2/tests/autolink/unk.def\n",
            "mecab-0.996-ko-0.9.2/tests/autolink/dicrc\n",
            "mecab-0.996-ko-0.9.2/tests/autolink/dic.csv\n",
            "mecab-0.996-ko-0.9.2/tests/autolink/test\n",
            "mecab-0.996-ko-0.9.2/tests/autolink/char.def\n",
            "mecab-0.996-ko-0.9.2/tests/autolink/matrix.def\n",
            "mecab-0.996-ko-0.9.2/tests/autolink/test.gld\n",
            "mecab-0.996-ko-0.9.2/tests/t9/\n",
            "mecab-0.996-ko-0.9.2/tests/t9/unk.def\n",
            "mecab-0.996-ko-0.9.2/tests/t9/ipadic.pl\n",
            "mecab-0.996-ko-0.9.2/tests/t9/dicrc\n",
            "mecab-0.996-ko-0.9.2/tests/t9/dic.csv\n",
            "mecab-0.996-ko-0.9.2/tests/t9/test\n",
            "mecab-0.996-ko-0.9.2/tests/t9/char.def\n",
            "mecab-0.996-ko-0.9.2/tests/t9/matrix.def\n",
            "mecab-0.996-ko-0.9.2/tests/t9/mkdic.pl\n",
            "mecab-0.996-ko-0.9.2/tests/t9/test.gld\n",
            "mecab-0.996-ko-0.9.2/tests/cost-train/\n",
            "mecab-0.996-ko-0.9.2/tests/cost-train/ipa.train\n",
            "mecab-0.996-ko-0.9.2/tests/cost-train/ipa.test\n",
            "mecab-0.996-ko-0.9.2/tests/cost-train/seed/\n",
            "mecab-0.996-ko-0.9.2/tests/cost-train/seed/rewrite.def\n",
            "mecab-0.996-ko-0.9.2/tests/cost-train/seed/feature.def\n",
            "mecab-0.996-ko-0.9.2/tests/cost-train/seed/unk.def\n",
            "mecab-0.996-ko-0.9.2/tests/cost-train/seed/dicrc\n",
            "mecab-0.996-ko-0.9.2/tests/cost-train/seed/dic.csv\n",
            "mecab-0.996-ko-0.9.2/tests/cost-train/seed/char.def\n",
            "mecab-0.996-ko-0.9.2/tests/cost-train/seed/matrix.def\n",
            "mecab-0.996-ko-0.9.2/tests/run-eval.sh\n",
            "mecab-0.996-ko-0.9.2/tests/run-cost-train.sh\n",
            "mecab-0.996-ko-0.9.2/tests/Makefile.am\n",
            "mecab-0.996-ko-0.9.2/tests/katakana/\n",
            "mecab-0.996-ko-0.9.2/tests/katakana/unk.def\n",
            "mecab-0.996-ko-0.9.2/tests/katakana/dicrc\n",
            "mecab-0.996-ko-0.9.2/tests/katakana/dic.csv\n",
            "mecab-0.996-ko-0.9.2/tests/katakana/test\n",
            "mecab-0.996-ko-0.9.2/tests/katakana/char.def\n",
            "mecab-0.996-ko-0.9.2/tests/katakana/matrix.def\n",
            "mecab-0.996-ko-0.9.2/tests/katakana/test.gld\n",
            "mecab-0.996-ko-0.9.2/tests/eval/\n",
            "mecab-0.996-ko-0.9.2/tests/eval/answer\n",
            "mecab-0.996-ko-0.9.2/tests/eval/system\n",
            "mecab-0.996-ko-0.9.2/tests/eval/test.gld\n",
            "mecab-0.996-ko-0.9.2/tests/shiin/\n",
            "mecab-0.996-ko-0.9.2/tests/shiin/unk.def\n",
            "mecab-0.996-ko-0.9.2/tests/shiin/dicrc\n",
            "mecab-0.996-ko-0.9.2/tests/shiin/dic.csv\n",
            "mecab-0.996-ko-0.9.2/tests/shiin/test\n",
            "mecab-0.996-ko-0.9.2/tests/shiin/char.def\n",
            "mecab-0.996-ko-0.9.2/tests/shiin/matrix.def\n",
            "mecab-0.996-ko-0.9.2/tests/shiin/mkdic.pl\n",
            "mecab-0.996-ko-0.9.2/tests/shiin/test.gld\n",
            "mecab-0.996-ko-0.9.2/tests/latin/\n",
            "mecab-0.996-ko-0.9.2/tests/latin/unk.def\n",
            "mecab-0.996-ko-0.9.2/tests/latin/dicrc\n",
            "mecab-0.996-ko-0.9.2/tests/latin/dic.csv\n",
            "mecab-0.996-ko-0.9.2/tests/latin/test\n",
            "mecab-0.996-ko-0.9.2/tests/latin/char.def\n",
            "mecab-0.996-ko-0.9.2/tests/latin/matrix.def\n",
            "mecab-0.996-ko-0.9.2/tests/latin/test.gld\n",
            "mecab-0.996-ko-0.9.2/tests/chartype/\n",
            "mecab-0.996-ko-0.9.2/tests/chartype/unk.def\n",
            "mecab-0.996-ko-0.9.2/tests/chartype/dicrc\n",
            "mecab-0.996-ko-0.9.2/tests/chartype/dic.csv\n",
            "mecab-0.996-ko-0.9.2/tests/chartype/test\n",
            "mecab-0.996-ko-0.9.2/tests/chartype/char.def\n",
            "mecab-0.996-ko-0.9.2/tests/chartype/matrix.def\n",
            "mecab-0.996-ko-0.9.2/tests/chartype/test.gld\n",
            "mecab-0.996-ko-0.9.2/tests/run-dics.sh\n",
            "mecab-0.996-ko-0.9.2/tests/ngram/\n",
            "mecab-0.996-ko-0.9.2/tests/ngram/unk.def\n",
            "mecab-0.996-ko-0.9.2/tests/ngram/dicrc\n",
            "mecab-0.996-ko-0.9.2/tests/ngram/dic.csv\n",
            "mecab-0.996-ko-0.9.2/tests/ngram/test\n",
            "mecab-0.996-ko-0.9.2/tests/ngram/char.def\n",
            "mecab-0.996-ko-0.9.2/tests/ngram/matrix.def\n",
            "mecab-0.996-ko-0.9.2/tests/ngram/test.gld\n",
            "mecab-0.996-ko-0.9.2/tests/Makefile.in\n",
            "mecab-0.996-ko-0.9.2/ltmain.sh\n",
            "mecab-0.996-ko-0.9.2/config.rpath\n",
            "mecab-0.996-ko-0.9.2/config.h.in\n",
            "mecab-0.996-ko-0.9.2/mecabrc.in\n",
            "mecab-0.996-ko-0.9.2/GPL\n",
            "mecab-0.996-ko-0.9.2/Makefile.train\n",
            "mecab-0.996-ko-0.9.2/ChangeLog\n",
            "mecab-0.996-ko-0.9.2/install-sh\n",
            "mecab-0.996-ko-0.9.2/AUTHORS\n",
            "mecab-0.996-ko-0.9.2/doc/\n",
            "mecab-0.996-ko-0.9.2/doc/bindings.html\n",
            "mecab-0.996-ko-0.9.2/doc/posid.html\n",
            "mecab-0.996-ko-0.9.2/doc/unk.html\n",
            "mecab-0.996-ko-0.9.2/doc/learn.html\n",
            "mecab-0.996-ko-0.9.2/doc/format.html\n",
            "mecab-0.996-ko-0.9.2/doc/libmecab.html\n",
            "mecab-0.996-ko-0.9.2/doc/mecab.css\n",
            "mecab-0.996-ko-0.9.2/doc/feature.html\n",
            "mecab-0.996-ko-0.9.2/doc/Makefile.am\n",
            "mecab-0.996-ko-0.9.2/doc/soft.html\n",
            "mecab-0.996-ko-0.9.2/doc/en/\n",
            "mecab-0.996-ko-0.9.2/doc/en/bindings.html\n",
            "mecab-0.996-ko-0.9.2/doc/dic-detail.html\n",
            "mecab-0.996-ko-0.9.2/doc/flow.png\n",
            "mecab-0.996-ko-0.9.2/doc/mecab.html\n",
            "mecab-0.996-ko-0.9.2/doc/index.html\n",
            "mecab-0.996-ko-0.9.2/doc/result.png\n",
            "mecab-0.996-ko-0.9.2/doc/doxygen/\n",
            "mecab-0.996-ko-0.9.2/doc/doxygen/tab_a.png\n",
            "mecab-0.996-ko-0.9.2/doc/doxygen/globals_eval.html\n",
            "mecab-0.996-ko-0.9.2/doc/doxygen/classMeCab_1_1Tagger-members.html\n",
            "mecab-0.996-ko-0.9.2/doc/doxygen/functions_vars.html\n",
            "mecab-0.996-ko-0.9.2/doc/doxygen/doxygen.css\n",
            "mecab-0.996-ko-0.9.2/doc/doxygen/tab_r.gif\n",
            "mecab-0.996-ko-0.9.2/doc/doxygen/classMeCab_1_1Lattice.html\n",
            "mecab-0.996-ko-0.9.2/doc/doxygen/functions.html\n",
            "mecab-0.996-ko-0.9.2/doc/doxygen/classMeCab_1_1Tagger.html\n",
            "mecab-0.996-ko-0.9.2/doc/doxygen/mecab_8h_source.html\n",
            "mecab-0.996-ko-0.9.2/doc/doxygen/tabs.css\n",
            "mecab-0.996-ko-0.9.2/doc/doxygen/nav_f.png\n",
            "mecab-0.996-ko-0.9.2/doc/doxygen/tab_b.png\n",
            "mecab-0.996-ko-0.9.2/doc/doxygen/globals.html\n",
            "mecab-0.996-ko-0.9.2/doc/doxygen/nav_h.png\n",
            "mecab-0.996-ko-0.9.2/doc/doxygen/tab_h.png\n",
            "mecab-0.996-ko-0.9.2/doc/doxygen/classMeCab_1_1Model.html\n",
            "mecab-0.996-ko-0.9.2/doc/doxygen/globals_func.html\n",
            "mecab-0.996-ko-0.9.2/doc/doxygen/closed.png\n",
            "mecab-0.996-ko-0.9.2/doc/doxygen/tab_l.gif\n",
            "mecab-0.996-ko-0.9.2/doc/doxygen/structmecab__path__t-members.html\n",
            "mecab-0.996-ko-0.9.2/doc/doxygen/functions_func.html\n",
            "mecab-0.996-ko-0.9.2/doc/doxygen/globals_type.html\n",
            "mecab-0.996-ko-0.9.2/doc/doxygen/classMeCab_1_1Lattice-members.html\n",
            "mecab-0.996-ko-0.9.2/doc/doxygen/structmecab__node__t.html\n",
            "mecab-0.996-ko-0.9.2/doc/doxygen/namespacemembers_func.html\n",
            "mecab-0.996-ko-0.9.2/doc/doxygen/tab_s.png\n",
            "mecab-0.996-ko-0.9.2/doc/doxygen/structmecab__dictionary__info__t-members.html\n",
            "mecab-0.996-ko-0.9.2/doc/doxygen/namespacemembers_type.html\n",
            "mecab-0.996-ko-0.9.2/doc/doxygen/classMeCab_1_1Model-members.html\n",
            "mecab-0.996-ko-0.9.2/doc/doxygen/structmecab__dictionary__info__t.html\n",
            "mecab-0.996-ko-0.9.2/doc/doxygen/namespaces.html\n",
            "mecab-0.996-ko-0.9.2/doc/doxygen/namespacemembers.html\n",
            "mecab-0.996-ko-0.9.2/doc/doxygen/namespaceMeCab.html\n",
            "mecab-0.996-ko-0.9.2/doc/doxygen/structmecab__path__t.html\n",
            "mecab-0.996-ko-0.9.2/doc/doxygen/files.html\n",
            "mecab-0.996-ko-0.9.2/doc/doxygen/structmecab__node__t-members.html\n",
            "mecab-0.996-ko-0.9.2/doc/doxygen/index.html\n",
            "mecab-0.996-ko-0.9.2/doc/doxygen/annotated.html\n",
            "mecab-0.996-ko-0.9.2/doc/doxygen/globals_defs.html\n",
            "mecab-0.996-ko-0.9.2/doc/doxygen/classes.html\n",
            "mecab-0.996-ko-0.9.2/doc/doxygen/mecab_8h-source.html\n",
            "mecab-0.996-ko-0.9.2/doc/doxygen/doxygen.png\n",
            "mecab-0.996-ko-0.9.2/doc/doxygen/tab_b.gif\n",
            "mecab-0.996-ko-0.9.2/doc/doxygen/bc_s.png\n",
            "mecab-0.996-ko-0.9.2/doc/doxygen/open.png\n",
            "mecab-0.996-ko-0.9.2/doc/doxygen/mecab_8h.html\n",
            "mecab-0.996-ko-0.9.2/doc/dic.html\n",
            "mecab-0.996-ko-0.9.2/doc/partial.html\n",
            "mecab-0.996-ko-0.9.2/doc/feature.png\n",
            "mecab-0.996-ko-0.9.2/doc/Makefile.in\n",
            "mecab-0.996-ko-0.9.2/missing\n",
            "mecab-0.996-ko-0.9.2/BSD\n",
            "mecab-0.996-ko-0.9.2/NEWS\n",
            "mecab-0.996-ko-0.9.2/mkinstalldirs\n",
            "mecab-0.996-ko-0.9.2/src/\n",
            "mecab-0.996-ko-0.9.2/src/dictionary.h\n",
            "mecab-0.996-ko-0.9.2/src/writer.h\n",
            "mecab-0.996-ko-0.9.2/src/utils.h\n",
            "mecab-0.996-ko-0.9.2/src/string_buffer.cpp\n",
            "mecab-0.996-ko-0.9.2/src/tokenizer.cpp\n",
            "mecab-0.996-ko-0.9.2/src/make.bat\n",
            "mecab-0.996-ko-0.9.2/src/mecab.h\n",
            "mecab-0.996-ko-0.9.2/src/freelist.h\n",
            "mecab-0.996-ko-0.9.2/src/string_buffer.h\n",
            "mecab-0.996-ko-0.9.2/src/learner_tagger.h\n",
            "mecab-0.996-ko-0.9.2/src/dictionary_compiler.cpp\n",
            "mecab-0.996-ko-0.9.2/src/eval.cpp\n",
            "mecab-0.996-ko-0.9.2/src/mecab-system-eval.cpp\n",
            "mecab-0.996-ko-0.9.2/src/darts.h\n",
            "mecab-0.996-ko-0.9.2/src/param.h\n",
            "mecab-0.996-ko-0.9.2/src/char_property.h\n",
            "mecab-0.996-ko-0.9.2/src/learner_node.h\n",
            "mecab-0.996-ko-0.9.2/src/mecab-dict-gen.cpp\n",
            "mecab-0.996-ko-0.9.2/src/mecab-dict-index.cpp\n",
            "mecab-0.996-ko-0.9.2/src/winmain.h\n",
            "mecab-0.996-ko-0.9.2/src/thread.h\n",
            "mecab-0.996-ko-0.9.2/src/context_id.cpp\n",
            "mecab-0.996-ko-0.9.2/src/Makefile.am\n",
            "mecab-0.996-ko-0.9.2/src/connector.h\n",
            "mecab-0.996-ko-0.9.2/src/common.h\n",
            "mecab-0.996-ko-0.9.2/src/dictionary_rewriter.cpp\n",
            "mecab-0.996-ko-0.9.2/src/Makefile.msvc.in\n",
            "mecab-0.996-ko-0.9.2/src/dictionary_rewriter.h\n",
            "mecab-0.996-ko-0.9.2/src/feature_index.h\n",
            "mecab-0.996-ko-0.9.2/src/iconv_utils.cpp\n",
            "mecab-0.996-ko-0.9.2/src/char_property.cpp\n",
            "mecab-0.996-ko-0.9.2/src/mecab-test-gen.cpp\n",
            "mecab-0.996-ko-0.9.2/src/tagger.cpp\n",
            "mecab-0.996-ko-0.9.2/src/mecab-cost-train.cpp\n",
            "mecab-0.996-ko-0.9.2/src/learner.cpp\n",
            "mecab-0.996-ko-0.9.2/src/dictionary.cpp\n",
            "mecab-0.996-ko-0.9.2/src/lbfgs.cpp\n",
            "mecab-0.996-ko-0.9.2/src/ucs.h\n",
            "mecab-0.996-ko-0.9.2/src/writer.cpp\n",
            "mecab-0.996-ko-0.9.2/src/learner_tagger.cpp\n",
            "mecab-0.996-ko-0.9.2/src/lbfgs.h\n",
            "mecab-0.996-ko-0.9.2/src/libmecab.cpp\n",
            "mecab-0.996-ko-0.9.2/src/tokenizer.h\n",
            "mecab-0.996-ko-0.9.2/src/mecab.cpp\n",
            "mecab-0.996-ko-0.9.2/src/utils.cpp\n",
            "mecab-0.996-ko-0.9.2/src/dictionary_generator.cpp\n",
            "mecab-0.996-ko-0.9.2/src/param.cpp\n",
            "mecab-0.996-ko-0.9.2/src/context_id.h\n",
            "mecab-0.996-ko-0.9.2/src/mmap.h\n",
            "mecab-0.996-ko-0.9.2/src/viterbi.h\n",
            "mecab-0.996-ko-0.9.2/src/viterbi.cpp\n",
            "mecab-0.996-ko-0.9.2/src/stream_wrapper.h\n",
            "mecab-0.996-ko-0.9.2/src/feature_index.cpp\n",
            "mecab-0.996-ko-0.9.2/src/nbest_generator.h\n",
            "mecab-0.996-ko-0.9.2/src/ucstable.h\n",
            "mecab-0.996-ko-0.9.2/src/nbest_generator.cpp\n",
            "mecab-0.996-ko-0.9.2/src/iconv_utils.h\n",
            "mecab-0.996-ko-0.9.2/src/connector.cpp\n",
            "mecab-0.996-ko-0.9.2/src/Makefile.in\n",
            "mecab-0.996-ko-0.9.2/src/scoped_ptr.h\n",
            "mecab-0.996-ko-0.9.2/Makefile.in\n",
            "checking for a BSD-compatible install... /usr/bin/install -c\n",
            "checking whether build environment is sane... yes\n",
            "checking for a thread-safe mkdir -p... /bin/mkdir -p\n",
            "checking for gawk... no\n",
            "checking for mawk... mawk\n",
            "checking whether make sets $(MAKE)... yes\n",
            "checking for gcc... gcc\n",
            "checking whether the C compiler works... yes\n",
            "checking for C compiler default output file name... a.out\n",
            "checking for suffix of executables... \n",
            "checking whether we are cross compiling... no\n",
            "checking for suffix of object files... o\n",
            "checking whether we are using the GNU C compiler... yes\n",
            "checking whether gcc accepts -g... yes\n",
            "checking for gcc option to accept ISO C89... none needed\n",
            "checking for style of include used by make... GNU\n",
            "checking dependency style of gcc... none\n",
            "checking for g++... g++\n",
            "checking whether we are using the GNU C++ compiler... yes\n",
            "checking whether g++ accepts -g... yes\n",
            "checking dependency style of g++... none\n",
            "checking how to run the C preprocessor... gcc -E\n",
            "checking for grep that handles long lines and -e... /bin/grep\n",
            "checking for egrep... /bin/grep -E\n",
            "checking whether gcc needs -traditional... no\n",
            "checking whether make sets $(MAKE)... (cached) yes\n",
            "checking build system type... x86_64-unknown-linux-gnu\n",
            "checking host system type... x86_64-unknown-linux-gnu\n",
            "checking how to print strings... printf\n",
            "checking for a sed that does not truncate output... /bin/sed\n",
            "checking for fgrep... /bin/grep -F\n",
            "checking for ld used by gcc... /usr/bin/ld\n",
            "checking if the linker (/usr/bin/ld) is GNU ld... yes\n",
            "checking for BSD- or MS-compatible name lister (nm)... /usr/bin/nm -B\n",
            "checking the name lister (/usr/bin/nm -B) interface... BSD nm\n",
            "checking whether ln -s works... yes\n",
            "checking the maximum length of command line arguments... 1572864\n",
            "checking whether the shell understands some XSI constructs... yes\n",
            "checking whether the shell understands \"+=\"... yes\n",
            "checking how to convert x86_64-unknown-linux-gnu file names to x86_64-unknown-linux-gnu format... func_convert_file_noop\n",
            "checking how to convert x86_64-unknown-linux-gnu file names to toolchain format... func_convert_file_noop\n",
            "checking for /usr/bin/ld option to reload object files... -r\n",
            "checking for objdump... objdump\n",
            "checking how to recognize dependent libraries... pass_all\n",
            "checking for dlltool... dlltool\n",
            "checking how to associate runtime and link libraries... printf %s\\n\n",
            "checking for ar... ar\n",
            "checking for archiver @FILE support... @\n",
            "checking for strip... strip\n",
            "checking for ranlib... ranlib\n",
            "checking command to parse /usr/bin/nm -B output from gcc object... ok\n",
            "checking for sysroot... no\n",
            "./configure: line 7378: /usr/bin/file: No such file or directory\n",
            "checking for mt... no\n",
            "checking if : is a manifest tool... no\n",
            "checking for ANSI C header files... yes\n",
            "checking for sys/types.h... yes\n",
            "checking for sys/stat.h... yes\n",
            "checking for stdlib.h... yes\n",
            "checking for string.h... yes\n",
            "checking for memory.h... yes\n",
            "checking for strings.h... yes\n",
            "checking for inttypes.h... yes\n",
            "checking for stdint.h... yes\n",
            "checking for unistd.h... yes\n",
            "checking for dlfcn.h... yes\n",
            "checking for objdir... .libs\n",
            "checking if gcc supports -fno-rtti -fno-exceptions... no\n",
            "checking for gcc option to produce PIC... -fPIC -DPIC\n",
            "checking if gcc PIC flag -fPIC -DPIC works... yes\n",
            "checking if gcc static flag -static works... yes\n",
            "checking if gcc supports -c -o file.o... yes\n",
            "checking if gcc supports -c -o file.o... (cached) yes\n",
            "checking whether the gcc linker (/usr/bin/ld) supports shared libraries... yes\n",
            "checking whether -lc should be explicitly linked in... no\n",
            "checking dynamic linker characteristics... GNU/Linux ld.so\n",
            "checking how to hardcode library paths into programs... immediate\n",
            "checking whether stripping libraries is possible... yes\n",
            "checking if libtool supports shared libraries... yes\n",
            "checking whether to build shared libraries... yes\n",
            "checking whether to build static libraries... yes\n",
            "checking how to run the C++ preprocessor... g++ -E\n",
            "checking for ld used by g++... /usr/bin/ld\n",
            "checking if the linker (/usr/bin/ld) is GNU ld... yes\n",
            "checking whether the g++ linker (/usr/bin/ld) supports shared libraries... yes\n",
            "checking for g++ option to produce PIC... -fPIC -DPIC\n",
            "checking if g++ PIC flag -fPIC -DPIC works... yes\n",
            "checking if g++ static flag -static works... yes\n",
            "checking if g++ supports -c -o file.o... yes\n",
            "checking if g++ supports -c -o file.o... (cached) yes\n",
            "checking whether the g++ linker (/usr/bin/ld) supports shared libraries... yes\n",
            "checking dynamic linker characteristics... (cached) GNU/Linux ld.so\n",
            "checking how to hardcode library paths into programs... immediate\n",
            "checking for library containing strerror... none required\n",
            "checking whether byte ordering is bigendian... no\n",
            "checking for ld used by GCC... /usr/bin/ld\n",
            "checking if the linker (/usr/bin/ld) is GNU ld... yes\n",
            "checking for shared library run path origin... done\n",
            "checking for iconv... yes\n",
            "checking for working iconv... yes\n",
            "checking for iconv declaration... \n",
            "         extern size_t iconv (iconv_t cd, char * *inbuf, size_t *inbytesleft, char * *outbuf, size_t *outbytesleft);\n",
            "checking for ANSI C header files... (cached) yes\n",
            "checking for an ANSI C-conforming const... yes\n",
            "checking whether byte ordering is bigendian... (cached) no\n",
            "checking for string.h... (cached) yes\n",
            "checking for stdlib.h... (cached) yes\n",
            "checking for unistd.h... (cached) yes\n",
            "checking fcntl.h usability... yes\n",
            "checking fcntl.h presence... yes\n",
            "checking for fcntl.h... yes\n",
            "checking for stdint.h... (cached) yes\n",
            "checking for sys/stat.h... (cached) yes\n",
            "checking sys/mman.h usability... yes\n",
            "checking sys/mman.h presence... yes\n",
            "checking for sys/mman.h... yes\n",
            "checking sys/times.h usability... yes\n",
            "checking sys/times.h presence... yes\n",
            "checking for sys/times.h... yes\n",
            "checking for sys/types.h... (cached) yes\n",
            "checking dirent.h usability... yes\n",
            "checking dirent.h presence... yes\n",
            "checking for dirent.h... yes\n",
            "checking ctype.h usability... yes\n",
            "checking ctype.h presence... yes\n",
            "checking for ctype.h... yes\n",
            "checking for sys/types.h... (cached) yes\n",
            "checking io.h usability... no\n",
            "checking io.h presence... no\n",
            "checking for io.h... no\n",
            "checking windows.h usability... no\n",
            "checking windows.h presence... no\n",
            "checking for windows.h... no\n",
            "checking pthread.h usability... yes\n",
            "checking pthread.h presence... yes\n",
            "checking for pthread.h... yes\n",
            "checking for off_t... yes\n",
            "checking for size_t... yes\n",
            "checking size of char... 1\n",
            "checking size of short... 2\n",
            "checking size of int... 4\n",
            "checking size of long... 8\n",
            "checking size of long long... 8\n",
            "checking size of size_t... 8\n",
            "checking for size_t... (cached) yes\n",
            "checking for unsigned long long int... yes\n",
            "checking for stdlib.h... (cached) yes\n",
            "checking for unistd.h... (cached) yes\n",
            "checking for sys/param.h... yes\n",
            "checking for getpagesize... yes\n",
            "checking for working mmap... yes\n",
            "checking for main in -lstdc++... yes\n",
            "checking for pthread_create in -lpthread... yes\n",
            "checking for pthread_join in -lpthread... yes\n",
            "checking for getenv... yes\n",
            "checking for opendir... yes\n",
            "checking whether make is GNU Make... yes\n",
            "checking if g++ supports stl <vector> (required)... yes\n",
            "checking if g++ supports stl <list> (required)... yes\n",
            "checking if g++ supports stl <map> (required)... yes\n",
            "checking if g++ supports stl <set> (required)... yes\n",
            "checking if g++ supports stl <queue> (required)... yes\n",
            "checking if g++ supports stl <functional> (required)... yes\n",
            "checking if g++ supports stl <algorithm> (required)... yes\n",
            "checking if g++ supports stl <string> (required)... yes\n",
            "checking if g++ supports stl <iostream> (required)... yes\n",
            "checking if g++ supports stl <sstream> (required)... yes\n",
            "checking if g++ supports stl <fstream> (required)... yes\n",
            "checking if g++ supports template <class T> (required)... yes\n",
            "checking if g++ supports const_cast<> (required)... yes\n",
            "checking if g++ supports static_cast<> (required)... yes\n",
            "checking if g++ supports reinterpret_cast<> (required)... yes\n",
            "checking if g++ supports namespaces (required) ... yes\n",
            "checking if g++ supports __thread (optional)... yes\n",
            "checking if g++ supports template <class T> (required)... yes\n",
            "checking if g++ supports GCC native atomic operations (optional)... yes\n",
            "checking if g++ supports OSX native atomic operations (optional)... no\n",
            "checking if g++ environment provides all required features... yes\n",
            "configure: creating ./config.status\n",
            "config.status: creating Makefile\n",
            "config.status: creating src/Makefile\n",
            "config.status: creating src/Makefile.msvc\n",
            "config.status: creating man/Makefile\n",
            "config.status: creating doc/Makefile\n",
            "config.status: creating tests/Makefile\n",
            "config.status: creating swig/version.h\n",
            "config.status: creating mecab.iss\n",
            "config.status: creating mecab-config\n",
            "config.status: creating mecabrc\n",
            "config.status: creating config.h\n",
            "config.status: executing depfiles commands\n",
            "config.status: executing libtool commands\n",
            "config.status: executing default commands\n",
            "make  all-recursive\n",
            "make[1]: Entering directory '/tmp/mecab-0.996-ko-0.9.2'\n",
            "Making all in src\n",
            "make[2]: Entering directory '/tmp/mecab-0.996-ko-0.9.2/src'\n",
            "/bin/bash ../libtool --tag=CXX   --mode=compile g++ -DHAVE_CONFIG_H -I. -I.. -DDIC_VERSION=102   -DMECAB_DEFAULT_RC=\"\\\"/usr/local/etc/mecabrc\\\"\"    -O3 -Wall  -c -o viterbi.lo viterbi.cpp\n",
            "libtool: compile:  g++ -DHAVE_CONFIG_H -I. -I.. -DDIC_VERSION=102 -DMECAB_DEFAULT_RC=\\\"/usr/local/etc/mecabrc\\\" -O3 -Wall -c viterbi.cpp  -fPIC -DPIC -o .libs/viterbi.o\n",
            "In file included from \u001b[01m\u001b[Kviterbi.cpp:14:0\u001b[m\u001b[K:\n",
            "\u001b[01m\u001b[Kparam.h:30:13:\u001b[m\u001b[K \u001b[01;35m\u001b[Kwarning: \u001b[m\u001b[K'\u001b[01m\u001b[KTarget {anonymous}::lexical_cast(Source) [with Target = std::__cxx11::basic_string<char>; Source = std::__cxx11::basic_string<char>]\u001b[m\u001b[K' defined but not used [\u001b[01;35m\u001b[K-Wunused-function\u001b[m\u001b[K]\n",
            " std::string \u001b[01;35m\u001b[Klexical_cast<std::string, std::string>\u001b[m\u001b[K(std::string arg) {\n",
            "             \u001b[01;35m\u001b[K^~~~~~~~~~~~~~~~~~~~~~~~~~~~~~~~~~~~~~\u001b[m\u001b[K\n",
            "libtool: compile:  g++ -DHAVE_CONFIG_H -I. -I.. -DDIC_VERSION=102 -DMECAB_DEFAULT_RC=\\\"/usr/local/etc/mecabrc\\\" -O3 -Wall -c viterbi.cpp -o viterbi.o >/dev/null 2>&1\n",
            "/bin/bash ../libtool --tag=CXX   --mode=compile g++ -DHAVE_CONFIG_H -I. -I.. -DDIC_VERSION=102   -DMECAB_DEFAULT_RC=\"\\\"/usr/local/etc/mecabrc\\\"\"    -O3 -Wall  -c -o tagger.lo tagger.cpp\n",
            "libtool: compile:  g++ -DHAVE_CONFIG_H -I. -I.. -DDIC_VERSION=102 -DMECAB_DEFAULT_RC=\\\"/usr/local/etc/mecabrc\\\" -O3 -Wall -c tagger.cpp  -fPIC -DPIC -o .libs/tagger.o\n",
            "libtool: compile:  g++ -DHAVE_CONFIG_H -I. -I.. -DDIC_VERSION=102 -DMECAB_DEFAULT_RC=\\\"/usr/local/etc/mecabrc\\\" -O3 -Wall -c tagger.cpp -o tagger.o >/dev/null 2>&1\n",
            "/bin/bash ../libtool --tag=CXX   --mode=compile g++ -DHAVE_CONFIG_H -I. -I.. -DDIC_VERSION=102   -DMECAB_DEFAULT_RC=\"\\\"/usr/local/etc/mecabrc\\\"\"    -O3 -Wall  -c -o utils.lo utils.cpp\n",
            "libtool: compile:  g++ -DHAVE_CONFIG_H -I. -I.. -DDIC_VERSION=102 -DMECAB_DEFAULT_RC=\\\"/usr/local/etc/mecabrc\\\" -O3 -Wall -c utils.cpp  -fPIC -DPIC -o .libs/utils.o\n",
            "libtool: compile:  g++ -DHAVE_CONFIG_H -I. -I.. -DDIC_VERSION=102 -DMECAB_DEFAULT_RC=\\\"/usr/local/etc/mecabrc\\\" -O3 -Wall -c utils.cpp -o utils.o >/dev/null 2>&1\n",
            "/bin/bash ../libtool --tag=CXX   --mode=compile g++ -DHAVE_CONFIG_H -I. -I.. -DDIC_VERSION=102   -DMECAB_DEFAULT_RC=\"\\\"/usr/local/etc/mecabrc\\\"\"    -O3 -Wall  -c -o eval.lo eval.cpp\n",
            "libtool: compile:  g++ -DHAVE_CONFIG_H -I. -I.. -DDIC_VERSION=102 -DMECAB_DEFAULT_RC=\\\"/usr/local/etc/mecabrc\\\" -O3 -Wall -c eval.cpp  -fPIC -DPIC -o .libs/eval.o\n",
            "libtool: compile:  g++ -DHAVE_CONFIG_H -I. -I.. -DDIC_VERSION=102 -DMECAB_DEFAULT_RC=\\\"/usr/local/etc/mecabrc\\\" -O3 -Wall -c eval.cpp -o eval.o >/dev/null 2>&1\n",
            "/bin/bash ../libtool --tag=CXX   --mode=compile g++ -DHAVE_CONFIG_H -I. -I.. -DDIC_VERSION=102   -DMECAB_DEFAULT_RC=\"\\\"/usr/local/etc/mecabrc\\\"\"    -O3 -Wall  -c -o iconv_utils.lo iconv_utils.cpp\n",
            "libtool: compile:  g++ -DHAVE_CONFIG_H -I. -I.. -DDIC_VERSION=102 -DMECAB_DEFAULT_RC=\\\"/usr/local/etc/mecabrc\\\" -O3 -Wall -c iconv_utils.cpp  -fPIC -DPIC -o .libs/iconv_utils.o\n",
            "libtool: compile:  g++ -DHAVE_CONFIG_H -I. -I.. -DDIC_VERSION=102 -DMECAB_DEFAULT_RC=\\\"/usr/local/etc/mecabrc\\\" -O3 -Wall -c iconv_utils.cpp -o iconv_utils.o >/dev/null 2>&1\n",
            "/bin/bash ../libtool --tag=CXX   --mode=compile g++ -DHAVE_CONFIG_H -I. -I.. -DDIC_VERSION=102   -DMECAB_DEFAULT_RC=\"\\\"/usr/local/etc/mecabrc\\\"\"    -O3 -Wall  -c -o dictionary_rewriter.lo dictionary_rewriter.cpp\n",
            "libtool: compile:  g++ -DHAVE_CONFIG_H -I. -I.. -DDIC_VERSION=102 -DMECAB_DEFAULT_RC=\\\"/usr/local/etc/mecabrc\\\" -O3 -Wall -c dictionary_rewriter.cpp  -fPIC -DPIC -o .libs/dictionary_rewriter.o\n",
            "libtool: compile:  g++ -DHAVE_CONFIG_H -I. -I.. -DDIC_VERSION=102 -DMECAB_DEFAULT_RC=\\\"/usr/local/etc/mecabrc\\\" -O3 -Wall -c dictionary_rewriter.cpp -o dictionary_rewriter.o >/dev/null 2>&1\n",
            "/bin/bash ../libtool --tag=CXX   --mode=compile g++ -DHAVE_CONFIG_H -I. -I.. -DDIC_VERSION=102   -DMECAB_DEFAULT_RC=\"\\\"/usr/local/etc/mecabrc\\\"\"    -O3 -Wall  -c -o dictionary_generator.lo dictionary_generator.cpp\n",
            "libtool: compile:  g++ -DHAVE_CONFIG_H -I. -I.. -DDIC_VERSION=102 -DMECAB_DEFAULT_RC=\\\"/usr/local/etc/mecabrc\\\" -O3 -Wall -c dictionary_generator.cpp  -fPIC -DPIC -o .libs/dictionary_generator.o\n",
            "libtool: compile:  g++ -DHAVE_CONFIG_H -I. -I.. -DDIC_VERSION=102 -DMECAB_DEFAULT_RC=\\\"/usr/local/etc/mecabrc\\\" -O3 -Wall -c dictionary_generator.cpp -o dictionary_generator.o >/dev/null 2>&1\n",
            "/bin/bash ../libtool --tag=CXX   --mode=compile g++ -DHAVE_CONFIG_H -I. -I.. -DDIC_VERSION=102   -DMECAB_DEFAULT_RC=\"\\\"/usr/local/etc/mecabrc\\\"\"    -O3 -Wall  -c -o dictionary_compiler.lo dictionary_compiler.cpp\n",
            "libtool: compile:  g++ -DHAVE_CONFIG_H -I. -I.. -DDIC_VERSION=102 -DMECAB_DEFAULT_RC=\\\"/usr/local/etc/mecabrc\\\" -O3 -Wall -c dictionary_compiler.cpp  -fPIC -DPIC -o .libs/dictionary_compiler.o\n",
            "libtool: compile:  g++ -DHAVE_CONFIG_H -I. -I.. -DDIC_VERSION=102 -DMECAB_DEFAULT_RC=\\\"/usr/local/etc/mecabrc\\\" -O3 -Wall -c dictionary_compiler.cpp -o dictionary_compiler.o >/dev/null 2>&1\n",
            "/bin/bash ../libtool --tag=CXX   --mode=compile g++ -DHAVE_CONFIG_H -I. -I.. -DDIC_VERSION=102   -DMECAB_DEFAULT_RC=\"\\\"/usr/local/etc/mecabrc\\\"\"    -O3 -Wall  -c -o context_id.lo context_id.cpp\n",
            "libtool: compile:  g++ -DHAVE_CONFIG_H -I. -I.. -DDIC_VERSION=102 -DMECAB_DEFAULT_RC=\\\"/usr/local/etc/mecabrc\\\" -O3 -Wall -c context_id.cpp  -fPIC -DPIC -o .libs/context_id.o\n",
            "libtool: compile:  g++ -DHAVE_CONFIG_H -I. -I.. -DDIC_VERSION=102 -DMECAB_DEFAULT_RC=\\\"/usr/local/etc/mecabrc\\\" -O3 -Wall -c context_id.cpp -o context_id.o >/dev/null 2>&1\n",
            "/bin/bash ../libtool --tag=CXX   --mode=compile g++ -DHAVE_CONFIG_H -I. -I.. -DDIC_VERSION=102   -DMECAB_DEFAULT_RC=\"\\\"/usr/local/etc/mecabrc\\\"\"    -O3 -Wall  -c -o connector.lo connector.cpp\n",
            "libtool: compile:  g++ -DHAVE_CONFIG_H -I. -I.. -DDIC_VERSION=102 -DMECAB_DEFAULT_RC=\\\"/usr/local/etc/mecabrc\\\" -O3 -Wall -c connector.cpp  -fPIC -DPIC -o .libs/connector.o\n",
            "libtool: compile:  g++ -DHAVE_CONFIG_H -I. -I.. -DDIC_VERSION=102 -DMECAB_DEFAULT_RC=\\\"/usr/local/etc/mecabrc\\\" -O3 -Wall -c connector.cpp -o connector.o >/dev/null 2>&1\n",
            "/bin/bash ../libtool --tag=CXX   --mode=compile g++ -DHAVE_CONFIG_H -I. -I.. -DDIC_VERSION=102   -DMECAB_DEFAULT_RC=\"\\\"/usr/local/etc/mecabrc\\\"\"    -O3 -Wall  -c -o nbest_generator.lo nbest_generator.cpp\n",
            "libtool: compile:  g++ -DHAVE_CONFIG_H -I. -I.. -DDIC_VERSION=102 -DMECAB_DEFAULT_RC=\\\"/usr/local/etc/mecabrc\\\" -O3 -Wall -c nbest_generator.cpp  -fPIC -DPIC -o .libs/nbest_generator.o\n",
            "libtool: compile:  g++ -DHAVE_CONFIG_H -I. -I.. -DDIC_VERSION=102 -DMECAB_DEFAULT_RC=\\\"/usr/local/etc/mecabrc\\\" -O3 -Wall -c nbest_generator.cpp -o nbest_generator.o >/dev/null 2>&1\n",
            "/bin/bash ../libtool --tag=CXX   --mode=compile g++ -DHAVE_CONFIG_H -I. -I.. -DDIC_VERSION=102   -DMECAB_DEFAULT_RC=\"\\\"/usr/local/etc/mecabrc\\\"\"    -O3 -Wall  -c -o writer.lo writer.cpp\n",
            "libtool: compile:  g++ -DHAVE_CONFIG_H -I. -I.. -DDIC_VERSION=102 -DMECAB_DEFAULT_RC=\\\"/usr/local/etc/mecabrc\\\" -O3 -Wall -c writer.cpp  -fPIC -DPIC -o .libs/writer.o\n",
            "libtool: compile:  g++ -DHAVE_CONFIG_H -I. -I.. -DDIC_VERSION=102 -DMECAB_DEFAULT_RC=\\\"/usr/local/etc/mecabrc\\\" -O3 -Wall -c writer.cpp -o writer.o >/dev/null 2>&1\n",
            "/bin/bash ../libtool --tag=CXX   --mode=compile g++ -DHAVE_CONFIG_H -I. -I.. -DDIC_VERSION=102   -DMECAB_DEFAULT_RC=\"\\\"/usr/local/etc/mecabrc\\\"\"    -O3 -Wall  -c -o string_buffer.lo string_buffer.cpp\n",
            "libtool: compile:  g++ -DHAVE_CONFIG_H -I. -I.. -DDIC_VERSION=102 -DMECAB_DEFAULT_RC=\\\"/usr/local/etc/mecabrc\\\" -O3 -Wall -c string_buffer.cpp  -fPIC -DPIC -o .libs/string_buffer.o\n",
            "libtool: compile:  g++ -DHAVE_CONFIG_H -I. -I.. -DDIC_VERSION=102 -DMECAB_DEFAULT_RC=\\\"/usr/local/etc/mecabrc\\\" -O3 -Wall -c string_buffer.cpp -o string_buffer.o >/dev/null 2>&1\n",
            "/bin/bash ../libtool --tag=CXX   --mode=compile g++ -DHAVE_CONFIG_H -I. -I.. -DDIC_VERSION=102   -DMECAB_DEFAULT_RC=\"\\\"/usr/local/etc/mecabrc\\\"\"    -O3 -Wall  -c -o param.lo param.cpp\n",
            "libtool: compile:  g++ -DHAVE_CONFIG_H -I. -I.. -DDIC_VERSION=102 -DMECAB_DEFAULT_RC=\\\"/usr/local/etc/mecabrc\\\" -O3 -Wall -c param.cpp  -fPIC -DPIC -o .libs/param.o\n",
            "libtool: compile:  g++ -DHAVE_CONFIG_H -I. -I.. -DDIC_VERSION=102 -DMECAB_DEFAULT_RC=\\\"/usr/local/etc/mecabrc\\\" -O3 -Wall -c param.cpp -o param.o >/dev/null 2>&1\n",
            "/bin/bash ../libtool --tag=CXX   --mode=compile g++ -DHAVE_CONFIG_H -I. -I.. -DDIC_VERSION=102   -DMECAB_DEFAULT_RC=\"\\\"/usr/local/etc/mecabrc\\\"\"    -O3 -Wall  -c -o tokenizer.lo tokenizer.cpp\n",
            "libtool: compile:  g++ -DHAVE_CONFIG_H -I. -I.. -DDIC_VERSION=102 -DMECAB_DEFAULT_RC=\\\"/usr/local/etc/mecabrc\\\" -O3 -Wall -c tokenizer.cpp  -fPIC -DPIC -o .libs/tokenizer.o\n",
            "libtool: compile:  g++ -DHAVE_CONFIG_H -I. -I.. -DDIC_VERSION=102 -DMECAB_DEFAULT_RC=\\\"/usr/local/etc/mecabrc\\\" -O3 -Wall -c tokenizer.cpp -o tokenizer.o >/dev/null 2>&1\n",
            "/bin/bash ../libtool --tag=CXX   --mode=compile g++ -DHAVE_CONFIG_H -I. -I.. -DDIC_VERSION=102   -DMECAB_DEFAULT_RC=\"\\\"/usr/local/etc/mecabrc\\\"\"    -O3 -Wall  -c -o char_property.lo char_property.cpp\n",
            "libtool: compile:  g++ -DHAVE_CONFIG_H -I. -I.. -DDIC_VERSION=102 -DMECAB_DEFAULT_RC=\\\"/usr/local/etc/mecabrc\\\" -O3 -Wall -c char_property.cpp  -fPIC -DPIC -o .libs/char_property.o\n",
            "libtool: compile:  g++ -DHAVE_CONFIG_H -I. -I.. -DDIC_VERSION=102 -DMECAB_DEFAULT_RC=\\\"/usr/local/etc/mecabrc\\\" -O3 -Wall -c char_property.cpp -o char_property.o >/dev/null 2>&1\n",
            "/bin/bash ../libtool --tag=CXX   --mode=compile g++ -DHAVE_CONFIG_H -I. -I.. -DDIC_VERSION=102   -DMECAB_DEFAULT_RC=\"\\\"/usr/local/etc/mecabrc\\\"\"    -O3 -Wall  -c -o dictionary.lo dictionary.cpp\n",
            "libtool: compile:  g++ -DHAVE_CONFIG_H -I. -I.. -DDIC_VERSION=102 -DMECAB_DEFAULT_RC=\\\"/usr/local/etc/mecabrc\\\" -O3 -Wall -c dictionary.cpp  -fPIC -DPIC -o .libs/dictionary.o\n",
            "libtool: compile:  g++ -DHAVE_CONFIG_H -I. -I.. -DDIC_VERSION=102 -DMECAB_DEFAULT_RC=\\\"/usr/local/etc/mecabrc\\\" -O3 -Wall -c dictionary.cpp -o dictionary.o >/dev/null 2>&1\n",
            "/bin/bash ../libtool --tag=CXX   --mode=compile g++ -DHAVE_CONFIG_H -I. -I.. -DDIC_VERSION=102   -DMECAB_DEFAULT_RC=\"\\\"/usr/local/etc/mecabrc\\\"\"    -O3 -Wall  -c -o feature_index.lo feature_index.cpp\n",
            "libtool: compile:  g++ -DHAVE_CONFIG_H -I. -I.. -DDIC_VERSION=102 -DMECAB_DEFAULT_RC=\\\"/usr/local/etc/mecabrc\\\" -O3 -Wall -c feature_index.cpp  -fPIC -DPIC -o .libs/feature_index.o\n",
            "libtool: compile:  g++ -DHAVE_CONFIG_H -I. -I.. -DDIC_VERSION=102 -DMECAB_DEFAULT_RC=\\\"/usr/local/etc/mecabrc\\\" -O3 -Wall -c feature_index.cpp -o feature_index.o >/dev/null 2>&1\n",
            "/bin/bash ../libtool --tag=CXX   --mode=compile g++ -DHAVE_CONFIG_H -I. -I.. -DDIC_VERSION=102   -DMECAB_DEFAULT_RC=\"\\\"/usr/local/etc/mecabrc\\\"\"    -O3 -Wall  -c -o lbfgs.lo lbfgs.cpp\n",
            "libtool: compile:  g++ -DHAVE_CONFIG_H -I. -I.. -DDIC_VERSION=102 -DMECAB_DEFAULT_RC=\\\"/usr/local/etc/mecabrc\\\" -O3 -Wall -c lbfgs.cpp  -fPIC -DPIC -o .libs/lbfgs.o\n",
            "libtool: compile:  g++ -DHAVE_CONFIG_H -I. -I.. -DDIC_VERSION=102 -DMECAB_DEFAULT_RC=\\\"/usr/local/etc/mecabrc\\\" -O3 -Wall -c lbfgs.cpp -o lbfgs.o >/dev/null 2>&1\n",
            "/bin/bash ../libtool --tag=CXX   --mode=compile g++ -DHAVE_CONFIG_H -I. -I.. -DDIC_VERSION=102   -DMECAB_DEFAULT_RC=\"\\\"/usr/local/etc/mecabrc\\\"\"    -O3 -Wall  -c -o learner_tagger.lo learner_tagger.cpp\n",
            "libtool: compile:  g++ -DHAVE_CONFIG_H -I. -I.. -DDIC_VERSION=102 -DMECAB_DEFAULT_RC=\\\"/usr/local/etc/mecabrc\\\" -O3 -Wall -c learner_tagger.cpp  -fPIC -DPIC -o .libs/learner_tagger.o\n",
            "\u001b[01m\u001b[Klearner_tagger.cpp:25:7:\u001b[m\u001b[K \u001b[01;35m\u001b[Kwarning: \u001b[m\u001b[K'\u001b[01m\u001b[Kchar* MeCab::{anonymous}::mystrdup(const string&)\u001b[m\u001b[K' defined but not used [\u001b[01;35m\u001b[K-Wunused-function\u001b[m\u001b[K]\n",
            " char *\u001b[01;35m\u001b[Kmystrdup\u001b[m\u001b[K(const std::string &str) {\n",
            "       \u001b[01;35m\u001b[K^~~~~~~~\u001b[m\u001b[K\n",
            "libtool: compile:  g++ -DHAVE_CONFIG_H -I. -I.. -DDIC_VERSION=102 -DMECAB_DEFAULT_RC=\\\"/usr/local/etc/mecabrc\\\" -O3 -Wall -c learner_tagger.cpp -o learner_tagger.o >/dev/null 2>&1\n",
            "/bin/bash ../libtool --tag=CXX   --mode=compile g++ -DHAVE_CONFIG_H -I. -I.. -DDIC_VERSION=102   -DMECAB_DEFAULT_RC=\"\\\"/usr/local/etc/mecabrc\\\"\"    -O3 -Wall  -c -o learner.lo learner.cpp\n",
            "libtool: compile:  g++ -DHAVE_CONFIG_H -I. -I.. -DDIC_VERSION=102 -DMECAB_DEFAULT_RC=\\\"/usr/local/etc/mecabrc\\\" -O3 -Wall -c learner.cpp  -fPIC -DPIC -o .libs/learner.o\n",
            "libtool: compile:  g++ -DHAVE_CONFIG_H -I. -I.. -DDIC_VERSION=102 -DMECAB_DEFAULT_RC=\\\"/usr/local/etc/mecabrc\\\" -O3 -Wall -c learner.cpp -o learner.o >/dev/null 2>&1\n",
            "/bin/bash ../libtool --tag=CXX   --mode=compile g++ -DHAVE_CONFIG_H -I. -I.. -DDIC_VERSION=102   -DMECAB_DEFAULT_RC=\"\\\"/usr/local/etc/mecabrc\\\"\"    -O3 -Wall  -c -o libmecab.lo libmecab.cpp\n",
            "libtool: compile:  g++ -DHAVE_CONFIG_H -I. -I.. -DDIC_VERSION=102 -DMECAB_DEFAULT_RC=\\\"/usr/local/etc/mecabrc\\\" -O3 -Wall -c libmecab.cpp  -fPIC -DPIC -o .libs/libmecab.o\n",
            "libtool: compile:  g++ -DHAVE_CONFIG_H -I. -I.. -DDIC_VERSION=102 -DMECAB_DEFAULT_RC=\\\"/usr/local/etc/mecabrc\\\" -O3 -Wall -c libmecab.cpp -o libmecab.o >/dev/null 2>&1\n",
            "/bin/bash ../libtool --tag=CXX   --mode=link g++  -O3 -Wall  -no-undefined -version-info 2:0:0  -o libmecab.la -rpath /usr/local/lib viterbi.lo tagger.lo utils.lo eval.lo iconv_utils.lo dictionary_rewriter.lo dictionary_generator.lo dictionary_compiler.lo context_id.lo connector.lo nbest_generator.lo writer.lo string_buffer.lo param.lo tokenizer.lo char_property.lo dictionary.lo feature_index.lo lbfgs.lo learner_tagger.lo learner.lo libmecab.lo  -lpthread -lpthread  -lstdc++ \n",
            "libtool: link: g++  -fPIC -DPIC -shared -nostdlib /usr/lib/gcc/x86_64-linux-gnu/7/../../../x86_64-linux-gnu/crti.o /usr/lib/gcc/x86_64-linux-gnu/7/crtbeginS.o  .libs/viterbi.o .libs/tagger.o .libs/utils.o .libs/eval.o .libs/iconv_utils.o .libs/dictionary_rewriter.o .libs/dictionary_generator.o .libs/dictionary_compiler.o .libs/context_id.o .libs/connector.o .libs/nbest_generator.o .libs/writer.o .libs/string_buffer.o .libs/param.o .libs/tokenizer.o .libs/char_property.o .libs/dictionary.o .libs/feature_index.o .libs/lbfgs.o .libs/learner_tagger.o .libs/learner.o .libs/libmecab.o   -lpthread -L/usr/lib/gcc/x86_64-linux-gnu/7 -L/usr/lib/gcc/x86_64-linux-gnu/7/../../../x86_64-linux-gnu -L/usr/lib/gcc/x86_64-linux-gnu/7/../../../../lib -L/lib/x86_64-linux-gnu -L/lib/../lib -L/usr/lib/x86_64-linux-gnu -L/usr/lib/../lib -L/usr/local/cuda/lib64/stubs -L/usr/lib/gcc/x86_64-linux-gnu/7/../../.. -lstdc++ -lm -lc -lgcc_s /usr/lib/gcc/x86_64-linux-gnu/7/crtendS.o /usr/lib/gcc/x86_64-linux-gnu/7/../../../x86_64-linux-gnu/crtn.o  -O3   -Wl,-soname -Wl,libmecab.so.2 -o .libs/libmecab.so.2.0.0\n",
            "libtool: link: (cd \".libs\" && rm -f \"libmecab.so.2\" && ln -s \"libmecab.so.2.0.0\" \"libmecab.so.2\")\n",
            "libtool: link: (cd \".libs\" && rm -f \"libmecab.so\" && ln -s \"libmecab.so.2.0.0\" \"libmecab.so\")\n",
            "libtool: link: ar cru .libs/libmecab.a  viterbi.o tagger.o utils.o eval.o iconv_utils.o dictionary_rewriter.o dictionary_generator.o dictionary_compiler.o context_id.o connector.o nbest_generator.o writer.o string_buffer.o param.o tokenizer.o char_property.o dictionary.o feature_index.o lbfgs.o learner_tagger.o learner.o libmecab.o\n",
            "ar: `u' modifier ignored since `D' is the default (see `U')\n",
            "libtool: link: ranlib .libs/libmecab.a\n",
            "libtool: link: ( cd \".libs\" && rm -f \"libmecab.la\" && ln -s \"../libmecab.la\" \"libmecab.la\" )\n",
            "g++ -DHAVE_CONFIG_H -I. -I.. -DDIC_VERSION=102   -DMECAB_DEFAULT_RC=\"\\\"/usr/local/etc/mecabrc\\\"\"    -O3 -Wall  -c -o mecab.o mecab.cpp\n",
            "/bin/bash ../libtool --tag=CXX   --mode=link g++  -O3 -Wall    -o mecab mecab.o libmecab.la -lpthread -lpthread  -lstdc++ \n",
            "libtool: link: g++ -O3 -Wall -o .libs/mecab mecab.o  ./.libs/libmecab.so -lpthread -lstdc++\n",
            "g++ -DHAVE_CONFIG_H -I. -I.. -DDIC_VERSION=102   -DMECAB_DEFAULT_RC=\"\\\"/usr/local/etc/mecabrc\\\"\"    -O3 -Wall  -c -o mecab-dict-index.o mecab-dict-index.cpp\n",
            "/bin/bash ../libtool --tag=CXX   --mode=link g++  -O3 -Wall    -o mecab-dict-index mecab-dict-index.o libmecab.la -lpthread -lpthread  -lstdc++ \n",
            "libtool: link: g++ -O3 -Wall -o .libs/mecab-dict-index mecab-dict-index.o  ./.libs/libmecab.so -lpthread -lstdc++\n",
            "g++ -DHAVE_CONFIG_H -I. -I.. -DDIC_VERSION=102   -DMECAB_DEFAULT_RC=\"\\\"/usr/local/etc/mecabrc\\\"\"    -O3 -Wall  -c -o mecab-dict-gen.o mecab-dict-gen.cpp\n",
            "/bin/bash ../libtool --tag=CXX   --mode=link g++  -O3 -Wall    -o mecab-dict-gen mecab-dict-gen.o libmecab.la -lpthread -lpthread  -lstdc++ \n",
            "libtool: link: g++ -O3 -Wall -o .libs/mecab-dict-gen mecab-dict-gen.o  ./.libs/libmecab.so -lpthread -lstdc++\n",
            "g++ -DHAVE_CONFIG_H -I. -I.. -DDIC_VERSION=102   -DMECAB_DEFAULT_RC=\"\\\"/usr/local/etc/mecabrc\\\"\"    -O3 -Wall  -c -o mecab-cost-train.o mecab-cost-train.cpp\n",
            "/bin/bash ../libtool --tag=CXX   --mode=link g++  -O3 -Wall    -o mecab-cost-train mecab-cost-train.o libmecab.la -lpthread -lpthread  -lstdc++ \n",
            "libtool: link: g++ -O3 -Wall -o .libs/mecab-cost-train mecab-cost-train.o  ./.libs/libmecab.so -lpthread -lstdc++\n",
            "g++ -DHAVE_CONFIG_H -I. -I.. -DDIC_VERSION=102   -DMECAB_DEFAULT_RC=\"\\\"/usr/local/etc/mecabrc\\\"\"    -O3 -Wall  -c -o mecab-system-eval.o mecab-system-eval.cpp\n",
            "/bin/bash ../libtool --tag=CXX   --mode=link g++  -O3 -Wall    -o mecab-system-eval mecab-system-eval.o libmecab.la -lpthread -lpthread  -lstdc++ \n",
            "libtool: link: g++ -O3 -Wall -o .libs/mecab-system-eval mecab-system-eval.o  ./.libs/libmecab.so -lpthread -lstdc++\n",
            "g++ -DHAVE_CONFIG_H -I. -I.. -DDIC_VERSION=102   -DMECAB_DEFAULT_RC=\"\\\"/usr/local/etc/mecabrc\\\"\"    -O3 -Wall  -c -o mecab-test-gen.o mecab-test-gen.cpp\n",
            "/bin/bash ../libtool --tag=CXX   --mode=link g++  -O3 -Wall    -o mecab-test-gen mecab-test-gen.o libmecab.la -lpthread -lpthread  -lstdc++ \n",
            "libtool: link: g++ -O3 -Wall -o .libs/mecab-test-gen mecab-test-gen.o  ./.libs/libmecab.so -lpthread -lstdc++\n",
            "make[2]: Leaving directory '/tmp/mecab-0.996-ko-0.9.2/src'\n",
            "Making all in man\n",
            "make[2]: Entering directory '/tmp/mecab-0.996-ko-0.9.2/man'\n",
            "make[2]: Nothing to be done for 'all'.\n",
            "make[2]: Leaving directory '/tmp/mecab-0.996-ko-0.9.2/man'\n",
            "Making all in doc\n",
            "make[2]: Entering directory '/tmp/mecab-0.996-ko-0.9.2/doc'\n",
            "make[2]: Nothing to be done for 'all'.\n",
            "make[2]: Leaving directory '/tmp/mecab-0.996-ko-0.9.2/doc'\n",
            "Making all in tests\n",
            "make[2]: Entering directory '/tmp/mecab-0.996-ko-0.9.2/tests'\n",
            "make[2]: Nothing to be done for 'all'.\n",
            "make[2]: Leaving directory '/tmp/mecab-0.996-ko-0.9.2/tests'\n",
            "make[2]: Entering directory '/tmp/mecab-0.996-ko-0.9.2'\n",
            "make[2]: Leaving directory '/tmp/mecab-0.996-ko-0.9.2'\n",
            "make[1]: Leaving directory '/tmp/mecab-0.996-ko-0.9.2'\n",
            "Making check in src\n",
            "make[1]: Entering directory '/tmp/mecab-0.996-ko-0.9.2/src'\n",
            "make[1]: Nothing to be done for 'check'.\n",
            "make[1]: Leaving directory '/tmp/mecab-0.996-ko-0.9.2/src'\n",
            "Making check in man\n",
            "make[1]: Entering directory '/tmp/mecab-0.996-ko-0.9.2/man'\n",
            "make[1]: Nothing to be done for 'check'.\n",
            "make[1]: Leaving directory '/tmp/mecab-0.996-ko-0.9.2/man'\n",
            "Making check in doc\n",
            "make[1]: Entering directory '/tmp/mecab-0.996-ko-0.9.2/doc'\n",
            "make[1]: Nothing to be done for 'check'.\n",
            "make[1]: Leaving directory '/tmp/mecab-0.996-ko-0.9.2/doc'\n",
            "Making check in tests\n",
            "make[1]: Entering directory '/tmp/mecab-0.996-ko-0.9.2/tests'\n",
            "make  check-TESTS\n",
            "make[2]: Entering directory '/tmp/mecab-0.996-ko-0.9.2/tests'\n",
            "./pos-id.def is not found. minimum setting is used\n",
            "reading ./unk.def ... 2\n",
            "emitting double-array: 100% |###########################################| \n",
            "./model.def is not found. skipped.\n",
            "./pos-id.def is not found. minimum setting is used\n",
            "reading ./dic.csv ... 177\n",
            "emitting double-array: 100% |###########################################| \n",
            "reading ./matrix.def ... 178x178\n",
            "emitting matrix      : 100% |###########################################| \n",
            "\n",
            "done!\n",
            "./pos-id.def is not found. minimum setting is used\n",
            "reading ./unk.def ... 2\n",
            "emitting double-array: 100% |###########################################| \n",
            "./model.def is not found. skipped.\n",
            "./pos-id.def is not found. minimum setting is used\n",
            "reading ./dic.csv ... 83\n",
            "emitting double-array: 100% |###########################################| \n",
            "reading ./matrix.def ... 84x84\n",
            "emitting matrix      : 100% |###########################################| \n",
            "\n",
            "done!\n",
            "./pos-id.def is not found. minimum setting is used\n",
            "reading ./unk.def ... 2\n",
            "emitting double-array: 100% |###########################################| \n",
            "./model.def is not found. skipped.\n",
            "./pos-id.def is not found. minimum setting is used\n",
            "reading ./dic.csv ... 450\n",
            "emitting double-array: 100% |###########################################| \n",
            "reading ./matrix.def ... 1x1\n",
            "\n",
            "done!\n",
            "./pos-id.def is not found. minimum setting is used\n",
            "reading ./unk.def ... 2\n",
            "emitting double-array: 100% |###########################################| \n",
            "./model.def is not found. skipped.\n",
            "./pos-id.def is not found. minimum setting is used\n",
            "reading ./dic.csv ... 162\n",
            "emitting double-array: 100% |###########################################| \n",
            "reading ./matrix.def ... 3x3\n",
            "emitting matrix      : 100% |###########################################| \n",
            "\n",
            "done!\n",
            "./pos-id.def is not found. minimum setting is used\n",
            "reading ./unk.def ... 2\n",
            "emitting double-array: 100% |###########################################| \n",
            "./model.def is not found. skipped.\n",
            "./pos-id.def is not found. minimum setting is used\n",
            "reading ./dic.csv ... 4\n",
            "emitting double-array: 100% |###########################################| \n",
            "reading ./matrix.def ... 1x1\n",
            "\n",
            "done!\n",
            "./pos-id.def is not found. minimum setting is used\n",
            "reading ./unk.def ... 11\n",
            "emitting double-array: 100% |###########################################| \n",
            "./model.def is not found. skipped.\n",
            "./pos-id.def is not found. minimum setting is used\n",
            "reading ./dic.csv ... 1\n",
            "reading ./matrix.def ... 1x1\n",
            "\n",
            "done!\n",
            "./pos-id.def is not found. minimum setting is used\n",
            "reading ./unk.def ... 2\n",
            "emitting double-array: 100% |###########################################| \n",
            "./model.def is not found. skipped.\n",
            "./pos-id.def is not found. minimum setting is used\n",
            "reading ./dic.csv ... 1\n",
            "reading ./matrix.def ... 1x1\n",
            "\n",
            "done!\n",
            "PASS: run-dics.sh\n",
            "PASS: run-eval.sh\n",
            "seed/pos-id.def is not found. minimum setting is used\n",
            "reading seed/unk.def ... 40\n",
            "emitting double-array: 100% |###########################################| \n",
            "seed/model.def is not found. skipped.\n",
            "seed/pos-id.def is not found. minimum setting is used\n",
            "reading seed/dic.csv ... 4335\n",
            "emitting double-array: 100% |###########################################| \n",
            "reading seed/matrix.def ... 1x1\n",
            "\n",
            "done!\n",
            "reading corpus ...\n",
            "Number of sentences: 34\n",
            "Number of features:  64108\n",
            "eta:                 0.00005\n",
            "freq:                1\n",
            "eval-size:           6\n",
            "unk-eval-size:       4\n",
            "threads:             1\n",
            "charset:             EUC-JP\n",
            "C(sigma^2):          1.00000\n",
            "\n",
            "iter=0 err=1.00000 F=0.35771 target=2406.28355 diff=1.00000\n",
            "iter=1 err=0.97059 F=0.65652 target=1484.25231 diff=0.38318\n",
            "iter=2 err=0.91176 F=0.79331 target=863.32765 diff=0.41834\n",
            "iter=3 err=0.85294 F=0.89213 target=596.72480 diff=0.30881\n",
            "iter=4 err=0.61765 F=0.95467 target=336.30744 diff=0.43641\n",
            "iter=5 err=0.50000 F=0.96702 target=246.53039 diff=0.26695\n",
            "iter=6 err=0.35294 F=0.95472 target=188.93963 diff=0.23361\n",
            "iter=7 err=0.20588 F=0.99106 target=168.62665 diff=0.10751\n",
            "iter=8 err=0.05882 F=0.99777 target=158.64865 diff=0.05917\n",
            "iter=9 err=0.08824 F=0.99665 target=154.14530 diff=0.02839\n",
            "iter=10 err=0.08824 F=0.99665 target=151.94257 diff=0.01429\n",
            "iter=11 err=0.02941 F=0.99888 target=147.20825 diff=0.03116\n",
            "iter=12 err=0.00000 F=1.00000 target=147.34956 diff=0.00096\n",
            "iter=13 err=0.02941 F=0.99888 target=146.32592 diff=0.00695\n",
            "iter=14 err=0.00000 F=1.00000 target=145.77299 diff=0.00378\n",
            "iter=15 err=0.02941 F=0.99888 target=145.24641 diff=0.00361\n",
            "iter=16 err=0.00000 F=1.00000 target=144.96490 diff=0.00194\n",
            "iter=17 err=0.02941 F=0.99888 target=144.90246 diff=0.00043\n",
            "iter=18 err=0.00000 F=1.00000 target=144.75959 diff=0.00099\n",
            "iter=19 err=0.00000 F=1.00000 target=144.71727 diff=0.00029\n",
            "iter=20 err=0.00000 F=1.00000 target=144.66337 diff=0.00037\n",
            "iter=21 err=0.00000 F=1.00000 target=144.61349 diff=0.00034\n",
            "iter=22 err=0.00000 F=1.00000 target=144.62987 diff=0.00011\n",
            "iter=23 err=0.00000 F=1.00000 target=144.60060 diff=0.00020\n",
            "iter=24 err=0.00000 F=1.00000 target=144.59125 diff=0.00006\n",
            "iter=25 err=0.00000 F=1.00000 target=144.58619 diff=0.00004\n",
            "iter=26 err=0.00000 F=1.00000 target=144.58219 diff=0.00003\n",
            "iter=27 err=0.00000 F=1.00000 target=144.58059 diff=0.00001\n",
            "\n",
            "Done! writing model file ... \n",
            "model-ipadic.c1.0.f1.model is not a binary model. reopen it as text mode...\n",
            "reading seed/unk.def ... 40\n",
            "reading seed/dic.csv ... 4335\n",
            "emitting model-ipadic.c1.0.f1.dic/left-id.def/ model-ipadic.c1.0.f1.dic/right-id.def\n",
            "emitting model-ipadic.c1.0.f1.dic/unk.def ... 40\n",
            "emitting model-ipadic.c1.0.f1.dic/dic.csv ... 4335\n",
            "emitting matrix      : 100% |###########################################| \n",
            "copying seed/char.def to model-ipadic.c1.0.f1.dic/char.def\n",
            "copying seed/rewrite.def to model-ipadic.c1.0.f1.dic/rewrite.def\n",
            "copying seed/dicrc to model-ipadic.c1.0.f1.dic/dicrc\n",
            "copying seed/feature.def to model-ipadic.c1.0.f1.dic/feature.def\n",
            "copying model-ipadic.c1.0.f1.model to model-ipadic.c1.0.f1.dic/model.def\n",
            "\n",
            "done!\n",
            "model-ipadic.c1.0.f1.dic/pos-id.def is not found. minimum setting is used\n",
            "reading model-ipadic.c1.0.f1.dic/unk.def ... 40\n",
            "emitting double-array: 100% |###########################################| \n",
            "model-ipadic.c1.0.f1.dic/pos-id.def is not found. minimum setting is used\n",
            "reading model-ipadic.c1.0.f1.dic/dic.csv ... 4335\n",
            "emitting double-array: 100% |###########################################| \n",
            "reading model-ipadic.c1.0.f1.dic/matrix.def ... 346x346\n",
            "emitting matrix      : 100% |###########################################| \n",
            "\n",
            "done!\n",
            "              precision          recall         F\n",
            "LEVEL 0:    12.8959(57/442) 11.8998(57/479) 12.3779\n",
            "LEVEL 1:    12.2172(54/442) 11.2735(54/479) 11.7264\n",
            "LEVEL 2:    11.7647(52/442) 10.8559(52/479) 11.2921\n",
            "LEVEL 4:    11.7647(52/442) 10.8559(52/479) 11.2921\n",
            "PASS: run-cost-train.sh\n",
            "==================\n",
            "All 3 tests passed\n",
            "==================\n",
            "make[2]: Leaving directory '/tmp/mecab-0.996-ko-0.9.2/tests'\n",
            "make[1]: Leaving directory '/tmp/mecab-0.996-ko-0.9.2/tests'\n",
            "make[1]: Entering directory '/tmp/mecab-0.996-ko-0.9.2'\n",
            "make[1]: Leaving directory '/tmp/mecab-0.996-ko-0.9.2'\n",
            "Making install in src\n",
            "make[1]: Entering directory '/tmp/mecab-0.996-ko-0.9.2/src'\n",
            "make[2]: Entering directory '/tmp/mecab-0.996-ko-0.9.2/src'\n",
            "test -z \"/usr/local/lib\" || /bin/mkdir -p \"/usr/local/lib\"\n",
            " /bin/bash ../libtool   --mode=install /usr/bin/install -c   libmecab.la '/usr/local/lib'\n",
            "libtool: install: /usr/bin/install -c .libs/libmecab.so.2.0.0 /usr/local/lib/libmecab.so.2.0.0\n",
            "libtool: install: (cd /usr/local/lib && { ln -s -f libmecab.so.2.0.0 libmecab.so.2 || { rm -f libmecab.so.2 && ln -s libmecab.so.2.0.0 libmecab.so.2; }; })\n",
            "libtool: install: (cd /usr/local/lib && { ln -s -f libmecab.so.2.0.0 libmecab.so || { rm -f libmecab.so && ln -s libmecab.so.2.0.0 libmecab.so; }; })\n",
            "libtool: install: /usr/bin/install -c .libs/libmecab.lai /usr/local/lib/libmecab.la\n",
            "libtool: install: /usr/bin/install -c .libs/libmecab.a /usr/local/lib/libmecab.a\n",
            "libtool: install: chmod 644 /usr/local/lib/libmecab.a\n",
            "libtool: install: ranlib /usr/local/lib/libmecab.a\n",
            "libtool: finish: PATH=\"/usr/local/sbin:/usr/local/bin:/usr/sbin:/usr/bin:/sbin:/bin:/snap/bin:/sbin\" ldconfig -n /usr/local/lib\n",
            "----------------------------------------------------------------------\n",
            "Libraries have been installed in:\n",
            "   /usr/local/lib\n",
            "\n",
            "If you ever happen to want to link against installed libraries\n",
            "in a given directory, LIBDIR, you must either use libtool, and\n",
            "specify the full pathname of the library, or use the `-LLIBDIR'\n",
            "flag during linking and do at least one of the following:\n",
            "   - add LIBDIR to the `LD_LIBRARY_PATH' environment variable\n",
            "     during execution\n",
            "   - add LIBDIR to the `LD_RUN_PATH' environment variable\n",
            "     during linking\n",
            "   - use the `-Wl,-rpath -Wl,LIBDIR' linker flag\n",
            "   - have your system administrator add LIBDIR to `/etc/ld.so.conf'\n",
            "\n",
            "See any operating system documentation about shared libraries for\n",
            "more information, such as the ld(1) and ld.so(8) manual pages.\n",
            "----------------------------------------------------------------------\n",
            "test -z \"/usr/local/bin\" || /bin/mkdir -p \"/usr/local/bin\"\n",
            "  /bin/bash ../libtool   --mode=install /usr/bin/install -c mecab '/usr/local/bin'\n",
            "libtool: install: /usr/bin/install -c .libs/mecab /usr/local/bin/mecab\n",
            "test -z \"/usr/local/libexec/mecab\" || /bin/mkdir -p \"/usr/local/libexec/mecab\"\n",
            "  /bin/bash ../libtool   --mode=install /usr/bin/install -c mecab-dict-index mecab-dict-gen mecab-cost-train mecab-system-eval mecab-test-gen '/usr/local/libexec/mecab'\n",
            "libtool: install: /usr/bin/install -c .libs/mecab-dict-index /usr/local/libexec/mecab/mecab-dict-index\n",
            "libtool: install: /usr/bin/install -c .libs/mecab-dict-gen /usr/local/libexec/mecab/mecab-dict-gen\n",
            "libtool: install: /usr/bin/install -c .libs/mecab-cost-train /usr/local/libexec/mecab/mecab-cost-train\n",
            "libtool: install: /usr/bin/install -c .libs/mecab-system-eval /usr/local/libexec/mecab/mecab-system-eval\n",
            "libtool: install: /usr/bin/install -c .libs/mecab-test-gen /usr/local/libexec/mecab/mecab-test-gen\n",
            "test -z \"/usr/local/include\" || /bin/mkdir -p \"/usr/local/include\"\n",
            " /usr/bin/install -c -m 644 mecab.h '/usr/local/include'\n",
            "make[2]: Leaving directory '/tmp/mecab-0.996-ko-0.9.2/src'\n",
            "make[1]: Leaving directory '/tmp/mecab-0.996-ko-0.9.2/src'\n",
            "Making install in man\n",
            "make[1]: Entering directory '/tmp/mecab-0.996-ko-0.9.2/man'\n",
            "make[2]: Entering directory '/tmp/mecab-0.996-ko-0.9.2/man'\n",
            "make[2]: Nothing to be done for 'install-exec-am'.\n",
            "test -z \"/usr/local/share/man/man1\" || /bin/mkdir -p \"/usr/local/share/man/man1\"\n",
            " /usr/bin/install -c -m 644 mecab.1 '/usr/local/share/man/man1'\n",
            "make[2]: Leaving directory '/tmp/mecab-0.996-ko-0.9.2/man'\n",
            "make[1]: Leaving directory '/tmp/mecab-0.996-ko-0.9.2/man'\n",
            "Making install in doc\n",
            "make[1]: Entering directory '/tmp/mecab-0.996-ko-0.9.2/doc'\n",
            "make[2]: Entering directory '/tmp/mecab-0.996-ko-0.9.2/doc'\n",
            "make[2]: Nothing to be done for 'install-exec-am'.\n",
            "make[2]: Nothing to be done for 'install-data-am'.\n",
            "make[2]: Leaving directory '/tmp/mecab-0.996-ko-0.9.2/doc'\n",
            "make[1]: Leaving directory '/tmp/mecab-0.996-ko-0.9.2/doc'\n",
            "Making install in tests\n",
            "make[1]: Entering directory '/tmp/mecab-0.996-ko-0.9.2/tests'\n",
            "make[2]: Entering directory '/tmp/mecab-0.996-ko-0.9.2/tests'\n",
            "make[2]: Nothing to be done for 'install-exec-am'.\n",
            "make[2]: Nothing to be done for 'install-data-am'.\n",
            "make[2]: Leaving directory '/tmp/mecab-0.996-ko-0.9.2/tests'\n",
            "make[1]: Leaving directory '/tmp/mecab-0.996-ko-0.9.2/tests'\n",
            "make[1]: Entering directory '/tmp/mecab-0.996-ko-0.9.2'\n",
            "make[2]: Entering directory '/tmp/mecab-0.996-ko-0.9.2'\n",
            "test -z \"/usr/local/bin\" || /bin/mkdir -p \"/usr/local/bin\"\n",
            " /usr/bin/install -c mecab-config '/usr/local/bin'\n",
            "test -z \"/usr/local/etc\" || /bin/mkdir -p \"/usr/local/etc\"\n",
            " /usr/bin/install -c -m 644 mecabrc '/usr/local/etc'\n",
            "make[2]: Leaving directory '/tmp/mecab-0.996-ko-0.9.2'\n",
            "make[1]: Leaving directory '/tmp/mecab-0.996-ko-0.9.2'\n",
            "Install mecab-ko-dic\n",
            "Install mecab-ko-dic\n",
            "  % Total    % Received % Xferd  Average Speed   Time    Time     Time  Current\n",
            "                                 Dload  Upload   Total   Spent    Left  Speed\n",
            "  0     0    0     0    0     0      0      0 --:--:-- --:--:-- --:--:--     0\n",
            "100 47.4M  100 47.4M    0     0  44.6M      0  0:00:01  0:00:01 --:--:-- 44.6M\n",
            "mecab-ko-dic-2.1.1-20180720/\n",
            "mecab-ko-dic-2.1.1-20180720/configure\n",
            "mecab-ko-dic-2.1.1-20180720/COPYING\n",
            "mecab-ko-dic-2.1.1-20180720/autogen.sh\n",
            "mecab-ko-dic-2.1.1-20180720/Place-station.csv\n",
            "mecab-ko-dic-2.1.1-20180720/NNG.csv\n",
            "mecab-ko-dic-2.1.1-20180720/README\n",
            "mecab-ko-dic-2.1.1-20180720/EF.csv\n",
            "mecab-ko-dic-2.1.1-20180720/MAG.csv\n",
            "mecab-ko-dic-2.1.1-20180720/Preanalysis.csv\n",
            "mecab-ko-dic-2.1.1-20180720/NNB.csv\n",
            "mecab-ko-dic-2.1.1-20180720/Person-actor.csv\n",
            "mecab-ko-dic-2.1.1-20180720/VV.csv\n",
            "mecab-ko-dic-2.1.1-20180720/Makefile.in\n",
            "mecab-ko-dic-2.1.1-20180720/matrix.def\n",
            "mecab-ko-dic-2.1.1-20180720/EC.csv\n",
            "mecab-ko-dic-2.1.1-20180720/NNBC.csv\n",
            "mecab-ko-dic-2.1.1-20180720/clean\n",
            "mecab-ko-dic-2.1.1-20180720/ChangeLog\n",
            "mecab-ko-dic-2.1.1-20180720/J.csv\n",
            "mecab-ko-dic-2.1.1-20180720/.keep\n",
            "mecab-ko-dic-2.1.1-20180720/feature.def\n",
            "mecab-ko-dic-2.1.1-20180720/Foreign.csv\n",
            "mecab-ko-dic-2.1.1-20180720/XPN.csv\n",
            "mecab-ko-dic-2.1.1-20180720/EP.csv\n",
            "mecab-ko-dic-2.1.1-20180720/NR.csv\n",
            "mecab-ko-dic-2.1.1-20180720/left-id.def\n",
            "mecab-ko-dic-2.1.1-20180720/Place.csv\n",
            "mecab-ko-dic-2.1.1-20180720/Symbol.csv\n",
            "mecab-ko-dic-2.1.1-20180720/dicrc\n",
            "mecab-ko-dic-2.1.1-20180720/NP.csv\n",
            "mecab-ko-dic-2.1.1-20180720/ETM.csv\n",
            "mecab-ko-dic-2.1.1-20180720/IC.csv\n",
            "mecab-ko-dic-2.1.1-20180720/Place-address.csv\n",
            "mecab-ko-dic-2.1.1-20180720/Group.csv\n",
            "mecab-ko-dic-2.1.1-20180720/model.def\n",
            "mecab-ko-dic-2.1.1-20180720/XSN.csv\n",
            "mecab-ko-dic-2.1.1-20180720/INSTALL\n",
            "mecab-ko-dic-2.1.1-20180720/rewrite.def\n",
            "mecab-ko-dic-2.1.1-20180720/Inflect.csv\n",
            "mecab-ko-dic-2.1.1-20180720/configure.ac\n",
            "mecab-ko-dic-2.1.1-20180720/NNP.csv\n",
            "mecab-ko-dic-2.1.1-20180720/CoinedWord.csv\n",
            "mecab-ko-dic-2.1.1-20180720/XSV.csv\n",
            "mecab-ko-dic-2.1.1-20180720/pos-id.def\n",
            "mecab-ko-dic-2.1.1-20180720/Makefile.am\n",
            "mecab-ko-dic-2.1.1-20180720/unk.def\n",
            "mecab-ko-dic-2.1.1-20180720/missing\n",
            "mecab-ko-dic-2.1.1-20180720/VCP.csv\n",
            "mecab-ko-dic-2.1.1-20180720/install-sh\n",
            "mecab-ko-dic-2.1.1-20180720/Hanja.csv\n",
            "mecab-ko-dic-2.1.1-20180720/MAJ.csv\n",
            "mecab-ko-dic-2.1.1-20180720/XSA.csv\n",
            "mecab-ko-dic-2.1.1-20180720/Wikipedia.csv\n",
            "mecab-ko-dic-2.1.1-20180720/tools/\n",
            "mecab-ko-dic-2.1.1-20180720/tools/add-userdic.sh\n",
            "mecab-ko-dic-2.1.1-20180720/tools/mecab-bestn.sh\n",
            "mecab-ko-dic-2.1.1-20180720/tools/convert_for_using_store.sh\n",
            "mecab-ko-dic-2.1.1-20180720/user-dic/\n",
            "mecab-ko-dic-2.1.1-20180720/user-dic/nnp.csv\n",
            "mecab-ko-dic-2.1.1-20180720/user-dic/place.csv\n",
            "mecab-ko-dic-2.1.1-20180720/user-dic/person.csv\n",
            "mecab-ko-dic-2.1.1-20180720/user-dic/README.md\n",
            "mecab-ko-dic-2.1.1-20180720/NorthKorea.csv\n",
            "mecab-ko-dic-2.1.1-20180720/VX.csv\n",
            "mecab-ko-dic-2.1.1-20180720/right-id.def\n",
            "mecab-ko-dic-2.1.1-20180720/VA.csv\n",
            "mecab-ko-dic-2.1.1-20180720/char.def\n",
            "mecab-ko-dic-2.1.1-20180720/NEWS\n",
            "mecab-ko-dic-2.1.1-20180720/MM.csv\n",
            "mecab-ko-dic-2.1.1-20180720/ETN.csv\n",
            "mecab-ko-dic-2.1.1-20180720/AUTHORS\n",
            "mecab-ko-dic-2.1.1-20180720/Person.csv\n",
            "mecab-ko-dic-2.1.1-20180720/XR.csv\n",
            "mecab-ko-dic-2.1.1-20180720/VCN.csv\n",
            "Looking in current directory for macros.\n",
            "configure.ac:2: warning: AM_INIT_AUTOMAKE: two- and three-arguments forms are deprecated.  For more info, see:\n",
            "configure.ac:2: http://www.gnu.org/software/automake/manual/automake.html#Modernize-AM_005fINIT_005fAUTOMAKE-invocation\n",
            "checking for a BSD-compatible install... /usr/bin/install -c\n",
            "checking whether build environment is sane... yes\n",
            "/tmp/mecab-ko-dic-2.1.1-20180720/missing: Unknown `--is-lightweight' option\n",
            "Try `/tmp/mecab-ko-dic-2.1.1-20180720/missing --help' for more information\n",
            "configure: WARNING: 'missing' script is too old or missing\n",
            "checking for a thread-safe mkdir -p... /bin/mkdir -p\n",
            "checking for gawk... no\n",
            "checking for mawk... mawk\n",
            "checking whether make sets $(MAKE)... yes\n",
            "checking whether make supports nested variables... yes\n",
            "checking for mecab-config... /usr/local/bin/mecab-config\n",
            "checking that generated files are newer than configure... done\n",
            "configure: creating ./config.status\n",
            "config.status: creating Makefile\n",
            "/usr/local/lib\n",
            "/sbin/ldconfig.real: /usr/local/lib/python3.6/dist-packages/ideep4py/lib/libmkldnn.so.0 is not a symbolic link\n",
            "\n",
            "/usr/local/libexec/mecab/mecab-dict-index -d . -o . -f UTF-8 -t UTF-8\n",
            "reading ./unk.def ... 13\n",
            "emitting double-array: 100% |###########################################| \n",
            "reading ./XSV.csv ... 23\n",
            "reading ./EC.csv ... 2547\n",
            "reading ./EP.csv ... 51\n",
            "reading ./MM.csv ... 453\n",
            "reading ./Group.csv ... 3176\n",
            "reading ./Foreign.csv ... 11690\n",
            "reading ./NNP.csv ... 2371\n",
            "reading ./Symbol.csv ... 16\n",
            "reading ./XPN.csv ... 83\n",
            "reading ./IC.csv ... 1305\n",
            "reading ./Inflect.csv ... 44820\n",
            "reading ./ETN.csv ... 14\n",
            "reading ./MAG.csv ... 14242\n",
            "reading ./Place.csv ... 30303\n",
            "reading ./NP.csv ... 342\n",
            "reading ./NorthKorea.csv ... 3\n",
            "reading ./Place-station.csv ... 1145\n",
            "reading ./XSA.csv ... 19\n",
            "reading ./NNB.csv ... 140\n",
            "reading ./Person.csv ... 196459\n",
            "reading ./Wikipedia.csv ... 36762\n",
            "reading ./NNG.csv ... 208524\n",
            "reading ./J.csv ... 416\n",
            "reading ./VV.csv ... 7331\n",
            "reading ./ETM.csv ... 133\n",
            "reading ./XR.csv ... 3637\n",
            "reading ./Preanalysis.csv ... 5\n",
            "reading ./EF.csv ... 1820\n",
            "reading ./VCN.csv ... 7\n",
            "reading ./Place-address.csv ... 19301\n",
            "reading ./NNBC.csv ... 677\n",
            "reading ./CoinedWord.csv ... 148\n",
            "reading ./Hanja.csv ... 125750\n",
            "reading ./MAJ.csv ... 240\n",
            "reading ./XSN.csv ... 124\n",
            "reading ./Person-actor.csv ... 99230\n",
            "reading ./VA.csv ... 2360\n",
            "reading ./VCP.csv ... 9\n",
            "reading ./NR.csv ... 482\n",
            "reading ./VX.csv ... 125\n",
            "emitting double-array: 100% |###########################################| \n",
            "reading ./matrix.def ... 3822x2693\n",
            "emitting matrix      : 100% |###########################################| \n",
            "\n",
            "done!\n",
            "echo To enable dictionary, rewrite /usr/local/etc/mecabrc as \\\"dicdir = /usr/local/lib/mecab/dic/mecab-ko-dic\\\"\n",
            "To enable dictionary, rewrite /usr/local/etc/mecabrc as \"dicdir = /usr/local/lib/mecab/dic/mecab-ko-dic\"\n",
            "make[1]: Entering directory '/tmp/mecab-ko-dic-2.1.1-20180720'\n",
            "make[1]: Nothing to be done for 'install-exec-am'.\n",
            " /bin/mkdir -p '/usr/local/lib/mecab/dic/mecab-ko-dic'\n",
            " /usr/bin/install -c -m 644 model.bin matrix.bin char.bin sys.dic unk.dic left-id.def right-id.def rewrite.def pos-id.def dicrc '/usr/local/lib/mecab/dic/mecab-ko-dic'\n",
            "make[1]: Leaving directory '/tmp/mecab-ko-dic-2.1.1-20180720'\n",
            "Install mecab-python\n",
            "/tmp /tmp/mecab-ko-dic-2.1.1-20180720\n",
            "Cloning into 'mecab-python-0.996'...\n",
            "remote: Counting objects: 17, done.\u001b[K\n",
            "remote: Compressing objects: 100% (16/16), done.\u001b[K\n",
            "remote: Total 17 (delta 3), reused 0 (delta 0)\u001b[K\n",
            "Unpacking objects: 100% (17/17), done.\n",
            "/tmp/mecab-ko-dic-2.1.1-20180720\n",
            "Processing /tmp/mecab-python-0.996\n",
            "Building wheels for collected packages: mecab-python\n",
            "  Building wheel for mecab-python (setup.py) ... \u001b[?25l\u001b[?25hdone\n",
            "  Created wheel for mecab-python: filename=mecab_python-0.996_ko_0.9.2-cp36-cp36m-linux_x86_64.whl size=140566 sha256=30c8a6011a6727271f99849437a1ca6c0a0b95a7f9ab4702a88fdeda6f0420dc\n",
            "  Stored in directory: /root/.cache/pip/wheels/99/75/a6/e9e73a1dbd73579383644942ef18a6d17ad728a3052a1147fb\n",
            "Successfully built mecab-python\n",
            "Installing collected packages: mecab-python\n",
            "Successfully installed mecab-python-0.996-ko-0.9.2\n",
            "Done.\n"
          ],
          "name": "stdout"
        }
      ]
    },
    {
      "cell_type": "markdown",
      "metadata": {
        "id": "jxsBfWirA9ao",
        "colab_type": "text"
      },
      "source": [
        "# 8-1 TF-IDF 활용 핵심키워드 추출"
      ]
    },
    {
      "cell_type": "markdown",
      "metadata": {
        "id": "u8UYUNHDNMVp",
        "colab_type": "text"
      },
      "source": [
        "## 실습 1. sklearn 활용\n"
      ]
    },
    {
      "cell_type": "code",
      "metadata": {
        "id": "vQVqsrfO_yg0",
        "colab_type": "code",
        "colab": {
          "base_uri": "https://localhost:8080/",
          "height": 35
        },
        "outputId": "1bc72284-c5d9-4715-ef59-11ff900e3c81"
      },
      "source": [
        "import requests\n",
        "from bs4 import BeautifulSoup \n",
        "\n",
        "def get_news_by_url(url):\n",
        "  res=requests.get(url)\n",
        "  bs=BeautifulSoup(res.content, 'html.parser')\n",
        "\n",
        "  title=bs.select('h3#articleTitle')[0].text\n",
        "  content=bs.select('#articleBodyContents')[0].get_text().replace('\\n',\" \")\n",
        "  content=content.replace(\"// flash 오류를 우회하기 위한 함수 추가 function _flash_removeCallback() {}\", \"\")\n",
        "  return content.strip()\n",
        "\n",
        "docs=[]\n",
        "docs.append( get_news_by_url('https://news.naver.com/main/read.nhn?mode=LSD&mid=sec&sid1=105&oid=018&aid=0004430108') )\n",
        "docs.append( get_news_by_url('https://news.naver.com/main/read.nhn?mode=LSD&mid=sec&sid1=101&oid=001&aid=0011614790') )\n",
        "docs.append( get_news_by_url('https://news.naver.com/main/read.nhn?mode=LSD&mid=sec&sid1=102&oid=014&aid=0004424362') )\n",
        "docs.append( get_news_by_url('https://news.naver.com/main/read.nhn?mode=LSD&mid=sec&sid1=101&oid=119&aid=0002402191') )\n",
        "docs.append( get_news_by_url('https://news.naver.com/main/read.nhn?mode=LSD&mid=sec&sid1=101&oid=030&aid=0002882728') )\n",
        "len(docs)"
      ],
      "execution_count": 259,
      "outputs": [
        {
          "output_type": "execute_result",
          "data": {
            "text/plain": [
              "5"
            ]
          },
          "metadata": {
            "tags": []
          },
          "execution_count": 259
        }
      ]
    },
    {
      "cell_type": "markdown",
      "metadata": {
        "id": "Of0dQ_ALpLw6",
        "colab_type": "text"
      },
      "source": [
        "### 1) 전처리"
      ]
    },
    {
      "cell_type": "code",
      "metadata": {
        "id": "tfGX-_IxAbgt",
        "colab_type": "code",
        "colab": {
          "base_uri": "https://localhost:8080/",
          "height": 53
        },
        "outputId": "376f98ee-9cc3-4e3e-b621-a6a2e1d8a26f"
      },
      "source": [
        "from konlpy.tag import Mecab\n",
        "mecab = Mecab()\n",
        "\n",
        "preprocessed_docs = []\n",
        "for doc in docs :\n",
        "  # 명사와 동사만으로 문서 전처리\n",
        "  preprocessed_docs.append(' '.join([token[0] for token in mecab.pos(doc) if token[1][0] in ['N', 'V']]))\n",
        "preprocessed_docs[0][:100]"
      ],
      "execution_count": 4,
      "outputs": [
        {
          "output_type": "execute_result",
          "data": {
            "application/vnd.google.colaboratory.intrinsic": {
              "type": "string"
            },
            "text/plain": [
              "'과기 정통부 일 유영민 장관 등 참석 기념행사 년 억 원 투입 여종 데이터 구축 민간 클라우드 통한 외부 연계 체계 개방 강화 데일리 이재운 기자 국가 차원 빅 데이터 활용 시대 '"
            ]
          },
          "metadata": {
            "tags": []
          },
          "execution_count": 4
        }
      ]
    },
    {
      "cell_type": "markdown",
      "metadata": {
        "id": "JqZ9ONgLpOzv",
        "colab_type": "text"
      },
      "source": [
        "### 2) TF-IDF 계산"
      ]
    },
    {
      "cell_type": "code",
      "metadata": {
        "id": "xw4nKZKMAobb",
        "colab_type": "code",
        "colab": {
          "base_uri": "https://localhost:8080/",
          "height": 35
        },
        "outputId": "82be80d4-7324-4a40-aa98-2d912e8b92d3"
      },
      "source": [
        "from sklearn.feature_extraction.text import CountVectorizer \n",
        "\n",
        "count_vectorizer=CountVectorizer(max_df=0.85, max_features=10000)\n",
        "word_count_vector=count_vectorizer.fit_transform(preprocessed_docs)\n",
        "list(count_vectorizer.vocabulary_.keys())[:10]"
      ],
      "execution_count": 5,
      "outputs": [
        {
          "output_type": "execute_result",
          "data": {
            "text/plain": [
              "['과기', '정통부', '유영민', '장관', '참석', '기념행사', '투입', '여종', '구축', '민간']"
            ]
          },
          "metadata": {
            "tags": []
          },
          "execution_count": 5
        }
      ]
    },
    {
      "cell_type": "code",
      "metadata": {
        "id": "K6zmGZBYA5fv",
        "colab_type": "code",
        "colab": {
          "base_uri": "https://localhost:8080/",
          "height": 35
        },
        "outputId": "d93a8325-9dd6-48e7-e568-5610c2b5edde"
      },
      "source": [
        "from sklearn.feature_extraction.text import TfidfTransformer\n",
        "tfidf_transformer=TfidfTransformer(smooth_idf=True, use_idf=True)\n",
        "tfidf_transformer.fit(word_count_vector)"
      ],
      "execution_count": 6,
      "outputs": [
        {
          "output_type": "execute_result",
          "data": {
            "text/plain": [
              "TfidfTransformer(norm='l2', smooth_idf=True, sublinear_tf=False, use_idf=True)"
            ]
          },
          "metadata": {
            "tags": []
          },
          "execution_count": 6
        }
      ]
    },
    {
      "cell_type": "markdown",
      "metadata": {
        "id": "an6Cngd2Cwjg",
        "colab_type": "text"
      },
      "source": [
        "### 3) 핵심키워드 추출"
      ]
    },
    {
      "cell_type": "code",
      "metadata": {
        "id": "yKrcZ9rh-5Rt",
        "colab_type": "code",
        "colab": {}
      },
      "source": [
        "def sort_keywords(keywords):\n",
        "    return sorted(zip(keywords.col, keywords.data), key=lambda x: (x[1], x[0]), reverse=True)\n",
        " \n",
        "def extract_keywords(feature_names, sorted_keywords, n=5):\n",
        "    return [(feature_names[idx], score) for idx, score in sorted_keywords[:n]]"
      ],
      "execution_count": 8,
      "outputs": []
    },
    {
      "cell_type": "code",
      "metadata": {
        "id": "u_8wXmex-1gr",
        "colab_type": "code",
        "colab": {
          "base_uri": "https://localhost:8080/",
          "height": 197
        },
        "outputId": "fa6d58ae-fffb-4c84-ec47-6b3141b35841"
      },
      "source": [
        "doc = preprocessed_docs[0] # 핵심키워드 추출할 문서 조회\n",
        "\n",
        "feature_names = count_vectorizer.get_feature_names() # TF-IDF 단어 목록\n",
        "tf_idf_vector = tfidf_transformer.transform(count_vectorizer.transform([doc])) # 문서의 tf-idf 추출\n",
        "sorted_keywords = sort_keywords(tf_idf_vector.tocoo()) # TF-IDF를 기준으로 역순 정렬\n",
        " \n",
        "# 사용자가 지정한 갯수만큼 키워드 추출\n",
        "keywords = extract_keywords(feature_names, sorted_keywords, 5)\n",
        " \n",
        "print(\"\\n===== 원문 =====\")\n",
        "print(docs[0][:100])\n",
        "print(\"\\n=== 핵심키워드 ===\")\n",
        "for k in keywords:\n",
        "    print(k)"
      ],
      "execution_count": 13,
      "outputs": [
        {
          "output_type": "stream",
          "text": [
            "\n",
            "===== 원문 =====\n",
            "과기정통부, 22일 유영민 장관 등 참석해 기념행사2021년까지 1516억원 투입, 5100여종 데이터 구축민간 클라우드 통한 외부연계체계도..\"개방성 강화\"[이데일리 이재운 기자\n",
            "\n",
            "=== 핵심키워드 ===\n",
            "('플랫', 0.2526148007071733)\n",
            "('계획', 0.21652697203472)\n",
            "('정통부', 0.18043914336226666)\n",
            "('과기', 0.18043914336226666)\n",
            "('통해', 0.17469259767293158)\n"
          ],
          "name": "stdout"
        }
      ]
    },
    {
      "cell_type": "markdown",
      "metadata": {
        "colab_type": "text",
        "id": "XTNnFrNhOrA3"
      },
      "source": [
        "## 실습 2. gensim 활용\n"
      ]
    },
    {
      "cell_type": "markdown",
      "metadata": {
        "colab_type": "text",
        "id": "aE-YzDI6OrA5"
      },
      "source": [
        "### 1) 전처리"
      ]
    },
    {
      "cell_type": "code",
      "metadata": {
        "colab_type": "code",
        "id": "edVMwQBuOrA6",
        "colab": {
          "base_uri": "https://localhost:8080/",
          "height": 53
        },
        "outputId": "982e3fde-0690-42e9-aa9b-22ce6454bc1a"
      },
      "source": [
        "from konlpy.tag import Mecab\n",
        "mecab = Mecab()\n",
        "\n",
        "preprocessed_docs = []\n",
        "for doc in docs :\n",
        "  # 명사와 동사만으로 문서 전처리\n",
        "  preprocessed_docs.append(' '.join([token[0] for token in mecab.pos(doc) if token[1][0] in ['N', 'V']]))\n",
        "preprocessed_docs[0][:100]"
      ],
      "execution_count": 244,
      "outputs": [
        {
          "output_type": "execute_result",
          "data": {
            "application/vnd.google.colaboratory.intrinsic": {
              "type": "string"
            },
            "text/plain": [
              "'과기 정통부 일 유영민 장관 등 참석 기념행사 년 억 원 투입 여종 데이터 구축 민간 클라우드 통한 외부 연계 체계 개방 강화 데일리 이재운 기자 국가 차원 빅 데이터 활용 시대 '"
            ]
          },
          "metadata": {
            "tags": []
          },
          "execution_count": 244
        }
      ]
    },
    {
      "cell_type": "markdown",
      "metadata": {
        "colab_type": "text",
        "id": "cWGsCRJUOrA8"
      },
      "source": [
        "### 2) TF-IDF 계산"
      ]
    },
    {
      "cell_type": "code",
      "metadata": {
        "colab_type": "code",
        "id": "NCUzeqp3OrA9",
        "colab": {}
      },
      "source": [
        "from gensim.models import TfidfModel\n",
        "from gensim.corpora import Dictionary\n",
        "\n",
        "document_ls = [doc.split() for doc in preprocessed_docs]\n",
        "dct = Dictionary(document_ls) # 인덱스(key) - 단어(valuue) 인 딕셔너리 생성\n",
        "corpus = [dct.doc2bow(doc) for doc in document_ls] # 각 문서에 포함된 단어를 인덱스로 변환하여 corpus 생성\n",
        "tfidf = TfidfModel(corpus) # TF-IDF 산출"
      ],
      "execution_count": null,
      "outputs": []
    },
    {
      "cell_type": "markdown",
      "metadata": {
        "colab_type": "text",
        "id": "wBT2h57bOrBF"
      },
      "source": [
        "### 3) 핵심키워드 추출"
      ]
    },
    {
      "cell_type": "code",
      "metadata": {
        "id": "Xk0Tbo21RddA",
        "colab_type": "code",
        "colab": {}
      },
      "source": [
        "def sort_keywords(tfidf):\n",
        "    return sorted(tfidf, key=lambda x: (x[1], x[0]), reverse=True)\n",
        "\n",
        "def extract_keywords(feature_names, sorted_keywords, n=5):\n",
        "    return [(feature_names[idx], score) for idx, score in sorted_keywords[:n]]"
      ],
      "execution_count": 16,
      "outputs": []
    },
    {
      "cell_type": "code",
      "metadata": {
        "id": "_8T0QSKVRfUt",
        "colab_type": "code",
        "colab": {
          "base_uri": "https://localhost:8080/",
          "height": 143
        },
        "outputId": "964e19e1-4c02-434f-e9b1-81a2e963131a"
      },
      "source": [
        "doc = corpus[0]\n",
        "\n",
        "sorted_keywords = sort_keywords(tfidf[doc]) # TF-IDF를 기준으로 역순 정렬\n",
        "\n",
        "# 사용자가 지정한 갯수만큼 키워드 추출\n",
        "keywords = extract_keywords(dct, sorted_keywords, 5)\n",
        "\n",
        "print(\"\\n=== 핵심키워드 ===\")\n",
        "for k in keywords:\n",
        "    print(k)"
      ],
      "execution_count": 17,
      "outputs": [
        {
          "output_type": "stream",
          "text": [
            "\n",
            "=== 핵심키워드 ===\n",
            "('플랫', 0.260111262735105)\n",
            "('폼', 0.260111262735105)\n",
            "('계획', 0.2229525109158043)\n",
            "('정통부', 0.18579375909650356)\n",
            "('과기', 0.18579375909650356)\n"
          ],
          "name": "stdout"
        }
      ]
    },
    {
      "cell_type": "markdown",
      "metadata": {
        "id": "hZpm1wtTqxL-",
        "colab_type": "text"
      },
      "source": [
        "\n",
        "\n",
        "---\n",
        "\n"
      ]
    },
    {
      "cell_type": "markdown",
      "metadata": {
        "id": "mfekkYshBAVS",
        "colab_type": "text"
      },
      "source": [
        "# 8-2 Textrank\n",
        "https://web.eecs.umich.edu/~mihalcea/papers/mihalcea.emnlp04.pdf"
      ]
    },
    {
      "cell_type": "markdown",
      "metadata": {
        "id": "bn58myMFF-nN",
        "colab_type": "text"
      },
      "source": [
        "<img src=\"https://3.bp.blogspot.com/-yp0Lr3ec5EY/XIs6znCcO_I/AAAAAAAAAPY/xtZxe_OYtH0xeuWsp4Qd4DQrunGMpVQmQCLcBGAs/s640/keyword-extraction-textrank.png\" />"
      ]
    },
    {
      "cell_type": "markdown",
      "metadata": {
        "colab_type": "text",
        "id": "kxZBz6vLlyga"
      },
      "source": [
        "## 실습 1. 행렬 활용 \n"
      ]
    },
    {
      "cell_type": "markdown",
      "metadata": {
        "colab_type": "text",
        "id": "9QmtIyyHlygg"
      },
      "source": [
        "### 1) 토큰화 (Tokenization)\n",
        "\n",
        "분석 텍스트 정제"
      ]
    },
    {
      "cell_type": "markdown",
      "metadata": {
        "colab_type": "text",
        "id": "YBJSuIvKlygw"
      },
      "source": [
        "### 2) Unique한 토큰 목록 생성\n",
        "\n",
        "그래프 생성을 위해서 Unique한 토큰 목록 생성"
      ]
    },
    {
      "cell_type": "code",
      "metadata": {
        "id": "Y9MNIPVzJva4",
        "colab_type": "code",
        "colab": {}
      },
      "source": [
        "import pandas as pd\n",
        "import numpy as np"
      ],
      "execution_count": 21,
      "outputs": []
    },
    {
      "cell_type": "code",
      "metadata": {
        "id": "X-WdT3gz3FMc",
        "colab_type": "code",
        "colab": {}
      },
      "source": [
        "token = ['딸기', '바나나', '사과', '딸기', '파인애플']\n",
        "nodes = ['바나나', '사과', '파인애플', '딸기']\n",
        "vocab = nodes\n",
        "\n",
        "vocab2idx = None #vocab을 인덱스로 변환\n",
        "idx2vocab = None  #인덱스를 vocab으로 변환\n",
        "vocab2idx"
      ],
      "execution_count": null,
      "outputs": []
    },
    {
      "cell_type": "code",
      "metadata": {
        "colab_type": "code",
        "id": "h5_DwRpOlygz",
        "colab": {}
      },
      "source": [
        "class vo_idx():\n",
        "  def __init__(self,nod_list):\n",
        "    self.nod_list=nod_list\n",
        "  def vo_to_dic(self):\n",
        "    dic_refer=list(set(self.nod_list))\n",
        "    return {dic_refer[i]:i for i in range(len(dic_refer))}\n",
        "  def idx_to_dic(self):\n",
        "    dic_refer=list(set(self.nod_list))\n",
        "    return {i:dic_refer[i] for i in range(len(dic_refer))}\n",
        "  def vo_to_idx(self,vo_list):\n",
        "    return [(self.vo_to_dic())[vo] if vo in list(self.vo_to_dic().keys()) else 'nan' for vo in vo_list]\n",
        "  def idx_to_vo(self,num_list):\n",
        "    return [(self.idx_to_dic())[nu] if nu in list(self.idx_to_dic().keys()) else 'nan' for nu in num_list]\n",
        "  "
      ],
      "execution_count": 20,
      "outputs": []
    },
    {
      "cell_type": "code",
      "metadata": {
        "id": "OIDArlxCX3Lm",
        "colab_type": "code",
        "colab": {
          "base_uri": "https://localhost:8080/",
          "height": 35
        },
        "outputId": "877f84f0-9495-4e06-d09d-dbeb458bce49"
      },
      "source": [
        "vo_idx(nodes).vo_to_dic()"
      ],
      "execution_count": null,
      "outputs": [
        {
          "output_type": "execute_result",
          "data": {
            "text/plain": [
              "{'딸기': 1, '바나나': 2, '사과': 0, '파인애플': 3}"
            ]
          },
          "metadata": {
            "tags": []
          },
          "execution_count": 4
        }
      ]
    },
    {
      "cell_type": "code",
      "metadata": {
        "id": "WdboelY6X5qT",
        "colab_type": "code",
        "colab": {
          "base_uri": "https://localhost:8080/",
          "height": 35
        },
        "outputId": "65ebdfb3-8604-437d-8529-c351ef82635c"
      },
      "source": [
        "nodes"
      ],
      "execution_count": null,
      "outputs": [
        {
          "output_type": "execute_result",
          "data": {
            "text/plain": [
              "['바나나', '사과', '파인애플', '딸기']"
            ]
          },
          "metadata": {
            "tags": []
          },
          "execution_count": 5
        }
      ]
    },
    {
      "cell_type": "code",
      "metadata": {
        "id": "DzcO5nSZTb3B",
        "colab_type": "code",
        "colab": {
          "base_uri": "https://localhost:8080/",
          "height": 35
        },
        "outputId": "ea5e3d99-db75-432a-a1d5-43387882cb2f"
      },
      "source": [
        "vo_idx(nodes).vo_to_idx(token)"
      ],
      "execution_count": null,
      "outputs": [
        {
          "output_type": "execute_result",
          "data": {
            "text/plain": [
              "[1, 2, 0, 1, 3]"
            ]
          },
          "metadata": {
            "tags": []
          },
          "execution_count": 6
        }
      ]
    },
    {
      "cell_type": "code",
      "metadata": {
        "id": "1PxVi7CIU-yS",
        "colab_type": "code",
        "colab": {
          "base_uri": "https://localhost:8080/",
          "height": 35
        },
        "outputId": "3aedbd91-fa0c-42a0-f540-b4a6e25d9ebf"
      },
      "source": [
        "vo_idx(nodes).idx_to_vo([1,2,1])"
      ],
      "execution_count": null,
      "outputs": [
        {
          "output_type": "execute_result",
          "data": {
            "text/plain": [
              "['딸기', '바나나', '딸기']"
            ]
          },
          "metadata": {
            "tags": []
          },
          "execution_count": 7
        }
      ]
    },
    {
      "cell_type": "markdown",
      "metadata": {
        "colab_type": "text",
        "id": "P9Tvibn1lyg3"
      },
      "source": [
        "### 3) 그래프 생성 (weighted edge 계산)\n",
        "\n",
        "*   TextRank는 그래프 기반 모델\n",
        "*   각 단어(토큰)은 그래프의 노드(vertex) \n",
        "*   weighted_edge 행렬은 노드간 가중치 정보를 담고 있음\n",
        "*   weighted_edge[i][j] 는 i번째 단어와 j번째 단어의 가중치를 의미\n",
        "*   weighted_edge[i][j] 가 0인 경우는 노드간 연결이 없음을 의미\n",
        "*   모든 노드는 1로 초기화"
      ]
    },
    {
      "cell_type": "code",
      "metadata": {
        "id": "TLltxI8raQx8",
        "colab_type": "code",
        "colab": {}
      },
      "source": [
        "vocab2idx=vo_idx(nodes).vo_to_dic()"
      ],
      "execution_count": null,
      "outputs": []
    },
    {
      "cell_type": "code",
      "metadata": {
        "id": "CQ0npmwoaavT",
        "colab_type": "code",
        "colab": {
          "base_uri": "https://localhost:8080/",
          "height": 35
        },
        "outputId": "43793c92-a8b9-4652-b121-a887de917726"
      },
      "source": [
        "vocab2idx.items()"
      ],
      "execution_count": null,
      "outputs": [
        {
          "output_type": "execute_result",
          "data": {
            "text/plain": [
              "dict_items([('사과', 0), ('딸기', 1), ('바나나', 2), ('파인애플', 3)])"
            ]
          },
          "metadata": {
            "tags": []
          },
          "execution_count": 9
        }
      ]
    },
    {
      "cell_type": "code",
      "metadata": {
        "id": "wnyHhRZfheZ2",
        "colab_type": "code",
        "colab": {
          "base_uri": "https://localhost:8080/",
          "height": 35
        },
        "outputId": "af83670d-aafb-4e77-9883-ab82728c4f74"
      },
      "source": [
        "vo_idx(nodes).vo_to_dic()"
      ],
      "execution_count": null,
      "outputs": [
        {
          "output_type": "execute_result",
          "data": {
            "text/plain": [
              "{'딸기': 1, '바나나': 2, '사과': 0, '파인애플': 3}"
            ]
          },
          "metadata": {
            "tags": []
          },
          "execution_count": 10
        }
      ]
    },
    {
      "cell_type": "code",
      "metadata": {
        "id": "KIGh5Q3ngKa5",
        "colab_type": "code",
        "colab": {
          "base_uri": "https://localhost:8080/",
          "height": 35
        },
        "outputId": "6b4c957a-3d6f-4f7c-a4ef-525dd08ae3e9"
      },
      "source": [
        "[vo_idx(nodes).vo_to_dic()[tok] for tok in token]"
      ],
      "execution_count": null,
      "outputs": [
        {
          "output_type": "execute_result",
          "data": {
            "text/plain": [
              "[1, 2, 0, 1, 3]"
            ]
          },
          "metadata": {
            "tags": []
          },
          "execution_count": 11
        }
      ]
    },
    {
      "cell_type": "code",
      "metadata": {
        "id": "aTsoUlETaw8J",
        "colab_type": "code",
        "colab": {
          "base_uri": "https://localhost:8080/",
          "height": 89
        },
        "outputId": "654d5df1-c957-4e35-90bb-5d7a7c065dcc"
      },
      "source": [
        "np.matrix([[i,k] for i,k in vocab2idx.items()])"
      ],
      "execution_count": null,
      "outputs": [
        {
          "output_type": "execute_result",
          "data": {
            "text/plain": [
              "matrix([['사과', '0'],\n",
              "        ['딸기', '1'],\n",
              "        ['파인애플', '2'],\n",
              "        ['바나나', '3']], dtype='<U4')"
            ]
          },
          "metadata": {
            "tags": []
          },
          "execution_count": 189
        }
      ]
    },
    {
      "cell_type": "code",
      "metadata": {
        "colab_type": "code",
        "id": "nP8PJUnMlyg3",
        "colab": {
          "base_uri": "https://localhost:8080/",
          "height": 89
        },
        "outputId": "46d74fa9-a00d-44c4-eaa8-d54dd57ef8b7"
      },
      "source": [
        "import numpy as np\n",
        "import math\n",
        "vocab_len = len(vocab)\n",
        "\n",
        "# 토큰별로 그래프 edge를 Matrix 형태로 생성\n",
        "weighted_edge = np.matrix([[0 for i in range(len(vo_idx(nodes).vo_to_dic()))] for i in range(len(vo_idx(nodes).vo_to_dic()))])\n",
        "\n",
        "# 각 토큰 노드별로 스코어 1로 초기화\n",
        "score = np.ones((weighted_edge.shape[0],1))\n",
        "\n",
        "# coocurrence를 판단하기 위한 window 사이즈 설정\n",
        "window_size = 2\n",
        "\n",
        "# weighted_edge 구현\n",
        "\n",
        "\n",
        "weighted_edge"
      ],
      "execution_count": null,
      "outputs": [
        {
          "output_type": "execute_result",
          "data": {
            "text/plain": [
              "matrix([[0, 0, 0, 0],\n",
              "        [0, 0, 0, 0],\n",
              "        [0, 0, 0, 0],\n",
              "        [0, 0, 0, 0]])"
            ]
          },
          "metadata": {
            "tags": []
          },
          "execution_count": 25
        }
      ]
    },
    {
      "cell_type": "code",
      "metadata": {
        "id": "LNQxWXIU1s0K",
        "colab_type": "code",
        "colab": {
          "base_uri": "https://localhost:8080/",
          "height": 89
        },
        "outputId": "491e4b6f-fb68-4019-9ca1-ff17da79ef0f"
      },
      "source": [
        "covered_coocurrences = weighted_edge\n",
        "covered_coocurrences"
      ],
      "execution_count": null,
      "outputs": [
        {
          "output_type": "execute_result",
          "data": {
            "text/plain": [
              "matrix([[0, 0, 0, 0],\n",
              "        [0, 0, 0, 0],\n",
              "        [0, 0, 0, 0],\n",
              "        [0, 0, 0, 0]])"
            ]
          },
          "metadata": {
            "tags": []
          },
          "execution_count": 26
        }
      ]
    },
    {
      "cell_type": "code",
      "metadata": {
        "id": "nXreiALwlzP0",
        "colab_type": "code",
        "colab": {}
      },
      "source": [
        "for idx, tok in enumerate(token):\n",
        "  if window_size-1>0:\n",
        "    if len(token[idx:])>=window_size:\n",
        "      for win in range(1,window_size):\n",
        "        covered_coocurrences[vo_idx(nodes).vo_to_dic()[tok],vo_idx(nodes).vo_to_dic()[token[idx+win]]]=1\n",
        "        covered_coocurrences[vo_idx(nodes).vo_to_dic()[token[idx+win]],vo_idx(nodes).vo_to_dic()[tok]]=1\n",
        "    else:\n",
        "      for win in range(1,len(token[idx:])):\n",
        "        covered_coocurrences[vo_idx(nodes).vo_to_dic()[tok],vo_idx(nodes).vo_to_dic()[token[idx+win]]]=1\n",
        "        covered_coocurrences[vo_idx(nodes).vo_to_dic()[token[idx+win]],vo_idx(nodes).vo_to_dic()[tok]]=1"
      ],
      "execution_count": null,
      "outputs": []
    },
    {
      "cell_type": "code",
      "metadata": {
        "id": "YLYZs6iS6cVT",
        "colab_type": "code",
        "colab": {
          "base_uri": "https://localhost:8080/",
          "height": 35
        },
        "outputId": "fe1f6c07-8a90-4893-d6ac-e574fe793df9"
      },
      "source": [
        "token"
      ],
      "execution_count": null,
      "outputs": [
        {
          "output_type": "execute_result",
          "data": {
            "text/plain": [
              "['딸기', '바나나', '사과', '딸기', '파인애플']"
            ]
          },
          "metadata": {
            "tags": []
          },
          "execution_count": 28
        }
      ]
    },
    {
      "cell_type": "code",
      "metadata": {
        "id": "mGzdAvl06bmq",
        "colab_type": "code",
        "colab": {
          "base_uri": "https://localhost:8080/",
          "height": 35
        },
        "outputId": "fae4c9e6-4704-4898-8e8e-389275a1ed38"
      },
      "source": [
        "vo_idx(nodes).vo_to_dic()"
      ],
      "execution_count": null,
      "outputs": [
        {
          "output_type": "execute_result",
          "data": {
            "text/plain": [
              "{'딸기': 1, '바나나': 2, '사과': 0, '파인애플': 3}"
            ]
          },
          "metadata": {
            "tags": []
          },
          "execution_count": 29
        }
      ]
    },
    {
      "cell_type": "code",
      "metadata": {
        "id": "HTibgpifGdHE",
        "colab_type": "code",
        "colab": {
          "base_uri": "https://localhost:8080/",
          "height": 89
        },
        "outputId": "0bdafae3-6b75-4f81-9b27-8ffcc7fb6ae9"
      },
      "source": [
        "covered_coocurrences"
      ],
      "execution_count": null,
      "outputs": [
        {
          "output_type": "execute_result",
          "data": {
            "text/plain": [
              "matrix([[0, 1, 1, 0],\n",
              "        [1, 0, 1, 1],\n",
              "        [1, 1, 0, 0],\n",
              "        [0, 1, 0, 0]])"
            ]
          },
          "metadata": {
            "tags": []
          },
          "execution_count": 30
        }
      ]
    },
    {
      "cell_type": "code",
      "metadata": {
        "id": "K3ibmN2RE3HN",
        "colab_type": "code",
        "colab": {}
      },
      "source": [
        "weighted_edge=covered_coocurrences/np.matrix([cc.sum() for cc in covered_coocurrences]).transpose()"
      ],
      "execution_count": null,
      "outputs": []
    },
    {
      "cell_type": "code",
      "metadata": {
        "id": "azFPm9XMM-YT",
        "colab_type": "code",
        "colab": {
          "base_uri": "https://localhost:8080/",
          "height": 89
        },
        "outputId": "e2f72e57-8a74-4892-bfa9-93d7ac75c2b5"
      },
      "source": [
        "weighted_edge"
      ],
      "execution_count": null,
      "outputs": [
        {
          "output_type": "execute_result",
          "data": {
            "text/plain": [
              "matrix([[0.        , 0.5       , 0.5       , 0.        ],\n",
              "        [0.33333333, 0.        , 0.33333333, 0.33333333],\n",
              "        [0.5       , 0.5       , 0.        , 0.        ],\n",
              "        [0.        , 1.        , 0.        , 0.        ]])"
            ]
          },
          "metadata": {
            "tags": []
          },
          "execution_count": 32
        }
      ]
    },
    {
      "cell_type": "code",
      "metadata": {
        "id": "IRVbZB0_M2b8",
        "colab_type": "code",
        "colab": {
          "base_uri": "https://localhost:8080/",
          "height": 89
        },
        "outputId": "2ff2c493-4a11-46b0-90a6-e57d8ea301d3"
      },
      "source": [
        "np.c_[weighted_edge[:,0]*score[0],weighted_edge[:,1]*score[1]]"
      ],
      "execution_count": null,
      "outputs": [
        {
          "output_type": "execute_result",
          "data": {
            "text/plain": [
              "matrix([[0.        , 0.5       ],\n",
              "        [0.33333333, 0.        ],\n",
              "        [0.5       , 0.5       ],\n",
              "        [0.        , 1.        ]])"
            ]
          },
          "metadata": {
            "tags": []
          },
          "execution_count": 33
        }
      ]
    },
    {
      "cell_type": "markdown",
      "metadata": {
        "colab_type": "text",
        "id": "loXJ9c7jlyg8"
      },
      "source": [
        "### 4) 각 노드의 score계산\n",
        "각 노드와 연결된 weighted edge의 값을 합산"
      ]
    },
    {
      "cell_type": "code",
      "metadata": {
        "id": "5u8S4hhEUYQP",
        "colab_type": "code",
        "colab": {}
      },
      "source": [
        "constant_edge=np.copy(weighted_edge)"
      ],
      "execution_count": null,
      "outputs": []
    },
    {
      "cell_type": "code",
      "metadata": {
        "colab_type": "code",
        "id": "R9IOS9Oolyg8",
        "colab": {}
      },
      "source": [
        "MAX_ITERATIONS = 50\n",
        "d=0.85\n",
        "threshold = 0.0001 #convergence threshold\n",
        "\n",
        "for iter in range(0,MAX_ITERATIONS):\n",
        "    prev_score = np.copy(score)\n",
        "    for i in range(len(weighted_edge)):\n",
        "      score[i]=(1-d)+d*((weighted_edge[:,i]).sum())\n",
        "    for prev, curr in zip(prev_score,score):\n",
        "      if abs(prev-curr)<threshold:\n",
        "        break\n",
        "    for j in range(len(weighted_edge)):\n",
        "      weighted_edge[j,:]=constant_edge[j,:]*float(score[j])"
      ],
      "execution_count": null,
      "outputs": []
    },
    {
      "cell_type": "code",
      "metadata": {
        "id": "b_CGoe2-M1Xn",
        "colab_type": "code",
        "colab": {
          "base_uri": "https://localhost:8080/",
          "height": 89
        },
        "outputId": "fa206e9b-0316-488e-c896-98a20c4c7b42"
      },
      "source": [
        "score"
      ],
      "execution_count": null,
      "outputs": [
        {
          "output_type": "execute_result",
          "data": {
            "text/plain": [
              "array([[0.98371127],\n",
              "       [1.46694347],\n",
              "       [0.98371127],\n",
              "       [0.56563398]])"
            ]
          },
          "metadata": {
            "tags": []
          },
          "execution_count": 37
        }
      ]
    },
    {
      "cell_type": "markdown",
      "metadata": {
        "colab_type": "text",
        "id": "wia32INGlyhA"
      },
      "source": [
        "### 5) 핵심 단어 추출"
      ]
    },
    {
      "cell_type": "code",
      "metadata": {
        "id": "5ssNn6HUbX8s",
        "colab_type": "code",
        "colab": {
          "base_uri": "https://localhost:8080/",
          "height": 35
        },
        "outputId": "414e7f6f-55de-4c68-915a-2619361e457e"
      },
      "source": [
        "vo_idx(nodes).vo_to_dic()"
      ],
      "execution_count": null,
      "outputs": [
        {
          "output_type": "execute_result",
          "data": {
            "text/plain": [
              "{'딸기': 1, '바나나': 2, '사과': 0, '파인애플': 3}"
            ]
          },
          "metadata": {
            "tags": []
          },
          "execution_count": 39
        }
      ]
    },
    {
      "cell_type": "code",
      "metadata": {
        "colab_type": "code",
        "id": "DMVQR-TqlyhB",
        "colab": {
          "base_uri": "https://localhost:8080/",
          "height": 125
        },
        "outputId": "e4d352d6-d040-4623-c089-182fe1a78b62"
      },
      "source": [
        "sorted_index = list(vo_idx(nodes).vo_to_dic().values())\n",
        "\n",
        "n = 4\n",
        "\n",
        "print(\"\\n=== 핵심키워드 ===\")\n",
        "for i in range(0,n):\n",
        "    print(str(vo_idx(nodes).idx_to_dic()[sorted_index[i]])+\" : \" + str(score[sorted_index[i]]))"
      ],
      "execution_count": null,
      "outputs": [
        {
          "output_type": "stream",
          "text": [
            "\n",
            "=== 핵심키워드 ===\n",
            "사과 : [0.98371127]\n",
            "딸기 : [1.46694347]\n",
            "바나나 : [0.98371127]\n",
            "파인애플 : [0.56563398]\n"
          ],
          "name": "stdout"
        }
      ]
    },
    {
      "cell_type": "markdown",
      "metadata": {
        "id": "vOuNI7WSBcgU",
        "colab_type": "text"
      },
      "source": [
        "---"
      ]
    },
    {
      "cell_type": "code",
      "metadata": {
        "id": "Nk06RCeMbfyk",
        "colab_type": "code",
        "colab": {
          "base_uri": "https://localhost:8080/",
          "height": 35
        },
        "outputId": "0bcc861d-6e72-4f64-f770-cec959f79c89"
      },
      "source": [
        "import requests \n",
        "from bs4 import BeautifulSoup\n",
        "\n",
        "def get_news_by_url(url):\n",
        "  res = requests.get(url)\n",
        "  bs = BeautifulSoup(res.content, 'html.parser')\n",
        "\n",
        "  title = bs.select('h3#articleTitle')[0].text #제목\n",
        "  content = bs.select('#articleBodyContents')[0].get_text().replace('\\n', \" \") #본문\n",
        "  content = content.replace(\"// flash 오류를 우회하기 위한 함수 추가 function _flash_removeCallback() {}\", \"\")\n",
        "  return  content.strip()\n",
        "\n",
        "doc = get_news_by_url('https://news.naver.com/main/read.nhn?mode=LSD&mid=sec&sid1=105&oid=018&aid=0004430108')\n",
        "doc[:50]"
      ],
      "execution_count": 56,
      "outputs": [
        {
          "output_type": "execute_result",
          "data": {
            "application/vnd.google.colaboratory.intrinsic": {
              "type": "string"
            },
            "text/plain": [
              "'과기정통부, 22일 유영민 장관 등 참석해 기념행사2021년까지 1516억원 투입, 510'"
            ]
          },
          "metadata": {
            "tags": []
          },
          "execution_count": 56
        }
      ]
    },
    {
      "cell_type": "markdown",
      "metadata": {
        "id": "683iA8igbfym",
        "colab_type": "text"
      },
      "source": [
        "### 1) 토큰화 (Tokenization)\n",
        "\n",
        "분석 텍스트 정제"
      ]
    },
    {
      "cell_type": "code",
      "metadata": {
        "id": "3SxuV1Zkbfyn",
        "colab_type": "code",
        "colab": {}
      },
      "source": [
        "from konlpy.tag import Mecab\n",
        "mecab = Mecab()\n",
        "\n",
        "nodes = [token for token in mecab.pos(doc) if token[1] in ['NNG','NNP']] #NNG, NNP를 스코어 계산 대상(노드)로 제한\n",
        "tokens = [token for token in mecab.pos(doc)] #탐색할 토큰 전체"
      ],
      "execution_count": 57,
      "outputs": []
    },
    {
      "cell_type": "markdown",
      "metadata": {
        "id": "m6QRYmRkGJ04",
        "colab_type": "text"
      },
      "source": [
        "### 2) 그래프 생성 (weighted edge 계산)"
      ]
    },
    {
      "cell_type": "code",
      "metadata": {
        "id": "DOCBZA0PGCzl",
        "colab_type": "code",
        "colab": {
          "base_uri": "https://localhost:8080/",
          "height": 143
        },
        "outputId": "df9a5188-23ba-4f29-d6e8-29b73c31c174"
      },
      "source": [
        "import numpy as np\n",
        "import math\n",
        "vocab_len = len(nodes)\n",
        "\n",
        "# 토큰별로 그래프 edge를 Matrix 형태로 생성\n",
        "weighted_edge = np.matrix([[0 for i in range(len(vo_idx(nodes).vo_to_dic()))] for i in range(len(vo_idx(nodes).vo_to_dic()))])\n",
        "\n",
        "# 각 토큰 노드별로 스코어 1로 초기화\n",
        "score = np.ones((weighted_edge.shape[0],1))\n",
        "\n",
        "# coocurrence를 판단하기 위한 window 사이즈 설정\n",
        "window_size = 10\n",
        "\n",
        "# weighted_edge 구현\n",
        "\n",
        "\n",
        "weighted_edge"
      ],
      "execution_count": 65,
      "outputs": [
        {
          "output_type": "execute_result",
          "data": {
            "text/plain": [
              "matrix([[0, 0, 0, ..., 0, 0, 0],\n",
              "        [0, 0, 0, ..., 0, 0, 0],\n",
              "        [0, 0, 0, ..., 0, 0, 0],\n",
              "        ...,\n",
              "        [0, 0, 0, ..., 0, 0, 0],\n",
              "        [0, 0, 0, ..., 0, 0, 0],\n",
              "        [0, 0, 0, ..., 0, 0, 0]])"
            ]
          },
          "metadata": {
            "tags": []
          },
          "execution_count": 65
        }
      ]
    },
    {
      "cell_type": "code",
      "metadata": {
        "colab_type": "code",
        "id": "cX-Cv5XVMIff",
        "colab": {
          "base_uri": "https://localhost:8080/",
          "height": 143
        },
        "outputId": "13e24adb-1c5d-4cca-eb36-653dbe82856d"
      },
      "source": [
        "covered_coocurrences = weighted_edge\n",
        "covered_coocurrences"
      ],
      "execution_count": 66,
      "outputs": [
        {
          "output_type": "execute_result",
          "data": {
            "text/plain": [
              "matrix([[0, 0, 0, ..., 0, 0, 0],\n",
              "        [0, 0, 0, ..., 0, 0, 0],\n",
              "        [0, 0, 0, ..., 0, 0, 0],\n",
              "        ...,\n",
              "        [0, 0, 0, ..., 0, 0, 0],\n",
              "        [0, 0, 0, ..., 0, 0, 0],\n",
              "        [0, 0, 0, ..., 0, 0, 0]])"
            ]
          },
          "metadata": {
            "tags": []
          },
          "execution_count": 66
        }
      ]
    },
    {
      "cell_type": "code",
      "metadata": {
        "colab_type": "code",
        "id": "rR6nGSdvMIfp",
        "colab": {}
      },
      "source": [
        "def cc_maker(token):\n",
        "  for idx, tok in enumerate(token):\n",
        "    if window_size-1>0:\n",
        "      if len(token[idx:])>=window_size:\n",
        "        for win in range(1,window_size):\n",
        "          if (tok in list(vo_idx(nodes).vo_to_dic().keys()))&(token[idx+win] in list(vo_idx(nodes).vo_to_dic().keys())):\n",
        "            covered_coocurrences[vo_idx(nodes).vo_to_dic()[(tok)],vo_idx(nodes).vo_to_dic()[token[idx+win]]]=1\n",
        "            covered_coocurrences[vo_idx(nodes).vo_to_dic()[token[idx+win]],vo_idx(nodes).vo_to_dic()[tok]]=1\n",
        "      else:\n",
        "        for win in range(1,len(token[idx:])):\n",
        "          if (tok in list(vo_idx(nodes).vo_to_dic().keys()))&(token[idx+win] in list(vo_idx(nodes).vo_to_dic().keys())):\n",
        "            covered_coocurrences[vo_idx(nodes).vo_to_dic()[(tok)],vo_idx(nodes).vo_to_dic()[token[idx+win]]]=1\n",
        "            covered_coocurrences[vo_idx(nodes).vo_to_dic()[token[idx+win]],vo_idx(nodes).vo_to_dic()[tok]]=1"
      ],
      "execution_count": 121,
      "outputs": []
    },
    {
      "cell_type": "code",
      "metadata": {
        "id": "gDRjX1AJNCty",
        "colab_type": "code",
        "colab": {}
      },
      "source": [
        "cc_maker(tokens)"
      ],
      "execution_count": 122,
      "outputs": []
    },
    {
      "cell_type": "code",
      "metadata": {
        "id": "NT1muWBBMCK2",
        "colab_type": "code",
        "colab": {}
      },
      "source": [
        "weighted_edge=covered_coocurrences/np.matrix([cc.sum() for cc in covered_coocurrences]).transpose()"
      ],
      "execution_count": 123,
      "outputs": []
    },
    {
      "cell_type": "markdown",
      "metadata": {
        "id": "8uaL8GwIGXNp",
        "colab_type": "text"
      },
      "source": [
        "### 3) 각 노드의 score계산"
      ]
    },
    {
      "cell_type": "code",
      "metadata": {
        "colab_type": "code",
        "id": "jeWGUXx5Ids_",
        "colab": {}
      },
      "source": [
        "constant_edge=np.copy(weighted_edge)"
      ],
      "execution_count": 124,
      "outputs": []
    },
    {
      "cell_type": "code",
      "metadata": {
        "colab_type": "code",
        "id": "K4MNyzX9IdtP",
        "colab": {}
      },
      "source": [
        "MAX_ITERATIONS = 50\n",
        "d=0.85\n",
        "threshold = 0.0001 #convergence threshold\n",
        "\n",
        "for iter in range(0,MAX_ITERATIONS):\n",
        "    prev_score = np.copy(score)\n",
        "    for i in range(len(weighted_edge)):\n",
        "      score[i]=(1-d)+d*((weighted_edge[:,i]).sum())\n",
        "    for prev, curr in zip(prev_score,score):\n",
        "      if abs(prev-curr)<threshold:\n",
        "        break\n",
        "    for j in range(len(weighted_edge)):\n",
        "      weighted_edge[j,:]=constant_edge[j,:]*float(score[j])"
      ],
      "execution_count": 125,
      "outputs": []
    },
    {
      "cell_type": "code",
      "metadata": {
        "id": "nMOCrJI8L6rq",
        "colab_type": "code",
        "colab": {
          "base_uri": "https://localhost:8080/",
          "height": 251
        },
        "outputId": "c6c624d9-1171-4d01-e912-805777201814"
      },
      "source": [
        "weighted_edge"
      ],
      "execution_count": 126,
      "outputs": [
        {
          "output_type": "execute_result",
          "data": {
            "text/plain": [
              "matrix([[0.        , 0.        , 0.        , ..., 0.        , 0.        ,\n",
              "         0.        ],\n",
              "        [0.        , 0.        , 0.        , ..., 0.        , 0.        ,\n",
              "         0.        ],\n",
              "        [0.        , 0.        , 0.        , ..., 0.        , 0.        ,\n",
              "         0.11289877],\n",
              "        ...,\n",
              "        [0.        , 0.        , 0.        , ..., 0.        , 0.        ,\n",
              "         0.        ],\n",
              "        [0.        , 0.        , 0.        , ..., 0.        , 0.        ,\n",
              "         0.        ],\n",
              "        [0.        , 0.        , 0.10150759, ..., 0.        , 0.        ,\n",
              "         0.        ]])"
            ]
          },
          "metadata": {
            "tags": []
          },
          "execution_count": 126
        }
      ]
    },
    {
      "cell_type": "markdown",
      "metadata": {
        "id": "bdg3T37hGbhJ",
        "colab_type": "text"
      },
      "source": [
        "### 4)핵심 단어 추출"
      ]
    },
    {
      "cell_type": "code",
      "metadata": {
        "id": "s3aYD316GauU",
        "colab_type": "code",
        "colab": {
          "base_uri": "https://localhost:8080/",
          "height": 233
        },
        "outputId": "e7cf04fe-9619-4121-d54f-3fdbcb6981f4"
      },
      "source": [
        "sorted_index = list(vo_idx(nodes).vo_to_dic().values())\n",
        "\n",
        "n = 10\n",
        "\n",
        "print(\"\\n=== 핵심키워드 ===\")\n",
        "for i in range(0,n):\n",
        "    print(str(vo_idx(nodes).idx_to_dic()[sorted_index[i]])+\" : \" + str(score[sorted_index[i]]))"
      ],
      "execution_count": 127,
      "outputs": [
        {
          "output_type": "stream",
          "text": [
            "\n",
            "=== 핵심키워드 ===\n",
            "('노웅래', 'NNP') : [0.95357835]\n",
            "('마련', 'NNG') : [1.99385478]\n",
            "('현실', 'NNG') : [0.56449387]\n",
            "('전략', 'NNG') : [0.6488513]\n",
            "('이재운', 'NNP') : [0.97072936]\n",
            "('경제', 'NNG') : [2.96444605]\n",
            "('중구', 'NNP') : [0.87802279]\n",
            "('실제', 'NNG') : [0.7169071]\n",
            "('사업', 'NNG') : [0.88331405]\n",
            "('신규', 'NNG') : [1.0879946]\n"
          ],
          "name": "stdout"
        }
      ]
    },
    {
      "cell_type": "markdown",
      "metadata": {
        "id": "0_Gi-Fwb31JY",
        "colab_type": "text"
      },
      "source": [
        "## 실습 3. TextRank 핵심 구 추출"
      ]
    },
    {
      "cell_type": "code",
      "metadata": {
        "id": "UeJMBw9HSkd3",
        "colab_type": "code",
        "colab": {
          "base_uri": "https://localhost:8080/",
          "height": 35
        },
        "outputId": "ffa7c409-7aab-4277-e22f-0d6c7bc7fbcb"
      },
      "source": [
        "import requests \n",
        "from bs4 import BeautifulSoup\n",
        "\n",
        "def get_news_by_url(url):\n",
        "  res = requests.get(url)\n",
        "  bs = BeautifulSoup(res.content, 'html.parser')\n",
        "\n",
        "  title = bs.select('h3#articleTitle')[0].text #제목\n",
        "  content = bs.select('#articleBodyContents')[0].get_text().replace('\\n', \" \") #본문\n",
        "  content = content.replace(\"// flash 오류를 우회하기 위한 함수 추가 function _flash_removeCallback() {}\", \"\")\n",
        "  return  content.strip()\n",
        "\n",
        "doc = get_news_by_url('https://news.naver.com/main/read.nhn?mode=LSD&mid=sec&sid1=105&oid=018&aid=0004430108')\n",
        "doc[:50]"
      ],
      "execution_count": 172,
      "outputs": [
        {
          "output_type": "execute_result",
          "data": {
            "application/vnd.google.colaboratory.intrinsic": {
              "type": "string"
            },
            "text/plain": [
              "'과기정통부, 22일 유영민 장관 등 참석해 기념행사2021년까지 1516억원 투입, 510'"
            ]
          },
          "metadata": {
            "tags": []
          },
          "execution_count": 172
        }
      ]
    },
    {
      "cell_type": "markdown",
      "metadata": {
        "id": "WlAPfNEQ3-2w",
        "colab_type": "text"
      },
      "source": [
        "### 1) 명사를 기준으로 구 추출"
      ]
    },
    {
      "cell_type": "code",
      "metadata": {
        "id": "1bFZRXkK37cF",
        "colab_type": "code",
        "colab": {}
      },
      "source": [
        "from konlpy.tag import Mecab\n",
        "mecab = Mecab()\n",
        "\n",
        "# nodes = [token for token in mecab.pos(doc) if token[1] in ['NNG','NNP','NNB','NNBC','NP']] #NNG, NNP를 스코어 계산 대상(노드)로 제한\n",
        "tokens = [token for token in mecab.pos(doc)]"
      ],
      "execution_count": 217,
      "outputs": []
    },
    {
      "cell_type": "code",
      "metadata": {
        "id": "V4awCYydXR8i",
        "colab_type": "code",
        "colab": {}
      },
      "source": [
        "tokens=[]\n",
        "gugus=[]\n",
        "i=1\n",
        "for idx, (token, taeso) in enumerate(mecab.pos(doc)):\n",
        " if i==1:\n",
        "   if (taeso[0]=='N')&(taeso!='NNBC'):\n",
        "    gugu=token\n",
        "    i=1\n",
        "    while mecab.pos(doc)[idx+i][1][0]=='N':\n",
        "      gugu+=' '+mecab.pos(doc)[idx+i][0]\n",
        "      i+=1\n",
        "    gugus.append((gugu,'GUGU'))\n",
        "    tokens.append((gugu,'GUGU'))\n",
        "   else:\n",
        "     tokens.append((token,taeso))\n",
        " else:\n",
        "   i-=1"
      ],
      "execution_count": 226,
      "outputs": []
    },
    {
      "cell_type": "code",
      "metadata": {
        "id": "_4oceJZZi_tD",
        "colab_type": "code",
        "colab": {}
      },
      "source": [
        "#기존 코드를 활용하기 위해 gugus를 nodes에 넣어줌.\n",
        "nodes=gugus"
      ],
      "execution_count": null,
      "outputs": []
    },
    {
      "cell_type": "code",
      "metadata": {
        "id": "adg6i5YtXCKJ",
        "colab_type": "code",
        "colab": {
          "base_uri": "https://localhost:8080/",
          "height": 1000
        },
        "outputId": "ca4244c4-1b41-4d1f-8804-956f13d13388"
      },
      "source": [
        "gugus"
      ],
      "execution_count": 228,
      "outputs": [
        {
          "output_type": "execute_result",
          "data": {
            "text/plain": [
              "[('과기 정통부', 'GUGU'),\n",
              " ('유영민 장관 등 참석', 'GUGU'),\n",
              " ('기념행사', 'GUGU'),\n",
              " ('억 원 투입', 'GUGU'),\n",
              " ('여종 데이터 구축 민간 클라우드', 'GUGU'),\n",
              " ('외부 연계 체계', 'GUGU'),\n",
              " ('개방', 'GUGU'),\n",
              " ('강화', 'GUGU'),\n",
              " ('데일리 이재운 기자', 'GUGU'),\n",
              " ('국가 차원', 'GUGU'),\n",
              " ('빅 데이터 활용 시대', 'GUGU'),\n",
              " ('산업 창출', 'GUGU'),\n",
              " ('기존 산업', 'GUGU'),\n",
              " ('변화', 'GUGU'),\n",
              " ('혁신', 'GUGU'),\n",
              " ('장', 'GUGU'),\n",
              " ('센터', 'GUGU'),\n",
              " ('문', 'GUGU'),\n",
              " ('분야', 'GUGU'),\n",
              " ('데이터 경제', 'GUGU'),\n",
              " ('발전', 'GUGU'),\n",
              " ('정부', 'GUGU'),\n",
              " ('청사진', 'GUGU'),\n",
              " ('현실', 'GUGU'),\n",
              " ('구현', 'GUGU'),\n",
              " ('데', 'GUGU'),\n",
              " ('계획', 'GUGU'),\n",
              " ('과학 기술 정보 통신부', 'GUGU'),\n",
              " ('서울 중구 대한 상공 회의소', 'GUGU'),\n",
              " ('데이터 생태', 'GUGU'),\n",
              " ('조성', 'GUGU'),\n",
              " ('혁신 성장', 'GUGU'),\n",
              " ('기반 마련', 'GUGU'),\n",
              " ('빅 데이터 플랫 폼', 'GUGU'),\n",
              " ('센터', 'GUGU'),\n",
              " ('출범식 행사', 'GUGU'),\n",
              " ('개최', 'GUGU'),\n",
              " ('유영민 과기 정통부 장관', 'GUGU'),\n",
              " ('노웅래 국회 과학 기술 정보 방송 통신 위원회 위원장 등', 'GUGU'),\n",
              " ('참가', 'GUGU'),\n",
              " ('분야', 'GUGU'),\n",
              " ('센터', 'GUGU'),\n",
              " ('간', 'GUGU'),\n",
              " ('억 원 투입 이미지', 'GUGU'),\n",
              " ('픽사 베이 빅 데이터', 'GUGU'),\n",
              " ('데이터 활용', 'GUGU'),\n",
              " ('혁신', 'GUGU'),\n",
              " ('장', 'GUGU'),\n",
              " ('문재', 'GUGU'),\n",
              " ('정부', 'GUGU'),\n",
              " ('경제 성장 핵심 요소 중 하나', 'GUGU'),\n",
              " ('문재인 대통령', 'GUGU'),\n",
              " ('데이터 활용', 'GUGU'),\n",
              " ('이', 'GUGU'),\n",
              " ('정보 보호', 'GUGU'),\n",
              " ('보안', 'GUGU'),\n",
              " ('중요', 'GUGU'),\n",
              " ('강조', 'GUGU'),\n",
              " ('맥락 속', 'GUGU'),\n",
              " ('빅 데이터 센터', 'GUGU'),\n",
              " ('공공', 'GUGU'),\n",
              " ('민간', 'GUGU'),\n",
              " ('협업', 'GUGU'),\n",
              " ('활용', 'GUGU'),\n",
              " ('양질', 'GUGU'),\n",
              " ('데이터', 'GUGU'),\n",
              " ('생산', 'GUGU'),\n",
              " ('구축', 'GUGU'),\n",
              " ('플랫 폼', 'GUGU'),\n",
              " ('이', 'GUGU'),\n",
              " ('수집', 'GUGU'),\n",
              " ('분석', 'GUGU'),\n",
              " ('유통', 'GUGU'),\n",
              " ('역할', 'GUGU'),\n",
              " ('담당', 'GUGU'),\n",
              " ('과기 정통부', 'GUGU'),\n",
              " ('분야', 'GUGU'),\n",
              " ('플랫 폼', 'GUGU'),\n",
              " ('이', 'GUGU'),\n",
              " ('연계', 'GUGU'),\n",
              " ('기관', 'GUGU'),\n",
              " ('센터', 'GUGU'),\n",
              " ('구축', 'GUGU'),\n",
              " ('데', 'GUGU'),\n",
              " ('억 원', 'GUGU'),\n",
              " ('투입', 'GUGU'),\n",
              " ('계획', 'GUGU'),\n",
              " ('올해', 'GUGU'),\n",
              " ('억 원 규모', 'GUGU'),\n",
              " ('사업', 'GUGU'),\n",
              " ('추진', 'GUGU'),\n",
              " ('대상 분야', 'GUGU'),\n",
              " ('금융', 'GUGU'),\n",
              " ('카드', 'GUGU'),\n",
              " ('환경', 'GUGU'),\n",
              " ('한국 수자원 공사', 'GUGU'),\n",
              " ('문화', 'GUGU'),\n",
              " ('한국 문화 정보원', 'GUGU'),\n",
              " ('교통', 'GUGU'),\n",
              " ('한국 교통 연구원', 'GUGU'),\n",
              " ('헬 스케어', 'GUGU'),\n",
              " ('국립암센터', 'GUGU'),\n",
              " ('유통', 'GUGU'),\n",
              " ('소비', 'GUGU'),\n",
              " ('매일 방송', 'GUGU'),\n",
              " ('통신', 'GUGU'),\n",
              " ('중소기업', 'GUGU'),\n",
              " ('비즈', 'GUGU'),\n",
              " ('지역 경제', 'GUGU'),\n",
              " ('경기도 청', 'GUGU'),\n",
              " ('산림', 'GUGU'),\n",
              " ('한국 임업', 'GUGU'),\n",
              " ('흥원', 'GUGU'),\n",
              " ('등', 'GUGU'),\n",
              " ('공모', 'GUGU'),\n",
              " ('빅 데이터 센터', 'GUGU'),\n",
              " ('선정', 'GUGU'),\n",
              " ('다음 달', 'GUGU'),\n",
              " ('공모', 'GUGU'),\n",
              " ('추가 선정', 'GUGU'),\n",
              " ('지원', 'GUGU'),\n",
              " ('운영', 'GUGU'),\n",
              " ('계획', 'GUGU'),\n",
              " ('이', 'GUGU'),\n",
              " ('데이터 생태계', 'GUGU'),\n",
              " ('혁신', 'GUGU'),\n",
              " ('기업', 'GUGU'),\n",
              " ('경쟁력', 'GUGU'),\n",
              " ('제고', 'GUGU'),\n",
              " ('역할', 'GUGU'),\n",
              " ('수행', 'GUGU'),\n",
              " ('주요 활용 전략', 'GUGU'),\n",
              " ('사례', 'GUGU'),\n",
              " ('빅 데이터 활용', 'GUGU'),\n",
              " ('신', 'GUGU'),\n",
              " ('新', 'GUGU'),\n",
              " ('시장', 'GUGU'),\n",
              " ('창출', 'GUGU'),\n",
              " ('방안', 'GUGU'),\n",
              " ('금융 플랫 폼', 'GUGU'),\n",
              " ('경우 소 상공', 'GUGU'),\n",
              " ('신용 평가 고도', 'GUGU'),\n",
              " ('등', 'GUGU'),\n",
              " ('금융 취약 계층 대상 중 금리 대출', 'GUGU'),\n",
              " ('절감', 'GUGU'),\n",
              " ('연간', 'GUGU'),\n",
              " ('조 원', 'GUGU'),\n",
              " ('신규 대출', 'GUGU'),\n",
              " ('창출', 'GUGU'),\n",
              " ('전망', 'GUGU'),\n",
              " ('유통', 'GUGU'),\n",
              " ('소비', 'GUGU'),\n",
              " ('중소기업 플랫 폼', 'GUGU'),\n",
              " ('소상 공인', 'GUGU'),\n",
              " ('중소기업', 'GUGU'),\n",
              " ('폐업', 'GUGU'),\n",
              " ('감소', 'GUGU'),\n",
              " ('문화 플랫 폼', 'GUGU'),\n",
              " ('문화', 'GUGU'),\n",
              " ('예술 관람', 'GUGU'),\n",
              " ('생활 체육 참여', 'GUGU'),\n",
              " ('방안', 'GUGU'),\n",
              " ('모색', 'GUGU'),\n",
              " ('의료비 절감', 'GUGU'),\n",
              " ('헬스 케어', 'GUGU'),\n",
              " ('기업', 'GUGU'),\n",
              " ('매출 향상', 'GUGU'),\n",
              " ('산업 육성', 'GUGU'),\n",
              " ('통신', 'GUGU'),\n",
              " ('산림', 'GUGU'),\n",
              " ('등', 'GUGU'),\n",
              " ('눈길', 'GUGU'),\n",
              " ('과기 정통부 제공', 'GUGU'),\n",
              " ('여종 데이터 구축', 'GUGU'),\n",
              " ('알고리즘 제공', 'GUGU'),\n",
              " ('센터', 'GUGU'),\n",
              " ('분야', 'GUGU'),\n",
              " ('데이터 부족 문제', 'GUGU'),\n",
              " ('해소', 'GUGU'),\n",
              " ('올해 말', 'GUGU'),\n",
              " ('시장 수요', 'GUGU'),\n",
              " ('여종 신규 데이터', 'GUGU'),\n",
              " ('생산', 'GUGU'),\n",
              " ('구축', 'GUGU'),\n",
              " ('사업', 'GUGU'),\n",
              " ('완료', 'GUGU'),\n",
              " ('여종 양질', 'GUGU'),\n",
              " ('데이터', 'GUGU'),\n",
              " ('생산', 'GUGU'),\n",
              " ('구축', 'GUGU'),\n",
              " ('시장', 'GUGU'),\n",
              " ('공급', 'GUGU'),\n",
              " ('계획', 'GUGU'),\n",
              " ('공공', 'GUGU'),\n",
              " ('민간 사이 데이터 파일 형식 등', 'GUGU'),\n",
              " ('호환', 'GUGU'),\n",
              " ('문제', 'GUGU'),\n",
              " ('해소', 'GUGU'),\n",
              " ('개방', 'GUGU'),\n",
              " ('표준', 'GUGU'),\n",
              " ('적용', 'GUGU'),\n",
              " ('품질 관리 기준', 'GUGU'),\n",
              " ('마련', 'GUGU'),\n",
              " ('운영', 'GUGU'),\n",
              " ('기업', 'GUGU'),\n",
              " ('실제 활용 가능', 'GUGU'),\n",
              " ('최신 데이터', 'GUGU'),\n",
              " ('확보', 'GUGU'),\n",
              " ('데', 'GUGU'),\n",
              " ('수개월', 'GUGU'),\n",
              " ('소요', 'GUGU'),\n",
              " ('문제점', 'GUGU'),\n",
              " ('개선', 'GUGU'),\n",
              " ('방안', 'GUGU'),\n",
              " ('추진', 'GUGU'),\n",
              " ('센터', 'GUGU'),\n",
              " ('플랫폼 간 연계 체계', 'GUGU'),\n",
              " ('민간 클라우드', 'GUGU'),\n",
              " ('기반', 'GUGU'),\n",
              " ('활용', 'GUGU'),\n",
              " ('센터', 'GUGU'),\n",
              " ('축적', 'GUGU'),\n",
              " ('데이터', 'GUGU'),\n",
              " ('외부', 'GUGU'),\n",
              " ('개방', 'GUGU'),\n",
              " ('공유', 'GUGU'),\n",
              " ('최신', 'GUGU'),\n",
              " ('연속', 'GUGU'),\n",
              " ('확보', 'GUGU'),\n",
              " ('계획', 'GUGU'),\n",
              " ('센터', 'GUGU'),\n",
              " ('수집', 'GUGU'),\n",
              " ('데이터', 'GUGU'),\n",
              " ('융합', 'GUGU'),\n",
              " ('분석', 'GUGU'),\n",
              " ('뒤 맞춤', 'GUGU'),\n",
              " ('데이터 제작 등 양질', 'GUGU'),\n",
              " ('데이터', 'GUGU'),\n",
              " ('생산', 'GUGU'),\n",
              " ('기업', 'GUGU'),\n",
              " ('필요', 'GUGU'),\n",
              " ('데이터', 'GUGU'),\n",
              " ('형태', 'GUGU'),\n",
              " ('활용', 'GUGU'),\n",
              " ('수', 'GUGU'),\n",
              " ('제공', 'GUGU'),\n",
              " ('계획', 'GUGU'),\n",
              " ('분석 도구', 'GUGU'),\n",
              " ('인공지능', 'GUGU'),\n",
              " ('학습 알고리즘', 'GUGU'),\n",
              " ('제공', 'GUGU'),\n",
              " ('이용자', 'GUGU'),\n",
              " ('사용', 'GUGU'),\n",
              " ('편리', 'GUGU'),\n",
              " ('환경', 'GUGU'),\n",
              " ('제공', 'GUGU'),\n",
              " ('밖', 'GUGU'),\n",
              " ('필요', 'GUGU'),\n",
              " ('데이터', 'GUGU'),\n",
              " ('등록', 'GUGU'),\n",
              " ('검색', 'GUGU'),\n",
              " ('수', 'GUGU'),\n",
              " ('기준', 'GUGU'),\n",
              " ('마련', 'GUGU'),\n",
              " ('데이터 보유', 'GUGU'),\n",
              " ('관리', 'GUGU'),\n",
              " ('체계', 'GUGU'),\n",
              " ('거버넌스', 'GUGU'),\n",
              " ('논의', 'GUGU'),\n",
              " ('데이터 얼라이언스', 'GUGU'),\n",
              " ('구성', 'GUGU'),\n",
              " ('이용', 'GUGU'),\n",
              " ('방안', 'GUGU'),\n",
              " ('마련', 'GUGU'),\n",
              " ('유영민 과기 정통부 장관', 'GUGU'),\n",
              " ('오늘 출범식', 'GUGU'),\n",
              " ('대한민국', 'GUGU'),\n",
              " ('데이터 강국', 'GUGU'),\n",
              " ('초석', 'GUGU'),\n",
              " ('자리', 'GUGU'),\n",
              " ('세계 주요 국', 'GUGU'),\n",
              " ('데이터 경제', 'GUGU'),\n",
              " ('발걸음', 'GUGU'),\n",
              " ('빅 데이터 플랫 폼', 'GUGU'),\n",
              " ('센터', 'GUGU'),\n",
              " ('지렛대', 'GUGU'),\n",
              " ('우리나라', 'GUGU'),\n",
              " ('낙후', 'GUGU'),\n",
              " ('데이터 생태계', 'GUGU'),\n",
              " ('혁신', 'GUGU'),\n",
              " ('기업', 'GUGU'),\n",
              " ('경쟁력', 'GUGU'),\n",
              " ('단계 제고', 'GUGU'),\n",
              " ('수', 'GUGU'),\n",
              " ('정책', 'GUGU'),\n",
              " ('역량', 'GUGU'),\n",
              " ('집중', 'GUGU'),\n",
              " ('이재운', 'GUGU'),\n",
              " ('네이버 홈', 'GUGU'),\n",
              " ('데일리', 'GUGU'),\n",
              " ('뉴스', 'GUGU'),\n",
              " ('구독', 'GUGU'),\n",
              " ('꿀 잼', 'GUGU'),\n",
              " ('영상', 'GUGU'),\n",
              " ('청춘 뉘 우스', 'GUGU'),\n",
              " ('스냅 타임', 'GUGU'),\n",
              " ('종합 경제 정보 미디어', 'GUGU'),\n",
              " ('데일리', 'GUGU'),\n",
              " ('무단 전재', 'GUGU'),\n",
              " ('배포 금지', 'GUGU')]"
            ]
          },
          "metadata": {
            "tags": []
          },
          "execution_count": 228
        }
      ]
    },
    {
      "cell_type": "code",
      "metadata": {
        "id": "9DGEbCcah-UO",
        "colab_type": "code",
        "colab": {
          "base_uri": "https://localhost:8080/",
          "height": 1000
        },
        "outputId": "eef69814-93fc-4b0a-b826-af4415c9fd41"
      },
      "source": [
        "tokens"
      ],
      "execution_count": 229,
      "outputs": [
        {
          "output_type": "execute_result",
          "data": {
            "text/plain": [
              "[('과기 정통부', 'GUGU'),\n",
              " (',', 'SC'),\n",
              " ('22', 'SN'),\n",
              " ('일', 'NNBC'),\n",
              " ('유영민 장관 등 참석', 'GUGU'),\n",
              " ('해', 'XSV+EC'),\n",
              " ('기념행사', 'GUGU'),\n",
              " ('2021', 'SN'),\n",
              " ('년', 'NNBC'),\n",
              " ('까지', 'JX'),\n",
              " ('1516', 'SN'),\n",
              " ('억 원 투입', 'GUGU'),\n",
              " (',', 'SC'),\n",
              " ('5100', 'SN'),\n",
              " ('여종 데이터 구축 민간 클라우드', 'GUGU'),\n",
              " ('통한', 'VV+ETM'),\n",
              " ('외부 연계 체계', 'GUGU'),\n",
              " ('도', 'JX'),\n",
              " ('.', 'SF'),\n",
              " ('.\"', 'SY'),\n",
              " ('개방', 'GUGU'),\n",
              " ('성', 'XSN'),\n",
              " ('강화', 'GUGU'),\n",
              " ('\"[', 'SY'),\n",
              " ('이', 'JKS'),\n",
              " ('데일리 이재운 기자', 'GUGU'),\n",
              " (']', 'SSC'),\n",
              " ('국가 차원', 'GUGU'),\n",
              " ('의', 'JKG'),\n",
              " ('빅 데이터 활용 시대', 'GUGU'),\n",
              " ('가', 'JKS'),\n",
              " ('열린다', 'VV+EF'),\n",
              " ('.', 'SF'),\n",
              " ('새로운', 'VA+ETM'),\n",
              " ('산업 창출', 'GUGU'),\n",
              " ('과', 'JC'),\n",
              " ('기존 산업', 'GUGU'),\n",
              " ('의', 'JKG'),\n",
              " ('변화', 'GUGU'),\n",
              " ('에', 'JKB'),\n",
              " ('이르', 'VV'),\n",
              " ('는', 'ETM'),\n",
              " ('‘', 'SY'),\n",
              " ('혁신', 'GUGU'),\n",
              " ('성', 'XSN'),\n",
              " ('장', 'GUGU'),\n",
              " ('’', 'SY'),\n",
              " ('을', 'JKO'),\n",
              " ('위한', 'VV+ETM'),\n",
              " ('센터', 'GUGU'),\n",
              " ('가', 'JKS'),\n",
              " ('문', 'GUGU'),\n",
              " ('을', 'JKO'),\n",
              " ('연다', 'VV+EC'),\n",
              " ('.', 'SY'),\n",
              " ('10', 'SN'),\n",
              " ('개', 'NNBC'),\n",
              " ('분야', 'GUGU'),\n",
              " ('에', 'JKB'),\n",
              " ('걸쳐', 'VV+EC'),\n",
              " ('‘', 'SY'),\n",
              " ('데이터 경제', 'GUGU'),\n",
              " ('’', 'SY'),\n",
              " ('의', 'JKG'),\n",
              " ('발전', 'GUGU'),\n",
              " ('을', 'JKO'),\n",
              " ('위한', 'VV+ETM'),\n",
              " ('정부', 'GUGU'),\n",
              " ('의', 'JKG'),\n",
              " ('청사진', 'GUGU'),\n",
              " ('을', 'JKO'),\n",
              " ('현실', 'GUGU'),\n",
              " ('로', 'JKB'),\n",
              " ('구현', 'GUGU'),\n",
              " ('하', 'XSV'),\n",
              " ('는', 'ETM'),\n",
              " ('데', 'GUGU'),\n",
              " ('앞장선다는', 'VV+ETM'),\n",
              " ('계획', 'GUGU'),\n",
              " ('이', 'VCP'),\n",
              " ('다', 'EF'),\n",
              " ('.', 'SF'),\n",
              " ('22', 'SN'),\n",
              " ('일', 'NNBC'),\n",
              " ('과학 기술 정보 통신부', 'GUGU'),\n",
              " ('는', 'JX'),\n",
              " ('서울 중구 대한 상공 회의소', 'GUGU'),\n",
              " ('에서', 'JKB'),\n",
              " ('데이터 생태', 'GUGU'),\n",
              " ('계', 'XSN'),\n",
              " ('조성', 'GUGU'),\n",
              " ('과', 'JC'),\n",
              " ('혁신 성장', 'GUGU'),\n",
              " ('의', 'JKG'),\n",
              " ('기반 마련', 'GUGU'),\n",
              " ('을', 'JKO'),\n",
              " ('위한', 'VV+ETM'),\n",
              " ('‘', 'SY'),\n",
              " ('빅 데이터 플랫 폼', 'GUGU'),\n",
              " ('및', 'MAJ'),\n",
              " ('센터', 'GUGU'),\n",
              " ('’', 'SY'),\n",
              " ('출범식 행사', 'GUGU'),\n",
              " ('를', 'JKO'),\n",
              " ('개최', 'GUGU'),\n",
              " ('했', 'XSV+EP'),\n",
              " ('다', 'EF'),\n",
              " ('.', 'SF'),\n",
              " ('유영민 과기 정통부 장관', 'GUGU'),\n",
              " ('을', 'JKO'),\n",
              " ('비롯', 'XR'),\n",
              " ('해', 'XSA+EC'),\n",
              " ('노웅래 국회 과학 기술 정보 방송 통신 위원회 위원장 등', 'GUGU'),\n",
              " ('300', 'SN'),\n",
              " ('여', 'XSN'),\n",
              " ('명', 'NNBC'),\n",
              " ('이', 'JKS'),\n",
              " ('참가', 'GUGU'),\n",
              " ('했', 'XSV+EP'),\n",
              " ('다', 'EF'),\n",
              " ('.', 'SF'),\n",
              " ('◇', 'SY'),\n",
              " ('10', 'SN'),\n",
              " ('개', 'NNBC'),\n",
              " ('분야', 'GUGU'),\n",
              " ('100', 'SN'),\n",
              " ('개', 'NNBC'),\n",
              " ('센터', 'GUGU'),\n",
              " ('.', 'SF'),\n",
              " ('.', 'SY'),\n",
              " ('3', 'SN'),\n",
              " ('년', 'NNBC'),\n",
              " ('간', 'GUGU'),\n",
              " ('1516', 'SN'),\n",
              " ('억 원 투입 이미지', 'GUGU'),\n",
              " (':', 'SC'),\n",
              " ('픽사 베이 빅 데이터', 'GUGU'),\n",
              " ('는', 'JX'),\n",
              " ('데이터 활용', 'GUGU'),\n",
              " ('을', 'JKO'),\n",
              " ('통해', 'VV+EC'),\n",
              " ('혁신', 'GUGU'),\n",
              " ('성', 'XSN'),\n",
              " ('장', 'GUGU'),\n",
              " ('을', 'JKO'),\n",
              " ('이루', 'VV'),\n",
              " ('자는', 'ETM'),\n",
              " ('문재', 'GUGU'),\n",
              " ('인', 'VCP+ETM'),\n",
              " ('정부', 'GUGU'),\n",
              " ('의', 'JKG'),\n",
              " ('경제 성장 핵심 요소 중 하나', 'GUGU'),\n",
              " ('다', 'VCP+EF'),\n",
              " ('.', 'SF'),\n",
              " ('문재인 대통령', 'GUGU'),\n",
              " ('이', 'JKS'),\n",
              " ('직접', 'MAG'),\n",
              " ('올', 'VV+ETM'),\n",
              " ('들', 'VV'),\n",
              " ('어', 'EC'),\n",
              " ('데이터 활용', 'GUGU'),\n",
              " ('과', 'JC'),\n",
              " ('이', 'GUGU'),\n",
              " ('에', 'JKB'),\n",
              " ('따른', 'VV+ETM'),\n",
              " ('정보 보호', 'GUGU'),\n",
              " ('(', 'SSO'),\n",
              " ('보안', 'GUGU'),\n",
              " (')', 'SSC'),\n",
              " ('에', 'JKB'),\n",
              " ('대한', 'VV+ETM'),\n",
              " ('중요', 'GUGU'),\n",
              " ('성', 'XSN'),\n",
              " ('을', 'JKO'),\n",
              " ('강조', 'GUGU'),\n",
              " ('하', 'XSV'),\n",
              " ('기', 'ETN'),\n",
              " ('도', 'JX'),\n",
              " ('했', 'VV+EP'),\n",
              " ('다', 'EF'),\n",
              " ('.', 'SF'),\n",
              " ('이런', 'MM'),\n",
              " ('맥락 속', 'GUGU'),\n",
              " ('에서', 'JKB'),\n",
              " ('빅 데이터 센터', 'GUGU'),\n",
              " ('는', 'JX'),\n",
              " ('공공', 'GUGU'),\n",
              " ('과', 'JC'),\n",
              " ('민간', 'GUGU'),\n",
              " ('이', 'JKS'),\n",
              " ('협업', 'GUGU'),\n",
              " ('해', 'XSV+EC'),\n",
              " ('활용', 'GUGU'),\n",
              " ('도', 'JX'),\n",
              " ('높', 'VA'),\n",
              " ('은', 'ETM'),\n",
              " ('양질', 'GUGU'),\n",
              " ('의', 'JKG'),\n",
              " ('데이터', 'GUGU'),\n",
              " ('를', 'JKO'),\n",
              " ('생산', 'GUGU'),\n",
              " ('·', 'SC'),\n",
              " ('구축', 'GUGU'),\n",
              " ('하', 'XSV'),\n",
              " ('고', 'EC'),\n",
              " (',', 'SC'),\n",
              " ('플랫 폼', 'GUGU'),\n",
              " ('은', 'JX'),\n",
              " ('이', 'GUGU'),\n",
              " ('를', 'JKO'),\n",
              " ('수집', 'GUGU'),\n",
              " ('·', 'SC'),\n",
              " ('분석', 'GUGU'),\n",
              " ('·', 'SC'),\n",
              " ('유통', 'GUGU'),\n",
              " ('하', 'XSV'),\n",
              " ('는', 'ETM'),\n",
              " ('역할', 'GUGU'),\n",
              " ('을', 'JKO'),\n",
              " ('담당', 'GUGU'),\n",
              " ('한다', 'XSV+EF'),\n",
              " ('.', 'SF'),\n",
              " ('과기 정통부', 'GUGU'),\n",
              " ('는', 'JX'),\n",
              " ('분야', 'GUGU'),\n",
              " ('별', 'XSN'),\n",
              " ('플랫 폼', 'GUGU'),\n",
              " ('10', 'SN'),\n",
              " ('개소', 'NNBC'),\n",
              " ('와', 'JC'),\n",
              " ('이', 'GUGU'),\n",
              " ('와', 'JKB'),\n",
              " ('연계', 'GUGU'),\n",
              " ('된', 'XSV+ETM'),\n",
              " ('기관', 'GUGU'),\n",
              " ('별', 'XSN'),\n",
              " ('센터', 'GUGU'),\n",
              " ('100', 'SN'),\n",
              " ('개소', 'NNBC'),\n",
              " ('를', 'JKO'),\n",
              " ('구축', 'GUGU'),\n",
              " ('하', 'XSV'),\n",
              " ('는', 'ETM'),\n",
              " ('데', 'GUGU'),\n",
              " ('3', 'SN'),\n",
              " ('년', 'NNBC'),\n",
              " ('간', 'XSN'),\n",
              " ('총', 'MM'),\n",
              " ('1516', 'SN'),\n",
              " ('억 원', 'GUGU'),\n",
              " ('을', 'JKO'),\n",
              " ('투입', 'GUGU'),\n",
              " ('할', 'XSV+ETM'),\n",
              " ('계획', 'GUGU'),\n",
              " ('이', 'VCP'),\n",
              " ('며', 'EC'),\n",
              " (',', 'SC'),\n",
              " ('올해', 'GUGU'),\n",
              " ('우선', 'MAG'),\n",
              " ('640', 'SN'),\n",
              " ('억 원 규모', 'GUGU'),\n",
              " ('의', 'JKG'),\n",
              " ('사업', 'GUGU'),\n",
              " ('을', 'JKO'),\n",
              " ('추진', 'GUGU'),\n",
              " ('하', 'XSV'),\n",
              " ('고', 'EC'),\n",
              " ('있', 'VX'),\n",
              " ('다', 'EF'),\n",
              " ('.', 'SF'),\n",
              " ('대상 분야', 'GUGU'),\n",
              " ('는', 'JX'),\n",
              " ('△', 'SY'),\n",
              " ('금융', 'GUGU'),\n",
              " ('(', 'SSO'),\n",
              " ('BC', 'SL'),\n",
              " ('카드', 'GUGU'),\n",
              " (')', 'SSC'),\n",
              " ('△', 'SY'),\n",
              " ('환경', 'GUGU'),\n",
              " ('(', 'SSO'),\n",
              " ('한국 수자원 공사', 'GUGU'),\n",
              " (')', 'SSC'),\n",
              " ('△', 'SY'),\n",
              " ('문화', 'GUGU'),\n",
              " ('(', 'SSO'),\n",
              " ('한국 문화 정보원', 'GUGU'),\n",
              " (')', 'SSC'),\n",
              " ('△', 'SY'),\n",
              " ('교통', 'GUGU'),\n",
              " ('(', 'SSO'),\n",
              " ('한국 교통 연구원', 'GUGU'),\n",
              " (')', 'SSC'),\n",
              " ('△', 'SY'),\n",
              " ('헬 스케어', 'GUGU'),\n",
              " ('(', 'SSO'),\n",
              " ('국립암센터', 'GUGU'),\n",
              " (')', 'SSC'),\n",
              " ('△', 'SY'),\n",
              " ('유통', 'GUGU'),\n",
              " ('·', 'SC'),\n",
              " ('소비', 'GUGU'),\n",
              " ('(', 'SSO'),\n",
              " ('매일 방송', 'GUGU'),\n",
              " (')', 'SSC'),\n",
              " ('△', 'SY'),\n",
              " ('통신', 'GUGU'),\n",
              " ('(', 'SSO'),\n",
              " ('KT', 'SL'),\n",
              " (')', 'SSC'),\n",
              " ('△', 'SY'),\n",
              " ('중소기업', 'GUGU'),\n",
              " ('(', 'SSO'),\n",
              " ('더', 'MAG'),\n",
              " ('존', 'VA+ETM'),\n",
              " ('비즈', 'GUGU'),\n",
              " ('온', 'VV+ETM'),\n",
              " (')', 'SSC'),\n",
              " ('△', 'SY'),\n",
              " ('지역 경제', 'GUGU'),\n",
              " ('(', 'SSO'),\n",
              " ('경기도 청', 'GUGU'),\n",
              " (')', 'SSC'),\n",
              " ('△', 'SY'),\n",
              " ('산림', 'GUGU'),\n",
              " ('(', 'SSO'),\n",
              " ('한국 임업', 'GUGU'),\n",
              " ('진', 'XSA+ETM'),\n",
              " ('흥원', 'GUGU'),\n",
              " (')', 'SSC'),\n",
              " ('등', 'GUGU'),\n",
              " ('으로', 'JKB'),\n",
              " ('현재', 'MAG'),\n",
              " ('1', 'SN'),\n",
              " ('차', 'NNBC'),\n",
              " ('공모', 'GUGU'),\n",
              " ('를', 'JKO'),\n",
              " ('통해', 'VV+EC'),\n",
              " ('72', 'SN'),\n",
              " ('개', 'NNBC'),\n",
              " ('빅 데이터 센터', 'GUGU'),\n",
              " ('를', 'JKO'),\n",
              " ('선정', 'GUGU'),\n",
              " ('했', 'XSV+EP'),\n",
              " ('고', 'EC'),\n",
              " (',', 'SC'),\n",
              " ('다음 달', 'GUGU'),\n",
              " ('8', 'SN'),\n",
              " ('일', 'NNBC'),\n",
              " ('까지', 'JX'),\n",
              " ('2', 'SN'),\n",
              " ('차', 'NNBC'),\n",
              " ('공모', 'GUGU'),\n",
              " ('를', 'JKO'),\n",
              " ('통해', 'VV+EC'),\n",
              " ('28', 'SN'),\n",
              " ('개', 'NNBC'),\n",
              " ('를', 'JKO'),\n",
              " ('추가 선정', 'GUGU'),\n",
              " ('해', 'XSV+EC'),\n",
              " ('총', 'MM'),\n",
              " ('100', 'SN'),\n",
              " ('개', 'NNBC'),\n",
              " ('를', 'JKO'),\n",
              " ('지원', 'GUGU'),\n",
              " (',', 'SC'),\n",
              " ('운영', 'GUGU'),\n",
              " ('할', 'XSV+ETM'),\n",
              " ('계획', 'GUGU'),\n",
              " ('이', 'VCP'),\n",
              " ('다', 'EF'),\n",
              " ('.', 'SF'),\n",
              " ('이', 'GUGU'),\n",
              " ('를', 'JKO'),\n",
              " ('통해', 'VV+EC'),\n",
              " ('데이터 생태계', 'GUGU'),\n",
              " ('를', 'JKO'),\n",
              " ('혁신', 'GUGU'),\n",
              " ('하', 'XSV'),\n",
              " ('고', 'EC'),\n",
              " ('기업', 'GUGU'),\n",
              " ('의', 'JKG'),\n",
              " ('경쟁력', 'GUGU'),\n",
              " ('을', 'JKO'),\n",
              " ('제고', 'GUGU'),\n",
              " ('하', 'XSV'),\n",
              " ('는', 'ETM'),\n",
              " ('역할', 'GUGU'),\n",
              " ('을', 'JKO'),\n",
              " ('수행', 'GUGU'),\n",
              " ('한다', 'XSV+EF'),\n",
              " ('.', 'SF'),\n",
              " ('주요 활용 전략', 'GUGU'),\n",
              " ('·', 'SC'),\n",
              " ('사례', 'GUGU'),\n",
              " ('를', 'JKO'),\n",
              " ('보', 'VV'),\n",
              " ('면', 'EC'),\n",
              " ('빅 데이터 활용', 'GUGU'),\n",
              " ('을', 'JKO'),\n",
              " ('통해', 'VV+EC'),\n",
              " ('‘', 'SY'),\n",
              " ('신', 'GUGU'),\n",
              " ('(', 'SSO'),\n",
              " ('新', 'GUGU'),\n",
              " (')', 'SSC'),\n",
              " ('시장', 'GUGU'),\n",
              " ('’', 'SY'),\n",
              " ('을', 'JKO'),\n",
              " ('창출', 'GUGU'),\n",
              " ('하', 'XSV'),\n",
              " ('는', 'ETM'),\n",
              " ('방안', 'GUGU'),\n",
              " ('을', 'JKO'),\n",
              " ('담', 'VV'),\n",
              " ('고', 'EC'),\n",
              " ('있', 'VX'),\n",
              " ('다', 'EF'),\n",
              " ('.', 'SF'),\n",
              " ('금융 플랫 폼', 'GUGU'),\n",
              " ('의', 'JKG'),\n",
              " ('경우 소 상공', 'GUGU'),\n",
              " ('인', 'VCP+ETM'),\n",
              " ('신용 평가 고도', 'GUGU'),\n",
              " ('화', 'XSN'),\n",
              " ('등', 'GUGU'),\n",
              " ('을', 'JKO'),\n",
              " ('통해', 'VV+EC'),\n",
              " ('금융 취약 계층 대상 중 금리 대출', 'GUGU'),\n",
              " ('이', 'JKS'),\n",
              " ('자를', 'VV+ETM'),\n",
              " ('2', 'SN'),\n",
              " ('%', 'SY'),\n",
              " ('p', 'SL'),\n",
              " ('절감', 'GUGU'),\n",
              " ('해', 'XSV+EC'),\n",
              " ('연간', 'GUGU'),\n",
              " ('1', 'SN'),\n",
              " ('조 원', 'GUGU'),\n",
              " ('의', 'JKG'),\n",
              " ('신규 대출', 'GUGU'),\n",
              " ('을', 'JKO'),\n",
              " ('창출', 'GUGU'),\n",
              " ('할', 'XSV+ETM'),\n",
              " ('전망', 'GUGU'),\n",
              " ('이', 'VCP'),\n",
              " ('다', 'EF'),\n",
              " ('.', 'SF'),\n",
              " ('유통', 'GUGU'),\n",
              " ('·', 'SC'),\n",
              " ('소비', 'GUGU'),\n",
              " ('와', 'JC'),\n",
              " ('중소기업 플랫 폼', 'GUGU'),\n",
              " ('은', 'JX'),\n",
              " ('소상 공인', 'GUGU'),\n",
              " ('이나', 'JC'),\n",
              " ('중소기업', 'GUGU'),\n",
              " ('의', 'JKG'),\n",
              " ('폐업', 'GUGU'),\n",
              " ('률', 'XSN'),\n",
              " ('감소', 'GUGU'),\n",
              " ('를', 'JKO'),\n",
              " (',', 'SC'),\n",
              " ('문화 플랫 폼', 'GUGU'),\n",
              " ('은', 'JX'),\n",
              " ('문화', 'GUGU'),\n",
              " ('·', 'SC'),\n",
              " ('예술 관람', 'GUGU'),\n",
              " ('률', 'XSN'),\n",
              " ('과', 'JC'),\n",
              " ('생활 체육 참여', 'GUGU'),\n",
              " ('율', 'XSN'),\n",
              " ('을', 'JKO'),\n",
              " ('높이', 'VV'),\n",
              " ('는', 'ETM'),\n",
              " ('방안', 'GUGU'),\n",
              " ('을', 'JKO'),\n",
              " ('모색', 'GUGU'),\n",
              " ('한다', 'XSV+EF'),\n",
              " ('.', 'SF'),\n",
              " ('의료비 절감', 'GUGU'),\n",
              " ('(', 'SSO'),\n",
              " ('헬스 케어', 'GUGU'),\n",
              " (')', 'SSC'),\n",
              " ('과', 'JC'),\n",
              " ('기업', 'GUGU'),\n",
              " ('의', 'JKG'),\n",
              " ('매출 향상', 'GUGU'),\n",
              " ('을', 'JKO'),\n",
              " ('통한', 'VV+ETM'),\n",
              " ('산업 육성', 'GUGU'),\n",
              " ('(', 'SSO'),\n",
              " ('통신', 'GUGU'),\n",
              " ('·', 'SC'),\n",
              " ('산림', 'GUGU'),\n",
              " (')', 'SSC'),\n",
              " ('등', 'GUGU'),\n",
              " ('도', 'JX'),\n",
              " ('눈길', 'GUGU'),\n",
              " ('을', 'JKO'),\n",
              " ('끈다', 'VV+EF'),\n",
              " ('.', 'SF'),\n",
              " ('과기 정통부 제공', 'GUGU'),\n",
              " ('◇', 'SY'),\n",
              " ('2021', 'SN'),\n",
              " ('년', 'NNBC'),\n",
              " ('까지', 'JX'),\n",
              " ('5100', 'SN'),\n",
              " ('여종 데이터 구축', 'GUGU'),\n",
              " ('.', 'SF'),\n",
              " ('.', 'SY'),\n",
              " ('AI', 'SL'),\n",
              " ('알고리즘 제공', 'GUGU'),\n",
              " ('도', 'JX'),\n",
              " ('센터', 'GUGU'),\n",
              " ('는', 'JX'),\n",
              " ('우선', 'MAG'),\n",
              " ('분야', 'GUGU'),\n",
              " ('별', 'XSN'),\n",
              " ('데이터 부족 문제', 'GUGU'),\n",
              " ('를', 'JKO'),\n",
              " ('해소', 'GUGU'),\n",
              " ('하', 'XSV'),\n",
              " ('기', 'ETN'),\n",
              " ('위해', 'VV+EC'),\n",
              " ('올해 말', 'GUGU'),\n",
              " ('까지', 'JX'),\n",
              " ('시장 수요', 'GUGU'),\n",
              " ('가', 'JKS'),\n",
              " ('높', 'VA'),\n",
              " ('은', 'ETM'),\n",
              " ('1400', 'SN'),\n",
              " ('여종 신규 데이터', 'GUGU'),\n",
              " ('를', 'JKO'),\n",
              " ('생산', 'GUGU'),\n",
              " ('ㆍ', 'UNKNOWN'),\n",
              " ('구축', 'GUGU'),\n",
              " ('하', 'XSV'),\n",
              " ('고', 'EC'),\n",
              " (',', 'SC'),\n",
              " ('사업', 'GUGU'),\n",
              " ('이', 'JKS'),\n",
              " ('완료', 'GUGU'),\n",
              " ('되', 'XSV'),\n",
              " ('는', 'ETM'),\n",
              " ('2021', 'SN'),\n",
              " ('년', 'NNBC'),\n",
              " ('까지', 'JX'),\n",
              " ('총', 'MM'),\n",
              " ('5100', 'SN'),\n",
              " ('여종 양질', 'GUGU'),\n",
              " ('의', 'JKG'),\n",
              " ('풍부', 'XR'),\n",
              " ('한', 'XSA+ETM'),\n",
              " ('데이터', 'GUGU'),\n",
              " ('를', 'JKO'),\n",
              " ('생산', 'GUGU'),\n",
              " ('·', 'SC'),\n",
              " ('구축', 'GUGU'),\n",
              " ('해', 'XSV+EC'),\n",
              " ('시장', 'GUGU'),\n",
              " ('에', 'JKB'),\n",
              " ('공급', 'GUGU'),\n",
              " ('할', 'XSV+ETM'),\n",
              " ('계획', 'GUGU'),\n",
              " ('이', 'VCP'),\n",
              " ('다', 'EF'),\n",
              " ('.', 'SF'),\n",
              " ('특히', 'MAG'),\n",
              " ('공공', 'GUGU'),\n",
              " ('과', 'JC'),\n",
              " ('민간 사이 데이터 파일 형식 등', 'GUGU'),\n",
              " ('이', 'JKS'),\n",
              " ('달라', 'VA+EC'),\n",
              " ('호환', 'GUGU'),\n",
              " ('이', 'JKS'),\n",
              " ('제대로', 'MAG'),\n",
              " ('이뤄지지', 'VV+EC'),\n",
              " ('못한', 'VX+ETM'),\n",
              " ('문제', 'GUGU'),\n",
              " ('를', 'JKO'),\n",
              " ('해소', 'GUGU'),\n",
              " ('하', 'XSV'),\n",
              " ('기', 'ETN'),\n",
              " ('위해', 'VV+EC'),\n",
              " ('개방', 'GUGU'),\n",
              " ('형', 'XSN'),\n",
              " ('표준', 'GUGU'),\n",
              " ('을', 'JKO'),\n",
              " ('적용', 'GUGU'),\n",
              " ('하', 'XSV'),\n",
              " ('고', 'EC'),\n",
              " (',', 'SC'),\n",
              " ('품질 관리 기준', 'GUGU'),\n",
              " ('도', 'JX'),\n",
              " ('마련', 'GUGU'),\n",
              " ('해', 'XSV+EC'),\n",
              " ('운영', 'GUGU'),\n",
              " ('한다', 'XSV+EF'),\n",
              " ('.', 'SF'),\n",
              " ('기업', 'GUGU'),\n",
              " ('들', 'XSN'),\n",
              " ('이', 'JKS'),\n",
              " ('실제 활용 가능', 'GUGU'),\n",
              " ('한', 'XSA+ETM'),\n",
              " ('최신 데이터', 'GUGU'),\n",
              " ('를', 'JKO'),\n",
              " ('확보', 'GUGU'),\n",
              " ('하', 'XSV'),\n",
              " ('는', 'ETM'),\n",
              " ('데', 'GUGU'),\n",
              " ('도', 'JX'),\n",
              " ('수개월', 'GUGU'),\n",
              " ('이', 'JKS'),\n",
              " ('소요', 'GUGU'),\n",
              " ('된다는', 'XSV+ETM'),\n",
              " ('문제점', 'GUGU'),\n",
              " ('을', 'JKO'),\n",
              " ('개선', 'GUGU'),\n",
              " ('하', 'XSV'),\n",
              " ('기', 'ETN'),\n",
              " ('위한', 'VV+ETM'),\n",
              " ('방안', 'GUGU'),\n",
              " ('도', 'JX'),\n",
              " ('추진', 'GUGU'),\n",
              " ('한다', 'XSV+EF'),\n",
              " ('.', 'SF'),\n",
              " ('센터', 'GUGU'),\n",
              " ('와', 'JC'),\n",
              " ('플랫폼 간 연계 체계', 'GUGU'),\n",
              " ('에', 'JKB'),\n",
              " ('는', 'JX'),\n",
              " ('민간 클라우드', 'GUGU'),\n",
              " ('를', 'JKO'),\n",
              " ('기반', 'GUGU'),\n",
              " ('으로', 'JKB'),\n",
              " ('활용', 'GUGU'),\n",
              " ('하', 'XSV'),\n",
              " ('고', 'EC'),\n",
              " (',', 'SC'),\n",
              " ('센터', 'GUGU'),\n",
              " ('에', 'JKB'),\n",
              " ('축적', 'GUGU'),\n",
              " ('된', 'XSV+ETM'),\n",
              " ('데이터', 'GUGU'),\n",
              " ('도', 'JX'),\n",
              " ('계속', 'MAG'),\n",
              " ('외부', 'GUGU'),\n",
              " ('와', 'JC'),\n",
              " ('개방', 'GUGU'),\n",
              " ('·', 'SC'),\n",
              " ('공유', 'GUGU'),\n",
              " ('하', 'XSV'),\n",
              " ('며', 'EC'),\n",
              " ('최신', 'GUGU'),\n",
              " ('·', 'SC'),\n",
              " ('연속', 'GUGU'),\n",
              " ('성', 'XSN'),\n",
              " ('을', 'JKO'),\n",
              " ('확보', 'GUGU'),\n",
              " ('한다는', 'XSV+ETM'),\n",
              " ('계획', 'GUGU'),\n",
              " ('이', 'VCP'),\n",
              " ('다', 'EF'),\n",
              " ('.', 'SF'),\n",
              " ('100', 'SN'),\n",
              " ('개', 'NNBC'),\n",
              " ('센터', 'GUGU'),\n",
              " ('에서', 'JKB'),\n",
              " ('수집', 'GUGU'),\n",
              " ('된', 'XSV+ETM'),\n",
              " ('데이터', 'GUGU'),\n",
              " ('를', 'JKO'),\n",
              " ('융합', 'GUGU'),\n",
              " ('·', 'SC'),\n",
              " ('분석', 'GUGU'),\n",
              " ('한', 'XSV+ETM'),\n",
              " ('뒤 맞춤', 'GUGU'),\n",
              " ('형', 'XSN'),\n",
              " ('데이터 제작 등 양질', 'GUGU'),\n",
              " ('의', 'JKG'),\n",
              " ('데이터', 'GUGU'),\n",
              " ('로', 'JKB'),\n",
              " ('재', 'XPN'),\n",
              " ('생산', 'GUGU'),\n",
              " ('하', 'XSV'),\n",
              " ('고', 'EC'),\n",
              " (',', 'SC'),\n",
              " ('기업', 'GUGU'),\n",
              " ('들', 'XSN'),\n",
              " ('이', 'JKS'),\n",
              " ('필요', 'GUGU'),\n",
              " ('로', 'JKB'),\n",
              " ('하', 'VV'),\n",
              " ('는', 'ETM'),\n",
              " ('데이터', 'GUGU'),\n",
              " ('를', 'JKO'),\n",
              " ('원하', 'VV'),\n",
              " ('는', 'ETM'),\n",
              " ('형태', 'GUGU'),\n",
              " ('로', 'JKB'),\n",
              " ('즉시', 'MAG'),\n",
              " ('활용', 'GUGU'),\n",
              " ('할', 'XSV+ETM'),\n",
              " ('수', 'GUGU'),\n",
              " ('있', 'VV'),\n",
              " ('도록', 'EC'),\n",
              " ('제공', 'GUGU'),\n",
              " ('할', 'XSV+ETM'),\n",
              " ('계획', 'GUGU'),\n",
              " ('이', 'VCP'),\n",
              " ('다', 'EF'),\n",
              " ('.', 'SF'),\n",
              " ('다양', 'XR'),\n",
              " ('한', 'XSA+ETM'),\n",
              " ('분석 도구', 'GUGU'),\n",
              " ('는', 'JX'),\n",
              " ('물론', 'MAG'),\n",
              " ('인공지능', 'GUGU'),\n",
              " ('(', 'SSO'),\n",
              " ('AI', 'SL'),\n",
              " (')', 'SSC'),\n",
              " ('학습 알고리즘', 'GUGU'),\n",
              " ('도', 'JX'),\n",
              " ('제공', 'GUGU'),\n",
              " ('해', 'XSV+EC'),\n",
              " ('이용자', 'GUGU'),\n",
              " ('가', 'JKS'),\n",
              " ('보다', 'MAG'),\n",
              " ('사용', 'GUGU'),\n",
              " ('하', 'XSV'),\n",
              " ('기', 'ETN'),\n",
              " ('편리', 'GUGU'),\n",
              " ('한', 'XSA+ETM'),\n",
              " ('환경', 'GUGU'),\n",
              " ('을', 'JKO'),\n",
              " ('제공', 'GUGU'),\n",
              " ('한다', 'XSV+EF'),\n",
              " ('.', 'SF'),\n",
              " ('이', 'MM'),\n",
              " ('밖', 'GUGU'),\n",
              " ('에', 'JKB'),\n",
              " ('필요', 'GUGU'),\n",
              " ('한', 'XSA+ETM'),\n",
              " ('데이터', 'GUGU'),\n",
              " ('를', 'JKO'),\n",
              " ('쉽', 'VA'),\n",
              " ('게', 'EC'),\n",
              " ('등록', 'GUGU'),\n",
              " ('하', 'XSV'),\n",
              " ('고', 'EC'),\n",
              " ('검색', 'GUGU'),\n",
              " ('할', 'XSV+ETM'),\n",
              " ('수', 'GUGU'),\n",
              " ('있', 'VV'),\n",
              " ('도록', 'EC'),\n",
              " ('기준', 'GUGU'),\n",
              " ('을', 'JKO'),\n",
              " ('마련', 'GUGU'),\n",
              " ('하', 'XSV'),\n",
              " ('고', 'EC'),\n",
              " (',', 'SC'),\n",
              " ('데이터 보유', 'GUGU'),\n",
              " ('와', 'JC'),\n",
              " ('관리', 'GUGU'),\n",
              " ('에', 'JKB'),\n",
              " ('대한', 'VV+ETM'),\n",
              " ('체계', 'GUGU'),\n",
              " ('(', 'SSO'),\n",
              " ('거버넌스', 'GUGU'),\n",
              " (')', 'SSC'),\n",
              " ('를', 'JKO'),\n",
              " ('논의', 'GUGU'),\n",
              " ('하', 'XSV'),\n",
              " ('는', 'ETM'),\n",
              " ('‘', 'SY'),\n",
              " ('데이터 얼라이언스', 'GUGU'),\n",
              " ('’', 'SY'),\n",
              " ('를', 'JKO'),\n",
              " ('구성', 'GUGU'),\n",
              " ('해', 'XSV+EC'),\n",
              " ('보다', 'MAG'),\n",
              " ('안', 'MAG'),\n",
              " ('전하', 'VV'),\n",
              " ('게', 'EC'),\n",
              " ('이용', 'GUGU'),\n",
              " ('하', 'XSV'),\n",
              " ('는', 'ETM'),\n",
              " ('방안', 'GUGU'),\n",
              " ('도', 'JX'),\n",
              " ('마련', 'GUGU'),\n",
              " ('했', 'XSV+EP'),\n",
              " ('다', 'EF'),\n",
              " ('.', 'SF'),\n",
              " ('유영민 과기 정통부 장관', 'GUGU'),\n",
              " ('은', 'JX'),\n",
              " ('“', 'SSO'),\n",
              " ('오늘 출범식', 'GUGU'),\n",
              " ('은', 'JX'),\n",
              " ('대한민국', 'GUGU'),\n",
              " ('이', 'JKS'),\n",
              " ('데이터 강국', 'GUGU'),\n",
              " ('으로', 'JKB'),\n",
              " ('가', 'VV'),\n",
              " ('기', 'ETN'),\n",
              " ('위한', 'VV+ETM'),\n",
              " ('초석', 'GUGU'),\n",
              " ('을', 'JKO'),\n",
              " ('놓', 'VV'),\n",
              " ('은', 'ETM'),\n",
              " ('자리', 'GUGU'),\n",
              " ('”', 'SSC'),\n",
              " ('라며', 'VCP+EC'),\n",
              " ('“', 'SSO'),\n",
              " ('세계 주요 국', 'GUGU'),\n",
              " ('들', 'XSN'),\n",
              " ('보다', 'JKB'),\n",
              " ('데이터 경제', 'GUGU'),\n",
              " ('로', 'JKB'),\n",
              " ('나아가', 'VV'),\n",
              " ('는', 'ETM'),\n",
              " ('발걸음', 'GUGU'),\n",
              " ('이', 'JKS'),\n",
              " ('다소', 'MAG'),\n",
              " ('늦', 'VA'),\n",
              " ('었', 'EP'),\n",
              " ('지만', 'EC'),\n",
              " (',', 'SC'),\n",
              " ('빅 데이터 플랫 폼', 'GUGU'),\n",
              " ('과', 'JC'),\n",
              " ('센터', 'GUGU'),\n",
              " ('를', 'JKO'),\n",
              " ('지렛대', 'GUGU'),\n",
              " ('로', 'JKB'),\n",
              " ('우리나라', 'GUGU'),\n",
              " ('의', 'JKG'),\n",
              " ('낙후', 'GUGU'),\n",
              " ('된', 'XSV+ETM'),\n",
              " ('데이터 생태계', 'GUGU'),\n",
              " ('를', 'JKO'),\n",
              " ('혁신', 'GUGU'),\n",
              " ('하', 'XSV'),\n",
              " ('고', 'EC'),\n",
              " ('기업', 'GUGU'),\n",
              " ('의', 'JKG'),\n",
              " ('경쟁력', 'GUGU'),\n",
              " ('을', 'JKO'),\n",
              " ('한', 'VV+ETM'),\n",
              " ('단계 제고', 'GUGU'),\n",
              " ('할', 'XSV+ETM'),\n",
              " ('수', 'GUGU'),\n",
              " ('있', 'VV'),\n",
              " ('도록', 'EC'),\n",
              " ('정책', 'GUGU'),\n",
              " ('적', 'XSN'),\n",
              " ('역량', 'GUGU'),\n",
              " ('을', 'JKO'),\n",
              " ('집중', 'GUGU'),\n",
              " ('하', 'XSV'),\n",
              " ('겠', 'EP'),\n",
              " ('다', 'EC'),\n",
              " ('”', 'SSC'),\n",
              " ('고', 'JKQ'),\n",
              " ('밝혔', 'VV+EP'),\n",
              " ('다', 'EF'),\n",
              " ('.', 'SF'),\n",
              " ('이재운', 'GUGU'),\n",
              " ('(', 'SSO'),\n",
              " ('jwlee', 'SL'),\n",
              " ('@', 'SY'),\n",
              " ('edaily', 'SL'),\n",
              " ('.', 'SY'),\n",
              " ('co', 'SL'),\n",
              " ('.', 'SY'),\n",
              " ('kr', 'SL'),\n",
              " (')', 'SSC'),\n",
              " ('네이버 홈', 'GUGU'),\n",
              " ('에서', 'JKB'),\n",
              " ('‘', 'SY'),\n",
              " ('이', 'JKS'),\n",
              " ('데일리', 'GUGU'),\n",
              " ('’', 'SY'),\n",
              " ('뉴스', 'GUGU'),\n",
              " ('[', 'SSO'),\n",
              " ('구독', 'GUGU'),\n",
              " ('하', 'XSV'),\n",
              " ('기', 'ETN'),\n",
              " ('▶]', 'SY'),\n",
              " ('꿀 잼', 'GUGU'),\n",
              " ('가득', 'MAG'),\n",
              " ('[', 'SSO'),\n",
              " ('영상', 'GUGU'),\n",
              " ('보', 'VV'),\n",
              " ('기', 'ETN'),\n",
              " ('▶]', 'SY'),\n",
              " (',', 'SC'),\n",
              " ('청춘 뉘 우스', 'GUGU'),\n",
              " ('~', 'SY'),\n",
              " ('[', 'SSO'),\n",
              " ('스냅 타임', 'GUGU'),\n",
              " ('▶]＜ⓒ', 'SY'),\n",
              " ('종합 경제 정보 미디어', 'GUGU'),\n",
              " ('이', 'MM'),\n",
              " ('데일리', 'GUGU'),\n",
              " ('-', 'SY'),\n",
              " ('무단 전재', 'GUGU'),\n",
              " ('&', 'SY'),\n",
              " ('재', 'XPN'),\n",
              " ('배포 금지', 'GUGU'),\n",
              " ('＞', 'SY')]"
            ]
          },
          "metadata": {
            "tags": []
          },
          "execution_count": 229
        }
      ]
    },
    {
      "cell_type": "markdown",
      "metadata": {
        "id": "Tey-Psbe4Ixh",
        "colab_type": "text"
      },
      "source": [
        "### 2) 각 구의 Score 계산"
      ]
    },
    {
      "cell_type": "code",
      "metadata": {
        "id": "Hz3-XQjKiUgM",
        "colab_type": "code",
        "colab": {}
      },
      "source": [
        "nodes=gugus"
      ],
      "execution_count": 230,
      "outputs": []
    },
    {
      "cell_type": "code",
      "metadata": {
        "id": "L1ZBfEnmiVhQ",
        "colab_type": "code",
        "colab": {
          "base_uri": "https://localhost:8080/",
          "height": 197
        },
        "outputId": "19a4bc59-1047-4b44-be4c-33cf1f0e1a21"
      },
      "source": [
        "nodes[:10]"
      ],
      "execution_count": 231,
      "outputs": [
        {
          "output_type": "execute_result",
          "data": {
            "text/plain": [
              "[('과기 정통부', 'GUGU'),\n",
              " ('유영민 장관 등 참석', 'GUGU'),\n",
              " ('기념행사', 'GUGU'),\n",
              " ('억 원 투입', 'GUGU'),\n",
              " ('여종 데이터 구축 민간 클라우드', 'GUGU'),\n",
              " ('외부 연계 체계', 'GUGU'),\n",
              " ('개방', 'GUGU'),\n",
              " ('강화', 'GUGU'),\n",
              " ('데일리 이재운 기자', 'GUGU'),\n",
              " ('국가 차원', 'GUGU')]"
            ]
          },
          "metadata": {
            "tags": []
          },
          "execution_count": 231
        }
      ]
    },
    {
      "cell_type": "code",
      "metadata": {
        "colab_type": "code",
        "id": "gkQJx9gEUKUr",
        "colab": {
          "base_uri": "https://localhost:8080/",
          "height": 143
        },
        "outputId": "c9b64abf-3cfd-40c9-b70f-fdecbabb4052"
      },
      "source": [
        "import numpy as np\n",
        "import math\n",
        "vocab_len = len(nodes)\n",
        "\n",
        "# 토큰별로 그래프 edge를 Matrix 형태로 생성\n",
        "weighted_edge = np.matrix([[0 for i in range(len(vo_idx(nodes).vo_to_dic()))] for i in range(len(vo_idx(nodes).vo_to_dic()))])\n",
        "\n",
        "# 각 토큰 노드별로 스코어 1로 초기화\n",
        "score = np.ones((weighted_edge.shape[0],1))\n",
        "\n",
        "# coocurrence를 판단하기 위한 window 사이즈 설정\n",
        "window_size = 10\n",
        "\n",
        "# weighted_edge 구현\n",
        "\n",
        "\n",
        "weighted_edge"
      ],
      "execution_count": 232,
      "outputs": [
        {
          "output_type": "execute_result",
          "data": {
            "text/plain": [
              "matrix([[0, 0, 0, ..., 0, 0, 0],\n",
              "        [0, 0, 0, ..., 0, 0, 0],\n",
              "        [0, 0, 0, ..., 0, 0, 0],\n",
              "        ...,\n",
              "        [0, 0, 0, ..., 0, 0, 0],\n",
              "        [0, 0, 0, ..., 0, 0, 0],\n",
              "        [0, 0, 0, ..., 0, 0, 0]])"
            ]
          },
          "metadata": {
            "tags": []
          },
          "execution_count": 232
        }
      ]
    },
    {
      "cell_type": "code",
      "metadata": {
        "colab_type": "code",
        "id": "DfXtUAzfUKU5",
        "colab": {
          "base_uri": "https://localhost:8080/",
          "height": 143
        },
        "outputId": "78c130ec-7a9f-4540-9b15-57fa248518a9"
      },
      "source": [
        "covered_coocurrences = weighted_edge\n",
        "covered_coocurrences"
      ],
      "execution_count": 233,
      "outputs": [
        {
          "output_type": "execute_result",
          "data": {
            "text/plain": [
              "matrix([[0, 0, 0, ..., 0, 0, 0],\n",
              "        [0, 0, 0, ..., 0, 0, 0],\n",
              "        [0, 0, 0, ..., 0, 0, 0],\n",
              "        ...,\n",
              "        [0, 0, 0, ..., 0, 0, 0],\n",
              "        [0, 0, 0, ..., 0, 0, 0],\n",
              "        [0, 0, 0, ..., 0, 0, 0]])"
            ]
          },
          "metadata": {
            "tags": []
          },
          "execution_count": 233
        }
      ]
    },
    {
      "cell_type": "code",
      "metadata": {
        "colab_type": "code",
        "id": "s14G5z7yUKU-",
        "colab": {}
      },
      "source": [
        "def cc_maker(token):\n",
        "  for idx, tok in enumerate(token):\n",
        "    if window_size-1>0:\n",
        "      if len(token[idx:])>=window_size:\n",
        "        for win in range(1,window_size):\n",
        "          if (tok in list(vo_idx(nodes).vo_to_dic().keys()))&(token[idx+win] in list(vo_idx(nodes).vo_to_dic().keys())):\n",
        "            covered_coocurrences[vo_idx(nodes).vo_to_dic()[(tok)],vo_idx(nodes).vo_to_dic()[token[idx+win]]]=1\n",
        "            covered_coocurrences[vo_idx(nodes).vo_to_dic()[token[idx+win]],vo_idx(nodes).vo_to_dic()[tok]]=1\n",
        "      else:\n",
        "        for win in range(1,len(token[idx:])):\n",
        "          if (tok in list(vo_idx(nodes).vo_to_dic().keys()))&(token[idx+win] in list(vo_idx(nodes).vo_to_dic().keys())):\n",
        "            covered_coocurrences[vo_idx(nodes).vo_to_dic()[(tok)],vo_idx(nodes).vo_to_dic()[token[idx+win]]]=1\n",
        "            covered_coocurrences[vo_idx(nodes).vo_to_dic()[token[idx+win]],vo_idx(nodes).vo_to_dic()[tok]]=1"
      ],
      "execution_count": 234,
      "outputs": []
    },
    {
      "cell_type": "code",
      "metadata": {
        "colab_type": "code",
        "id": "DnvRrK9GUKVD",
        "colab": {}
      },
      "source": [
        "cc_maker(tokens)"
      ],
      "execution_count": 235,
      "outputs": []
    },
    {
      "cell_type": "code",
      "metadata": {
        "colab_type": "code",
        "id": "SRlC46EsUKVH",
        "colab": {}
      },
      "source": [
        "weighted_edge=covered_coocurrences/np.matrix([cc.sum() for cc in covered_coocurrences]).transpose()"
      ],
      "execution_count": 236,
      "outputs": []
    },
    {
      "cell_type": "code",
      "metadata": {
        "id": "PzneqQOuiaKf",
        "colab_type": "code",
        "colab": {
          "base_uri": "https://localhost:8080/",
          "height": 251
        },
        "outputId": "d489380d-3604-42fc-d13d-2122656a909b"
      },
      "source": [
        "weighted_edge"
      ],
      "execution_count": 237,
      "outputs": [
        {
          "output_type": "execute_result",
          "data": {
            "text/plain": [
              "matrix([[0.        , 0.        , 0.        , ..., 0.        , 0.        ,\n",
              "         0.33333333],\n",
              "        [0.        , 0.        , 0.        , ..., 0.        , 0.        ,\n",
              "         0.        ],\n",
              "        [0.        , 0.        , 0.        , ..., 0.        , 0.        ,\n",
              "         0.        ],\n",
              "        ...,\n",
              "        [0.        , 0.        , 0.        , ..., 0.        , 0.        ,\n",
              "         0.        ],\n",
              "        [0.        , 0.        , 0.        , ..., 0.        , 0.        ,\n",
              "         0.        ],\n",
              "        [0.2       , 0.        , 0.        , ..., 0.        , 0.        ,\n",
              "         0.        ]])"
            ]
          },
          "metadata": {
            "tags": []
          },
          "execution_count": 237
        }
      ]
    },
    {
      "cell_type": "markdown",
      "metadata": {
        "colab_type": "text",
        "id": "jZJBuv1HUKVI"
      },
      "source": [
        "### 3) 각 노드의 score계산"
      ]
    },
    {
      "cell_type": "code",
      "metadata": {
        "colab_type": "code",
        "id": "8pA-c30kUKVJ",
        "colab": {}
      },
      "source": [
        "constant_edge=np.copy(weighted_edge)"
      ],
      "execution_count": 238,
      "outputs": []
    },
    {
      "cell_type": "code",
      "metadata": {
        "colab_type": "code",
        "id": "YlTNqMqCUKVK",
        "colab": {}
      },
      "source": [
        "MAX_ITERATIONS = 50\n",
        "d=0.85\n",
        "threshold = 0.0001 #convergence threshold\n",
        "\n",
        "for iter in range(0,MAX_ITERATIONS):\n",
        "    prev_score = np.copy(score)\n",
        "    for i in range(len(weighted_edge)):\n",
        "      score[i]=(1-d)+d*((weighted_edge[:,i]).sum())\n",
        "    for prev, curr in zip(prev_score,score):\n",
        "      if abs(prev-curr)<threshold:\n",
        "        break\n",
        "    for j in range(len(weighted_edge)):\n",
        "      weighted_edge[j,:]=constant_edge[j,:]*float(score[j])"
      ],
      "execution_count": 239,
      "outputs": []
    },
    {
      "cell_type": "code",
      "metadata": {
        "colab_type": "code",
        "id": "B0fT5M37UKVM",
        "colab": {
          "base_uri": "https://localhost:8080/",
          "height": 251
        },
        "outputId": "e791e4fe-32d7-4b7f-d1b6-7eb142a18a98"
      },
      "source": [
        "weighted_edge"
      ],
      "execution_count": 240,
      "outputs": [
        {
          "output_type": "execute_result",
          "data": {
            "text/plain": [
              "matrix([[0.        , 0.        , 0.        , ..., 0.        , 0.        ,\n",
              "         0.18241069],\n",
              "        [0.        , 0.        , 0.        , ..., 0.        , 0.        ,\n",
              "         0.        ],\n",
              "        [0.        , 0.        , 0.        , ..., 0.        , 0.        ,\n",
              "         0.        ],\n",
              "        ...,\n",
              "        [0.        , 0.        , 0.        , ..., 0.        , 0.        ,\n",
              "         0.        ],\n",
              "        [0.        , 0.        , 0.        , ..., 0.        , 0.        ,\n",
              "         0.        ],\n",
              "        [0.16519941, 0.        , 0.        , ..., 0.        , 0.        ,\n",
              "         0.        ]])"
            ]
          },
          "metadata": {
            "tags": []
          },
          "execution_count": 240
        }
      ]
    },
    {
      "cell_type": "markdown",
      "metadata": {
        "id": "s9MipUl24NdW",
        "colab_type": "text"
      },
      "source": [
        "### 3) 각 구를 Score로 정렬하여 핵심 구 추출"
      ]
    },
    {
      "cell_type": "code",
      "metadata": {
        "id": "E4l6W3La4Q-E",
        "colab_type": "code",
        "colab": {
          "base_uri": "https://localhost:8080/",
          "height": 233
        },
        "outputId": "03a140e0-e786-4d7c-b109-7ab3af1da34a"
      },
      "source": [
        "sorted_index = list(vo_idx(nodes).vo_to_dic().values())\n",
        "\n",
        "n = 10\n",
        "\n",
        "print(\"\\n=== 핵심 구 ===\")\n",
        "for i in range(0,n):\n",
        "    print(str(vo_idx(nodes).idx_to_dic()[sorted_index[i]])+\" : \" + str(score[sorted_index[i]]))"
      ],
      "execution_count": 242,
      "outputs": [
        {
          "output_type": "stream",
          "text": [
            "\n",
            "=== 핵심 구 ===\n",
            "('유영민 장관 등 참석', 'GUGU') : [0.54723207]\n",
            "('산업 창출', 'GUGU') : [0.85143404]\n",
            "('양질', 'GUGU') : [0.76005806]\n",
            "('소비', 'GUGU') : [1.34208918]\n",
            "('데이터 생태', 'GUGU') : [0.73714591]\n",
            "('폐업', 'GUGU') : [1.02419829]\n",
            "('헬스 케어', 'GUGU') : [0.80731689]\n",
            "('데이터 부족 문제', 'GUGU') : [0.79174403]\n",
            "('배포 금지', 'GUGU') : [0.78141859]\n",
            "('분야', 'GUGU') : [2.02665463]\n"
          ],
          "name": "stdout"
        }
      ]
    }
  ]
}